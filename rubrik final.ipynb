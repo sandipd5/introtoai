{
 "cells": [
  {
   "cell_type": "markdown",
   "metadata": {},
   "source": [
    "### We picked up the Regression Problem from Kaggle i.e  Business Case 2: Cost Prediction for Logistic Company"
   ]
  },
  {
   "cell_type": "markdown",
   "metadata": {},
   "source": [
    "## Load Train and Test Datasets"
   ]
  },
  {
   "cell_type": "code",
   "execution_count": 3,
   "metadata": {
    "execution": {
     "iopub.execute_input": "2023-08-01T19:20:42.098644Z",
     "iopub.status.busy": "2023-08-01T19:20:42.098217Z",
     "iopub.status.idle": "2023-08-01T19:20:42.197655Z",
     "shell.execute_reply": "2023-08-01T19:20:42.196427Z",
     "shell.execute_reply.started": "2023-08-01T19:20:42.098611Z"
    }
   },
   "outputs": [],
   "source": [
    "df_train = pd.read_csv('datasets/train.csv')\n",
    "df_test = pd.read_csv('datasets/test.csv')"
   ]
  },
  {
   "cell_type": "code",
   "execution_count": 32,
   "metadata": {
    "execution": {
     "iopub.execute_input": "2023-08-01T19:20:44.979438Z",
     "iopub.status.busy": "2023-08-01T19:20:44.979036Z",
     "iopub.status.idle": "2023-08-01T19:20:45.004616Z",
     "shell.execute_reply": "2023-08-01T19:20:45.002573Z",
     "shell.execute_reply.started": "2023-08-01T19:20:44.979406Z"
    }
   },
   "outputs": [
    {
     "data": {
      "text/html": [
       "<div>\n",
       "<style scoped>\n",
       "    .dataframe tbody tr th:only-of-type {\n",
       "        vertical-align: middle;\n",
       "    }\n",
       "\n",
       "    .dataframe tbody tr th {\n",
       "        vertical-align: top;\n",
       "    }\n",
       "\n",
       "    .dataframe thead th {\n",
       "        text-align: right;\n",
       "    }\n",
       "</style>\n",
       "<table border=\"1\" class=\"dataframe\">\n",
       "  <thead>\n",
       "    <tr style=\"text-align: right;\">\n",
       "      <th></th>\n",
       "      <th>trip</th>\n",
       "      <th>date</th>\n",
       "      <th>dayPart</th>\n",
       "      <th>exWeatherTag</th>\n",
       "      <th>originLocation</th>\n",
       "      <th>destinationLocation</th>\n",
       "      <th>distance</th>\n",
       "      <th>type</th>\n",
       "      <th>weight</th>\n",
       "      <th>packageType</th>\n",
       "      <th>carrier</th>\n",
       "      <th>cost</th>\n",
       "    </tr>\n",
       "  </thead>\n",
       "  <tbody>\n",
       "    <tr>\n",
       "      <th>0</th>\n",
       "      <td>t52712528</td>\n",
       "      <td>2017-09-06</td>\n",
       "      <td>night</td>\n",
       "      <td>NaN</td>\n",
       "      <td>S4</td>\n",
       "      <td>D7</td>\n",
       "      <td>2200</td>\n",
       "      <td>expedited</td>\n",
       "      <td>50</td>\n",
       "      <td>NaN</td>\n",
       "      <td>D</td>\n",
       "      <td>68.413152</td>\n",
       "    </tr>\n",
       "    <tr>\n",
       "      <th>1</th>\n",
       "      <td>t29859381</td>\n",
       "      <td>2017-10-21</td>\n",
       "      <td>night</td>\n",
       "      <td>NaN</td>\n",
       "      <td>S8</td>\n",
       "      <td>D1</td>\n",
       "      <td>1800</td>\n",
       "      <td>NaN</td>\n",
       "      <td>12</td>\n",
       "      <td>NaN</td>\n",
       "      <td>B</td>\n",
       "      <td>36.450649</td>\n",
       "    </tr>\n",
       "    <tr>\n",
       "      <th>2</th>\n",
       "      <td>t25702332</td>\n",
       "      <td>2017-07-15</td>\n",
       "      <td>night</td>\n",
       "      <td>NaN</td>\n",
       "      <td>S9</td>\n",
       "      <td>D5</td>\n",
       "      <td>2800</td>\n",
       "      <td>NaN</td>\n",
       "      <td>1</td>\n",
       "      <td>NaN</td>\n",
       "      <td>B</td>\n",
       "      <td>9.057939</td>\n",
       "    </tr>\n",
       "    <tr>\n",
       "      <th>3</th>\n",
       "      <td>t27713405</td>\n",
       "      <td>2017-10-22</td>\n",
       "      <td>day</td>\n",
       "      <td>NaN</td>\n",
       "      <td>S9</td>\n",
       "      <td>D7</td>\n",
       "      <td>3200</td>\n",
       "      <td>NaN</td>\n",
       "      <td>50</td>\n",
       "      <td>NaN</td>\n",
       "      <td>C</td>\n",
       "      <td>57.320087</td>\n",
       "    </tr>\n",
       "    <tr>\n",
       "      <th>4</th>\n",
       "      <td>t49439220</td>\n",
       "      <td>2019-12-11</td>\n",
       "      <td>day</td>\n",
       "      <td>snow</td>\n",
       "      <td>S9</td>\n",
       "      <td>D1</td>\n",
       "      <td>2000</td>\n",
       "      <td>NaN</td>\n",
       "      <td>43</td>\n",
       "      <td>NaN</td>\n",
       "      <td>B</td>\n",
       "      <td>77.263777</td>\n",
       "    </tr>\n",
       "  </tbody>\n",
       "</table>\n",
       "</div>"
      ],
      "text/plain": [
       "        trip        date dayPart exWeatherTag originLocation  \\\n",
       "0  t52712528  2017-09-06   night          NaN             S4   \n",
       "1  t29859381  2017-10-21   night          NaN             S8   \n",
       "2  t25702332  2017-07-15   night          NaN             S9   \n",
       "3  t27713405  2017-10-22     day          NaN             S9   \n",
       "4  t49439220  2019-12-11     day         snow             S9   \n",
       "\n",
       "  destinationLocation  distance       type  weight packageType carrier  \\\n",
       "0                  D7      2200  expedited      50         NaN       D   \n",
       "1                  D1      1800        NaN      12         NaN       B   \n",
       "2                  D5      2800        NaN       1         NaN       B   \n",
       "3                  D7      3200        NaN      50         NaN       C   \n",
       "4                  D1      2000        NaN      43         NaN       B   \n",
       "\n",
       "        cost  \n",
       "0  68.413152  \n",
       "1  36.450649  \n",
       "2   9.057939  \n",
       "3  57.320087  \n",
       "4  77.263777  "
      ]
     },
     "execution_count": 32,
     "metadata": {},
     "output_type": "execute_result"
    }
   ],
   "source": [
    "df_train.head()"
   ]
  },
  {
   "cell_type": "code",
   "execution_count": 6,
   "metadata": {
    "execution": {
     "iopub.execute_input": "2023-08-01T18:34:21.555867Z",
     "iopub.status.busy": "2023-08-01T18:34:21.555423Z",
     "iopub.status.idle": "2023-08-01T18:34:21.586714Z",
     "shell.execute_reply": "2023-08-01T18:34:21.585543Z",
     "shell.execute_reply.started": "2023-08-01T18:34:21.555833Z"
    }
   },
   "outputs": [
    {
     "data": {
      "text/html": [
       "<div>\n",
       "<style scoped>\n",
       "    .dataframe tbody tr th:only-of-type {\n",
       "        vertical-align: middle;\n",
       "    }\n",
       "\n",
       "    .dataframe tbody tr th {\n",
       "        vertical-align: top;\n",
       "    }\n",
       "\n",
       "    .dataframe thead th {\n",
       "        text-align: right;\n",
       "    }\n",
       "</style>\n",
       "<table border=\"1\" class=\"dataframe\">\n",
       "  <thead>\n",
       "    <tr style=\"text-align: right;\">\n",
       "      <th></th>\n",
       "      <th>trip</th>\n",
       "      <th>date</th>\n",
       "      <th>dayPart</th>\n",
       "      <th>exWeatherTag</th>\n",
       "      <th>originLocation</th>\n",
       "      <th>destinationLocation</th>\n",
       "      <th>distance</th>\n",
       "      <th>type</th>\n",
       "      <th>weight</th>\n",
       "      <th>packageType</th>\n",
       "      <th>carrier</th>\n",
       "    </tr>\n",
       "  </thead>\n",
       "  <tbody>\n",
       "    <tr>\n",
       "      <th>0</th>\n",
       "      <td>t333282728025</td>\n",
       "      <td>2017-09-27</td>\n",
       "      <td>night</td>\n",
       "      <td>NaN</td>\n",
       "      <td>S2</td>\n",
       "      <td>D8</td>\n",
       "      <td>2000</td>\n",
       "      <td>NaN</td>\n",
       "      <td>50</td>\n",
       "      <td>NaN</td>\n",
       "      <td>C</td>\n",
       "    </tr>\n",
       "    <tr>\n",
       "      <th>1</th>\n",
       "      <td>t35583500660</td>\n",
       "      <td>2017-12-12</td>\n",
       "      <td>day</td>\n",
       "      <td>snow</td>\n",
       "      <td>S2</td>\n",
       "      <td>D1</td>\n",
       "      <td>600</td>\n",
       "      <td>NaN</td>\n",
       "      <td>22</td>\n",
       "      <td>NaN</td>\n",
       "      <td>A</td>\n",
       "    </tr>\n",
       "    <tr>\n",
       "      <th>2</th>\n",
       "      <td>t117664376784</td>\n",
       "      <td>2018-11-18</td>\n",
       "      <td>day</td>\n",
       "      <td>NaN</td>\n",
       "      <td>S7</td>\n",
       "      <td>D1</td>\n",
       "      <td>1600</td>\n",
       "      <td>expedited</td>\n",
       "      <td>30</td>\n",
       "      <td>NaN</td>\n",
       "      <td>D</td>\n",
       "    </tr>\n",
       "    <tr>\n",
       "      <th>3</th>\n",
       "      <td>t261320757828</td>\n",
       "      <td>2019-11-18</td>\n",
       "      <td>day</td>\n",
       "      <td>NaN</td>\n",
       "      <td>S5</td>\n",
       "      <td>D6</td>\n",
       "      <td>2200</td>\n",
       "      <td>NaN</td>\n",
       "      <td>32</td>\n",
       "      <td>NaN</td>\n",
       "      <td>B</td>\n",
       "    </tr>\n",
       "    <tr>\n",
       "      <th>4</th>\n",
       "      <td>t147086054909</td>\n",
       "      <td>2019-06-02</td>\n",
       "      <td>night</td>\n",
       "      <td>heat</td>\n",
       "      <td>S6</td>\n",
       "      <td>D7</td>\n",
       "      <td>2600</td>\n",
       "      <td>NaN</td>\n",
       "      <td>7</td>\n",
       "      <td>NaN</td>\n",
       "      <td>B</td>\n",
       "    </tr>\n",
       "  </tbody>\n",
       "</table>\n",
       "</div>"
      ],
      "text/plain": [
       "            trip        date dayPart exWeatherTag originLocation  \\\n",
       "0  t333282728025  2017-09-27   night          NaN             S2   \n",
       "1   t35583500660  2017-12-12     day         snow             S2   \n",
       "2  t117664376784  2018-11-18     day          NaN             S7   \n",
       "3  t261320757828  2019-11-18     day          NaN             S5   \n",
       "4  t147086054909  2019-06-02   night         heat             S6   \n",
       "\n",
       "  destinationLocation  distance       type  weight packageType carrier  \n",
       "0                  D8      2000        NaN      50         NaN       C  \n",
       "1                  D1       600        NaN      22         NaN       A  \n",
       "2                  D1      1600  expedited      30         NaN       D  \n",
       "3                  D6      2200        NaN      32         NaN       B  \n",
       "4                  D7      2600        NaN       7         NaN       B  "
      ]
     },
     "execution_count": 6,
     "metadata": {},
     "output_type": "execute_result"
    }
   ],
   "source": [
    "df_test.head()"
   ]
  },
  {
   "cell_type": "markdown",
   "metadata": {},
   "source": [
    "## Import all required libraries"
   ]
  },
  {
   "cell_type": "code",
   "execution_count": 4,
   "metadata": {
    "execution": {
     "iopub.execute_input": "2023-08-01T19:21:01.476789Z",
     "iopub.status.busy": "2023-08-01T19:21:01.476348Z",
     "iopub.status.idle": "2023-08-01T19:21:01.482674Z",
     "shell.execute_reply": "2023-08-01T19:21:01.481381Z",
     "shell.execute_reply.started": "2023-08-01T19:21:01.476755Z"
    }
   },
   "outputs": [],
   "source": [
    "import pandas as pd\n",
    "import numpy as np\n",
    "import matplotlib.pyplot as plt\n",
    "import seaborn as sns\n",
    "from datetime import datetime\n"
   ]
  },
  {
   "cell_type": "markdown",
   "metadata": {},
   "source": [
    "## Initialize Class and Function for Data Preprocessing Pipeline"
   ]
  },
  {
   "cell_type": "code",
   "execution_count": 6,
   "metadata": {
    "execution": {
     "iopub.execute_input": "2023-08-01T19:21:04.157374Z",
     "iopub.status.busy": "2023-08-01T19:21:04.156929Z",
     "iopub.status.idle": "2023-08-01T19:21:04.279457Z",
     "shell.execute_reply": "2023-08-01T19:21:04.278263Z",
     "shell.execute_reply.started": "2023-08-01T19:21:04.157338Z"
    }
   },
   "outputs": [],
   "source": [
    "class cost_logistic:\n",
    "    \n",
    "    #initialize self \n",
    "    def __init__(self,df):\n",
    "        self.df = df\n",
    "        self.X_train = None\n",
    "        self.y_train = None\n",
    "        self.X_test = None\n",
    "        self.y_pred = None\n",
    "        self.describe = None\n",
    "        \n",
    "    #load datasets    \n",
    "    def load_data(self):\n",
    "        return self.df\n",
    "    \n",
    "    #load columns\n",
    "    def load_columns(self):\n",
    "        return self.df.columns\n",
    "    \n",
    "    #check info about data\n",
    "    def check_info(self):\n",
    "        return self.df.info()\n",
    "    \n",
    "    #check null value proportions\n",
    "    def check_null(self):\n",
    "        #return self.df.isnull().sum()\n",
    "        columns = self.df.columns\n",
    "        for column in columns:\n",
    "            null_count = self.df.isnull().sum()\n",
    "            total_rows = len(self.df)\n",
    "            null_percentages = (null_count / total_rows) * 100\n",
    "            return null_percentages\n",
    "        \n",
    "    # Histograms    \n",
    "    def check_histogram(self):\n",
    "        features = ['weight','distance','cost','dayPart',  'originLocation',\n",
    "                   'destinationLocation','carrier' ]\n",
    "        \n",
    "        for column in features:\n",
    "            #self.df.hist(layout=(1, len(features)), figsize=(len(features) * 3, 3), bins=10)\n",
    "            plt.figure(figsize=(4, 3))\n",
    "            plt.hist(self.df[column], bins=20)  # Adjust 'bins' as needed\n",
    "            plt.title(f'Histogram of {column}')\n",
    "            plt.xlabel(column)\n",
    "            plt.ylabel('Frequency')\n",
    "            plt.show()\n",
    "            \n",
    "    # Bar Plot between Carrier and Cost        \n",
    "    def bar_plot(self):\n",
    "        plt.bar(self.df['carrier'],self.df['cost'])\n",
    "        plt.xlabel('carrier')\n",
    "        plt.ylabel('cost')\n",
    "        plt.show()\n",
    "\n",
    "    #scatter plot between cost and weight\n",
    "    def scatter_plot(self):       \n",
    "        plt.scatter(self.df['weight'],self.df['cost'])\n",
    "        plt.xlabel(\"Weight\")\n",
    "        plt.ylabel(\"Cost\")\n",
    "        plt.show()\n",
    "     \n",
    "    #count unique values for categorical components\n",
    "    def unique_values(self):\n",
    "        return self.df.nunique()\n",
    "    \n",
    "    #Count values for of categorical columns\n",
    "    def value_count(self):\n",
    "        value_to_count = ['dayPart','originLocation','destinationLocation','carrier']\n",
    "        for column in value_to_count:\n",
    "            value_counts = self.df[column].value_counts()\n",
    "            print(value_counts)\n",
    "            \n",
    "    #encode categorical variables\n",
    "    def encode_df(self):\n",
    "        categorical_columns = ['dayPart','carrier','originLocation','destinationLocation']\n",
    "        for column in categorical_columns:\n",
    "            dummies = pd.get_dummies(self.df[column], prefix = column, drop_first = False)\n",
    "            self.df = pd.concat([self.df.drop(column, axis = 1), dummies], axis = 1)\n",
    "     \n",
    "    #convert datetime\n",
    "    def date_month(self):\n",
    "        self.df['date'] = pd.to_datetime(self.df['date'])\n",
    "        # Extract the month as a numerical value(Feature Engineering)\n",
    "        self.df['month'] = self.df['date'].dt.month\n",
    "        self.df['year'] = self.df['date'].dt.year\n",
    "        self.df['day'] = self.df['date'].dt.day\n",
    "    \n",
    "        \n",
    "    #Drop unused columns\n",
    "    def drop_columns(self):\n",
    "        columns_to_drop = ['type','packageType', 'exWeatherTag']\n",
    "        self.df = self.df.drop(columns_to_drop, axis = 1)  \n",
    "        print(f\"Deleted Columns are : {columns_to_drop}\")                   \n",
    "    \n",
    "    #Finding Outliers\n",
    "    def outliers(self):\n",
    "        self.describe = self.df.describe()\n",
    "        return self.describe\n",
    "         \n",
    "       \n",
    "        \n",
    "    \n",
    "    #Heatmap for Correlations\n",
    "    def correlation_matrix(self):\n",
    "        correlation_matrix = self.df.corr()\n",
    "        plt.figure(figsize=(14, 12))\n",
    "        sns.heatmap(correlation_matrix, cmap='coolwarm', annot=True, fmt = '.2f')\n",
    "        plt.title('Correlation Heatmap')\n",
    "        plt.show()\n",
    "    \n",
    "    #Preparing features and target for training  #remove new_train_df \n",
    "    def prepare_data(self):\n",
    "        self.X_train = self.df[['distance','weight','dayPart_day', 'dayPart_night', 'carrier_A',\n",
    "       'carrier_B', 'carrier_C', 'carrier_D', 'originLocation_S1','originLocation_S2',\n",
    "        'originLocation_S3', 'originLocation_S4','originLocation_S5', 'originLocation_S6',\n",
    "        'originLocation_S7','originLocation_S8', 'originLocation_S9', 'destinationLocation_D1',\n",
    "       'destinationLocation_D2', 'destinationLocation_D3','destinationLocation_D4', \n",
    "        'destinationLocation_D5','destinationLocation_D6', 'destinationLocation_D7',\n",
    "       'destinationLocation_D8', 'destinationLocation_D9', 'month','year','day']]\n",
    "        self.y_train = self.df['cost']\n",
    "        return self.X_train, self.y_train\n",
    "    \n",
    "    #Preparing features for test \n",
    "    def final_test(self):\n",
    "        self.X_test = self.df[['distance','weight','dayPart_day', 'dayPart_night', 'carrier_A',\n",
    "       'carrier_B', 'carrier_C', 'carrier_D', 'originLocation_S1','originLocation_S2',\n",
    "        'originLocation_S3', 'originLocation_S4','originLocation_S5', 'originLocation_S6',\n",
    "        'originLocation_S7','originLocation_S8', 'originLocation_S9', 'destinationLocation_D1',\n",
    "       'destinationLocation_D2', 'destinationLocation_D3','destinationLocation_D4', \n",
    "        'destinationLocation_D5','destinationLocation_D6', 'destinationLocation_D7',\n",
    "       'destinationLocation_D8', 'destinationLocation_D9', 'month','year','day']]\n",
    "        return self.X_test\n",
    "        \n",
    "#load Train and Test datasets        \n",
    "train = pd.read_csv('datasets/train.csv')\n",
    "test =  pd.read_csv('datasets/test.csv')    \n",
    "\n",
    "#creating class objects for train and test sets\n",
    "train_obj = cost_logistic(train)\n",
    "test_obj = cost_logistic(test)\n",
    "\n",
    "\n",
    "    \n"
   ]
  },
  {
   "cell_type": "markdown",
   "metadata": {},
   "source": [
    "## Load datasets"
   ]
  },
  {
   "cell_type": "code",
   "execution_count": 7,
   "metadata": {
    "execution": {
     "iopub.execute_input": "2023-08-01T19:21:10.177467Z",
     "iopub.status.busy": "2023-08-01T19:21:10.177046Z",
     "iopub.status.idle": "2023-08-01T19:21:10.201879Z",
     "shell.execute_reply": "2023-08-01T19:21:10.200557Z",
     "shell.execute_reply.started": "2023-08-01T19:21:10.177432Z"
    }
   },
   "outputs": [
    {
     "data": {
      "text/html": [
       "<div>\n",
       "<style scoped>\n",
       "    .dataframe tbody tr th:only-of-type {\n",
       "        vertical-align: middle;\n",
       "    }\n",
       "\n",
       "    .dataframe tbody tr th {\n",
       "        vertical-align: top;\n",
       "    }\n",
       "\n",
       "    .dataframe thead th {\n",
       "        text-align: right;\n",
       "    }\n",
       "</style>\n",
       "<table border=\"1\" class=\"dataframe\">\n",
       "  <thead>\n",
       "    <tr style=\"text-align: right;\">\n",
       "      <th></th>\n",
       "      <th>trip</th>\n",
       "      <th>date</th>\n",
       "      <th>dayPart</th>\n",
       "      <th>exWeatherTag</th>\n",
       "      <th>originLocation</th>\n",
       "      <th>destinationLocation</th>\n",
       "      <th>distance</th>\n",
       "      <th>type</th>\n",
       "      <th>weight</th>\n",
       "      <th>packageType</th>\n",
       "      <th>carrier</th>\n",
       "      <th>cost</th>\n",
       "    </tr>\n",
       "  </thead>\n",
       "  <tbody>\n",
       "    <tr>\n",
       "      <th>0</th>\n",
       "      <td>t52712528</td>\n",
       "      <td>2017-09-06</td>\n",
       "      <td>night</td>\n",
       "      <td>NaN</td>\n",
       "      <td>S4</td>\n",
       "      <td>D7</td>\n",
       "      <td>2200</td>\n",
       "      <td>expedited</td>\n",
       "      <td>50</td>\n",
       "      <td>NaN</td>\n",
       "      <td>D</td>\n",
       "      <td>68.413152</td>\n",
       "    </tr>\n",
       "    <tr>\n",
       "      <th>1</th>\n",
       "      <td>t29859381</td>\n",
       "      <td>2017-10-21</td>\n",
       "      <td>night</td>\n",
       "      <td>NaN</td>\n",
       "      <td>S8</td>\n",
       "      <td>D1</td>\n",
       "      <td>1800</td>\n",
       "      <td>NaN</td>\n",
       "      <td>12</td>\n",
       "      <td>NaN</td>\n",
       "      <td>B</td>\n",
       "      <td>36.450649</td>\n",
       "    </tr>\n",
       "    <tr>\n",
       "      <th>2</th>\n",
       "      <td>t25702332</td>\n",
       "      <td>2017-07-15</td>\n",
       "      <td>night</td>\n",
       "      <td>NaN</td>\n",
       "      <td>S9</td>\n",
       "      <td>D5</td>\n",
       "      <td>2800</td>\n",
       "      <td>NaN</td>\n",
       "      <td>1</td>\n",
       "      <td>NaN</td>\n",
       "      <td>B</td>\n",
       "      <td>9.057939</td>\n",
       "    </tr>\n",
       "    <tr>\n",
       "      <th>3</th>\n",
       "      <td>t27713405</td>\n",
       "      <td>2017-10-22</td>\n",
       "      <td>day</td>\n",
       "      <td>NaN</td>\n",
       "      <td>S9</td>\n",
       "      <td>D7</td>\n",
       "      <td>3200</td>\n",
       "      <td>NaN</td>\n",
       "      <td>50</td>\n",
       "      <td>NaN</td>\n",
       "      <td>C</td>\n",
       "      <td>57.320087</td>\n",
       "    </tr>\n",
       "    <tr>\n",
       "      <th>4</th>\n",
       "      <td>t49439220</td>\n",
       "      <td>2019-12-11</td>\n",
       "      <td>day</td>\n",
       "      <td>snow</td>\n",
       "      <td>S9</td>\n",
       "      <td>D1</td>\n",
       "      <td>2000</td>\n",
       "      <td>NaN</td>\n",
       "      <td>43</td>\n",
       "      <td>NaN</td>\n",
       "      <td>B</td>\n",
       "      <td>77.263777</td>\n",
       "    </tr>\n",
       "    <tr>\n",
       "      <th>...</th>\n",
       "      <td>...</td>\n",
       "      <td>...</td>\n",
       "      <td>...</td>\n",
       "      <td>...</td>\n",
       "      <td>...</td>\n",
       "      <td>...</td>\n",
       "      <td>...</td>\n",
       "      <td>...</td>\n",
       "      <td>...</td>\n",
       "      <td>...</td>\n",
       "      <td>...</td>\n",
       "      <td>...</td>\n",
       "    </tr>\n",
       "    <tr>\n",
       "      <th>38994</th>\n",
       "      <td>t11845608590</td>\n",
       "      <td>2019-10-17</td>\n",
       "      <td>night</td>\n",
       "      <td>NaN</td>\n",
       "      <td>S3</td>\n",
       "      <td>D3</td>\n",
       "      <td>1200</td>\n",
       "      <td>NaN</td>\n",
       "      <td>3</td>\n",
       "      <td>NaN</td>\n",
       "      <td>B</td>\n",
       "      <td>14.987239</td>\n",
       "    </tr>\n",
       "    <tr>\n",
       "      <th>38995</th>\n",
       "      <td>t53557166488</td>\n",
       "      <td>2019-01-23</td>\n",
       "      <td>night</td>\n",
       "      <td>NaN</td>\n",
       "      <td>S4</td>\n",
       "      <td>D6</td>\n",
       "      <td>2000</td>\n",
       "      <td>NaN</td>\n",
       "      <td>6</td>\n",
       "      <td>NaN</td>\n",
       "      <td>B</td>\n",
       "      <td>33.214738</td>\n",
       "    </tr>\n",
       "    <tr>\n",
       "      <th>38996</th>\n",
       "      <td>t337474787136</td>\n",
       "      <td>2018-10-03</td>\n",
       "      <td>night</td>\n",
       "      <td>NaN</td>\n",
       "      <td>S8</td>\n",
       "      <td>D7</td>\n",
       "      <td>3000</td>\n",
       "      <td>NaN</td>\n",
       "      <td>24</td>\n",
       "      <td>NaN</td>\n",
       "      <td>B</td>\n",
       "      <td>45.172159</td>\n",
       "    </tr>\n",
       "    <tr>\n",
       "      <th>38997</th>\n",
       "      <td>t76488353326</td>\n",
       "      <td>2018-02-26</td>\n",
       "      <td>night</td>\n",
       "      <td>NaN</td>\n",
       "      <td>S8</td>\n",
       "      <td>D5</td>\n",
       "      <td>2600</td>\n",
       "      <td>NaN</td>\n",
       "      <td>31</td>\n",
       "      <td>NaN</td>\n",
       "      <td>B</td>\n",
       "      <td>47.541427</td>\n",
       "    </tr>\n",
       "    <tr>\n",
       "      <th>38998</th>\n",
       "      <td>t33300084668</td>\n",
       "      <td>2017-07-30</td>\n",
       "      <td>night</td>\n",
       "      <td>NaN</td>\n",
       "      <td>S8</td>\n",
       "      <td>D8</td>\n",
       "      <td>3200</td>\n",
       "      <td>NaN</td>\n",
       "      <td>36</td>\n",
       "      <td>NaN</td>\n",
       "      <td>B</td>\n",
       "      <td>68.054098</td>\n",
       "    </tr>\n",
       "  </tbody>\n",
       "</table>\n",
       "<p>38999 rows × 12 columns</p>\n",
       "</div>"
      ],
      "text/plain": [
       "                trip        date dayPart exWeatherTag originLocation  \\\n",
       "0          t52712528  2017-09-06   night          NaN             S4   \n",
       "1          t29859381  2017-10-21   night          NaN             S8   \n",
       "2          t25702332  2017-07-15   night          NaN             S9   \n",
       "3          t27713405  2017-10-22     day          NaN             S9   \n",
       "4          t49439220  2019-12-11     day         snow             S9   \n",
       "...              ...         ...     ...          ...            ...   \n",
       "38994   t11845608590  2019-10-17   night          NaN             S3   \n",
       "38995   t53557166488  2019-01-23   night          NaN             S4   \n",
       "38996  t337474787136  2018-10-03   night          NaN             S8   \n",
       "38997   t76488353326  2018-02-26   night          NaN             S8   \n",
       "38998   t33300084668  2017-07-30   night          NaN             S8   \n",
       "\n",
       "      destinationLocation  distance       type  weight packageType carrier  \\\n",
       "0                      D7      2200  expedited      50         NaN       D   \n",
       "1                      D1      1800        NaN      12         NaN       B   \n",
       "2                      D5      2800        NaN       1         NaN       B   \n",
       "3                      D7      3200        NaN      50         NaN       C   \n",
       "4                      D1      2000        NaN      43         NaN       B   \n",
       "...                   ...       ...        ...     ...         ...     ...   \n",
       "38994                  D3      1200        NaN       3         NaN       B   \n",
       "38995                  D6      2000        NaN       6         NaN       B   \n",
       "38996                  D7      3000        NaN      24         NaN       B   \n",
       "38997                  D5      2600        NaN      31         NaN       B   \n",
       "38998                  D8      3200        NaN      36         NaN       B   \n",
       "\n",
       "            cost  \n",
       "0      68.413152  \n",
       "1      36.450649  \n",
       "2       9.057939  \n",
       "3      57.320087  \n",
       "4      77.263777  \n",
       "...          ...  \n",
       "38994  14.987239  \n",
       "38995  33.214738  \n",
       "38996  45.172159  \n",
       "38997  47.541427  \n",
       "38998  68.054098  \n",
       "\n",
       "[38999 rows x 12 columns]"
      ]
     },
     "execution_count": 7,
     "metadata": {},
     "output_type": "execute_result"
    }
   ],
   "source": [
    "train_obj.load_data()"
   ]
  },
  {
   "cell_type": "code",
   "execution_count": 8,
   "metadata": {
    "execution": {
     "iopub.execute_input": "2023-08-01T19:21:14.909570Z",
     "iopub.status.busy": "2023-08-01T19:21:14.908751Z",
     "iopub.status.idle": "2023-08-01T19:21:14.933933Z",
     "shell.execute_reply": "2023-08-01T19:21:14.932675Z",
     "shell.execute_reply.started": "2023-08-01T19:21:14.909520Z"
    }
   },
   "outputs": [
    {
     "data": {
      "text/html": [
       "<div>\n",
       "<style scoped>\n",
       "    .dataframe tbody tr th:only-of-type {\n",
       "        vertical-align: middle;\n",
       "    }\n",
       "\n",
       "    .dataframe tbody tr th {\n",
       "        vertical-align: top;\n",
       "    }\n",
       "\n",
       "    .dataframe thead th {\n",
       "        text-align: right;\n",
       "    }\n",
       "</style>\n",
       "<table border=\"1\" class=\"dataframe\">\n",
       "  <thead>\n",
       "    <tr style=\"text-align: right;\">\n",
       "      <th></th>\n",
       "      <th>trip</th>\n",
       "      <th>date</th>\n",
       "      <th>dayPart</th>\n",
       "      <th>exWeatherTag</th>\n",
       "      <th>originLocation</th>\n",
       "      <th>destinationLocation</th>\n",
       "      <th>distance</th>\n",
       "      <th>type</th>\n",
       "      <th>weight</th>\n",
       "      <th>packageType</th>\n",
       "      <th>carrier</th>\n",
       "    </tr>\n",
       "  </thead>\n",
       "  <tbody>\n",
       "    <tr>\n",
       "      <th>0</th>\n",
       "      <td>t333282728025</td>\n",
       "      <td>2017-09-27</td>\n",
       "      <td>night</td>\n",
       "      <td>NaN</td>\n",
       "      <td>S2</td>\n",
       "      <td>D8</td>\n",
       "      <td>2000</td>\n",
       "      <td>NaN</td>\n",
       "      <td>50</td>\n",
       "      <td>NaN</td>\n",
       "      <td>C</td>\n",
       "    </tr>\n",
       "    <tr>\n",
       "      <th>1</th>\n",
       "      <td>t35583500660</td>\n",
       "      <td>2017-12-12</td>\n",
       "      <td>day</td>\n",
       "      <td>snow</td>\n",
       "      <td>S2</td>\n",
       "      <td>D1</td>\n",
       "      <td>600</td>\n",
       "      <td>NaN</td>\n",
       "      <td>22</td>\n",
       "      <td>NaN</td>\n",
       "      <td>A</td>\n",
       "    </tr>\n",
       "    <tr>\n",
       "      <th>2</th>\n",
       "      <td>t117664376784</td>\n",
       "      <td>2018-11-18</td>\n",
       "      <td>day</td>\n",
       "      <td>NaN</td>\n",
       "      <td>S7</td>\n",
       "      <td>D1</td>\n",
       "      <td>1600</td>\n",
       "      <td>expedited</td>\n",
       "      <td>30</td>\n",
       "      <td>NaN</td>\n",
       "      <td>D</td>\n",
       "    </tr>\n",
       "    <tr>\n",
       "      <th>3</th>\n",
       "      <td>t261320757828</td>\n",
       "      <td>2019-11-18</td>\n",
       "      <td>day</td>\n",
       "      <td>NaN</td>\n",
       "      <td>S5</td>\n",
       "      <td>D6</td>\n",
       "      <td>2200</td>\n",
       "      <td>NaN</td>\n",
       "      <td>32</td>\n",
       "      <td>NaN</td>\n",
       "      <td>B</td>\n",
       "    </tr>\n",
       "    <tr>\n",
       "      <th>4</th>\n",
       "      <td>t147086054909</td>\n",
       "      <td>2019-06-02</td>\n",
       "      <td>night</td>\n",
       "      <td>heat</td>\n",
       "      <td>S6</td>\n",
       "      <td>D7</td>\n",
       "      <td>2600</td>\n",
       "      <td>NaN</td>\n",
       "      <td>7</td>\n",
       "      <td>NaN</td>\n",
       "      <td>B</td>\n",
       "    </tr>\n",
       "    <tr>\n",
       "      <th>...</th>\n",
       "      <td>...</td>\n",
       "      <td>...</td>\n",
       "      <td>...</td>\n",
       "      <td>...</td>\n",
       "      <td>...</td>\n",
       "      <td>...</td>\n",
       "      <td>...</td>\n",
       "      <td>...</td>\n",
       "      <td>...</td>\n",
       "      <td>...</td>\n",
       "      <td>...</td>\n",
       "    </tr>\n",
       "    <tr>\n",
       "      <th>797</th>\n",
       "      <td>t353400176448</td>\n",
       "      <td>2017-10-26</td>\n",
       "      <td>day</td>\n",
       "      <td>NaN</td>\n",
       "      <td>S4</td>\n",
       "      <td>D1</td>\n",
       "      <td>1000</td>\n",
       "      <td>NaN</td>\n",
       "      <td>489</td>\n",
       "      <td>TT</td>\n",
       "      <td>C</td>\n",
       "    </tr>\n",
       "    <tr>\n",
       "      <th>798</th>\n",
       "      <td>t112945848426</td>\n",
       "      <td>2018-09-01</td>\n",
       "      <td>day</td>\n",
       "      <td>NaN</td>\n",
       "      <td>S8</td>\n",
       "      <td>D3</td>\n",
       "      <td>2200</td>\n",
       "      <td>NaN</td>\n",
       "      <td>12</td>\n",
       "      <td>NaN</td>\n",
       "      <td>B</td>\n",
       "    </tr>\n",
       "    <tr>\n",
       "      <th>799</th>\n",
       "      <td>t53097944970</td>\n",
       "      <td>2018-06-20</td>\n",
       "      <td>day</td>\n",
       "      <td>NaN</td>\n",
       "      <td>S9</td>\n",
       "      <td>D2</td>\n",
       "      <td>2200</td>\n",
       "      <td>NaN</td>\n",
       "      <td>9</td>\n",
       "      <td>NaN</td>\n",
       "      <td>B</td>\n",
       "    </tr>\n",
       "    <tr>\n",
       "      <th>800</th>\n",
       "      <td>t127986960246</td>\n",
       "      <td>2019-01-13</td>\n",
       "      <td>night</td>\n",
       "      <td>NaN</td>\n",
       "      <td>S3</td>\n",
       "      <td>D3</td>\n",
       "      <td>1200</td>\n",
       "      <td>expedited</td>\n",
       "      <td>11</td>\n",
       "      <td>NaN</td>\n",
       "      <td>D</td>\n",
       "    </tr>\n",
       "    <tr>\n",
       "      <th>801</th>\n",
       "      <td>t85177360000</td>\n",
       "      <td>2018-12-15</td>\n",
       "      <td>day</td>\n",
       "      <td>snow</td>\n",
       "      <td>S3</td>\n",
       "      <td>D3</td>\n",
       "      <td>1200</td>\n",
       "      <td>NaN</td>\n",
       "      <td>434</td>\n",
       "      <td>TT</td>\n",
       "      <td>C</td>\n",
       "    </tr>\n",
       "  </tbody>\n",
       "</table>\n",
       "<p>802 rows × 11 columns</p>\n",
       "</div>"
      ],
      "text/plain": [
       "              trip        date dayPart exWeatherTag originLocation  \\\n",
       "0    t333282728025  2017-09-27   night          NaN             S2   \n",
       "1     t35583500660  2017-12-12     day         snow             S2   \n",
       "2    t117664376784  2018-11-18     day          NaN             S7   \n",
       "3    t261320757828  2019-11-18     day          NaN             S5   \n",
       "4    t147086054909  2019-06-02   night         heat             S6   \n",
       "..             ...         ...     ...          ...            ...   \n",
       "797  t353400176448  2017-10-26     day          NaN             S4   \n",
       "798  t112945848426  2018-09-01     day          NaN             S8   \n",
       "799   t53097944970  2018-06-20     day          NaN             S9   \n",
       "800  t127986960246  2019-01-13   night          NaN             S3   \n",
       "801   t85177360000  2018-12-15     day         snow             S3   \n",
       "\n",
       "    destinationLocation  distance       type  weight packageType carrier  \n",
       "0                    D8      2000        NaN      50         NaN       C  \n",
       "1                    D1       600        NaN      22         NaN       A  \n",
       "2                    D1      1600  expedited      30         NaN       D  \n",
       "3                    D6      2200        NaN      32         NaN       B  \n",
       "4                    D7      2600        NaN       7         NaN       B  \n",
       "..                  ...       ...        ...     ...         ...     ...  \n",
       "797                  D1      1000        NaN     489          TT       C  \n",
       "798                  D3      2200        NaN      12         NaN       B  \n",
       "799                  D2      2200        NaN       9         NaN       B  \n",
       "800                  D3      1200  expedited      11         NaN       D  \n",
       "801                  D3      1200        NaN     434          TT       C  \n",
       "\n",
       "[802 rows x 11 columns]"
      ]
     },
     "execution_count": 8,
     "metadata": {},
     "output_type": "execute_result"
    }
   ],
   "source": [
    "test_obj.load_data()"
   ]
  },
  {
   "cell_type": "markdown",
   "metadata": {},
   "source": [
    "### Check datatypes and info related to columns"
   ]
  },
  {
   "cell_type": "code",
   "execution_count": 9,
   "metadata": {
    "execution": {
     "iopub.execute_input": "2023-08-01T19:21:18.328178Z",
     "iopub.status.busy": "2023-08-01T19:21:18.327791Z",
     "iopub.status.idle": "2023-08-01T19:21:18.446683Z",
     "shell.execute_reply": "2023-08-01T19:21:18.445320Z",
     "shell.execute_reply.started": "2023-08-01T19:21:18.328147Z"
    }
   },
   "outputs": [
    {
     "name": "stdout",
     "output_type": "stream",
     "text": [
      "<class 'pandas.core.frame.DataFrame'>\n",
      "RangeIndex: 38999 entries, 0 to 38998\n",
      "Data columns (total 12 columns):\n",
      " #   Column               Non-Null Count  Dtype  \n",
      "---  ------               --------------  -----  \n",
      " 0   trip                 38999 non-null  object \n",
      " 1   date                 38999 non-null  object \n",
      " 2   dayPart              38999 non-null  object \n",
      " 3   exWeatherTag         4882 non-null   object \n",
      " 4   originLocation       38999 non-null  object \n",
      " 5   destinationLocation  38999 non-null  object \n",
      " 6   distance             38999 non-null  int64  \n",
      " 7   type                 3748 non-null   object \n",
      " 8   weight               38999 non-null  int64  \n",
      " 9   packageType          2500 non-null   object \n",
      " 10  carrier              38999 non-null  object \n",
      " 11  cost                 38999 non-null  float64\n",
      "dtypes: float64(1), int64(2), object(9)\n",
      "memory usage: 3.6+ MB\n"
     ]
    }
   ],
   "source": [
    "train_obj.check_info()"
   ]
  },
  {
   "cell_type": "code",
   "execution_count": 10,
   "metadata": {
    "execution": {
     "iopub.execute_input": "2023-08-01T19:21:26.192574Z",
     "iopub.status.busy": "2023-08-01T19:21:26.192142Z",
     "iopub.status.idle": "2023-08-01T19:21:26.207755Z",
     "shell.execute_reply": "2023-08-01T19:21:26.206545Z",
     "shell.execute_reply.started": "2023-08-01T19:21:26.192541Z"
    }
   },
   "outputs": [
    {
     "name": "stdout",
     "output_type": "stream",
     "text": [
      "<class 'pandas.core.frame.DataFrame'>\n",
      "RangeIndex: 802 entries, 0 to 801\n",
      "Data columns (total 11 columns):\n",
      " #   Column               Non-Null Count  Dtype \n",
      "---  ------               --------------  ----- \n",
      " 0   trip                 802 non-null    object\n",
      " 1   date                 802 non-null    object\n",
      " 2   dayPart              802 non-null    object\n",
      " 3   exWeatherTag         101 non-null    object\n",
      " 4   originLocation       802 non-null    object\n",
      " 5   destinationLocation  802 non-null    object\n",
      " 6   distance             802 non-null    int64 \n",
      " 7   type                 73 non-null     object\n",
      " 8   weight               802 non-null    int64 \n",
      " 9   packageType          52 non-null     object\n",
      " 10  carrier              802 non-null    object\n",
      "dtypes: int64(2), object(9)\n",
      "memory usage: 69.0+ KB\n"
     ]
    }
   ],
   "source": [
    "test_obj.check_info()"
   ]
  },
  {
   "cell_type": "markdown",
   "metadata": {},
   "source": [
    "### Checking Null Values proportions"
   ]
  },
  {
   "cell_type": "code",
   "execution_count": 11,
   "metadata": {
    "execution": {
     "iopub.execute_input": "2023-08-01T19:21:30.296173Z",
     "iopub.status.busy": "2023-08-01T19:21:30.295753Z",
     "iopub.status.idle": "2023-08-01T19:21:30.414667Z",
     "shell.execute_reply": "2023-08-01T19:21:30.413312Z",
     "shell.execute_reply.started": "2023-08-01T19:21:30.296139Z"
    }
   },
   "outputs": [
    {
     "data": {
      "text/plain": [
       "trip                    0.000000\n",
       "date                    0.000000\n",
       "dayPart                 0.000000\n",
       "exWeatherTag           87.481730\n",
       "originLocation          0.000000\n",
       "destinationLocation     0.000000\n",
       "distance                0.000000\n",
       "type                   90.389497\n",
       "weight                  0.000000\n",
       "packageType            93.589579\n",
       "carrier                 0.000000\n",
       "cost                    0.000000\n",
       "dtype: float64"
      ]
     },
     "execution_count": 11,
     "metadata": {},
     "output_type": "execute_result"
    }
   ],
   "source": [
    "train_obj.check_null()"
   ]
  },
  {
   "cell_type": "markdown",
   "metadata": {},
   "source": [
    "#### We can see that for column exweatherTag, type and packagetype , there are 87%,90%,and 93% of null values so we can drop this columns since there is no significance in imputing these columns"
   ]
  },
  {
   "cell_type": "markdown",
   "metadata": {},
   "source": [
    "# Data Visualization"
   ]
  },
  {
   "cell_type": "markdown",
   "metadata": {},
   "source": [
    "### Histograms"
   ]
  },
  {
   "cell_type": "code",
   "execution_count": 12,
   "metadata": {
    "execution": {
     "iopub.execute_input": "2023-08-01T19:21:44.961971Z",
     "iopub.status.busy": "2023-08-01T19:21:44.961059Z",
     "iopub.status.idle": "2023-08-01T19:21:47.048899Z",
     "shell.execute_reply": "2023-08-01T19:21:47.047466Z",
     "shell.execute_reply.started": "2023-08-01T19:21:44.961927Z"
    }
   },
   "outputs": [
    {
     "data": {
      "image/png": "[encoded data removed]",
      "text/plain": [
       "<Figure size 288x216 with 1 Axes>"
      ]
     },
     "metadata": {
      "needs_background": "light"
     },
     "output_type": "display_data"
    },
    {
     "data": {
      "image/png": "[encoded data removed]",
      "text/plain": [
       "<Figure size 288x216 with 1 Axes>"
      ]
     },
     "metadata": {
      "needs_background": "light"
     },
     "output_type": "display_data"
    },
    {
     "data": {
      "image/png": "[encoded data removed]",
      "text/plain": [
       "<Figure size 288x216 with 1 Axes>"
      ]
     },
     "metadata": {
      "needs_background": "light"
     },
     "output_type": "display_data"
    },
    {
     "data": {
      "image/png": "[encoded data removed]",
      "text/plain": [
       "<Figure size 288x216 with 1 Axes>"
      ]
     },
     "metadata": {
      "needs_background": "light"
     },
     "output_type": "display_data"
    },
    {
     "data": {
      "image/png": "[encoded data removed]",
      "text/plain": [
       "<Figure size 288x216 with 1 Axes>"
      ]
     },
     "metadata": {
      "needs_background": "light"
     },
     "output_type": "display_data"
    },
    {
     "data": {
      "image/png": "[encoded data removed]",
      "text/plain": [
       "<Figure size 288x216 with 1 Axes>"
      ]
     },
     "metadata": {
      "needs_background": "light"
     },
     "output_type": "display_data"
    },
    {
     "data": {
      "image/png": "[encoded data removed]",
      "text/plain": [
       "<Figure size 288x216 with 1 Axes>"
      ]
     },
     "metadata": {
      "needs_background": "light"
     },
     "output_type": "display_data"
    }
   ],
   "source": [
    "train_obj.check_histogram()"
   ]
  },
  {
   "cell_type": "markdown",
   "metadata": {},
   "source": [
    "### Bar Plot"
   ]
  },
  {
   "cell_type": "code",
   "execution_count": 13,
   "metadata": {
    "execution": {
     "iopub.execute_input": "2023-08-01T19:21:51.157175Z",
     "iopub.status.busy": "2023-08-01T19:21:51.156764Z",
     "iopub.status.idle": "2023-08-01T19:22:55.737353Z",
     "shell.execute_reply": "2023-08-01T19:22:55.736292Z",
     "shell.execute_reply.started": "2023-08-01T19:21:51.157139Z"
    }
   },
   "outputs": [
    {
     "data": {
      "image/png": "[encoded data removed]",
      "text/plain": [
       "<Figure size 432x288 with 1 Axes>"
      ]
     },
     "metadata": {
      "needs_background": "light"
     },
     "output_type": "display_data"
    }
   ],
   "source": [
    "train_obj.bar_plot()"
   ]
  },
  {
   "cell_type": "markdown",
   "metadata": {},
   "source": [
    "### Scatter Plot"
   ]
  },
  {
   "cell_type": "code",
   "execution_count": 46,
   "metadata": {
    "execution": {
     "iopub.execute_input": "2023-08-01T19:23:24.903569Z",
     "iopub.status.busy": "2023-08-01T19:23:24.903130Z",
     "iopub.status.idle": "2023-08-01T19:23:25.280598Z",
     "shell.execute_reply": "2023-08-01T19:23:25.279323Z",
     "shell.execute_reply.started": "2023-08-01T19:23:24.903528Z"
    }
   },
   "outputs": [
    {
     "data": {
      "image/png": "[encoded data removed]",
      "text/plain": [
       "<Figure size 640x480 with 1 Axes>"
      ]
     },
     "metadata": {},
     "output_type": "display_data"
    }
   ],
   "source": [
    "train_obj.scatter_plot()"
   ]
  },
  {
   "cell_type": "markdown",
   "metadata": {},
   "source": [
    "# Data Preprocessing"
   ]
  },
  {
   "cell_type": "markdown",
   "metadata": {},
   "source": [
    "### Checking Unique Values for each Features"
   ]
  },
  {
   "cell_type": "code",
   "execution_count": 14,
   "metadata": {
    "execution": {
     "iopub.execute_input": "2023-08-01T19:23:29.140780Z",
     "iopub.status.busy": "2023-08-01T19:23:29.140376Z",
     "iopub.status.idle": "2023-08-01T19:23:29.191824Z",
     "shell.execute_reply": "2023-08-01T19:23:29.190560Z",
     "shell.execute_reply.started": "2023-08-01T19:23:29.140748Z"
    }
   },
   "outputs": [
    {
     "data": {
      "text/plain": [
       "trip                   38999\n",
       "date                    1074\n",
       "dayPart                    2\n",
       "exWeatherTag               2\n",
       "originLocation             9\n",
       "destinationLocation        9\n",
       "distance                  17\n",
       "type                       1\n",
       "weight                   499\n",
       "packageType                1\n",
       "carrier                    4\n",
       "cost                    3665\n",
       "dtype: int64"
      ]
     },
     "execution_count": 14,
     "metadata": {},
     "output_type": "execute_result"
    }
   ],
   "source": [
    "train_obj.unique_values()"
   ]
  },
  {
   "cell_type": "markdown",
   "metadata": {},
   "source": [
    "#### We have some categorical columns , We will count their occurence and convert them to numericals\n"
   ]
  },
  {
   "cell_type": "markdown",
   "metadata": {},
   "source": [
    "### Value Count for Categorical Columns"
   ]
  },
  {
   "cell_type": "code",
   "execution_count": 48,
   "metadata": {
    "execution": {
     "iopub.execute_input": "2023-08-01T19:23:32.774331Z",
     "iopub.status.busy": "2023-08-01T19:23:32.773933Z",
     "iopub.status.idle": "2023-08-01T19:23:32.807301Z",
     "shell.execute_reply": "2023-08-01T19:23:32.806087Z",
     "shell.execute_reply.started": "2023-08-01T19:23:32.774301Z"
    }
   },
   "outputs": [
    {
     "name": "stdout",
     "output_type": "stream",
     "text": [
      "night    25904\n",
      "day      13095\n",
      "Name: dayPart, dtype: int64\n",
      "S3    4461\n",
      "S5    4388\n",
      "S6    4379\n",
      "S8    4368\n",
      "S4    4324\n",
      "S1    4312\n",
      "S9    4302\n",
      "S7    4267\n",
      "S2    4198\n",
      "Name: originLocation, dtype: int64\n",
      "D8    4471\n",
      "D3    4386\n",
      "D9    4379\n",
      "D2    4335\n",
      "D5    4334\n",
      "D7    4297\n",
      "D1    4284\n",
      "D6    4279\n",
      "D4    4234\n",
      "Name: destinationLocation, dtype: int64\n",
      "B    29813\n",
      "D     3748\n",
      "C     3060\n",
      "A     2378\n",
      "Name: carrier, dtype: int64\n"
     ]
    }
   ],
   "source": [
    "train_obj.value_count()"
   ]
  },
  {
   "cell_type": "markdown",
   "metadata": {},
   "source": [
    "### Encoding Categorical Columns using one hot encoding"
   ]
  },
  {
   "cell_type": "code",
   "execution_count": 15,
   "metadata": {
    "execution": {
     "iopub.execute_input": "2023-08-01T19:23:36.373742Z",
     "iopub.status.busy": "2023-08-01T19:23:36.373029Z",
     "iopub.status.idle": "2023-08-01T19:23:36.445680Z",
     "shell.execute_reply": "2023-08-01T19:23:36.444434Z",
     "shell.execute_reply.started": "2023-08-01T19:23:36.373707Z"
    }
   },
   "outputs": [],
   "source": [
    "#Encode Train set\n",
    "train_obj.encode_df()"
   ]
  },
  {
   "cell_type": "code",
   "execution_count": 16,
   "metadata": {
    "execution": {
     "iopub.execute_input": "2023-08-01T19:23:39.076672Z",
     "iopub.status.busy": "2023-08-01T19:23:39.076213Z",
     "iopub.status.idle": "2023-08-01T19:23:39.093391Z",
     "shell.execute_reply": "2023-08-01T19:23:39.091469Z",
     "shell.execute_reply.started": "2023-08-01T19:23:39.076635Z"
    }
   },
   "outputs": [],
   "source": [
    "#Encode Test Set\n",
    "test_obj.encode_df()"
   ]
  },
  {
   "cell_type": "markdown",
   "metadata": {},
   "source": [
    "### Datetime Conversion"
   ]
  },
  {
   "cell_type": "code",
   "execution_count": 17,
   "metadata": {
    "execution": {
     "iopub.execute_input": "2023-08-01T19:23:41.676933Z",
     "iopub.status.busy": "2023-08-01T19:23:41.676527Z",
     "iopub.status.idle": "2023-08-01T19:23:41.715390Z",
     "shell.execute_reply": "2023-08-01T19:23:41.714443Z",
     "shell.execute_reply.started": "2023-08-01T19:23:41.676900Z"
    }
   },
   "outputs": [],
   "source": [
    "#convert to datetime and extract month from Train set\n",
    "train_obj.date_month()"
   ]
  },
  {
   "cell_type": "code",
   "execution_count": 52,
   "metadata": {
    "execution": {
     "iopub.execute_input": "2023-08-01T19:23:44.753701Z",
     "iopub.status.busy": "2023-08-01T19:23:44.752604Z",
     "iopub.status.idle": "2023-08-01T19:23:44.763114Z",
     "shell.execute_reply": "2023-08-01T19:23:44.762066Z",
     "shell.execute_reply.started": "2023-08-01T19:23:44.753661Z"
    }
   },
   "outputs": [],
   "source": [
    "#convert to datetime and extract month from Test set\n",
    "test_obj.date_month()"
   ]
  },
  {
   "cell_type": "markdown",
   "metadata": {},
   "source": [
    "### Dropping columns "
   ]
  },
  {
   "cell_type": "code",
   "execution_count": 18,
   "metadata": {
    "execution": {
     "iopub.execute_input": "2023-08-01T19:23:47.404189Z",
     "iopub.status.busy": "2023-08-01T19:23:47.403803Z",
     "iopub.status.idle": "2023-08-01T19:23:47.415408Z",
     "shell.execute_reply": "2023-08-01T19:23:47.414241Z",
     "shell.execute_reply.started": "2023-08-01T19:23:47.404158Z"
    }
   },
   "outputs": [
    {
     "name": "stdout",
     "output_type": "stream",
     "text": [
      "Deleted Columns are : ['type', 'packageType', 'exWeatherTag']\n"
     ]
    }
   ],
   "source": [
    "# Drop columns in train set\n",
    "train_obj.drop_columns()"
   ]
  },
  {
   "cell_type": "code",
   "execution_count": 54,
   "metadata": {
    "execution": {
     "iopub.execute_input": "2023-08-01T19:23:50.507552Z",
     "iopub.status.busy": "2023-08-01T19:23:50.506319Z",
     "iopub.status.idle": "2023-08-01T19:23:50.514820Z",
     "shell.execute_reply": "2023-08-01T19:23:50.513550Z",
     "shell.execute_reply.started": "2023-08-01T19:23:50.507513Z"
    }
   },
   "outputs": [
    {
     "name": "stdout",
     "output_type": "stream",
     "text": [
      "Deleted Columns are : ['type', 'packageType', 'exWeatherTag']\n"
     ]
    }
   ],
   "source": [
    "#drop columns in test set\n",
    "test_obj.drop_columns()"
   ]
  },
  {
   "cell_type": "code",
   "execution_count": null,
   "metadata": {
    "execution": {
     "iopub.status.busy": "2023-08-01T17:16:00.126591Z",
     "iopub.status.idle": "2023-08-01T17:16:00.127001Z",
     "shell.execute_reply": "2023-08-01T17:16:00.126802Z",
     "shell.execute_reply.started": "2023-08-01T17:16:00.126774Z"
    }
   },
   "outputs": [],
   "source": [
    "#train_obj.outliers()\n",
    "#train_obj.df\n",
    "#new_train_df = train_obj.df[(train_obj.df['weight'] > 250) & (train_obj.df['cost'] < 100)]\n",
    "#new_train_df = train_obj.df - new_train_df\n",
    "#new_train_df\n",
    "#train_obj.df"
   ]
  },
  {
   "cell_type": "code",
   "execution_count": null,
   "metadata": {
    "execution": {
     "iopub.status.busy": "2023-08-01T17:16:00.128082Z",
     "iopub.status.idle": "2023-08-01T17:16:00.128942Z",
     "shell.execute_reply": "2023-08-01T17:16:00.128679Z",
     "shell.execute_reply.started": "2023-08-01T17:16:00.128658Z"
    }
   },
   "outputs": [],
   "source": [
    "#new_test_df = test_obj.df[test_obj.df['weight'] > 250]\n",
    "#new_test_df\n",
    "#test_obj.df"
   ]
  },
  {
   "cell_type": "markdown",
   "metadata": {},
   "source": [
    "## Plotting correlation Heatmap to check correlation between variables"
   ]
  },
  {
   "cell_type": "code",
   "execution_count": 19,
   "metadata": {
    "execution": {
     "iopub.execute_input": "2023-08-01T19:24:13.348383Z",
     "iopub.status.busy": "2023-08-01T19:24:13.347993Z",
     "iopub.status.idle": "2023-08-01T19:24:16.327068Z",
     "shell.execute_reply": "2023-08-01T19:24:16.325945Z",
     "shell.execute_reply.started": "2023-08-01T19:24:13.348352Z"
    }
   },
   "outputs": [
    {
     "data": {
      "image/png": "[encoded data removed]",
      "text/plain": [
       "<Figure size 1008x864 with 2 Axes>"
      ]
     },
     "metadata": {
      "needs_background": "light"
     },
     "output_type": "display_data"
    }
   ],
   "source": [
    "#correlation matrix\n",
    "train_obj.correlation_matrix()"
   ]
  },
  {
   "cell_type": "markdown",
   "metadata": {},
   "source": [
    "#### From the above correlation matrix, We can see that cost has high correlation with weight"
   ]
  },
  {
   "cell_type": "code",
   "execution_count": 56,
   "metadata": {
    "execution": {
     "iopub.execute_input": "2023-08-01T19:24:43.948719Z",
     "iopub.status.busy": "2023-08-01T19:24:43.947708Z",
     "iopub.status.idle": "2023-08-01T19:24:43.957253Z",
     "shell.execute_reply": "2023-08-01T19:24:43.955962Z",
     "shell.execute_reply.started": "2023-08-01T19:24:43.948679Z"
    }
   },
   "outputs": [
    {
     "data": {
      "text/plain": [
       "Index(['trip', 'date', 'distance', 'weight', 'cost', 'dayPart_day',\n",
       "       'dayPart_night', 'carrier_A', 'carrier_B', 'carrier_C', 'carrier_D',\n",
       "       'originLocation_S1', 'originLocation_S2', 'originLocation_S3',\n",
       "       'originLocation_S4', 'originLocation_S5', 'originLocation_S6',\n",
       "       'originLocation_S7', 'originLocation_S8', 'originLocation_S9',\n",
       "       'destinationLocation_D1', 'destinationLocation_D2',\n",
       "       'destinationLocation_D3', 'destinationLocation_D4',\n",
       "       'destinationLocation_D5', 'destinationLocation_D6',\n",
       "       'destinationLocation_D7', 'destinationLocation_D8',\n",
       "       'destinationLocation_D9', 'month', 'year', 'day'],\n",
       "      dtype='object')"
      ]
     },
     "execution_count": 56,
     "metadata": {},
     "output_type": "execute_result"
    }
   ],
   "source": [
    "#Make data ready to train\n",
    "train_obj.load_columns()\n",
    "\n"
   ]
  },
  {
   "cell_type": "code",
   "execution_count": 57,
   "metadata": {
    "execution": {
     "iopub.execute_input": "2023-08-01T19:24:47.277472Z",
     "iopub.status.busy": "2023-08-01T19:24:47.277060Z",
     "iopub.status.idle": "2023-08-01T19:24:47.285455Z",
     "shell.execute_reply": "2023-08-01T19:24:47.284332Z",
     "shell.execute_reply.started": "2023-08-01T19:24:47.277442Z"
    }
   },
   "outputs": [
    {
     "data": {
      "text/plain": [
       "Index(['trip', 'date', 'distance', 'weight', 'dayPart_day', 'dayPart_night',\n",
       "       'carrier_A', 'carrier_B', 'carrier_C', 'carrier_D', 'originLocation_S1',\n",
       "       'originLocation_S2', 'originLocation_S3', 'originLocation_S4',\n",
       "       'originLocation_S5', 'originLocation_S6', 'originLocation_S7',\n",
       "       'originLocation_S8', 'originLocation_S9', 'destinationLocation_D1',\n",
       "       'destinationLocation_D2', 'destinationLocation_D3',\n",
       "       'destinationLocation_D4', 'destinationLocation_D5',\n",
       "       'destinationLocation_D6', 'destinationLocation_D7',\n",
       "       'destinationLocation_D8', 'destinationLocation_D9', 'month', 'year',\n",
       "       'day'],\n",
       "      dtype='object')"
      ]
     },
     "execution_count": 57,
     "metadata": {},
     "output_type": "execute_result"
    }
   ],
   "source": [
    "test_obj.load_columns()"
   ]
  },
  {
   "cell_type": "markdown",
   "metadata": {},
   "source": [
    "## Final Features for Train set\n"
   ]
  },
  {
   "cell_type": "code",
   "execution_count": 20,
   "metadata": {
    "execution": {
     "iopub.execute_input": "2023-08-01T19:24:51.514099Z",
     "iopub.status.busy": "2023-08-01T19:24:51.513623Z",
     "iopub.status.idle": "2023-08-01T19:24:51.549517Z",
     "shell.execute_reply": "2023-08-01T19:24:51.548596Z",
     "shell.execute_reply.started": "2023-08-01T19:24:51.514064Z"
    }
   },
   "outputs": [
    {
     "data": {
      "text/html": [
       "<div>\n",
       "<style scoped>\n",
       "    .dataframe tbody tr th:only-of-type {\n",
       "        vertical-align: middle;\n",
       "    }\n",
       "\n",
       "    .dataframe tbody tr th {\n",
       "        vertical-align: top;\n",
       "    }\n",
       "\n",
       "    .dataframe thead th {\n",
       "        text-align: right;\n",
       "    }\n",
       "</style>\n",
       "<table border=\"1\" class=\"dataframe\">\n",
       "  <thead>\n",
       "    <tr style=\"text-align: right;\">\n",
       "      <th></th>\n",
       "      <th>distance</th>\n",
       "      <th>weight</th>\n",
       "      <th>dayPart_day</th>\n",
       "      <th>dayPart_night</th>\n",
       "      <th>carrier_A</th>\n",
       "      <th>carrier_B</th>\n",
       "      <th>carrier_C</th>\n",
       "      <th>carrier_D</th>\n",
       "      <th>originLocation_S1</th>\n",
       "      <th>originLocation_S2</th>\n",
       "      <th>...</th>\n",
       "      <th>destinationLocation_D3</th>\n",
       "      <th>destinationLocation_D4</th>\n",
       "      <th>destinationLocation_D5</th>\n",
       "      <th>destinationLocation_D6</th>\n",
       "      <th>destinationLocation_D7</th>\n",
       "      <th>destinationLocation_D8</th>\n",
       "      <th>destinationLocation_D9</th>\n",
       "      <th>month</th>\n",
       "      <th>year</th>\n",
       "      <th>day</th>\n",
       "    </tr>\n",
       "  </thead>\n",
       "  <tbody>\n",
       "    <tr>\n",
       "      <th>0</th>\n",
       "      <td>2200</td>\n",
       "      <td>50</td>\n",
       "      <td>0</td>\n",
       "      <td>1</td>\n",
       "      <td>0</td>\n",
       "      <td>0</td>\n",
       "      <td>0</td>\n",
       "      <td>1</td>\n",
       "      <td>0</td>\n",
       "      <td>0</td>\n",
       "      <td>...</td>\n",
       "      <td>0</td>\n",
       "      <td>0</td>\n",
       "      <td>0</td>\n",
       "      <td>0</td>\n",
       "      <td>1</td>\n",
       "      <td>0</td>\n",
       "      <td>0</td>\n",
       "      <td>9</td>\n",
       "      <td>2017</td>\n",
       "      <td>6</td>\n",
       "    </tr>\n",
       "    <tr>\n",
       "      <th>1</th>\n",
       "      <td>1800</td>\n",
       "      <td>12</td>\n",
       "      <td>0</td>\n",
       "      <td>1</td>\n",
       "      <td>0</td>\n",
       "      <td>1</td>\n",
       "      <td>0</td>\n",
       "      <td>0</td>\n",
       "      <td>0</td>\n",
       "      <td>0</td>\n",
       "      <td>...</td>\n",
       "      <td>0</td>\n",
       "      <td>0</td>\n",
       "      <td>0</td>\n",
       "      <td>0</td>\n",
       "      <td>0</td>\n",
       "      <td>0</td>\n",
       "      <td>0</td>\n",
       "      <td>10</td>\n",
       "      <td>2017</td>\n",
       "      <td>21</td>\n",
       "    </tr>\n",
       "    <tr>\n",
       "      <th>2</th>\n",
       "      <td>2800</td>\n",
       "      <td>1</td>\n",
       "      <td>0</td>\n",
       "      <td>1</td>\n",
       "      <td>0</td>\n",
       "      <td>1</td>\n",
       "      <td>0</td>\n",
       "      <td>0</td>\n",
       "      <td>0</td>\n",
       "      <td>0</td>\n",
       "      <td>...</td>\n",
       "      <td>0</td>\n",
       "      <td>0</td>\n",
       "      <td>1</td>\n",
       "      <td>0</td>\n",
       "      <td>0</td>\n",
       "      <td>0</td>\n",
       "      <td>0</td>\n",
       "      <td>7</td>\n",
       "      <td>2017</td>\n",
       "      <td>15</td>\n",
       "    </tr>\n",
       "    <tr>\n",
       "      <th>3</th>\n",
       "      <td>3200</td>\n",
       "      <td>50</td>\n",
       "      <td>1</td>\n",
       "      <td>0</td>\n",
       "      <td>0</td>\n",
       "      <td>0</td>\n",
       "      <td>1</td>\n",
       "      <td>0</td>\n",
       "      <td>0</td>\n",
       "      <td>0</td>\n",
       "      <td>...</td>\n",
       "      <td>0</td>\n",
       "      <td>0</td>\n",
       "      <td>0</td>\n",
       "      <td>0</td>\n",
       "      <td>1</td>\n",
       "      <td>0</td>\n",
       "      <td>0</td>\n",
       "      <td>10</td>\n",
       "      <td>2017</td>\n",
       "      <td>22</td>\n",
       "    </tr>\n",
       "    <tr>\n",
       "      <th>4</th>\n",
       "      <td>2000</td>\n",
       "      <td>43</td>\n",
       "      <td>1</td>\n",
       "      <td>0</td>\n",
       "      <td>0</td>\n",
       "      <td>1</td>\n",
       "      <td>0</td>\n",
       "      <td>0</td>\n",
       "      <td>0</td>\n",
       "      <td>0</td>\n",
       "      <td>...</td>\n",
       "      <td>0</td>\n",
       "      <td>0</td>\n",
       "      <td>0</td>\n",
       "      <td>0</td>\n",
       "      <td>0</td>\n",
       "      <td>0</td>\n",
       "      <td>0</td>\n",
       "      <td>12</td>\n",
       "      <td>2019</td>\n",
       "      <td>11</td>\n",
       "    </tr>\n",
       "    <tr>\n",
       "      <th>...</th>\n",
       "      <td>...</td>\n",
       "      <td>...</td>\n",
       "      <td>...</td>\n",
       "      <td>...</td>\n",
       "      <td>...</td>\n",
       "      <td>...</td>\n",
       "      <td>...</td>\n",
       "      <td>...</td>\n",
       "      <td>...</td>\n",
       "      <td>...</td>\n",
       "      <td>...</td>\n",
       "      <td>...</td>\n",
       "      <td>...</td>\n",
       "      <td>...</td>\n",
       "      <td>...</td>\n",
       "      <td>...</td>\n",
       "      <td>...</td>\n",
       "      <td>...</td>\n",
       "      <td>...</td>\n",
       "      <td>...</td>\n",
       "      <td>...</td>\n",
       "    </tr>\n",
       "    <tr>\n",
       "      <th>38994</th>\n",
       "      <td>1200</td>\n",
       "      <td>3</td>\n",
       "      <td>0</td>\n",
       "      <td>1</td>\n",
       "      <td>0</td>\n",
       "      <td>1</td>\n",
       "      <td>0</td>\n",
       "      <td>0</td>\n",
       "      <td>0</td>\n",
       "      <td>0</td>\n",
       "      <td>...</td>\n",
       "      <td>1</td>\n",
       "      <td>0</td>\n",
       "      <td>0</td>\n",
       "      <td>0</td>\n",
       "      <td>0</td>\n",
       "      <td>0</td>\n",
       "      <td>0</td>\n",
       "      <td>10</td>\n",
       "      <td>2019</td>\n",
       "      <td>17</td>\n",
       "    </tr>\n",
       "    <tr>\n",
       "      <th>38995</th>\n",
       "      <td>2000</td>\n",
       "      <td>6</td>\n",
       "      <td>0</td>\n",
       "      <td>1</td>\n",
       "      <td>0</td>\n",
       "      <td>1</td>\n",
       "      <td>0</td>\n",
       "      <td>0</td>\n",
       "      <td>0</td>\n",
       "      <td>0</td>\n",
       "      <td>...</td>\n",
       "      <td>0</td>\n",
       "      <td>0</td>\n",
       "      <td>0</td>\n",
       "      <td>1</td>\n",
       "      <td>0</td>\n",
       "      <td>0</td>\n",
       "      <td>0</td>\n",
       "      <td>1</td>\n",
       "      <td>2019</td>\n",
       "      <td>23</td>\n",
       "    </tr>\n",
       "    <tr>\n",
       "      <th>38996</th>\n",
       "      <td>3000</td>\n",
       "      <td>24</td>\n",
       "      <td>0</td>\n",
       "      <td>1</td>\n",
       "      <td>0</td>\n",
       "      <td>1</td>\n",
       "      <td>0</td>\n",
       "      <td>0</td>\n",
       "      <td>0</td>\n",
       "      <td>0</td>\n",
       "      <td>...</td>\n",
       "      <td>0</td>\n",
       "      <td>0</td>\n",
       "      <td>0</td>\n",
       "      <td>0</td>\n",
       "      <td>1</td>\n",
       "      <td>0</td>\n",
       "      <td>0</td>\n",
       "      <td>10</td>\n",
       "      <td>2018</td>\n",
       "      <td>3</td>\n",
       "    </tr>\n",
       "    <tr>\n",
       "      <th>38997</th>\n",
       "      <td>2600</td>\n",
       "      <td>31</td>\n",
       "      <td>0</td>\n",
       "      <td>1</td>\n",
       "      <td>0</td>\n",
       "      <td>1</td>\n",
       "      <td>0</td>\n",
       "      <td>0</td>\n",
       "      <td>0</td>\n",
       "      <td>0</td>\n",
       "      <td>...</td>\n",
       "      <td>0</td>\n",
       "      <td>0</td>\n",
       "      <td>1</td>\n",
       "      <td>0</td>\n",
       "      <td>0</td>\n",
       "      <td>0</td>\n",
       "      <td>0</td>\n",
       "      <td>2</td>\n",
       "      <td>2018</td>\n",
       "      <td>26</td>\n",
       "    </tr>\n",
       "    <tr>\n",
       "      <th>38998</th>\n",
       "      <td>3200</td>\n",
       "      <td>36</td>\n",
       "      <td>0</td>\n",
       "      <td>1</td>\n",
       "      <td>0</td>\n",
       "      <td>1</td>\n",
       "      <td>0</td>\n",
       "      <td>0</td>\n",
       "      <td>0</td>\n",
       "      <td>0</td>\n",
       "      <td>...</td>\n",
       "      <td>0</td>\n",
       "      <td>0</td>\n",
       "      <td>0</td>\n",
       "      <td>0</td>\n",
       "      <td>0</td>\n",
       "      <td>1</td>\n",
       "      <td>0</td>\n",
       "      <td>7</td>\n",
       "      <td>2017</td>\n",
       "      <td>30</td>\n",
       "    </tr>\n",
       "  </tbody>\n",
       "</table>\n",
       "<p>38999 rows × 29 columns</p>\n",
       "</div>"
      ],
      "text/plain": [
       "       distance  weight  dayPart_day  dayPart_night  carrier_A  carrier_B  \\\n",
       "0          2200      50            0              1          0          0   \n",
       "1          1800      12            0              1          0          1   \n",
       "2          2800       1            0              1          0          1   \n",
       "3          3200      50            1              0          0          0   \n",
       "4          2000      43            1              0          0          1   \n",
       "...         ...     ...          ...            ...        ...        ...   \n",
       "38994      1200       3            0              1          0          1   \n",
       "38995      2000       6            0              1          0          1   \n",
       "38996      3000      24            0              1          0          1   \n",
       "38997      2600      31            0              1          0          1   \n",
       "38998      3200      36            0              1          0          1   \n",
       "\n",
       "       carrier_C  carrier_D  originLocation_S1  originLocation_S2  ...  \\\n",
       "0              0          1                  0                  0  ...   \n",
       "1              0          0                  0                  0  ...   \n",
       "2              0          0                  0                  0  ...   \n",
       "3              1          0                  0                  0  ...   \n",
       "4              0          0                  0                  0  ...   \n",
       "...          ...        ...                ...                ...  ...   \n",
       "38994          0          0                  0                  0  ...   \n",
       "38995          0          0                  0                  0  ...   \n",
       "38996          0          0                  0                  0  ...   \n",
       "38997          0          0                  0                  0  ...   \n",
       "38998          0          0                  0                  0  ...   \n",
       "\n",
       "       destinationLocation_D3  destinationLocation_D4  destinationLocation_D5  \\\n",
       "0                           0                       0                       0   \n",
       "1                           0                       0                       0   \n",
       "2                           0                       0                       1   \n",
       "3                           0                       0                       0   \n",
       "4                           0                       0                       0   \n",
       "...                       ...                     ...                     ...   \n",
       "38994                       1                       0                       0   \n",
       "38995                       0                       0                       0   \n",
       "38996                       0                       0                       0   \n",
       "38997                       0                       0                       1   \n",
       "38998                       0                       0                       0   \n",
       "\n",
       "       destinationLocation_D6  destinationLocation_D7  destinationLocation_D8  \\\n",
       "0                           0                       1                       0   \n",
       "1                           0                       0                       0   \n",
       "2                           0                       0                       0   \n",
       "3                           0                       1                       0   \n",
       "4                           0                       0                       0   \n",
       "...                       ...                     ...                     ...   \n",
       "38994                       0                       0                       0   \n",
       "38995                       1                       0                       0   \n",
       "38996                       0                       1                       0   \n",
       "38997                       0                       0                       0   \n",
       "38998                       0                       0                       1   \n",
       "\n",
       "       destinationLocation_D9  month  year  day  \n",
       "0                           0      9  2017    6  \n",
       "1                           0     10  2017   21  \n",
       "2                           0      7  2017   15  \n",
       "3                           0     10  2017   22  \n",
       "4                           0     12  2019   11  \n",
       "...                       ...    ...   ...  ...  \n",
       "38994                       0     10  2019   17  \n",
       "38995                       0      1  2019   23  \n",
       "38996                       0     10  2018    3  \n",
       "38997                       0      2  2018   26  \n",
       "38998                       0      7  2017   30  \n",
       "\n",
       "[38999 rows x 29 columns]"
      ]
     },
     "execution_count": 20,
     "metadata": {},
     "output_type": "execute_result"
    }
   ],
   "source": [
    "train_obj.prepare_data()\n",
    "train_obj.X_train\n",
    "#train_obj.y_train\n",
    "\n"
   ]
  },
  {
   "cell_type": "code",
   "execution_count": null,
   "metadata": {
    "execution": {
     "iopub.status.busy": "2023-08-01T17:16:00.144475Z",
     "iopub.status.idle": "2023-08-01T17:16:00.144896Z",
     "shell.execute_reply": "2023-08-01T17:16:00.144706Z",
     "shell.execute_reply.started": "2023-08-01T17:16:00.144687Z"
    }
   },
   "outputs": [],
   "source": [
    "#train_obj.X_train.describe()"
   ]
  },
  {
   "cell_type": "markdown",
   "metadata": {},
   "source": [
    "## Final Label for train set"
   ]
  },
  {
   "cell_type": "code",
   "execution_count": 21,
   "metadata": {
    "execution": {
     "iopub.execute_input": "2023-08-01T19:24:58.296685Z",
     "iopub.status.busy": "2023-08-01T19:24:58.295188Z",
     "iopub.status.idle": "2023-08-01T19:24:58.305807Z",
     "shell.execute_reply": "2023-08-01T19:24:58.304546Z",
     "shell.execute_reply.started": "2023-08-01T19:24:58.296639Z"
    }
   },
   "outputs": [
    {
     "data": {
      "text/plain": [
       "0        68.413152\n",
       "1        36.450649\n",
       "2         9.057939\n",
       "3        57.320087\n",
       "4        77.263777\n",
       "           ...    \n",
       "38994    14.987239\n",
       "38995    33.214738\n",
       "38996    45.172159\n",
       "38997    47.541427\n",
       "38998    68.054098\n",
       "Name: cost, Length: 38999, dtype: float64"
      ]
     },
     "execution_count": 21,
     "metadata": {},
     "output_type": "execute_result"
    }
   ],
   "source": [
    "train_obj.y_train"
   ]
  },
  {
   "cell_type": "code",
   "execution_count": null,
   "metadata": {
    "execution": {
     "iopub.status.busy": "2023-08-01T17:16:00.148720Z",
     "iopub.status.idle": "2023-08-01T17:16:00.149156Z",
     "shell.execute_reply": "2023-08-01T17:16:00.148975Z",
     "shell.execute_reply.started": "2023-08-01T17:16:00.148952Z"
    }
   },
   "outputs": [],
   "source": [
    "#train_obj.y_train.describe()"
   ]
  },
  {
   "cell_type": "markdown",
   "metadata": {},
   "source": [
    "## Splitting the train set and trying different regression models\n"
   ]
  },
  {
   "cell_type": "code",
   "execution_count": 22,
   "metadata": {
    "execution": {
     "iopub.execute_input": "2023-08-01T19:25:02.714794Z",
     "iopub.status.busy": "2023-08-01T19:25:02.712067Z",
     "iopub.status.idle": "2023-08-01T19:25:02.945348Z",
     "shell.execute_reply": "2023-08-01T19:25:02.943564Z",
     "shell.execute_reply.started": "2023-08-01T19:25:02.714746Z"
    }
   },
   "outputs": [],
   "source": [
    "from sklearn.model_selection import train_test_split\n",
    "train_try_X, test_try_X, train_try_y, test_try_y = train_test_split(train_obj.X_train,train_obj.y_train,test_size=0.2,random_state = 42)\n"
   ]
  },
  {
   "cell_type": "markdown",
   "metadata": {},
   "source": [
    "### We will try following Regression models and select the best fit model for actual test set\n",
    "#### 1. Linear Regression Model\n",
    "#### 2. Decision Tree \n",
    "#### 3. Random Forest\n",
    "#### 4. XGboost \n",
    "#### 5. Gradient Boosting Regressor\n",
    "#### 6. LGBM Regresssor\n",
    "#### 7. Lasso"
   ]
  },
  {
   "cell_type": "markdown",
   "metadata": {},
   "source": [
    "### Implementing above mentioned models and evaluation metrics"
   ]
  },
  {
   "cell_type": "code",
   "execution_count": 24,
   "metadata": {
    "execution": {
     "iopub.execute_input": "2023-08-01T19:29:50.864372Z",
     "iopub.status.busy": "2023-08-01T19:29:50.863069Z",
     "iopub.status.idle": "2023-08-01T19:29:50.885958Z",
     "shell.execute_reply": "2023-08-01T19:29:50.884764Z",
     "shell.execute_reply.started": "2023-08-01T19:29:50.864332Z"
    }
   },
   "outputs": [],
   "source": [
    "#Import all required libraries\n",
    "from sklearn.model_selection import train_test_split\n",
    "from sklearn.linear_model import LinearRegression\n",
    "from sklearn.linear_model import Lasso\n",
    "import xgboost as xgb\n",
    "#import lightgbm as lgb\n",
    "from sklearn.tree import DecisionTreeRegressor\n",
    "from sklearn.ensemble import RandomForestRegressor, GradientBoostingRegressor\n",
    "from sklearn.metrics import mean_squared_error,mean_absolute_error, r2_score\n",
    "\n",
    "# Function for Linear Regression Model\n",
    "def train_linear_regression(train_try_X, train_try_y):\n",
    "    model = LinearRegression()\n",
    "    model.fit(train_try_X, train_try_y)\n",
    "    y_pred = model.predict(test_try_X)\n",
    "    mse = mean_squared_error(test_try_y, y_pred)\n",
    "    rmse = np.sqrt(mse)\n",
    "    mae = mean_absolute_error(test_try_y, y_pred)\n",
    "    r2 = r2_score(test_try_y, y_pred)\n",
    "    print(f\"For Linear Regression : \\n Mean Squared Error : {mse} \\n RMSE : {rmse} \\n Mean Absolute Error : {mae} \\n R2 Score : {r2} \")\n",
    "    \n",
    "\n",
    "# Function for Decision Tree Model\n",
    "def train_decision_tree(train_try_X, train_try_y):\n",
    "    model = DecisionTreeRegressor(random_state=42)\n",
    "    model.fit(train_try_X, train_try_y)\n",
    "    y_pred = model.predict(test_try_X)\n",
    "    mse = mean_squared_error(test_try_y, y_pred)\n",
    "    rmse = np.sqrt(mse)\n",
    "    mae = mean_absolute_error(test_try_y, y_pred)\n",
    "    r2 = r2_score(test_try_y, y_pred)\n",
    "    print(f\"For Decision Tree Regression : \\n Mean Squared Error : {mse} \\n RMSE : {rmse} \\n Mean Absolute Error : {mae} \\n R2 Score : {r2} \")\n",
    "\n",
    "# Function for Random Forest Model\n",
    "def train_random_forest(train_try_X, train_try_y):\n",
    "    model = RandomForestRegressor(n_estimators=100, random_state=42)\n",
    "    model.fit(train_try_X, train_try_y)\n",
    "    y_pred = model.predict(test_try_X)\n",
    "    mse = mean_squared_error(test_try_y, y_pred)\n",
    "    rmse = np.sqrt(mse)\n",
    "    mae = mean_absolute_error(test_try_y, y_pred)\n",
    "    r2 = r2_score(test_try_y, y_pred)\n",
    "    print(f\"For Random Tree Regression : \\n Mean Squared Error : {mse} \\n RMSE : {rmse} \\n Mean Absolute Error : {mae} \\n R2 Score : {r2} \")\n",
    "\n",
    "# Function for XGBoost Model\n",
    "def train_xgboost(train_try_X, train_try_y):\n",
    "    model = xgb.XGBRegressor()\n",
    "    model.fit(train_try_X, train_try_y)\n",
    "    y_pred = model.predict(test_try_X)\n",
    "    mse = mean_squared_error(test_try_y, y_pred)\n",
    "    rmse = np.sqrt(mse)\n",
    "    mae = mean_absolute_error(test_try_y, y_pred)\n",
    "    r2 = r2_score(test_try_y, y_pred)\n",
    "    print(f\"For XGBoost Regression : \\n Mean Squared Error : {mse} \\n RMSE : {rmse} \\n Mean Absolute Error : {mae} \\n R2 Score : {r2}  \")\n",
    "\n",
    "# Function for Gradient Boosting Regressor Model\n",
    "def train_gradient_boosting(train_try_X, train_try_y):\n",
    "    model = GradientBoostingRegressor(n_estimators=100, learning_rate=0.1, max_depth=3, random_state=42)\n",
    "    model.fit(train_try_X, train_try_y)\n",
    "    y_pred = model.predict(test_try_X)\n",
    "    mse = mean_squared_error(test_try_y, y_pred)\n",
    "    rmse = np.sqrt(mse)\n",
    "    mae = mean_absolute_error(test_try_y, y_pred)\n",
    "    r2 = r2_score(test_try_y, y_pred)\n",
    "    print(f\"For Gradient Regression : \\n Mean Squared Error : {mse} \\n RMSE : {rmse} \\n Mean Absolute Error : {mae} \\n R2 Score : {r2} \")\n",
    "\n",
    "# Function for LGBM Regressor Model\n",
    "def train_lgbm(train_try_X, train_try_y):\n",
    "    model = lgb.LGBMRegressor()\n",
    "    model.fit(train_try_X, train_try_y)\n",
    "    y_pred = model.predict(test_try_X)\n",
    "    mse = mean_squared_error(test_try_y, y_pred)\n",
    "    rmse = np.sqrt(mse)\n",
    "    mae = mean_absolute_error(test_try_y, y_pred)\n",
    "    r2 = r2_score(test_try_y, y_pred)\n",
    "    print(f\"For Light GBM : \\n Mean Squared Error : {mse} \\n RMSE : {rmse} \\n Mean Absolute Error : {mae} \\n R2 Score : {r2}  \")\n",
    "    \n",
    "# Function for Lasso Regression Model\n",
    "def train_Lasso(train_try_X, train_try_y, alpha=1.0):\n",
    "    model = Lasso(alpha=alpha, random_state=42)\n",
    "    model.fit(train_try_X, train_try_y)\n",
    "    y_pred = model.predict(test_try_X)\n",
    "    mse = mean_squared_error(test_try_y, y_pred)\n",
    "    rmse = np.sqrt(mse)\n",
    "    mae = mean_absolute_error(test_try_y, y_pred)\n",
    "    r2 = r2_score(test_try_y, y_pred)\n",
    "    print(f\"For Lasso Regression : \\n Mean Squared Error : {mse} \\n RMSE : {rmse} \\n Mean Absolute Error : {mae} \\n R2 Score : {r2} \")"
   ]
  },
  {
   "cell_type": "code",
   "execution_count": 25,
   "metadata": {
    "execution": {
     "iopub.execute_input": "2023-08-01T19:29:56.560699Z",
     "iopub.status.busy": "2023-08-01T19:29:56.560274Z",
     "iopub.status.idle": "2023-08-01T19:29:56.637628Z",
     "shell.execute_reply": "2023-08-01T19:29:56.635675Z",
     "shell.execute_reply.started": "2023-08-01T19:29:56.560666Z"
    }
   },
   "outputs": [
    {
     "name": "stdout",
     "output_type": "stream",
     "text": [
      "For Linear Regression : \n",
      " Mean Squared Error : 8847.488836562374 \n",
      " RMSE : 94.06109098114041 \n",
      " Mean Absolute Error : 34.89187397885009 \n",
      " R2 Score : 0.7555797081715658 \n"
     ]
    }
   ],
   "source": [
    "train_linear_regression(train_try_X, train_try_y)"
   ]
  },
  {
   "cell_type": "code",
   "execution_count": 26,
   "metadata": {
    "execution": {
     "iopub.execute_input": "2023-08-01T19:30:04.752685Z",
     "iopub.status.busy": "2023-08-01T19:30:04.752254Z",
     "iopub.status.idle": "2023-08-01T19:30:04.971823Z",
     "shell.execute_reply": "2023-08-01T19:30:04.970574Z",
     "shell.execute_reply.started": "2023-08-01T19:30:04.752650Z"
    }
   },
   "outputs": [
    {
     "name": "stdout",
     "output_type": "stream",
     "text": [
      "For Decision Tree Regression : \n",
      " Mean Squared Error : 3.3797108369859807 \n",
      " RMSE : 1.8383989874306341 \n",
      " Mean Absolute Error : 0.221930621461671 \n",
      " R2 Score : 0.9999066322744983 \n"
     ]
    }
   ],
   "source": [
    "train_decision_tree(train_try_X, train_try_y)"
   ]
  },
  {
   "cell_type": "code",
   "execution_count": 27,
   "metadata": {
    "execution": {
     "iopub.execute_input": "2023-08-01T19:30:11.147310Z",
     "iopub.status.busy": "2023-08-01T19:30:11.146536Z",
     "iopub.status.idle": "2023-08-01T19:30:22.862877Z",
     "shell.execute_reply": "2023-08-01T19:30:22.861688Z",
     "shell.execute_reply.started": "2023-08-01T19:30:11.147263Z"
    }
   },
   "outputs": [
    {
     "name": "stdout",
     "output_type": "stream",
     "text": [
      "For Random Tree Regression : \n",
      " Mean Squared Error : 2.527682937636435 \n",
      " RMSE : 1.5898688429038526 \n",
      " Mean Absolute Error : 0.22269243095591718 \n",
      " R2 Score : 0.9999301703553766 \n"
     ]
    }
   ],
   "source": [
    "train_random_forest(train_try_X, train_try_y)"
   ]
  },
  {
   "cell_type": "code",
   "execution_count": 28,
   "metadata": {
    "execution": {
     "iopub.execute_input": "2023-08-01T19:30:33.142846Z",
     "iopub.status.busy": "2023-08-01T19:30:33.141999Z",
     "iopub.status.idle": "2023-08-01T19:30:35.609311Z",
     "shell.execute_reply": "2023-08-01T19:30:35.608407Z",
     "shell.execute_reply.started": "2023-08-01T19:30:33.142776Z"
    }
   },
   "outputs": [
    {
     "name": "stdout",
     "output_type": "stream",
     "text": [
      "For XGBoost Regression : \n",
      " Mean Squared Error : 2.1245396535921586 \n",
      " RMSE : 1.4575800676436812 \n",
      " Mean Absolute Error : 0.31847591454730756 \n",
      " R2 Score : 0.9999413075719309  \n"
     ]
    }
   ],
   "source": [
    "train_xgboost(train_try_X, train_try_y)"
   ]
  },
  {
   "cell_type": "code",
   "execution_count": 29,
   "metadata": {
    "execution": {
     "iopub.execute_input": "2023-08-01T19:30:49.403029Z",
     "iopub.status.busy": "2023-08-01T19:30:49.402604Z",
     "iopub.status.idle": "2023-08-01T19:30:52.704240Z",
     "shell.execute_reply": "2023-08-01T19:30:52.702987Z",
     "shell.execute_reply.started": "2023-08-01T19:30:49.402993Z"
    }
   },
   "outputs": [
    {
     "name": "stdout",
     "output_type": "stream",
     "text": [
      "For Gradient Regression : \n",
      " Mean Squared Error : 19.609465950805323 \n",
      " RMSE : 4.428257665358388 \n",
      " Mean Absolute Error : 1.4261593671810353 \n",
      " R2 Score : 0.9994582698572629 \n"
     ]
    }
   ],
   "source": [
    "train_gradient_boosting(train_try_X, train_try_y)"
   ]
  },
  {
   "cell_type": "code",
   "execution_count": 31,
   "metadata": {
    "execution": {
     "iopub.execute_input": "2023-08-01T19:31:02.815246Z",
     "iopub.status.busy": "2023-08-01T19:31:02.814688Z",
     "iopub.status.idle": "2023-08-01T19:31:03.784117Z",
     "shell.execute_reply": "2023-08-01T19:31:03.782906Z",
     "shell.execute_reply.started": "2023-08-01T19:31:02.815206Z"
    }
   },
   "outputs": [],
   "source": [
    "#train_lgbm(train_try_X, train_try_y)"
   ]
  },
  {
   "cell_type": "code",
   "execution_count": 32,
   "metadata": {
    "execution": {
     "iopub.execute_input": "2023-08-01T19:31:08.399031Z",
     "iopub.status.busy": "2023-08-01T19:31:08.398633Z",
     "iopub.status.idle": "2023-08-01T19:31:08.455072Z",
     "shell.execute_reply": "2023-08-01T19:31:08.453510Z",
     "shell.execute_reply.started": "2023-08-01T19:31:08.399000Z"
    }
   },
   "outputs": [
    {
     "name": "stdout",
     "output_type": "stream",
     "text": [
      "For Lasso Regression : \n",
      " Mean Squared Error : 8913.4024022257 \n",
      " RMSE : 94.41081718863417 \n",
      " Mean Absolute Error : 33.72623810245021 \n",
      " R2 Score : 0.7537587832455794 \n"
     ]
    }
   ],
   "source": [
    "train_Lasso(train_try_X, train_try_y, alpha=1.0)"
   ]
  },
  {
   "cell_type": "markdown",
   "metadata": {},
   "source": [
    "#### We tried different models and performance metrics and came to know that XGboost model gives the best performance on given datasets i.e. RMSE = 1.457. We have used MSE, RMSE, MAE, R2 Score to evaluate predictions"
   ]
  },
  {
   "cell_type": "markdown",
   "metadata": {},
   "source": [
    "### Now, We will use XGBoost Regression model to predict Cost from the actual Test datasets"
   ]
  },
  {
   "cell_type": "code",
   "execution_count": 75,
   "metadata": {
    "execution": {
     "iopub.execute_input": "2023-08-01T19:44:17.487320Z",
     "iopub.status.busy": "2023-08-01T19:44:17.486626Z",
     "iopub.status.idle": "2023-08-01T19:44:17.515727Z",
     "shell.execute_reply": "2023-08-01T19:44:17.514546Z",
     "shell.execute_reply.started": "2023-08-01T19:44:17.487285Z"
    }
   },
   "outputs": [
    {
     "data": {
      "text/html": [
       "<div>\n",
       "<style scoped>\n",
       "    .dataframe tbody tr th:only-of-type {\n",
       "        vertical-align: middle;\n",
       "    }\n",
       "\n",
       "    .dataframe tbody tr th {\n",
       "        vertical-align: top;\n",
       "    }\n",
       "\n",
       "    .dataframe thead th {\n",
       "        text-align: right;\n",
       "    }\n",
       "</style>\n",
       "<table border=\"1\" class=\"dataframe\">\n",
       "  <thead>\n",
       "    <tr style=\"text-align: right;\">\n",
       "      <th></th>\n",
       "      <th>distance</th>\n",
       "      <th>weight</th>\n",
       "      <th>dayPart_day</th>\n",
       "      <th>dayPart_night</th>\n",
       "      <th>carrier_A</th>\n",
       "      <th>carrier_B</th>\n",
       "      <th>carrier_C</th>\n",
       "      <th>carrier_D</th>\n",
       "      <th>originLocation_S1</th>\n",
       "      <th>originLocation_S2</th>\n",
       "      <th>...</th>\n",
       "      <th>destinationLocation_D3</th>\n",
       "      <th>destinationLocation_D4</th>\n",
       "      <th>destinationLocation_D5</th>\n",
       "      <th>destinationLocation_D6</th>\n",
       "      <th>destinationLocation_D7</th>\n",
       "      <th>destinationLocation_D8</th>\n",
       "      <th>destinationLocation_D9</th>\n",
       "      <th>month</th>\n",
       "      <th>year</th>\n",
       "      <th>day</th>\n",
       "    </tr>\n",
       "  </thead>\n",
       "  <tbody>\n",
       "    <tr>\n",
       "      <th>0</th>\n",
       "      <td>2000</td>\n",
       "      <td>50</td>\n",
       "      <td>0</td>\n",
       "      <td>1</td>\n",
       "      <td>0</td>\n",
       "      <td>0</td>\n",
       "      <td>1</td>\n",
       "      <td>0</td>\n",
       "      <td>0</td>\n",
       "      <td>1</td>\n",
       "      <td>...</td>\n",
       "      <td>0</td>\n",
       "      <td>0</td>\n",
       "      <td>0</td>\n",
       "      <td>0</td>\n",
       "      <td>0</td>\n",
       "      <td>1</td>\n",
       "      <td>0</td>\n",
       "      <td>9</td>\n",
       "      <td>2017</td>\n",
       "      <td>27</td>\n",
       "    </tr>\n",
       "    <tr>\n",
       "      <th>1</th>\n",
       "      <td>600</td>\n",
       "      <td>22</td>\n",
       "      <td>1</td>\n",
       "      <td>0</td>\n",
       "      <td>1</td>\n",
       "      <td>0</td>\n",
       "      <td>0</td>\n",
       "      <td>0</td>\n",
       "      <td>0</td>\n",
       "      <td>1</td>\n",
       "      <td>...</td>\n",
       "      <td>0</td>\n",
       "      <td>0</td>\n",
       "      <td>0</td>\n",
       "      <td>0</td>\n",
       "      <td>0</td>\n",
       "      <td>0</td>\n",
       "      <td>0</td>\n",
       "      <td>12</td>\n",
       "      <td>2017</td>\n",
       "      <td>12</td>\n",
       "    </tr>\n",
       "    <tr>\n",
       "      <th>2</th>\n",
       "      <td>1600</td>\n",
       "      <td>30</td>\n",
       "      <td>1</td>\n",
       "      <td>0</td>\n",
       "      <td>0</td>\n",
       "      <td>0</td>\n",
       "      <td>0</td>\n",
       "      <td>1</td>\n",
       "      <td>0</td>\n",
       "      <td>0</td>\n",
       "      <td>...</td>\n",
       "      <td>0</td>\n",
       "      <td>0</td>\n",
       "      <td>0</td>\n",
       "      <td>0</td>\n",
       "      <td>0</td>\n",
       "      <td>0</td>\n",
       "      <td>0</td>\n",
       "      <td>11</td>\n",
       "      <td>2018</td>\n",
       "      <td>18</td>\n",
       "    </tr>\n",
       "    <tr>\n",
       "      <th>3</th>\n",
       "      <td>2200</td>\n",
       "      <td>32</td>\n",
       "      <td>1</td>\n",
       "      <td>0</td>\n",
       "      <td>0</td>\n",
       "      <td>1</td>\n",
       "      <td>0</td>\n",
       "      <td>0</td>\n",
       "      <td>0</td>\n",
       "      <td>0</td>\n",
       "      <td>...</td>\n",
       "      <td>0</td>\n",
       "      <td>0</td>\n",
       "      <td>0</td>\n",
       "      <td>1</td>\n",
       "      <td>0</td>\n",
       "      <td>0</td>\n",
       "      <td>0</td>\n",
       "      <td>11</td>\n",
       "      <td>2019</td>\n",
       "      <td>18</td>\n",
       "    </tr>\n",
       "    <tr>\n",
       "      <th>4</th>\n",
       "      <td>2600</td>\n",
       "      <td>7</td>\n",
       "      <td>0</td>\n",
       "      <td>1</td>\n",
       "      <td>0</td>\n",
       "      <td>1</td>\n",
       "      <td>0</td>\n",
       "      <td>0</td>\n",
       "      <td>0</td>\n",
       "      <td>0</td>\n",
       "      <td>...</td>\n",
       "      <td>0</td>\n",
       "      <td>0</td>\n",
       "      <td>0</td>\n",
       "      <td>0</td>\n",
       "      <td>1</td>\n",
       "      <td>0</td>\n",
       "      <td>0</td>\n",
       "      <td>6</td>\n",
       "      <td>2019</td>\n",
       "      <td>2</td>\n",
       "    </tr>\n",
       "    <tr>\n",
       "      <th>...</th>\n",
       "      <td>...</td>\n",
       "      <td>...</td>\n",
       "      <td>...</td>\n",
       "      <td>...</td>\n",
       "      <td>...</td>\n",
       "      <td>...</td>\n",
       "      <td>...</td>\n",
       "      <td>...</td>\n",
       "      <td>...</td>\n",
       "      <td>...</td>\n",
       "      <td>...</td>\n",
       "      <td>...</td>\n",
       "      <td>...</td>\n",
       "      <td>...</td>\n",
       "      <td>...</td>\n",
       "      <td>...</td>\n",
       "      <td>...</td>\n",
       "      <td>...</td>\n",
       "      <td>...</td>\n",
       "      <td>...</td>\n",
       "      <td>...</td>\n",
       "    </tr>\n",
       "    <tr>\n",
       "      <th>797</th>\n",
       "      <td>1000</td>\n",
       "      <td>489</td>\n",
       "      <td>1</td>\n",
       "      <td>0</td>\n",
       "      <td>0</td>\n",
       "      <td>0</td>\n",
       "      <td>1</td>\n",
       "      <td>0</td>\n",
       "      <td>0</td>\n",
       "      <td>0</td>\n",
       "      <td>...</td>\n",
       "      <td>0</td>\n",
       "      <td>0</td>\n",
       "      <td>0</td>\n",
       "      <td>0</td>\n",
       "      <td>0</td>\n",
       "      <td>0</td>\n",
       "      <td>0</td>\n",
       "      <td>10</td>\n",
       "      <td>2017</td>\n",
       "      <td>26</td>\n",
       "    </tr>\n",
       "    <tr>\n",
       "      <th>798</th>\n",
       "      <td>2200</td>\n",
       "      <td>12</td>\n",
       "      <td>1</td>\n",
       "      <td>0</td>\n",
       "      <td>0</td>\n",
       "      <td>1</td>\n",
       "      <td>0</td>\n",
       "      <td>0</td>\n",
       "      <td>0</td>\n",
       "      <td>0</td>\n",
       "      <td>...</td>\n",
       "      <td>1</td>\n",
       "      <td>0</td>\n",
       "      <td>0</td>\n",
       "      <td>0</td>\n",
       "      <td>0</td>\n",
       "      <td>0</td>\n",
       "      <td>0</td>\n",
       "      <td>9</td>\n",
       "      <td>2018</td>\n",
       "      <td>1</td>\n",
       "    </tr>\n",
       "    <tr>\n",
       "      <th>799</th>\n",
       "      <td>2200</td>\n",
       "      <td>9</td>\n",
       "      <td>1</td>\n",
       "      <td>0</td>\n",
       "      <td>0</td>\n",
       "      <td>1</td>\n",
       "      <td>0</td>\n",
       "      <td>0</td>\n",
       "      <td>0</td>\n",
       "      <td>0</td>\n",
       "      <td>...</td>\n",
       "      <td>0</td>\n",
       "      <td>0</td>\n",
       "      <td>0</td>\n",
       "      <td>0</td>\n",
       "      <td>0</td>\n",
       "      <td>0</td>\n",
       "      <td>0</td>\n",
       "      <td>6</td>\n",
       "      <td>2018</td>\n",
       "      <td>20</td>\n",
       "    </tr>\n",
       "    <tr>\n",
       "      <th>800</th>\n",
       "      <td>1200</td>\n",
       "      <td>11</td>\n",
       "      <td>0</td>\n",
       "      <td>1</td>\n",
       "      <td>0</td>\n",
       "      <td>0</td>\n",
       "      <td>0</td>\n",
       "      <td>1</td>\n",
       "      <td>0</td>\n",
       "      <td>0</td>\n",
       "      <td>...</td>\n",
       "      <td>1</td>\n",
       "      <td>0</td>\n",
       "      <td>0</td>\n",
       "      <td>0</td>\n",
       "      <td>0</td>\n",
       "      <td>0</td>\n",
       "      <td>0</td>\n",
       "      <td>1</td>\n",
       "      <td>2019</td>\n",
       "      <td>13</td>\n",
       "    </tr>\n",
       "    <tr>\n",
       "      <th>801</th>\n",
       "      <td>1200</td>\n",
       "      <td>434</td>\n",
       "      <td>1</td>\n",
       "      <td>0</td>\n",
       "      <td>0</td>\n",
       "      <td>0</td>\n",
       "      <td>1</td>\n",
       "      <td>0</td>\n",
       "      <td>0</td>\n",
       "      <td>0</td>\n",
       "      <td>...</td>\n",
       "      <td>1</td>\n",
       "      <td>0</td>\n",
       "      <td>0</td>\n",
       "      <td>0</td>\n",
       "      <td>0</td>\n",
       "      <td>0</td>\n",
       "      <td>0</td>\n",
       "      <td>12</td>\n",
       "      <td>2018</td>\n",
       "      <td>15</td>\n",
       "    </tr>\n",
       "  </tbody>\n",
       "</table>\n",
       "<p>802 rows × 29 columns</p>\n",
       "</div>"
      ],
      "text/plain": [
       "     distance  weight  dayPart_day  dayPart_night  carrier_A  carrier_B  \\\n",
       "0        2000      50            0              1          0          0   \n",
       "1         600      22            1              0          1          0   \n",
       "2        1600      30            1              0          0          0   \n",
       "3        2200      32            1              0          0          1   \n",
       "4        2600       7            0              1          0          1   \n",
       "..        ...     ...          ...            ...        ...        ...   \n",
       "797      1000     489            1              0          0          0   \n",
       "798      2200      12            1              0          0          1   \n",
       "799      2200       9            1              0          0          1   \n",
       "800      1200      11            0              1          0          0   \n",
       "801      1200     434            1              0          0          0   \n",
       "\n",
       "     carrier_C  carrier_D  originLocation_S1  originLocation_S2  ...  \\\n",
       "0            1          0                  0                  1  ...   \n",
       "1            0          0                  0                  1  ...   \n",
       "2            0          1                  0                  0  ...   \n",
       "3            0          0                  0                  0  ...   \n",
       "4            0          0                  0                  0  ...   \n",
       "..         ...        ...                ...                ...  ...   \n",
       "797          1          0                  0                  0  ...   \n",
       "798          0          0                  0                  0  ...   \n",
       "799          0          0                  0                  0  ...   \n",
       "800          0          1                  0                  0  ...   \n",
       "801          1          0                  0                  0  ...   \n",
       "\n",
       "     destinationLocation_D3  destinationLocation_D4  destinationLocation_D5  \\\n",
       "0                         0                       0                       0   \n",
       "1                         0                       0                       0   \n",
       "2                         0                       0                       0   \n",
       "3                         0                       0                       0   \n",
       "4                         0                       0                       0   \n",
       "..                      ...                     ...                     ...   \n",
       "797                       0                       0                       0   \n",
       "798                       1                       0                       0   \n",
       "799                       0                       0                       0   \n",
       "800                       1                       0                       0   \n",
       "801                       1                       0                       0   \n",
       "\n",
       "     destinationLocation_D6  destinationLocation_D7  destinationLocation_D8  \\\n",
       "0                         0                       0                       1   \n",
       "1                         0                       0                       0   \n",
       "2                         0                       0                       0   \n",
       "3                         1                       0                       0   \n",
       "4                         0                       1                       0   \n",
       "..                      ...                     ...                     ...   \n",
       "797                       0                       0                       0   \n",
       "798                       0                       0                       0   \n",
       "799                       0                       0                       0   \n",
       "800                       0                       0                       0   \n",
       "801                       0                       0                       0   \n",
       "\n",
       "     destinationLocation_D9  month  year  day  \n",
       "0                         0      9  2017   27  \n",
       "1                         0     12  2017   12  \n",
       "2                         0     11  2018   18  \n",
       "3                         0     11  2019   18  \n",
       "4                         0      6  2019    2  \n",
       "..                      ...    ...   ...  ...  \n",
       "797                       0     10  2017   26  \n",
       "798                       0      9  2018    1  \n",
       "799                       0      6  2018   20  \n",
       "800                       0      1  2019   13  \n",
       "801                       0     12  2018   15  \n",
       "\n",
       "[802 rows x 29 columns]"
      ]
     },
     "execution_count": 75,
     "metadata": {},
     "output_type": "execute_result"
    }
   ],
   "source": [
    "test_obj.final_test()\n"
   ]
  },
  {
   "cell_type": "markdown",
   "metadata": {},
   "source": [
    "### Training the model using Xgboost and Hypertuning model parameters using grid search"
   ]
  },
  {
   "cell_type": "code",
   "execution_count": 76,
   "metadata": {
    "execution": {
     "iopub.execute_input": "2023-08-01T19:44:21.775141Z",
     "iopub.status.busy": "2023-08-01T19:44:21.774732Z",
     "iopub.status.idle": "2023-08-01T19:57:26.796835Z",
     "shell.execute_reply": "2023-08-01T19:57:26.795428Z",
     "shell.execute_reply.started": "2023-08-01T19:44:21.775110Z"
    }
   },
   "outputs": [
    {
     "data": {
      "image/png": "[encoded data removed]",
      "text/plain": [
       "<Figure size 640x480 with 1 Axes>"
      ]
     },
     "metadata": {},
     "output_type": "display_data"
    }
   ],
   "source": [
    "\n",
    "from sklearn.model_selection import GridSearchCV, RandomizedSearchCV\n",
    "\n",
    "model = xgb.XGBRegressor() \n",
    "# Define the hyperparameter grid\n",
    "param_grid = {\n",
    "    'n_estimators': [50, 100, 200],\n",
    "    'learning_rate': [0.01, 0.1, 0.2],\n",
    "    'max_depth': [3, 5, 7]\n",
    "}\n",
    "\n",
    "# Perform Grid Search\n",
    "grid_search = GridSearchCV(estimator= model, param_grid=param_grid, cv=5, scoring='neg_mean_squared_error')\n",
    "grid_search.fit(train_obj.X_train, train_obj.y_train)\n",
    "\n",
    "# Get the best hyperparameters and model\n",
    "best_params = grid_search.best_params_\n",
    "best_model = grid_search.best_estimator_\n",
    "\n",
    "model.fit(train_obj.X_train, train_obj.y_train)\n",
    "xgb.plot_importance(model)\n",
    "plt.show()"
   ]
  },
  {
   "cell_type": "markdown",
   "metadata": {},
   "source": [
    "## Predicting labels from given actual test set"
   ]
  },
  {
   "cell_type": "code",
   "execution_count": 77,
   "metadata": {
    "execution": {
     "iopub.execute_input": "2023-08-01T20:04:22.006376Z",
     "iopub.status.busy": "2023-08-01T20:04:22.005974Z",
     "iopub.status.idle": "2023-08-01T20:04:22.036280Z",
     "shell.execute_reply": "2023-08-01T20:04:22.035069Z",
     "shell.execute_reply.started": "2023-08-01T20:04:22.006344Z"
    }
   },
   "outputs": [
    {
     "data": {
      "text/plain": [
       "array([  57.36224  ,   29.327324 ,   62.599915 ,   72.83173  ,\n",
       "         34.856796 ,   40.95604  ,    9.73728  ,   31.537954 ,\n",
       "         74.876976 ,   44.795288 ,   54.285965 ,   29.64429  ,\n",
       "         78.75027  ,   12.92718  ,   47.273605 ,   71.95453  ,\n",
       "        729.20074  ,   47.417347 ,   70.72803  ,   43.81611  ,\n",
       "         75.26672  ,   65.984    ,   23.826479 ,   37.86735  ,\n",
       "         40.761982 ,    8.499643 ,   63.460445 ,   22.057692 ,\n",
       "         21.041433 ,   35.733673 ,   83.39971  ,   44.544796 ,\n",
       "         35.64544  , 1210.2609   ,   32.811146 ,    9.339119 ,\n",
       "         44.6786   ,   43.69591  ,   49.79285  ,   60.01695  ,\n",
       "         75.33641  ,   49.914055 ,  178.53433  ,   69.94264  ,\n",
       "         78.369255 ,   75.5926   ,   77.15832  ,  346.09436  ,\n",
       "         70.87756  ,   49.232536 ,   57.374184 ,   71.73844  ,\n",
       "         38.035164 ,   70.923454 ,   40.43871  ,   67.030945 ,\n",
       "         39.097176 ,   45.429844 ,    7.184174 ,   66.08006  ,\n",
       "         75.22452  ,   38.829937 ,   71.062675 ,   65.63272  ,\n",
       "         46.22198  ,   36.791573 ,   42.568615 ,   29.21513  ,\n",
       "         37.696697 ,   65.77788  ,   78.51647  ,   45.395638 ,\n",
       "         31.537954 ,   50.429836 ,   73.04093  ,   12.61504  ,\n",
       "         44.660583 ,   69.86562  ,   29.942274 ,   48.81533  ,\n",
       "         62.88006  ,  543.90924  ,  168.53838  ,   46.140995 ,\n",
       "         46.250393 ,   66.11298  ,   38.123398 ,   40.837013 ,\n",
       "         47.331932 ,   33.98977  ,   71.22166  ,   45.07893  ,\n",
       "         39.413242 ,   68.92222  ,   15.3345995,   68.57541  ,\n",
       "        473.74918  ,   26.72913  ,   39.915474 ,   59.689476 ,\n",
       "         69.82691  ,   36.623337 ,   37.708942 ,   42.893875 ,\n",
       "         74.836    ,   75.371086 ,   46.926632 ,   74.90469  ,\n",
       "         71.83504  ,   76.998856 ,   40.543926 ,   66.505554 ,\n",
       "         26.13154  ,   31.646452 ,   75.86442  ,   44.034534 ,\n",
       "         42.49493  ,   22.121946 ,   26.623152 ,   63.670013 ,\n",
       "         26.671568 ,   70.41457  ,    9.015452 ,   74.0636   ,\n",
       "         38.44012  ,  106.64562  , 1932.4337   ,   49.467934 ,\n",
       "         63.115967 ,   40.058846 ,   45.741596 ,   23.826479 ,\n",
       "         48.209423 ,   48.537403 ,   40.880596 ,   75.36637  ,\n",
       "       1113.7533   ,   47.84311  ,   73.4309   ,   47.31079  ,\n",
       "         45.359512 ,   40.837135 ,   69.42108  ,   71.42413  ,\n",
       "         40.00344  ,   48.87706  ,   77.324394 ,   43.887524 ,\n",
       "         70.07804  ,   38.43176  ,   34.771423 ,   27.956253 ,\n",
       "         33.27974  ,   68.9866   ,   46.3916   ,   12.786648 ,\n",
       "         44.445904 ,   74.38945  ,   43.147167 ,   39.915474 ,\n",
       "         36.39033  ,   45.05567  ,   68.674644 ,   26.623152 ,\n",
       "         63.047287 ,   39.83287  ,   28.740974 ,   67.48504  ,\n",
       "         13.480479 ,   42.49311  ,   34.965397 ,   37.942535 ,\n",
       "        756.8566   ,   44.764763 ,   69.325485 ,   42.54574  ,\n",
       "         69.388016 ,   41.636414 ,   68.674644 ,   43.263153 ,\n",
       "         77.98408  ,   45.467445 ,   66.26228  ,   62.847218 ,\n",
       "         39.99691  ,   69.75471  ,   44.336586 ,   33.014965 ,\n",
       "         36.147766 ,   62.97216  ,   28.006268 ,   70.56781  ,\n",
       "         47.720757 ,   75.05788  ,   12.531011 ,   39.888203 ,\n",
       "         33.112858 ,   43.92938  ,   72.30852  ,   31.245132 ,\n",
       "         45.431747 ,    9.288459 ,   70.91776  ,   55.315083 ,\n",
       "         40.458504 ,   99.71725  ,   46.250492 ,    9.546768 ,\n",
       "         63.110897 ,   62.921787 ,   69.34687  ,   69.34923  ,\n",
       "         27.273952 ,   70.8698   ,   41.73582  ,   45.147556 ,\n",
       "         67.58075  ,   34.009716 ,   45.05567  ,   40.348827 ,\n",
       "        162.25052  ,   26.7154   ,   69.2611   ,   41.907707 ,\n",
       "         76.697945 ,   36.680336 ,   63.115967 ,   75.11995  ,\n",
       "         45.297947 ,   44.88992  ,    8.913021 ,   60.010468 ,\n",
       "         69.424965 ,   76.76228  ,   48.62722  ,   65.87347  ,\n",
       "         70.2179   ,   36.36224  , 1928.7837   ,   78.419525 ,\n",
       "         49.232536 ,  146.21288  ,   49.815857 ,   27.8036   ,\n",
       "         30.438684 ,  560.11395  ,   71.65995  ,   47.21476  ,\n",
       "         68.95514  ,   47.97788  ,   36.98655  ,   11.773837 ,\n",
       "         71.93038  ,   15.254886 , 1509.3986   ,   74.42579  ,\n",
       "         37.62087  ,   31.146582 ,   74.53219  ,   12.255722 ,\n",
       "         75.09422  ,   70.104195 ,   45.69113  ,   39.50069  ,\n",
       "         40.996273 ,   38.901638 ,   74.11691  ,   41.62517  ,\n",
       "         20.33897  ,   34.043842 ,   70.56781  ,   69.52196  ,\n",
       "         73.592186 ,   35.085712 ,   35.769978 ,   25.849834 ,\n",
       "         12.531011 ,   73.16497  ,   34.29552  ,   66.58566  ,\n",
       "         45.97034  ,   41.863567 ,   46.23007  ,   71.47114  ,\n",
       "          8.953183 ,   45.431747 ,   70.06732  ,   44.504894 ,\n",
       "         43.000675 ,   49.561996 ,   45.87433  ,   38.16529  ,\n",
       "         34.41211  ,  124.786705 ,  204.51878  ,   43.666183 ,\n",
       "          9.379281 ,   68.00395  ,   62.664375 ,   37.417595 ,\n",
       "         41.787334 ,   46.767635 ,   69.50401  ,   26.7154   ,\n",
       "         45.87433  ,   34.291775 ,  943.4053   ,   57.951313 ,\n",
       "         71.773384 ,   67.73802  ,   72.37952  ,   43.81611  ,\n",
       "         29.21513  ,   43.82445  ,   28.076437 ,   45.35314  ,\n",
       "         73.68107  ,   40.246235 ,   14.790969 ,   47.273605 ,\n",
       "         66.09481  ,   96.094795 ,   45.08761  ,   46.77995  ,\n",
       "         13.549163 ,   35.72096  ,   44.162384 ,   75.90643  ,\n",
       "         63.031467 ,   14.480237 ,   40.36717  ,   13.357097 ,\n",
       "         38.890102 ,   67.84827  ,   75.50188  ,   42.455803 ,\n",
       "         33.625732 ,   65.995926 ,   86.88328  ,    9.546768 ,\n",
       "         46.23007  ,   44.41299  ,   38.52217  ,   10.033542 ,\n",
       "         40.478893 ,   47.33924  ,   51.27207  ,   38.16529  ,\n",
       "         68.52242  ,  104.35942  ,   44.936474 ,   60.007557 ,\n",
       "         34.734695 ,   42.661774 ,   26.378544 ,   41.81281  ,\n",
       "         29.639585 ,   74.83947  ,   48.756714 ,   45.511276 ,\n",
       "         39.036106 ,   46.787582 ,   31.383102 ,   69.19173  ,\n",
       "         47.116528 ,   34.46145  ,   34.614056 ,  294.32346  ,\n",
       "         62.812313 ,  104.5931   ,   46.3916   ,   38.123398 ,\n",
       "         74.68146  ,   67.81465  , 1453.9222   ,   78.94441  ,\n",
       "         67.35103  ,   73.44491  ,   72.12088  ,   44.292366 ,\n",
       "         44.227207 ,   34.90983  ,   66.335625 ,   72.68088  ,\n",
       "         13.412206 ,   44.963604 ,   42.148426 ,   68.95514  ,\n",
       "         30.225512 ,   70.385124 ,   75.24997  ,   35.628605 ,\n",
       "         31.95786  ,   77.60686  ,   45.815727 ,   31.291548 ,\n",
       "         42.651398 ,   65.89034  ,   69.938156 ,   46.460815 ,\n",
       "         46.77995  ,   14.8604   ,   37.4905   ,   74.38945  ,\n",
       "         46.787136 ,   28.38434  ,   60.027702 ,   29.893799 ,\n",
       "         41.98243  ,   43.38096  ,   13.412206 ,   44.83072  ,\n",
       "         77.52486  ,   74.0636   ,   26.378544 ,   45.218983 ,\n",
       "         66.27344  ,   43.948044 ,   32.912125 ,   74.27629  ,\n",
       "         50.169235 ,   79.749054 ,   26.471657 ,   79.0289   ,\n",
       "         69.75471  ,   63.12638  ,   22.121946 ,   37.62087  ,\n",
       "         35.503    ,   74.33367  ,   77.36888  ,  306.91132  ,\n",
       "         30.34068  ,   67.38613  ,   44.660583 ,   74.84189  ,\n",
       "         29.639585 ,   63.0181   ,   24.522402 ,   66.62339  ,\n",
       "         63.010033 ,   46.64437  ,   62.927315 ,   70.47889  ,\n",
       "         31.905907 ,   48.566402 ,   70.82999  ,    8.499643 ,\n",
       "         36.791573 ,   28.53969  ,   60.053856 ,   48.473778 ,\n",
       "         43.263153 ,   88.10145  ,   71.38203  ,   44.545296 ,\n",
       "         39.915474 ,   29.052105 ,   29.845686 ,   70.91776  ,\n",
       "         75.98595  ,   30.00791  ,   44.218475 ,   39.238865 ,\n",
       "        464.88596  ,   12.61504  ,   34.55437  ,   49.85145  ,\n",
       "         43.04429  ,  291.15054  ,   46.51829  ,   65.932556 ,\n",
       "         32.886406 ,   71.90073  ,   78.81049  ,   74.490234 ,\n",
       "         27.442303 ,   66.04814  ,  143.88982  ,   11.867094 ,\n",
       "         44.162384 ,   49.914055 ,   41.104782 ,   73.64808  ,\n",
       "         46.19146  ,   76.58687  ,   26.471657 ,   31.854305 ,\n",
       "         47.778587 ,   68.40372  ,   49.79285  ,   59.97859  ,\n",
       "         38.52217  ,   35.83778  ,   34.043842 ,   39.08657  ,\n",
       "         31.44613  ,   46.64437  ,   45.651676 ,   41.7798   ,\n",
       "         40.64196  ,   28.97412  ,   32.31006  ,   49.467934 ,\n",
       "         30.25749  ,   45.243984 ,   48.28702  ,   53.48994  ,\n",
       "         49.048313 ,   46.162785 ,   48.62722  ,   15.458043 ,\n",
       "         31.817297 ,   57.374184 ,   45.53686  ,   43.405735 ,\n",
       "         30.00791  ,   26.671568 ,   74.71707  ,   78.60143  ,\n",
       "         71.88069  ,    8.6746   ,   65.92176  ,   35.822884 ,\n",
       "        929.0189   ,   26.13154  ,   29.03356  ,   75.61054  ,\n",
       "         40.996315 ,   29.893799 ,  283.4848   ,   35.939156 ,\n",
       "         44.02366  ,   70.949615 ,   75.17667  ,   42.530476 ,\n",
       "         69.50401  ,   38.775665 ,   69.388016 ,   77.77711  ,\n",
       "         39.036106 ,   74.30757  ,   38.829937 ,  148.83713  ,\n",
       "         41.058918 ,   43.04429  ,   53.048527 ,   60.274513 ,\n",
       "         43.69591  ,   44.642574 ,   37.708942 ,   73.6826   ,\n",
       "        906.06635  ,   40.52959  ,   43.675602 ,   12.531011 ,\n",
       "         40.418533 ,  489.37924  ,   63.063896 ,   45.07893  ,\n",
       "         37.042652 ,   75.394165 ,   13.640071 ,   41.99712  ,\n",
       "         43.98784  ,   78.340485 ,   59.960087 ,   36.58633  ,\n",
       "         45.168015 ,   41.81903  ,   65.89218  ,   35.939156 ,\n",
       "         37.417595 ,  136.37085  ,   69.20061  ,   71.75102  ,\n",
       "         36.64056  ,   69.77776  ,   72.475685 ,   65.97073  ,\n",
       "         47.251686 ,   75.523026 ,   67.73802  ,   37.4609   ,\n",
       "         71.295135 ,   44.545296 ,   34.009716 ,   71.12948  ,\n",
       "         28.622417 ,   73.93921  ,   70.91892  ,   37.305054 ,\n",
       "        182.06859  ,   77.81667  ,   79.28149  ,   33.84938  ,\n",
       "         74.17419  ,   43.24131  ,   78.296    ,   35.88284  ,\n",
       "         73.04093  ,   46.28158  ,   44.189907 ,   34.936947 ,\n",
       "         77.22918  ,   74.41337  ,   40.5076   ,   43.56332  ,\n",
       "         40.583942 ,   37.246906 ,   38.123398 ,    4.930721 ,\n",
       "        829.41254  ,   36.326187 ,   65.99707  ,   47.14494  ,\n",
       "          9.841005 ,   40.880596 ,   71.65995  ,   45.950756 ,\n",
       "         34.484653 ,   39.45025  ,   13.899287 ,   42.449154 ,\n",
       "         31.537954 ,   71.54467  ,   43.82445  ,   34.41211  ,\n",
       "         52.759182 ,   29.172144 ,   15.217994 ,   40.95579  ,\n",
       "        652.1402   ,   72.27102  , 1319.8342   ,   45.345173 ,\n",
       "         38.29963  ,   63.832882 ,   39.66226  ,   62.971947 ,\n",
       "         40.324635 , 1196.3408   ,   45.413353 ,   73.91509  ,\n",
       "         28.095686 ,   44.642574 ,   60.22991  ,   28.174347 ,\n",
       "         26.510342 ,   40.90046  ,   34.64625  ,   79.19965  ,\n",
       "         26.696695 ,   72.678314 ,   62.96324  ,   69.61739  ,\n",
       "         34.95608  ,   59.885475 ,   44.467976 ,   70.37266  ,\n",
       "         34.733707 ,   74.42579  ,   31.36479  ,   48.720814 ,\n",
       "         34.771423 ,   38.54062  ,   46.7502   ,   40.00344  ,\n",
       "         39.135883 ,   41.70144  ,   41.861343 ,   39.141155 ,\n",
       "         42.944855 ,  989.8846   ,   68.97705  ,   41.926582 ,\n",
       "         46.601734 ,   75.08784  ,   31.245132 ,   67.81465  ,\n",
       "         53.39282  ,   48.108406 ,   67.26807  ,    9.555232 ,\n",
       "         32.72607  ,   36.13121  ,   80.19145  ,   62.95283  ,\n",
       "         43.90321  ,   25.456457 ,   36.73567  ,   73.39918  ,\n",
       "        133.60042  ,   65.89918  ,   37.801533 ,   41.169975 ,\n",
       "         78.68703  ,   31.660957 ,   65.909615 ,   31.706661 ,\n",
       "         63.000793 ,   37.461212 ,   40.781315 ,   67.37207  ,\n",
       "         39.25218  ,   31.871777 ,   57.930218 ,   65.77788  ,\n",
       "         38.890102 ,   77.34309  ,   34.16728  ,   77.324394 ,\n",
       "        583.2382   ,   33.27974  ,   72.482414 ,   66.39318  ,\n",
       "         71.341835 ,   74.33367  ,  566.6291   ,   68.26417  ,\n",
       "         63.004974 ,   76.544334 ,   36.042034 ,  819.2817   ,\n",
       "         72.466576 ,   28.756237 ,   48.473778 ,   66.11298  ,\n",
       "         40.00344  ,   40.731457 ,   28.232143 ,   33.23251  ,\n",
       "         30.054462 ,   55.190086 ,   71.51323  ,   40.67191  ,\n",
       "         40.86133  ,   43.666183 ,   45.80053  ,   46.832874 ,\n",
       "         47.786556 ,   59.998665 ,   44.234486 ,   45.08761  ,\n",
       "         15.217994 ,   12.208108 ,   43.575184 ,   44.800194 ,\n",
       "         26.667196 ,   69.2611   ,   46.86912  ,   38.093258 ,\n",
       "         68.24041  ,   63.115967 ,   44.963604 ,   74.938866 ,\n",
       "         75.744675 ,   37.540966 ,   40.583942 ,   75.64571  ,\n",
       "         28.694815 ,   46.717922 ,   62.970936 ,   14.035995 ,\n",
       "         43.82445  ,   12.236663 ,   41.7178   ,   36.795982 ,\n",
       "         78.85873  ,   68.57541  ,    7.184174 ,   76.58687  ,\n",
       "         43.000675 ,   70.93163  ,   59.581554 ,   24.836597 ,\n",
       "         73.8223   ,   31.440918 ,   63.068874 ,   74.97824  ,\n",
       "         57.324436 ,   49.681698 ,  398.4246   ,   68.06727  ,\n",
       "          8.499643 ,   70.87756  ,   30.699389 ,    9.015452 ,\n",
       "         49.549374 ,   70.69195  ,   48.98917  ,   14.790969 ,\n",
       "         59.930145 ,   39.954517 ,   68.76643  ,   42.40429  ,\n",
       "         44.35228  , 1702.4225   ,   38.245045 ,   35.628605 ,\n",
       "         66.048256 , 1201.6979   ], dtype=float32)"
      ]
     },
     "execution_count": 77,
     "metadata": {},
     "output_type": "execute_result"
    }
   ],
   "source": [
    "y_pred = best_model.predict(test_obj.X_test)\n",
    "y_pred"
   ]
  },
  {
   "cell_type": "markdown",
   "metadata": {},
   "source": [
    "## Merging predicted cost in test set"
   ]
  },
  {
   "cell_type": "code",
   "execution_count": 78,
   "metadata": {
    "execution": {
     "iopub.execute_input": "2023-08-01T20:04:28.563473Z",
     "iopub.status.busy": "2023-08-01T20:04:28.563007Z",
     "iopub.status.idle": "2023-08-01T20:04:28.572826Z",
     "shell.execute_reply": "2023-08-01T20:04:28.571903Z",
     "shell.execute_reply.started": "2023-08-01T20:04:28.563429Z"
    }
   },
   "outputs": [
    {
     "data": {
      "text/plain": [
       "0        57.362240\n",
       "1        29.327324\n",
       "2        62.599915\n",
       "3        72.831734\n",
       "4        34.856796\n",
       "          ...     \n",
       "797    1702.422485\n",
       "798      38.245045\n",
       "799      35.628605\n",
       "800      66.048256\n",
       "801    1201.697876\n",
       "Name: cost, Length: 802, dtype: float32"
      ]
     },
     "execution_count": 78,
     "metadata": {},
     "output_type": "execute_result"
    }
   ],
   "source": [
    "test['cost'] = y_pred\n",
    "test['cost']"
   ]
  },
  {
   "cell_type": "code",
   "execution_count": 80,
   "metadata": {
    "execution": {
     "iopub.execute_input": "2023-08-01T20:04:42.920277Z",
     "iopub.status.busy": "2023-08-01T20:04:42.919872Z",
     "iopub.status.idle": "2023-08-01T20:04:42.934313Z",
     "shell.execute_reply": "2023-08-01T20:04:42.933042Z",
     "shell.execute_reply.started": "2023-08-01T20:04:42.920247Z"
    }
   },
   "outputs": [
    {
     "data": {
      "text/html": [
       "<div>\n",
       "<style scoped>\n",
       "    .dataframe tbody tr th:only-of-type {\n",
       "        vertical-align: middle;\n",
       "    }\n",
       "\n",
       "    .dataframe tbody tr th {\n",
       "        vertical-align: top;\n",
       "    }\n",
       "\n",
       "    .dataframe thead th {\n",
       "        text-align: right;\n",
       "    }\n",
       "</style>\n",
       "<table border=\"1\" class=\"dataframe\">\n",
       "  <thead>\n",
       "    <tr style=\"text-align: right;\">\n",
       "      <th></th>\n",
       "      <th>trip</th>\n",
       "      <th>cost</th>\n",
       "    </tr>\n",
       "  </thead>\n",
       "  <tbody>\n",
       "    <tr>\n",
       "      <th>0</th>\n",
       "      <td>t333282728025</td>\n",
       "      <td>57.362240</td>\n",
       "    </tr>\n",
       "    <tr>\n",
       "      <th>1</th>\n",
       "      <td>t35583500660</td>\n",
       "      <td>29.327324</td>\n",
       "    </tr>\n",
       "    <tr>\n",
       "      <th>2</th>\n",
       "      <td>t117664376784</td>\n",
       "      <td>62.599915</td>\n",
       "    </tr>\n",
       "    <tr>\n",
       "      <th>3</th>\n",
       "      <td>t261320757828</td>\n",
       "      <td>72.831734</td>\n",
       "    </tr>\n",
       "    <tr>\n",
       "      <th>4</th>\n",
       "      <td>t147086054909</td>\n",
       "      <td>34.856796</td>\n",
       "    </tr>\n",
       "    <tr>\n",
       "      <th>...</th>\n",
       "      <td>...</td>\n",
       "      <td>...</td>\n",
       "    </tr>\n",
       "    <tr>\n",
       "      <th>797</th>\n",
       "      <td>t353400176448</td>\n",
       "      <td>1702.422485</td>\n",
       "    </tr>\n",
       "    <tr>\n",
       "      <th>798</th>\n",
       "      <td>t112945848426</td>\n",
       "      <td>38.245045</td>\n",
       "    </tr>\n",
       "    <tr>\n",
       "      <th>799</th>\n",
       "      <td>t53097944970</td>\n",
       "      <td>35.628605</td>\n",
       "    </tr>\n",
       "    <tr>\n",
       "      <th>800</th>\n",
       "      <td>t127986960246</td>\n",
       "      <td>66.048256</td>\n",
       "    </tr>\n",
       "    <tr>\n",
       "      <th>801</th>\n",
       "      <td>t85177360000</td>\n",
       "      <td>1201.697876</td>\n",
       "    </tr>\n",
       "  </tbody>\n",
       "</table>\n",
       "<p>802 rows × 2 columns</p>\n",
       "</div>"
      ],
      "text/plain": [
       "              trip         cost\n",
       "0    t333282728025    57.362240\n",
       "1     t35583500660    29.327324\n",
       "2    t117664376784    62.599915\n",
       "3    t261320757828    72.831734\n",
       "4    t147086054909    34.856796\n",
       "..             ...          ...\n",
       "797  t353400176448  1702.422485\n",
       "798  t112945848426    38.245045\n",
       "799   t53097944970    35.628605\n",
       "800  t127986960246    66.048256\n",
       "801   t85177360000  1201.697876\n",
       "\n",
       "[802 rows x 2 columns]"
      ]
     },
     "execution_count": 80,
     "metadata": {},
     "output_type": "execute_result"
    }
   ],
   "source": [
    "submit = test[['trip','cost']]\n",
    "submit"
   ]
  },
  {
   "cell_type": "markdown",
   "metadata": {},
   "source": [
    "## Generating a submission file "
   ]
  },
  {
   "cell_type": "code",
   "execution_count": 82,
   "metadata": {
    "execution": {
     "iopub.execute_input": "2023-08-01T20:04:47.417968Z",
     "iopub.status.busy": "2023-08-01T20:04:47.417531Z",
     "iopub.status.idle": "2023-08-01T20:04:47.428279Z",
     "shell.execute_reply": "2023-08-01T20:04:47.427127Z",
     "shell.execute_reply.started": "2023-08-01T20:04:47.417934Z"
    }
   },
   "outputs": [],
   "source": [
    "csv_filename = 'submission.csv'\n",
    "submit.to_csv(csv_filename, index = False)"
   ]
  },
  {
   "cell_type": "markdown",
   "metadata": {},
   "source": [
    "### We Submitted the following file in Kaggle and got RMSE Score of 0.79356"
   ]
  }
 ],
 "metadata": {
  "kernelspec": {
   "display_name": "Python 3 (ipykernel)",
   "language": "python",
   "name": "python3"
  },
  "language_info": {
   "codemirror_mode": {
    "name": "ipython",
    "version": 3
   },
   "file_extension": ".py",
   "mimetype": "text/x-python",
   "name": "python",
   "nbconvert_exporter": "python",
   "pygments_lexer": "ipython3",
   "version": "3.10.5"
  }
 },
 "nbformat": 4,
 "nbformat_minor": 4
}
