{
 "cells": [
  {
   "cell_type": "markdown",
   "metadata": {
    "id": "6HaPwVUfZJNW"
   },
   "source": [
    "## 1. Import libraries"
   ]
  },
  {
   "cell_type": "code",
   "execution_count": null,
   "metadata": {
    "_cell_guid": "b1076dfc-b9ad-4769-8c92-a6c4dae69d19",
    "_uuid": "8f2839f25d086af736a60e9eeb907d3b93b6e0e5",
    "id": "S3QdZv4UZJNZ"
   },
   "outputs": [],
   "source": [
    "import os\n",
    "import tarfile\n",
    "from six.moves import urllib\n",
    "\n",
    "DOWNLOAD_ROOT = \"https://raw.githubusercontent.com/ageron/handson-ml/master/\"\n",
    "HOUSING_PATH = os.path.join(\"datasets\", \"housing\")\n",
    "HOUSING_URL = DOWNLOAD_ROOT + \"datasets/housing/housing.tgz\"\n",
    "\n",
    "def fetch_housing_data(housing_url=HOUSING_URL, housing_path=HOUSING_PATH):\n",
    "    if not os.path.isdir(housing_path):\n",
    "        os.makedirs(housing_path)\n",
    "    tgz_path = os.path.join(housing_path, \"housing.tgz\")\n",
    "    urllib.request.urlretrieve(housing_url, tgz_path)\n",
    "    housing_tgz = tarfile.open(tgz_path)\n",
    "    housing_tgz.extractall(path=housing_path)\n",
    "    housing_tgz.close()"
   ]
  },
  {
   "cell_type": "code",
   "execution_count": null,
   "metadata": {
    "id": "D-Y_E3HvZVYJ"
   },
   "outputs": [],
   "source": [
    "fetch_housing_data()"
   ]
  },
  {
   "cell_type": "code",
   "execution_count": null,
   "metadata": {
    "id": "LeRdT-gTZaPh"
   },
   "outputs": [],
   "source": [
    "import pandas as pd\n",
    "\n",
    "def load_housing_data(housing_path=HOUSING_PATH):\n",
    "    csv_path = os.path.join(housing_path, \"housing.csv\")\n",
    "    return pd.read_csv(csv_path)"
   ]
  },
  {
   "cell_type": "code",
   "execution_count": null,
   "metadata": {
    "id": "SLj7oqgNZJNc"
   },
   "outputs": [],
   "source": [
    "# Importing tensorflow and keras\n",
    "import tensorflow as tf\n",
    "from tensorflow import keras\n",
    "from tensorflow.keras import Sequential\n",
    "from tensorflow.keras.layers import Flatten, Dense, Softmax\n",
    "from tensorflow.keras import optimizers"
   ]
  },
  {
   "cell_type": "code",
   "execution_count": null,
   "metadata": {
    "colab": {
     "base_uri": "https://localhost:8080/"
    },
    "id": "tVGYABPaZJNd",
    "outputId": "52d069ae-0af8-4b53-fb8c-848163cfe36e"
   },
   "outputs": [
    {
     "name": "stdout",
     "output_type": "stream",
     "text": [
      "2.12.0\n"
     ]
    }
   ],
   "source": [
    "# Checking the tensorflow libraries  \n",
    "print(tf.__version__)\n"
   ]
  },
  {
   "cell_type": "markdown",
   "metadata": {
    "id": "jJXd52lAZJNd"
   },
   "source": [
    "# 2. Data exploration"
   ]
  },
  {
   "cell_type": "code",
   "execution_count": null,
   "metadata": {
    "id": "v1OD1sDNZJNe"
   },
   "outputs": [],
   "source": [
    "#Loading the dataset\n",
    "\n",
    "housing_df = load_housing_data()"
   ]
  },
  {
   "cell_type": "code",
   "execution_count": null,
   "metadata": {
    "colab": {
     "base_uri": "https://localhost:8080/"
    },
    "id": "TcolnmpVZJNe",
    "outputId": "b3524037-8c2f-425b-dfe2-12fb64749b8f"
   },
   "outputs": [
    {
     "data": {
      "text/plain": [
       "(20640, 10)"
      ]
     },
     "execution_count": 209,
     "metadata": {},
     "output_type": "execute_result"
    }
   ],
   "source": [
    "housing_df.shape"
   ]
  },
  {
   "cell_type": "code",
   "execution_count": null,
   "metadata": {
    "colab": {
     "base_uri": "https://localhost:8080/",
     "height": 206
    },
    "id": "Gb_hoqgRZJNf",
    "outputId": "620c5ba0-32a6-4d35-adb1-510d3e489964"
   },
   "outputs": [
    {
     "data": {
      "text/html": [
       "\n",
       "  <div id=\"df-7deda2e6-3fde-4f9a-bee1-ba7f4fe7ee8a\">\n",
       "    <div class=\"colab-df-container\">\n",
       "      <div>\n",
       "<style scoped>\n",
       "    .dataframe tbody tr th:only-of-type {\n",
       "        vertical-align: middle;\n",
       "    }\n",
       "\n",
       "    .dataframe tbody tr th {\n",
       "        vertical-align: top;\n",
       "    }\n",
       "\n",
       "    .dataframe thead th {\n",
       "        text-align: right;\n",
       "    }\n",
       "</style>\n",
       "<table border=\"1\" class=\"dataframe\">\n",
       "  <thead>\n",
       "    <tr style=\"text-align: right;\">\n",
       "      <th></th>\n",
       "      <th>longitude</th>\n",
       "      <th>latitude</th>\n",
       "      <th>housing_median_age</th>\n",
       "      <th>total_rooms</th>\n",
       "      <th>total_bedrooms</th>\n",
       "      <th>population</th>\n",
       "      <th>households</th>\n",
       "      <th>median_income</th>\n",
       "      <th>median_house_value</th>\n",
       "      <th>ocean_proximity</th>\n",
       "    </tr>\n",
       "  </thead>\n",
       "  <tbody>\n",
       "    <tr>\n",
       "      <th>0</th>\n",
       "      <td>-122.23</td>\n",
       "      <td>37.88</td>\n",
       "      <td>41.0</td>\n",
       "      <td>880.0</td>\n",
       "      <td>129.0</td>\n",
       "      <td>322.0</td>\n",
       "      <td>126.0</td>\n",
       "      <td>8.3252</td>\n",
       "      <td>452600.0</td>\n",
       "      <td>NEAR BAY</td>\n",
       "    </tr>\n",
       "    <tr>\n",
       "      <th>1</th>\n",
       "      <td>-122.22</td>\n",
       "      <td>37.86</td>\n",
       "      <td>21.0</td>\n",
       "      <td>7099.0</td>\n",
       "      <td>1106.0</td>\n",
       "      <td>2401.0</td>\n",
       "      <td>1138.0</td>\n",
       "      <td>8.3014</td>\n",
       "      <td>358500.0</td>\n",
       "      <td>NEAR BAY</td>\n",
       "    </tr>\n",
       "    <tr>\n",
       "      <th>2</th>\n",
       "      <td>-122.24</td>\n",
       "      <td>37.85</td>\n",
       "      <td>52.0</td>\n",
       "      <td>1467.0</td>\n",
       "      <td>190.0</td>\n",
       "      <td>496.0</td>\n",
       "      <td>177.0</td>\n",
       "      <td>7.2574</td>\n",
       "      <td>352100.0</td>\n",
       "      <td>NEAR BAY</td>\n",
       "    </tr>\n",
       "    <tr>\n",
       "      <th>3</th>\n",
       "      <td>-122.25</td>\n",
       "      <td>37.85</td>\n",
       "      <td>52.0</td>\n",
       "      <td>1274.0</td>\n",
       "      <td>235.0</td>\n",
       "      <td>558.0</td>\n",
       "      <td>219.0</td>\n",
       "      <td>5.6431</td>\n",
       "      <td>341300.0</td>\n",
       "      <td>NEAR BAY</td>\n",
       "    </tr>\n",
       "    <tr>\n",
       "      <th>4</th>\n",
       "      <td>-122.25</td>\n",
       "      <td>37.85</td>\n",
       "      <td>52.0</td>\n",
       "      <td>1627.0</td>\n",
       "      <td>280.0</td>\n",
       "      <td>565.0</td>\n",
       "      <td>259.0</td>\n",
       "      <td>3.8462</td>\n",
       "      <td>342200.0</td>\n",
       "      <td>NEAR BAY</td>\n",
       "    </tr>\n",
       "  </tbody>\n",
       "</table>\n",
       "</div>\n",
       "      <button class=\"colab-df-convert\" onclick=\"convertToInteractive('df-7deda2e6-3fde-4f9a-bee1-ba7f4fe7ee8a')\"\n",
       "              title=\"Convert this dataframe to an interactive table.\"\n",
       "              style=\"display:none;\">\n",
       "        \n",
       "  <svg xmlns=\"http://www.w3.org/2000/svg\" height=\"24px\"viewBox=\"0 0 24 24\"\n",
       "       width=\"24px\">\n",
       "    <path d=\"M0 0h24v24H0V0z\" fill=\"none\"/>\n",
       "    <path d=\"M18.56 5.44l.94 2.06.94-2.06 2.06-.94-2.06-.94-.94-2.06-.94 2.06-2.06.94zm-11 1L8.5 8.5l.94-2.06 2.06-.94-2.06-.94L8.5 2.5l-.94 2.06-2.06.94zm10 10l.94 2.06.94-2.06 2.06-.94-2.06-.94-.94-2.06-.94 2.06-2.06.94z\"/><path d=\"M17.41 7.96l-1.37-1.37c-.4-.4-.92-.59-1.43-.59-.52 0-1.04.2-1.43.59L10.3 9.45l-7.72 7.72c-.78.78-.78 2.05 0 2.83L4 21.41c.39.39.9.59 1.41.59.51 0 1.02-.2 1.41-.59l7.78-7.78 2.81-2.81c.8-.78.8-2.07 0-2.86zM5.41 20L4 18.59l7.72-7.72 1.47 1.35L5.41 20z\"/>\n",
       "  </svg>\n",
       "      </button>\n",
       "      \n",
       "  <style>\n",
       "    .colab-df-container {\n",
       "      display:flex;\n",
       "      flex-wrap:wrap;\n",
       "      gap: 12px;\n",
       "    }\n",
       "\n",
       "    .colab-df-convert {\n",
       "      background-color: #E8F0FE;\n",
       "      border: none;\n",
       "      border-radius: 50%;\n",
       "      cursor: pointer;\n",
       "      display: none;\n",
       "      fill: #1967D2;\n",
       "      height: 32px;\n",
       "      padding: 0 0 0 0;\n",
       "      width: 32px;\n",
       "    }\n",
       "\n",
       "    .colab-df-convert:hover {\n",
       "      background-color: #E2EBFA;\n",
       "      box-shadow: 0px 1px 2px rgba(60, 64, 67, 0.3), 0px 1px 3px 1px rgba(60, 64, 67, 0.15);\n",
       "      fill: #174EA6;\n",
       "    }\n",
       "\n",
       "    [theme=dark] .colab-df-convert {\n",
       "      background-color: #3B4455;\n",
       "      fill: #D2E3FC;\n",
       "    }\n",
       "\n",
       "    [theme=dark] .colab-df-convert:hover {\n",
       "      background-color: #434B5C;\n",
       "      box-shadow: 0px 1px 3px 1px rgba(0, 0, 0, 0.15);\n",
       "      filter: drop-shadow(0px 1px 2px rgba(0, 0, 0, 0.3));\n",
       "      fill: #FFFFFF;\n",
       "    }\n",
       "  </style>\n",
       "\n",
       "      <script>\n",
       "        const buttonEl =\n",
       "          document.querySelector('#df-7deda2e6-3fde-4f9a-bee1-ba7f4fe7ee8a button.colab-df-convert');\n",
       "        buttonEl.style.display =\n",
       "          google.colab.kernel.accessAllowed ? 'block' : 'none';\n",
       "\n",
       "        async function convertToInteractive(key) {\n",
       "          const element = document.querySelector('#df-7deda2e6-3fde-4f9a-bee1-ba7f4fe7ee8a');\n",
       "          const dataTable =\n",
       "            await google.colab.kernel.invokeFunction('convertToInteractive',\n",
       "                                                     [key], {});\n",
       "          if (!dataTable) return;\n",
       "\n",
       "          const docLinkHtml = 'Like what you see? Visit the ' +\n",
       "            '<a target=\"_blank\" href=https://colab.research.google.com/notebooks/data_table.ipynb>data table notebook</a>'\n",
       "            + ' to learn more about interactive tables.';\n",
       "          element.innerHTML = '';\n",
       "          dataTable['output_type'] = 'display_data';\n",
       "          await google.colab.output.renderOutput(dataTable, element);\n",
       "          const docLink = document.createElement('div');\n",
       "          docLink.innerHTML = docLinkHtml;\n",
       "          element.appendChild(docLink);\n",
       "        }\n",
       "      </script>\n",
       "    </div>\n",
       "  </div>\n",
       "  "
      ],
      "text/plain": [
       "   longitude  latitude  housing_median_age  total_rooms  total_bedrooms  \\\n",
       "0    -122.23     37.88                41.0        880.0           129.0   \n",
       "1    -122.22     37.86                21.0       7099.0          1106.0   \n",
       "2    -122.24     37.85                52.0       1467.0           190.0   \n",
       "3    -122.25     37.85                52.0       1274.0           235.0   \n",
       "4    -122.25     37.85                52.0       1627.0           280.0   \n",
       "\n",
       "   population  households  median_income  median_house_value ocean_proximity  \n",
       "0       322.0       126.0         8.3252            452600.0        NEAR BAY  \n",
       "1      2401.0      1138.0         8.3014            358500.0        NEAR BAY  \n",
       "2       496.0       177.0         7.2574            352100.0        NEAR BAY  \n",
       "3       558.0       219.0         5.6431            341300.0        NEAR BAY  \n",
       "4       565.0       259.0         3.8462            342200.0        NEAR BAY  "
      ]
     },
     "execution_count": 210,
     "metadata": {},
     "output_type": "execute_result"
    }
   ],
   "source": [
    "# Displaying the data \n",
    "\n",
    "housing_df.head()"
   ]
  },
  {
   "cell_type": "code",
   "execution_count": null,
   "metadata": {
    "colab": {
     "base_uri": "https://localhost:8080/"
    },
    "id": "BGOvDuuNZJNg",
    "outputId": "dd96a274-75d7-4fca-a289-57eed0429b41"
   },
   "outputs": [
    {
     "data": {
      "text/plain": [
       "longitude             False\n",
       "latitude              False\n",
       "housing_median_age    False\n",
       "total_rooms           False\n",
       "total_bedrooms         True\n",
       "population            False\n",
       "households            False\n",
       "median_income         False\n",
       "median_house_value    False\n",
       "ocean_proximity       False\n",
       "dtype: bool"
      ]
     },
     "execution_count": 211,
     "metadata": {},
     "output_type": "execute_result"
    }
   ],
   "source": [
    "# Checking for the null values \n",
    "\n",
    "housing_df.isna().any()"
   ]
  },
  {
   "cell_type": "code",
   "execution_count": null,
   "metadata": {
    "colab": {
     "base_uri": "https://localhost:8080/"
    },
    "id": "LAfLKdwEZJNg",
    "outputId": "4f08d587-e9ff-4fd4-83d5-697ca42974a8"
   },
   "outputs": [
    {
     "data": {
      "text/plain": [
       "longitude               0\n",
       "latitude                0\n",
       "housing_median_age      0\n",
       "total_rooms             0\n",
       "total_bedrooms        207\n",
       "population              0\n",
       "households              0\n",
       "median_income           0\n",
       "median_house_value      0\n",
       "ocean_proximity         0\n",
       "dtype: int64"
      ]
     },
     "execution_count": 212,
     "metadata": {},
     "output_type": "execute_result"
    }
   ],
   "source": [
    "#Count of the null values in each columns\n",
    "\n",
    "housing_df.isna().sum()"
   ]
  },
  {
   "cell_type": "code",
   "execution_count": null,
   "metadata": {
    "id": "dlS_j-AfZxfX"
   },
   "outputs": [],
   "source": [
    "#FIX Categories\n",
    "d = {'<1H OCEAN':'LESS_1H_OCEAN', 'INLAND':'INLAND', 'ISLAND':'ISLAND', 'NEAR BAY':'NEAR_BAY', 'NEAR OCEAN':'NEAR_OCEAN'}\n",
    "housing_df['ocean_proximity'] = housing_df['ocean_proximity'].map(lambda s: d[s])"
   ]
  },
  {
   "cell_type": "code",
   "execution_count": null,
   "metadata": {
    "id": "VLXjQw_PZ7gn"
   },
   "outputs": [],
   "source": [
    "#add New Variables\n",
    "housing_df[\"rooms_per_household\"] = housing_df[\"total_rooms\"]/housing_df[\"households\"]\n",
    "housing_df[\"population_per_household\"]=housing_df[\"population\"]/housing_df[\"households\"]"
   ]
  },
  {
   "cell_type": "code",
   "execution_count": null,
   "metadata": {
    "id": "UAhPdUO8ZJNh"
   },
   "outputs": [],
   "source": [
    "#fix missing data\n",
    "median = housing_df[\"total_bedrooms\"].median()\n",
    "housing_df[\"total_bedrooms\"].fillna(median, inplace=True) "
   ]
  },
  {
   "cell_type": "code",
   "execution_count": null,
   "metadata": {
    "id": "DvuJTX3CZJNh"
   },
   "outputs": [],
   "source": [
    "one_hot = pd.get_dummies(housing_df['ocean_proximity'])\n",
    "housing_df = housing_df.drop('ocean_proximity', axis=1)\n",
    "housing_df = housing_df.join(one_hot)"
   ]
  },
  {
   "cell_type": "code",
   "execution_count": null,
   "metadata": {
    "colab": {
     "base_uri": "https://localhost:8080/"
    },
    "id": "OFU7E1-pZJNi",
    "outputId": "f44fe0c5-b8f5-42ac-f8ae-3068debdcc75"
   },
   "outputs": [
    {
     "data": {
      "text/plain": [
       "(20640, 16)"
      ]
     },
     "execution_count": 217,
     "metadata": {},
     "output_type": "execute_result"
    }
   ],
   "source": [
    "housing_df.shape"
   ]
  },
  {
   "cell_type": "code",
   "execution_count": null,
   "metadata": {
    "colab": {
     "base_uri": "https://localhost:8080/"
    },
    "id": "hon3CmHwacmQ",
    "outputId": "34a0e5df-9fae-42fd-c43f-ef3a176d5050"
   },
   "outputs": [
    {
     "name": "stdout",
     "output_type": "stream",
     "text": [
      "<class 'pandas.core.frame.DataFrame'>\n",
      "RangeIndex: 20640 entries, 0 to 20639\n",
      "Data columns (total 16 columns):\n",
      " #   Column                    Non-Null Count  Dtype  \n",
      "---  ------                    --------------  -----  \n",
      " 0   longitude                 20640 non-null  float64\n",
      " 1   latitude                  20640 non-null  float64\n",
      " 2   housing_median_age        20640 non-null  float64\n",
      " 3   total_rooms               20640 non-null  float64\n",
      " 4   total_bedrooms            20640 non-null  float64\n",
      " 5   population                20640 non-null  float64\n",
      " 6   households                20640 non-null  float64\n",
      " 7   median_income             20640 non-null  float64\n",
      " 8   median_house_value        20640 non-null  float64\n",
      " 9   rooms_per_household       20640 non-null  float64\n",
      " 10  population_per_household  20640 non-null  float64\n",
      " 11  INLAND                    20640 non-null  uint8  \n",
      " 12  ISLAND                    20640 non-null  uint8  \n",
      " 13  LESS_1H_OCEAN             20640 non-null  uint8  \n",
      " 14  NEAR_BAY                  20640 non-null  uint8  \n",
      " 15  NEAR_OCEAN                20640 non-null  uint8  \n",
      "dtypes: float64(11), uint8(5)\n",
      "memory usage: 1.8 MB\n"
     ]
    }
   ],
   "source": [
    "housing_df.info()"
   ]
  },
  {
   "cell_type": "code",
   "execution_count": null,
   "metadata": {
    "id": "TK2k7wMIZJNi"
   },
   "outputs": [],
   "source": [
    "# Dividing the dataset variables \n",
    "X=pd.DataFrame(columns=['longitude','latitude','housing_median_age','total_rooms','total_bedrooms','population','households','median_income','ocean_proximity'\n",
    "                        'rooms_per_household','population_per_household','INLAND','ISLAND','LESS_1H_OCEAN','NEAR_BAY','NEAR_OCEAN' ],data=housing_df)\n",
    "y=pd.DataFrame(columns=['median_house_value'],data=housing_df)"
   ]
  },
  {
   "cell_type": "code",
   "execution_count": null,
   "metadata": {
    "colab": {
     "base_uri": "https://localhost:8080/",
     "height": 270
    },
    "id": "OuTr-22oZJNj",
    "outputId": "a9c65461-7f43-45da-8b85-37065eb84cf7"
   },
   "outputs": [
    {
     "data": {
      "text/html": [
       "\n",
       "  <div id=\"df-4eb356d5-ce13-475c-ba27-61b22ea3c0c9\">\n",
       "    <div class=\"colab-df-container\">\n",
       "      <div>\n",
       "<style scoped>\n",
       "    .dataframe tbody tr th:only-of-type {\n",
       "        vertical-align: middle;\n",
       "    }\n",
       "\n",
       "    .dataframe tbody tr th {\n",
       "        vertical-align: top;\n",
       "    }\n",
       "\n",
       "    .dataframe thead th {\n",
       "        text-align: right;\n",
       "    }\n",
       "</style>\n",
       "<table border=\"1\" class=\"dataframe\">\n",
       "  <thead>\n",
       "    <tr style=\"text-align: right;\">\n",
       "      <th></th>\n",
       "      <th>longitude</th>\n",
       "      <th>latitude</th>\n",
       "      <th>housing_median_age</th>\n",
       "      <th>total_rooms</th>\n",
       "      <th>total_bedrooms</th>\n",
       "      <th>population</th>\n",
       "      <th>households</th>\n",
       "      <th>median_income</th>\n",
       "      <th>ocean_proximityrooms_per_household</th>\n",
       "      <th>population_per_household</th>\n",
       "      <th>INLAND</th>\n",
       "      <th>ISLAND</th>\n",
       "      <th>LESS_1H_OCEAN</th>\n",
       "      <th>NEAR_BAY</th>\n",
       "      <th>NEAR_OCEAN</th>\n",
       "    </tr>\n",
       "  </thead>\n",
       "  <tbody>\n",
       "    <tr>\n",
       "      <th>0</th>\n",
       "      <td>-122.23</td>\n",
       "      <td>37.88</td>\n",
       "      <td>41.0</td>\n",
       "      <td>880.0</td>\n",
       "      <td>129.0</td>\n",
       "      <td>322.0</td>\n",
       "      <td>126.0</td>\n",
       "      <td>8.3252</td>\n",
       "      <td>NaN</td>\n",
       "      <td>2.555556</td>\n",
       "      <td>0</td>\n",
       "      <td>0</td>\n",
       "      <td>0</td>\n",
       "      <td>1</td>\n",
       "      <td>0</td>\n",
       "    </tr>\n",
       "    <tr>\n",
       "      <th>1</th>\n",
       "      <td>-122.22</td>\n",
       "      <td>37.86</td>\n",
       "      <td>21.0</td>\n",
       "      <td>7099.0</td>\n",
       "      <td>1106.0</td>\n",
       "      <td>2401.0</td>\n",
       "      <td>1138.0</td>\n",
       "      <td>8.3014</td>\n",
       "      <td>NaN</td>\n",
       "      <td>2.109842</td>\n",
       "      <td>0</td>\n",
       "      <td>0</td>\n",
       "      <td>0</td>\n",
       "      <td>1</td>\n",
       "      <td>0</td>\n",
       "    </tr>\n",
       "    <tr>\n",
       "      <th>2</th>\n",
       "      <td>-122.24</td>\n",
       "      <td>37.85</td>\n",
       "      <td>52.0</td>\n",
       "      <td>1467.0</td>\n",
       "      <td>190.0</td>\n",
       "      <td>496.0</td>\n",
       "      <td>177.0</td>\n",
       "      <td>7.2574</td>\n",
       "      <td>NaN</td>\n",
       "      <td>2.802260</td>\n",
       "      <td>0</td>\n",
       "      <td>0</td>\n",
       "      <td>0</td>\n",
       "      <td>1</td>\n",
       "      <td>0</td>\n",
       "    </tr>\n",
       "    <tr>\n",
       "      <th>3</th>\n",
       "      <td>-122.25</td>\n",
       "      <td>37.85</td>\n",
       "      <td>52.0</td>\n",
       "      <td>1274.0</td>\n",
       "      <td>235.0</td>\n",
       "      <td>558.0</td>\n",
       "      <td>219.0</td>\n",
       "      <td>5.6431</td>\n",
       "      <td>NaN</td>\n",
       "      <td>2.547945</td>\n",
       "      <td>0</td>\n",
       "      <td>0</td>\n",
       "      <td>0</td>\n",
       "      <td>1</td>\n",
       "      <td>0</td>\n",
       "    </tr>\n",
       "    <tr>\n",
       "      <th>4</th>\n",
       "      <td>-122.25</td>\n",
       "      <td>37.85</td>\n",
       "      <td>52.0</td>\n",
       "      <td>1627.0</td>\n",
       "      <td>280.0</td>\n",
       "      <td>565.0</td>\n",
       "      <td>259.0</td>\n",
       "      <td>3.8462</td>\n",
       "      <td>NaN</td>\n",
       "      <td>2.181467</td>\n",
       "      <td>0</td>\n",
       "      <td>0</td>\n",
       "      <td>0</td>\n",
       "      <td>1</td>\n",
       "      <td>0</td>\n",
       "    </tr>\n",
       "  </tbody>\n",
       "</table>\n",
       "</div>\n",
       "      <button class=\"colab-df-convert\" onclick=\"convertToInteractive('df-4eb356d5-ce13-475c-ba27-61b22ea3c0c9')\"\n",
       "              title=\"Convert this dataframe to an interactive table.\"\n",
       "              style=\"display:none;\">\n",
       "        \n",
       "  <svg xmlns=\"http://www.w3.org/2000/svg\" height=\"24px\"viewBox=\"0 0 24 24\"\n",
       "       width=\"24px\">\n",
       "    <path d=\"M0 0h24v24H0V0z\" fill=\"none\"/>\n",
       "    <path d=\"M18.56 5.44l.94 2.06.94-2.06 2.06-.94-2.06-.94-.94-2.06-.94 2.06-2.06.94zm-11 1L8.5 8.5l.94-2.06 2.06-.94-2.06-.94L8.5 2.5l-.94 2.06-2.06.94zm10 10l.94 2.06.94-2.06 2.06-.94-2.06-.94-.94-2.06-.94 2.06-2.06.94z\"/><path d=\"M17.41 7.96l-1.37-1.37c-.4-.4-.92-.59-1.43-.59-.52 0-1.04.2-1.43.59L10.3 9.45l-7.72 7.72c-.78.78-.78 2.05 0 2.83L4 21.41c.39.39.9.59 1.41.59.51 0 1.02-.2 1.41-.59l7.78-7.78 2.81-2.81c.8-.78.8-2.07 0-2.86zM5.41 20L4 18.59l7.72-7.72 1.47 1.35L5.41 20z\"/>\n",
       "  </svg>\n",
       "      </button>\n",
       "      \n",
       "  <style>\n",
       "    .colab-df-container {\n",
       "      display:flex;\n",
       "      flex-wrap:wrap;\n",
       "      gap: 12px;\n",
       "    }\n",
       "\n",
       "    .colab-df-convert {\n",
       "      background-color: #E8F0FE;\n",
       "      border: none;\n",
       "      border-radius: 50%;\n",
       "      cursor: pointer;\n",
       "      display: none;\n",
       "      fill: #1967D2;\n",
       "      height: 32px;\n",
       "      padding: 0 0 0 0;\n",
       "      width: 32px;\n",
       "    }\n",
       "\n",
       "    .colab-df-convert:hover {\n",
       "      background-color: #E2EBFA;\n",
       "      box-shadow: 0px 1px 2px rgba(60, 64, 67, 0.3), 0px 1px 3px 1px rgba(60, 64, 67, 0.15);\n",
       "      fill: #174EA6;\n",
       "    }\n",
       "\n",
       "    [theme=dark] .colab-df-convert {\n",
       "      background-color: #3B4455;\n",
       "      fill: #D2E3FC;\n",
       "    }\n",
       "\n",
       "    [theme=dark] .colab-df-convert:hover {\n",
       "      background-color: #434B5C;\n",
       "      box-shadow: 0px 1px 3px 1px rgba(0, 0, 0, 0.15);\n",
       "      filter: drop-shadow(0px 1px 2px rgba(0, 0, 0, 0.3));\n",
       "      fill: #FFFFFF;\n",
       "    }\n",
       "  </style>\n",
       "\n",
       "      <script>\n",
       "        const buttonEl =\n",
       "          document.querySelector('#df-4eb356d5-ce13-475c-ba27-61b22ea3c0c9 button.colab-df-convert');\n",
       "        buttonEl.style.display =\n",
       "          google.colab.kernel.accessAllowed ? 'block' : 'none';\n",
       "\n",
       "        async function convertToInteractive(key) {\n",
       "          const element = document.querySelector('#df-4eb356d5-ce13-475c-ba27-61b22ea3c0c9');\n",
       "          const dataTable =\n",
       "            await google.colab.kernel.invokeFunction('convertToInteractive',\n",
       "                                                     [key], {});\n",
       "          if (!dataTable) return;\n",
       "\n",
       "          const docLinkHtml = 'Like what you see? Visit the ' +\n",
       "            '<a target=\"_blank\" href=https://colab.research.google.com/notebooks/data_table.ipynb>data table notebook</a>'\n",
       "            + ' to learn more about interactive tables.';\n",
       "          element.innerHTML = '';\n",
       "          dataTable['output_type'] = 'display_data';\n",
       "          await google.colab.output.renderOutput(dataTable, element);\n",
       "          const docLink = document.createElement('div');\n",
       "          docLink.innerHTML = docLinkHtml;\n",
       "          element.appendChild(docLink);\n",
       "        }\n",
       "      </script>\n",
       "    </div>\n",
       "  </div>\n",
       "  "
      ],
      "text/plain": [
       "   longitude  latitude  housing_median_age  total_rooms  total_bedrooms  \\\n",
       "0    -122.23     37.88                41.0        880.0           129.0   \n",
       "1    -122.22     37.86                21.0       7099.0          1106.0   \n",
       "2    -122.24     37.85                52.0       1467.0           190.0   \n",
       "3    -122.25     37.85                52.0       1274.0           235.0   \n",
       "4    -122.25     37.85                52.0       1627.0           280.0   \n",
       "\n",
       "   population  households  median_income  ocean_proximityrooms_per_household  \\\n",
       "0       322.0       126.0         8.3252                                 NaN   \n",
       "1      2401.0      1138.0         8.3014                                 NaN   \n",
       "2       496.0       177.0         7.2574                                 NaN   \n",
       "3       558.0       219.0         5.6431                                 NaN   \n",
       "4       565.0       259.0         3.8462                                 NaN   \n",
       "\n",
       "   population_per_household  INLAND  ISLAND  LESS_1H_OCEAN  NEAR_BAY  \\\n",
       "0                  2.555556       0       0              0         1   \n",
       "1                  2.109842       0       0              0         1   \n",
       "2                  2.802260       0       0              0         1   \n",
       "3                  2.547945       0       0              0         1   \n",
       "4                  2.181467       0       0              0         1   \n",
       "\n",
       "   NEAR_OCEAN  \n",
       "0           0  \n",
       "1           0  \n",
       "2           0  \n",
       "3           0  \n",
       "4           0  "
      ]
     },
     "execution_count": 220,
     "metadata": {},
     "output_type": "execute_result"
    }
   ],
   "source": [
    "X.head()"
   ]
  },
  {
   "cell_type": "code",
   "execution_count": null,
   "metadata": {
    "colab": {
     "base_uri": "https://localhost:8080/",
     "height": 206
    },
    "id": "p9BNmJehZJNj",
    "outputId": "0aac8ad1-f3a0-4e1d-dadb-b1a5b3a2ba4a"
   },
   "outputs": [
    {
     "data": {
      "text/html": [
       "\n",
       "  <div id=\"df-07228a86-cb60-476d-af26-8ec6953654df\">\n",
       "    <div class=\"colab-df-container\">\n",
       "      <div>\n",
       "<style scoped>\n",
       "    .dataframe tbody tr th:only-of-type {\n",
       "        vertical-align: middle;\n",
       "    }\n",
       "\n",
       "    .dataframe tbody tr th {\n",
       "        vertical-align: top;\n",
       "    }\n",
       "\n",
       "    .dataframe thead th {\n",
       "        text-align: right;\n",
       "    }\n",
       "</style>\n",
       "<table border=\"1\" class=\"dataframe\">\n",
       "  <thead>\n",
       "    <tr style=\"text-align: right;\">\n",
       "      <th></th>\n",
       "      <th>median_house_value</th>\n",
       "    </tr>\n",
       "  </thead>\n",
       "  <tbody>\n",
       "    <tr>\n",
       "      <th>0</th>\n",
       "      <td>452600.0</td>\n",
       "    </tr>\n",
       "    <tr>\n",
       "      <th>1</th>\n",
       "      <td>358500.0</td>\n",
       "    </tr>\n",
       "    <tr>\n",
       "      <th>2</th>\n",
       "      <td>352100.0</td>\n",
       "    </tr>\n",
       "    <tr>\n",
       "      <th>3</th>\n",
       "      <td>341300.0</td>\n",
       "    </tr>\n",
       "    <tr>\n",
       "      <th>4</th>\n",
       "      <td>342200.0</td>\n",
       "    </tr>\n",
       "  </tbody>\n",
       "</table>\n",
       "</div>\n",
       "      <button class=\"colab-df-convert\" onclick=\"convertToInteractive('df-07228a86-cb60-476d-af26-8ec6953654df')\"\n",
       "              title=\"Convert this dataframe to an interactive table.\"\n",
       "              style=\"display:none;\">\n",
       "        \n",
       "  <svg xmlns=\"http://www.w3.org/2000/svg\" height=\"24px\"viewBox=\"0 0 24 24\"\n",
       "       width=\"24px\">\n",
       "    <path d=\"M0 0h24v24H0V0z\" fill=\"none\"/>\n",
       "    <path d=\"M18.56 5.44l.94 2.06.94-2.06 2.06-.94-2.06-.94-.94-2.06-.94 2.06-2.06.94zm-11 1L8.5 8.5l.94-2.06 2.06-.94-2.06-.94L8.5 2.5l-.94 2.06-2.06.94zm10 10l.94 2.06.94-2.06 2.06-.94-2.06-.94-.94-2.06-.94 2.06-2.06.94z\"/><path d=\"M17.41 7.96l-1.37-1.37c-.4-.4-.92-.59-1.43-.59-.52 0-1.04.2-1.43.59L10.3 9.45l-7.72 7.72c-.78.78-.78 2.05 0 2.83L4 21.41c.39.39.9.59 1.41.59.51 0 1.02-.2 1.41-.59l7.78-7.78 2.81-2.81c.8-.78.8-2.07 0-2.86zM5.41 20L4 18.59l7.72-7.72 1.47 1.35L5.41 20z\"/>\n",
       "  </svg>\n",
       "      </button>\n",
       "      \n",
       "  <style>\n",
       "    .colab-df-container {\n",
       "      display:flex;\n",
       "      flex-wrap:wrap;\n",
       "      gap: 12px;\n",
       "    }\n",
       "\n",
       "    .colab-df-convert {\n",
       "      background-color: #E8F0FE;\n",
       "      border: none;\n",
       "      border-radius: 50%;\n",
       "      cursor: pointer;\n",
       "      display: none;\n",
       "      fill: #1967D2;\n",
       "      height: 32px;\n",
       "      padding: 0 0 0 0;\n",
       "      width: 32px;\n",
       "    }\n",
       "\n",
       "    .colab-df-convert:hover {\n",
       "      background-color: #E2EBFA;\n",
       "      box-shadow: 0px 1px 2px rgba(60, 64, 67, 0.3), 0px 1px 3px 1px rgba(60, 64, 67, 0.15);\n",
       "      fill: #174EA6;\n",
       "    }\n",
       "\n",
       "    [theme=dark] .colab-df-convert {\n",
       "      background-color: #3B4455;\n",
       "      fill: #D2E3FC;\n",
       "    }\n",
       "\n",
       "    [theme=dark] .colab-df-convert:hover {\n",
       "      background-color: #434B5C;\n",
       "      box-shadow: 0px 1px 3px 1px rgba(0, 0, 0, 0.15);\n",
       "      filter: drop-shadow(0px 1px 2px rgba(0, 0, 0, 0.3));\n",
       "      fill: #FFFFFF;\n",
       "    }\n",
       "  </style>\n",
       "\n",
       "      <script>\n",
       "        const buttonEl =\n",
       "          document.querySelector('#df-07228a86-cb60-476d-af26-8ec6953654df button.colab-df-convert');\n",
       "        buttonEl.style.display =\n",
       "          google.colab.kernel.accessAllowed ? 'block' : 'none';\n",
       "\n",
       "        async function convertToInteractive(key) {\n",
       "          const element = document.querySelector('#df-07228a86-cb60-476d-af26-8ec6953654df');\n",
       "          const dataTable =\n",
       "            await google.colab.kernel.invokeFunction('convertToInteractive',\n",
       "                                                     [key], {});\n",
       "          if (!dataTable) return;\n",
       "\n",
       "          const docLinkHtml = 'Like what you see? Visit the ' +\n",
       "            '<a target=\"_blank\" href=https://colab.research.google.com/notebooks/data_table.ipynb>data table notebook</a>'\n",
       "            + ' to learn more about interactive tables.';\n",
       "          element.innerHTML = '';\n",
       "          dataTable['output_type'] = 'display_data';\n",
       "          await google.colab.output.renderOutput(dataTable, element);\n",
       "          const docLink = document.createElement('div');\n",
       "          docLink.innerHTML = docLinkHtml;\n",
       "          element.appendChild(docLink);\n",
       "        }\n",
       "      </script>\n",
       "    </div>\n",
       "  </div>\n",
       "  "
      ],
      "text/plain": [
       "   median_house_value\n",
       "0            452600.0\n",
       "1            358500.0\n",
       "2            352100.0\n",
       "3            341300.0\n",
       "4            342200.0"
      ]
     },
     "execution_count": 221,
     "metadata": {},
     "output_type": "execute_result"
    }
   ],
   "source": [
    "y.head()"
   ]
  },
  {
   "cell_type": "markdown",
   "metadata": {
    "id": "bvYZ8OKwZJNk"
   },
   "source": [
    "# 3. Feature Scaling and test train split"
   ]
  },
  {
   "cell_type": "code",
   "execution_count": null,
   "metadata": {
    "id": "1V8ZsNtYZJNk"
   },
   "outputs": [],
   "source": [
    "from sklearn.model_selection import train_test_split\n",
    "train_set, test_set = train_test_split(housing_df, test_size=0.3, random_state=42)"
   ]
  },
  {
   "cell_type": "code",
   "execution_count": null,
   "metadata": {
    "id": "oYJGIjCeZJNl"
   },
   "outputs": [],
   "source": [
    "target = 'median_house_value'\n",
    "features = list(train_set.columns)\n",
    "features = [f for f in features if f!=target]"
   ]
  },
  {
   "cell_type": "code",
   "execution_count": null,
   "metadata": {
    "id": "HrC9l-KaZJNl"
   },
   "outputs": [],
   "source": [
    "X_train = train_set[features]\n",
    "y_train = train_set[[target]]\n",
    "\n",
    "X_test = test_set[features]\n",
    "y_test = test_set[[target]]"
   ]
  },
  {
   "cell_type": "code",
   "execution_count": null,
   "metadata": {
    "colab": {
     "base_uri": "https://localhost:8080/"
    },
    "id": "jOyZiOUvcYKO",
    "outputId": "ab606cd0-0972-4bee-a7e0-5ef8fe04f309"
   },
   "outputs": [
    {
     "data": {
      "text/plain": [
       "(14448, 15)"
      ]
     },
     "execution_count": 225,
     "metadata": {},
     "output_type": "execute_result"
    }
   ],
   "source": [
    "X_train.shape"
   ]
  },
  {
   "cell_type": "code",
   "execution_count": null,
   "metadata": {
    "colab": {
     "base_uri": "https://localhost:8080/"
    },
    "id": "3mPWY6Uqc9UO",
    "outputId": "1b039cb2-2b86-47e9-c0c6-8c6e66d09e02"
   },
   "outputs": [
    {
     "name": "stdout",
     "output_type": "stream",
     "text": [
      "TARGET: median_house_value\n",
      "columns_predictors: ['longitude', 'latitude', 'housing_median_age', 'total_rooms', 'total_bedrooms', 'population', 'households', 'median_income', 'rooms_per_household', 'population_per_household', 'INLAND', 'ISLAND', 'LESS_1H_OCEAN', 'NEAR_BAY', 'NEAR_OCEAN']\n",
      "columns_categorical: ['INLAND', 'ISLAND', 'LESS_1H_OCEAN', 'NEAR_BAY', 'NEAR_OCEAN']\n",
      "columns_numerical: ['longitude', 'latitude', 'housing_median_age', 'total_rooms', 'total_bedrooms', 'population', 'households', 'median_income', 'rooms_per_household', 'population_per_household']\n"
     ]
    }
   ],
   "source": [
    "TARGET = \"median_house_value\"\n",
    "columns_predictors = [col for col in train_set.columns if col not in [TARGET]]\n",
    "columns_categorical = ['INLAND','ISLAND','LESS_1H_OCEAN','NEAR_BAY','NEAR_OCEAN']\n",
    "columns_numerical = [col for col in columns_predictors if col not in columns_categorical]\n",
    "print(f\"TARGET: {TARGET}\")\n",
    "print(f\"columns_predictors: {columns_predictors}\")\n",
    "print(f\"columns_categorical: {columns_categorical}\")\n",
    "print(f\"columns_numerical: {columns_numerical}\")"
   ]
  },
  {
   "cell_type": "code",
   "execution_count": null,
   "metadata": {
    "id": "znZ74yTjb_7r"
   },
   "outputs": [],
   "source": [
    "#Create numerical pipeline to transform numerical values\n",
    "\n",
    "from sklearn.pipeline import Pipeline\n",
    "from sklearn.compose import ColumnTransformer \n",
    "from sklearn.preprocessing import MinMaxScaler, OneHotEncoder ,StandardScaler\n",
    "\n",
    "#Convert the non transformed Dataframe into list.\n",
    "columns_categorical_list = list(columns_categorical)\n",
    "columns_numerical_list = list(columns_numerical)\n",
    "\n",
    "pipeline_categorical = Pipeline([\n",
    "])\n",
    "\n",
    "pipeline_numerical = Pipeline([\n",
    "  ('scaler', StandardScaler()),\n",
    "])\n",
    "\n",
    "pipeline_full = ColumnTransformer([\n",
    "  (\"categorical\", pipeline_categorical, columns_categorical_list),\n",
    "  (\"numerical\", pipeline_numerical, columns_numerical_list),\n",
    "])"
   ]
  },
  {
   "cell_type": "code",
   "execution_count": null,
   "metadata": {
    "colab": {
     "base_uri": "https://localhost:8080/"
    },
    "id": "ACaGUet6dE_M",
    "outputId": "b043c384-7a21-4d45-b4fb-267759eea8b3"
   },
   "outputs": [
    {
     "name": "stdout",
     "output_type": "stream",
     "text": [
      "X_train transformed.shape: (14448, 20)\n",
      "X_test transformed.shape: (6192, 20)\n"
     ]
    }
   ],
   "source": [
    "pipeline_full.fit(X_train)\n",
    "X_train = pipeline_full.transform(X_train)\n",
    "X_test = pipeline_full.transform(X_test)\n",
    "print(f\"X_train transformed.shape: {X_train.shape}\")\n",
    "print(f\"X_test transformed.shape: {X_test.shape}\")"
   ]
  },
  {
   "cell_type": "markdown",
   "metadata": {
    "id": "B8TyO07uZJNm"
   },
   "source": [
    "# Lets start building an Artificial Nueral Network"
   ]
  },
  {
   "cell_type": "code",
   "execution_count": null,
   "metadata": {
    "id": "-M8MupHOZJNm"
   },
   "outputs": [],
   "source": [
    "Create_model = Sequential()\n",
    "\n",
    "#Input Layer\n",
    "Create_model.add(Dense(X_train.shape[1], activation='relu', input_dim = X_train.shape[1]))\n",
    "\n",
    "#Hidden Layer\n",
    "Create_model.add(Dense(512,kernel_initializer='normal', activation='relu'))\n",
    "Create_model.add(Dense(512,kernel_initializer='normal', activation='relu'))\n",
    "Create_model.add(Dense(256,kernel_initializer='normal', activation='relu'))\n",
    "Create_model.add(Dense(128,kernel_initializer='normal', activation='relu'))\n",
    "Create_model.add(Dense(64,kernel_initializer='normal', activation='relu'))\n",
    "Create_model.add(Dense(32,kernel_initializer='normal', activation='relu'))\n",
    "#Output Layer\n",
    "Create_model.add(Dense(1,kernel_initializer='normal', activation = 'relu'))\n"
   ]
  },
  {
   "cell_type": "code",
   "execution_count": null,
   "metadata": {
    "colab": {
     "base_uri": "https://localhost:8080/"
    },
    "id": "eiM3xiGWZJNn",
    "outputId": "51b445a1-f3ef-4314-bbe6-5b2821183341"
   },
   "outputs": [
    {
     "name": "stdout",
     "output_type": "stream",
     "text": [
      "Model: \"sequential_4\"\n",
      "_________________________________________________________________\n",
      " Layer (type)                Output Shape              Param #   \n",
      "=================================================================\n",
      " dense_32 (Dense)            (None, 20)                420       \n",
      "                                                                 \n",
      " dense_33 (Dense)            (None, 512)               10752     \n",
      "                                                                 \n",
      " dense_34 (Dense)            (None, 512)               262656    \n",
      "                                                                 \n",
      " dense_35 (Dense)            (None, 256)               131328    \n",
      "                                                                 \n",
      " dense_36 (Dense)            (None, 128)               32896     \n",
      "                                                                 \n",
      " dense_37 (Dense)            (None, 64)                8256      \n",
      "                                                                 \n",
      " dense_38 (Dense)            (None, 32)                2080      \n",
      "                                                                 \n",
      " dense_39 (Dense)            (None, 1)                 33        \n",
      "                                                                 \n",
      "=================================================================\n",
      "Total params: 448,421\n",
      "Trainable params: 448,421\n",
      "Non-trainable params: 0\n",
      "_________________________________________________________________\n"
     ]
    }
   ],
   "source": [
    "#Compile the network \n",
    "\n",
    "Create_model.compile(loss = 'MeanSquaredError', optimizer='adam', metrics=['mse','mae'])\n",
    "Create_model.summary()"
   ]
  },
  {
   "cell_type": "markdown",
   "metadata": {
    "id": "NAdkJGMs34Kw"
   },
   "source": [
    "Create Image of your model"
   ]
  },
  {
   "cell_type": "code",
   "execution_count": null,
   "metadata": {
    "colab": {
     "base_uri": "https://localhost:8080/",
     "height": 976
    },
    "id": "qLjJ7ZlJ3t5O",
    "outputId": "1dfc1676-2a56-4e8d-a933-0d05fb2eb4c9"
   },
   "outputs": [
    {
     "data": {
      "image/png": "[encoded data removed]",
      "text/plain": [
       "<IPython.core.display.Image object>"
      ]
     },
     "execution_count": 231,
     "metadata": {},
     "output_type": "execute_result"
    }
   ],
   "source": [
    "tf.keras.utils.plot_model(Create_model, show_shapes=True)"
   ]
  },
  {
   "cell_type": "code",
   "execution_count": null,
   "metadata": {
    "colab": {
     "base_uri": "https://localhost:8080/"
    },
    "id": "PVoqffXljQ2Z",
    "outputId": "5cb5afc1-bd9c-486e-c1d2-dd2921bd907c"
   },
   "outputs": [
    {
     "name": "stdout",
     "output_type": "stream",
     "text": [
      "Looking in indexes: https://pypi.org/simple, https://us-python.pkg.dev/colab-wheels/public/simple/\n",
      "Requirement already satisfied: scikeras in /usr/local/lib/python3.9/dist-packages (0.10.0)\n",
      "Requirement already satisfied: packaging>=0.21 in /usr/local/lib/python3.9/dist-packages (from scikeras) (23.0)\n",
      "Requirement already satisfied: scikit-learn>=1.0.0 in /usr/local/lib/python3.9/dist-packages (from scikeras) (1.2.2)\n",
      "Requirement already satisfied: scipy>=1.3.2 in /usr/local/lib/python3.9/dist-packages (from scikit-learn>=1.0.0->scikeras) (1.10.1)\n",
      "Requirement already satisfied: numpy>=1.17.3 in /usr/local/lib/python3.9/dist-packages (from scikit-learn>=1.0.0->scikeras) (1.22.4)\n",
      "Requirement already satisfied: threadpoolctl>=2.0.0 in /usr/local/lib/python3.9/dist-packages (from scikit-learn>=1.0.0->scikeras) (3.1.0)\n",
      "Requirement already satisfied: joblib>=1.1.1 in /usr/local/lib/python3.9/dist-packages (from scikit-learn>=1.0.0->scikeras) (1.1.1)\n"
     ]
    }
   ],
   "source": [
    "#library to use KerasClassifier\n",
    "!pip install scikeras"
   ]
  },
  {
   "cell_type": "code",
   "execution_count": null,
   "metadata": {
    "id": "Pi8B8FxojVkM"
   },
   "outputs": [],
   "source": [
    "from sklearn.model_selection import GridSearchCV\n",
    "from scikeras.wrappers import KerasRegressor\n",
    "\n",
    "batch_size = [50,75]\n",
    "epochs = [3,5]\n",
    "\n",
    "Hyp_Model_1 = KerasRegressor(model=Create_model)\n",
    "\n",
    "param_grid = dict(batch_size=batch_size, epochs = epochs)\n",
    "randSearch_1 = GridSearchCV(Hyp_Model_1, param_grid, cv=5, scoring='neg_mean_squared_error', error_score=\"raise\", n_jobs=-1, verbose=0)"
   ]
  },
  {
   "cell_type": "code",
   "execution_count": null,
   "metadata": {
    "id": "SZp3mMdLgE6Z"
   },
   "outputs": [],
   "source": [
    "import os\n",
    "os.environ[\"TF_CPP_MIN_LOG_LEVEL\"]=\"2\"\n",
    "history = randSearch_1.fit(X_train, y_train,verbose=0)"
   ]
  },
  {
   "cell_type": "code",
   "execution_count": null,
   "metadata": {
    "colab": {
     "base_uri": "https://localhost:8080/"
    },
    "id": "7hlFvFphy2IN",
    "outputId": "ba006854-49c4-46b3-b6d5-79250375be2e"
   },
   "outputs": [
    {
     "name": "stdout",
     "output_type": "stream",
     "text": [
      "{'batch_size': 50, 'epochs': 5}\n",
      "KerasRegressor(\n",
      "\tmodel=<keras.engine.sequential.Sequential object at 0x7f2e044bc3a0>\n",
      "\tbuild_fn=None\n",
      "\twarm_start=False\n",
      "\trandom_state=None\n",
      "\toptimizer=rmsprop\n",
      "\tloss=None\n",
      "\tmetrics=None\n",
      "\tbatch_size=50\n",
      "\tvalidation_batch_size=None\n",
      "\tverbose=1\n",
      "\tcallbacks=None\n",
      "\tvalidation_split=0.0\n",
      "\tshuffle=True\n",
      "\trun_eagerly=False\n",
      "\tepochs=5\n",
      ")\n"
     ]
    }
   ],
   "source": [
    "best_params = randSearch_1.best_params_\n",
    "best_estimators = randSearch_1.best_estimator_\n",
    "\n",
    "print(best_params)\n",
    "print(best_estimators)"
   ]
  },
  {
   "cell_type": "code",
   "execution_count": null,
   "metadata": {
    "colab": {
     "base_uri": "https://localhost:8080/"
    },
    "id": "e2Bb0_UFZJNo",
    "outputId": "1b9119a5-d8f5-41b2-9c2d-ba3b9b414aca"
   },
   "outputs": [
    {
     "name": "stdout",
     "output_type": "stream",
     "text": [
      "124/124 [==============================] - 0s 2ms/step\n"
     ]
    }
   ],
   "source": [
    "y_prediction = best_estimators.predict(X_test)\n"
   ]
  },
  {
   "cell_type": "code",
   "execution_count": null,
   "metadata": {
    "colab": {
     "base_uri": "https://localhost:8080/"
    },
    "id": "2lGpmPgzZJNo",
    "outputId": "accc8ea9-ada1-4ad3-df12-ed882f95436a"
   },
   "outputs": [
    {
     "name": "stdout",
     "output_type": "stream",
     "text": [
      "64202.71247622268\n"
     ]
    }
   ],
   "source": [
    "from sklearn.metrics import mean_squared_error\n",
    "import numpy as np\n",
    "\n",
    "final_mse = mean_squared_error(y_prediction, y_test)\n",
    "final_rmse = np.sqrt(final_mse)\n",
    "print(final_rmse)"
   ]
  },
  {
   "cell_type": "code",
   "execution_count": null,
   "metadata": {
    "colab": {
     "base_uri": "https://localhost:8080/",
     "height": 1000
    },
    "id": "lzZb6SRj0oyF",
    "outputId": "85c2cf23-afd9-469d-9f87-0785dbb587e5"
   },
   "outputs": [
    {
     "name": "stdout",
     "output_type": "stream",
     "text": [
      "1/1 [==============================] - 0s 17ms/step\n",
      "1/1 [==============================] - 0s 23ms/step\n",
      "3/3 [==============================] - 0s 3ms/step\n",
      "3/3 [==============================] - 0s 3ms/step\n",
      "5/5 [==============================] - 0s 2ms/step\n",
      "5/5 [==============================] - 0s 3ms/step\n",
      "7/7 [==============================] - 0s 2ms/step\n",
      "7/7 [==============================] - 0s 2ms/step\n",
      "9/9 [==============================] - 0s 2ms/step\n",
      "9/9 [==============================] - 0s 2ms/step\n",
      "11/11 [==============================] - 0s 2ms/step\n",
      "11/11 [==============================] - 0s 2ms/step\n",
      "13/13 [==============================] - 0s 2ms/step\n",
      "13/13 [==============================] - 0s 2ms/step\n",
      "15/15 [==============================] - 0s 2ms/step\n",
      "15/15 [==============================] - 0s 2ms/step\n",
      "17/17 [==============================] - 0s 2ms/step\n",
      "17/17 [==============================] - 0s 2ms/step\n",
      "19/19 [==============================] - 0s 2ms/step\n",
      "19/19 [==============================] - 0s 2ms/step\n",
      "21/21 [==============================] - 0s 2ms/step\n",
      "21/21 [==============================] - 0s 2ms/step\n",
      "23/23 [==============================] - 0s 2ms/step\n",
      "23/23 [==============================] - 0s 3ms/step\n",
      "25/25 [==============================] - 0s 2ms/step\n",
      "25/25 [==============================] - 0s 2ms/step\n",
      "27/27 [==============================] - 0s 2ms/step\n",
      "27/27 [==============================] - 0s 2ms/step\n",
      "29/29 [==============================] - 0s 2ms/step\n",
      "29/29 [==============================] - 0s 2ms/step\n",
      "31/31 [==============================] - 0s 2ms/step\n",
      "31/31 [==============================] - 0s 2ms/step\n",
      "33/33 [==============================] - 0s 2ms/step\n",
      "33/33 [==============================] - 0s 2ms/step\n",
      "35/35 [==============================] - 0s 2ms/step\n",
      "35/35 [==============================] - 0s 2ms/step\n",
      "37/37 [==============================] - 0s 2ms/step\n",
      "37/37 [==============================] - 0s 2ms/step\n",
      "39/39 [==============================] - 0s 2ms/step\n",
      "39/39 [==============================] - 0s 2ms/step\n",
      "41/41 [==============================] - 0s 2ms/step\n",
      "41/41 [==============================] - 0s 3ms/step\n",
      "43/43 [==============================] - 0s 2ms/step\n",
      "43/43 [==============================] - 0s 2ms/step\n",
      "45/45 [==============================] - 0s 2ms/step\n",
      "45/45 [==============================] - 0s 2ms/step\n",
      "47/47 [==============================] - 0s 2ms/step\n",
      "47/47 [==============================] - 0s 2ms/step\n",
      "49/49 [==============================] - 0s 3ms/step\n",
      "49/49 [==============================] - 0s 3ms/step\n",
      "51/51 [==============================] - 0s 3ms/step\n",
      "51/51 [==============================] - 0s 3ms/step\n",
      "53/53 [==============================] - 0s 3ms/step\n",
      "53/53 [==============================] - 0s 3ms/step\n",
      "55/55 [==============================] - 0s 2ms/step\n",
      "55/55 [==============================] - 0s 3ms/step\n",
      "57/57 [==============================] - 0s 2ms/step\n",
      "57/57 [==============================] - 0s 2ms/step\n",
      "59/59 [==============================] - 0s 2ms/step\n",
      "59/59 [==============================] - 0s 2ms/step\n",
      "61/61 [==============================] - 0s 2ms/step\n",
      "61/61 [==============================] - 0s 2ms/step\n",
      "63/63 [==============================] - 0s 2ms/step\n",
      "63/63 [==============================] - 0s 2ms/step\n",
      "65/65 [==============================] - 0s 2ms/step\n",
      "65/65 [==============================] - 0s 2ms/step\n",
      "67/67 [==============================] - 0s 2ms/step\n",
      "67/67 [==============================] - 0s 2ms/step\n",
      "69/69 [==============================] - 0s 2ms/step\n",
      "69/69 [==============================] - 0s 3ms/step\n",
      "71/71 [==============================] - 0s 3ms/step\n",
      "71/71 [==============================] - 0s 3ms/step\n",
      "73/73 [==============================] - 0s 3ms/step\n",
      "73/73 [==============================] - 0s 4ms/step\n",
      "75/75 [==============================] - 0s 4ms/step\n",
      "75/75 [==============================] - 0s 3ms/step\n",
      "77/77 [==============================] - 0s 3ms/step\n",
      "77/77 [==============================] - 0s 4ms/step\n",
      "79/79 [==============================] - 0s 5ms/step\n",
      "79/79 [==============================] - 0s 4ms/step\n",
      "81/81 [==============================] - 0s 3ms/step\n",
      "81/81 [==============================] - 0s 4ms/step\n",
      "83/83 [==============================] - 1s 5ms/step\n",
      "83/83 [==============================] - 0s 5ms/step\n",
      "85/85 [==============================] - 1s 5ms/step\n",
      "85/85 [==============================] - 0s 3ms/step\n",
      "87/87 [==============================] - 0s 5ms/step\n",
      "87/87 [==============================] - 0s 4ms/step\n",
      "89/89 [==============================] - 0s 4ms/step\n",
      "89/89 [==============================] - 0s 3ms/step\n",
      "91/91 [==============================] - 0s 3ms/step\n",
      "91/91 [==============================] - 0s 3ms/step\n",
      "93/93 [==============================] - 0s 3ms/step\n",
      "93/93 [==============================] - 0s 2ms/step\n",
      "95/95 [==============================] - 0s 2ms/step\n",
      "95/95 [==============================] - 0s 2ms/step\n",
      "97/97 [==============================] - 0s 2ms/step\n",
      "97/97 [==============================] - 0s 2ms/step\n",
      "99/99 [==============================] - 0s 2ms/step\n",
      "99/99 [==============================] - 0s 2ms/step\n",
      "101/101 [==============================] - 0s 2ms/step\n",
      "101/101 [==============================] - 0s 2ms/step\n",
      "103/103 [==============================] - 0s 2ms/step\n",
      "103/103 [==============================] - 0s 2ms/step\n",
      "105/105 [==============================] - 0s 2ms/step\n",
      "105/105 [==============================] - 0s 2ms/step\n",
      "107/107 [==============================] - 0s 2ms/step\n",
      "107/107 [==============================] - 0s 2ms/step\n",
      "109/109 [==============================] - 0s 2ms/step\n",
      "109/109 [==============================] - 0s 2ms/step\n",
      "111/111 [==============================] - 0s 3ms/step\n",
      "111/111 [==============================] - 0s 3ms/step\n",
      "113/113 [==============================] - 0s 3ms/step\n",
      "113/113 [==============================] - 0s 3ms/step\n",
      "115/115 [==============================] - 0s 2ms/step\n",
      "115/115 [==============================] - 0s 2ms/step\n",
      "117/117 [==============================] - 0s 2ms/step\n",
      "117/117 [==============================] - 0s 2ms/step\n",
      "119/119 [==============================] - 0s 2ms/step\n",
      "119/119 [==============================] - 0s 2ms/step\n",
      "121/121 [==============================] - 0s 2ms/step\n",
      "121/121 [==============================] - 0s 2ms/step\n",
      "123/123 [==============================] - 0s 2ms/step\n",
      "123/123 [==============================] - 0s 2ms/step\n",
      "125/125 [==============================] - 0s 2ms/step\n",
      "124/124 [==============================] - 0s 2ms/step\n",
      "127/127 [==============================] - 0s 2ms/step\n",
      "124/124 [==============================] - 0s 2ms/step\n",
      "129/129 [==============================] - 0s 2ms/step\n",
      "124/124 [==============================] - 0s 2ms/step\n",
      "131/131 [==============================] - 0s 2ms/step\n",
      "124/124 [==============================] - 0s 2ms/step\n",
      "133/133 [==============================] - 0s 2ms/step\n",
      "124/124 [==============================] - 0s 2ms/step\n",
      "135/135 [==============================] - 0s 2ms/step\n",
      "124/124 [==============================] - 0s 2ms/step\n",
      "137/137 [==============================] - 0s 2ms/step\n",
      "124/124 [==============================] - 0s 2ms/step\n",
      "139/139 [==============================] - 0s 2ms/step\n",
      "124/124 [==============================] - 0s 2ms/step\n",
      "141/141 [==============================] - 0s 2ms/step\n",
      "124/124 [==============================] - 0s 2ms/step\n",
      "143/143 [==============================] - 0s 2ms/step\n",
      "124/124 [==============================] - 0s 2ms/step\n",
      "145/145 [==============================] - 0s 2ms/step\n",
      "124/124 [==============================] - 0s 3ms/step\n",
      "147/147 [==============================] - 0s 3ms/step\n",
      "124/124 [==============================] - 0s 3ms/step\n",
      "149/149 [==============================] - 0s 2ms/step\n",
      "124/124 [==============================] - 0s 2ms/step\n",
      "151/151 [==============================] - 0s 2ms/step\n",
      "124/124 [==============================] - 0s 2ms/step\n",
      "153/153 [==============================] - 0s 2ms/step\n",
      "124/124 [==============================] - 0s 2ms/step\n",
      "155/155 [==============================] - 0s 2ms/step\n",
      "124/124 [==============================] - 0s 2ms/step\n",
      "157/157 [==============================] - 0s 2ms/step\n",
      "124/124 [==============================] - 0s 2ms/step\n",
      "159/159 [==============================] - 0s 2ms/step\n",
      "124/124 [==============================] - 0s 2ms/step\n",
      "161/161 [==============================] - 0s 2ms/step\n",
      "124/124 [==============================] - 0s 2ms/step\n",
      "163/163 [==============================] - 0s 2ms/step\n",
      "124/124 [==============================] - 0s 2ms/step\n",
      "165/165 [==============================] - 0s 2ms/step\n",
      "124/124 [==============================] - 0s 2ms/step\n",
      "167/167 [==============================] - 0s 2ms/step\n",
      "124/124 [==============================] - 0s 2ms/step\n",
      "169/169 [==============================] - 0s 2ms/step\n",
      "124/124 [==============================] - 0s 2ms/step\n",
      "171/171 [==============================] - 0s 2ms/step\n",
      "124/124 [==============================] - 0s 3ms/step\n",
      "173/173 [==============================] - 0s 3ms/step\n",
      "124/124 [==============================] - 0s 3ms/step\n",
      "175/175 [==============================] - 0s 2ms/step\n",
      "124/124 [==============================] - 0s 2ms/step\n",
      "177/177 [==============================] - 0s 2ms/step\n",
      "124/124 [==============================] - 0s 2ms/step\n",
      "179/179 [==============================] - 0s 2ms/step\n",
      "124/124 [==============================] - 0s 2ms/step\n",
      "181/181 [==============================] - 0s 2ms/step\n",
      "124/124 [==============================] - 0s 2ms/step\n",
      "183/183 [==============================] - 0s 2ms/step\n",
      "124/124 [==============================] - 0s 2ms/step\n",
      "185/185 [==============================] - 0s 2ms/step\n",
      "124/124 [==============================] - 0s 2ms/step\n",
      "187/187 [==============================] - 0s 2ms/step\n",
      "124/124 [==============================] - 0s 2ms/step\n",
      "189/189 [==============================] - 0s 2ms/step\n",
      "124/124 [==============================] - 0s 2ms/step\n",
      "191/191 [==============================] - 0s 2ms/step\n",
      "124/124 [==============================] - 0s 2ms/step\n",
      "193/193 [==============================] - 0s 2ms/step\n",
      "124/124 [==============================] - 0s 2ms/step\n",
      "195/195 [==============================] - 0s 2ms/step\n",
      "124/124 [==============================] - 0s 2ms/step\n",
      "197/197 [==============================] - 0s 2ms/step\n",
      "124/124 [==============================] - 0s 3ms/step\n",
      "199/199 [==============================] - 1s 3ms/step\n",
      "124/124 [==============================] - 0s 2ms/step\n",
      "201/201 [==============================] - 0s 2ms/step\n",
      "124/124 [==============================] - 0s 2ms/step\n",
      "203/203 [==============================] - 0s 2ms/step\n",
      "124/124 [==============================] - 0s 2ms/step\n",
      "205/205 [==============================] - 0s 2ms/step\n",
      "124/124 [==============================] - 0s 2ms/step\n",
      "207/207 [==============================] - 0s 2ms/step\n",
      "124/124 [==============================] - 0s 2ms/step\n",
      "209/209 [==============================] - 0s 2ms/step\n",
      "124/124 [==============================] - 0s 2ms/step\n",
      "211/211 [==============================] - 0s 2ms/step\n",
      "124/124 [==============================] - 0s 2ms/step\n",
      "213/213 [==============================] - 0s 2ms/step\n",
      "124/124 [==============================] - 0s 2ms/step\n",
      "215/215 [==============================] - 0s 2ms/step\n",
      "124/124 [==============================] - 0s 2ms/step\n",
      "217/217 [==============================] - 0s 2ms/step\n",
      "124/124 [==============================] - 0s 2ms/step\n",
      "219/219 [==============================] - 0s 2ms/step\n",
      "124/124 [==============================] - 0s 2ms/step\n",
      "221/221 [==============================] - 0s 2ms/step\n",
      "124/124 [==============================] - 0s 3ms/step\n",
      "223/223 [==============================] - 1s 3ms/step\n",
      "124/124 [==============================] - 0s 3ms/step\n",
      "225/225 [==============================] - 0s 2ms/step\n",
      "124/124 [==============================] - 0s 2ms/step\n",
      "227/227 [==============================] - 0s 2ms/step\n",
      "124/124 [==============================] - 0s 2ms/step\n",
      "229/229 [==============================] - 0s 2ms/step\n",
      "124/124 [==============================] - 0s 2ms/step\n",
      "231/231 [==============================] - 0s 2ms/step\n",
      "124/124 [==============================] - 0s 2ms/step\n",
      "233/233 [==============================] - 0s 2ms/step\n",
      "124/124 [==============================] - 0s 2ms/step\n",
      "235/235 [==============================] - 0s 2ms/step\n",
      "124/124 [==============================] - 0s 2ms/step\n",
      "237/237 [==============================] - 0s 2ms/step\n",
      "124/124 [==============================] - 0s 2ms/step\n",
      "239/239 [==============================] - 0s 2ms/step\n",
      "124/124 [==============================] - 0s 2ms/step\n",
      "241/241 [==============================] - 0s 2ms/step\n",
      "124/124 [==============================] - 0s 2ms/step\n",
      "243/243 [==============================] - 0s 2ms/step\n",
      "124/124 [==============================] - 0s 2ms/step\n",
      "245/245 [==============================] - 0s 2ms/step\n",
      "124/124 [==============================] - 0s 2ms/step\n",
      "247/247 [==============================] - 1s 3ms/step\n",
      "124/124 [==============================] - 0s 2ms/step\n",
      "249/249 [==============================] - 0s 2ms/step\n",
      "124/124 [==============================] - 0s 2ms/step\n",
      "251/251 [==============================] - 0s 2ms/step\n",
      "124/124 [==============================] - 0s 2ms/step\n",
      "253/253 [==============================] - 0s 2ms/step\n",
      "124/124 [==============================] - 0s 2ms/step\n",
      "255/255 [==============================] - 0s 2ms/step\n",
      "124/124 [==============================] - 0s 3ms/step\n",
      "257/257 [==============================] - 0s 2ms/step\n",
      "124/124 [==============================] - 1s 4ms/step\n",
      "259/259 [==============================] - 0s 2ms/step\n",
      "124/124 [==============================] - 0s 2ms/step\n",
      "261/261 [==============================] - 0s 2ms/step\n",
      "124/124 [==============================] - 0s 2ms/step\n",
      "263/263 [==============================] - 0s 2ms/step\n",
      "124/124 [==============================] - 0s 2ms/step\n",
      "265/265 [==============================] - 0s 2ms/step\n",
      "124/124 [==============================] - 0s 3ms/step\n",
      "267/267 [==============================] - 1s 3ms/step\n",
      "124/124 [==============================] - 0s 2ms/step\n",
      "269/269 [==============================] - 0s 2ms/step\n",
      "124/124 [==============================] - 0s 2ms/step\n",
      "271/271 [==============================] - 0s 2ms/step\n",
      "124/124 [==============================] - 0s 2ms/step\n",
      "273/273 [==============================] - 1s 2ms/step\n",
      "124/124 [==============================] - 0s 2ms/step\n",
      "275/275 [==============================] - 1s 2ms/step\n",
      "124/124 [==============================] - 0s 2ms/step\n",
      "277/277 [==============================] - 1s 2ms/step\n",
      "124/124 [==============================] - 0s 2ms/step\n",
      "279/279 [==============================] - 1s 2ms/step\n",
      "124/124 [==============================] - 0s 2ms/step\n",
      "281/281 [==============================] - 1s 2ms/step\n",
      "124/124 [==============================] - 0s 2ms/step\n",
      "283/283 [==============================] - 1s 2ms/step\n",
      "124/124 [==============================] - 0s 2ms/step\n",
      "285/285 [==============================] - 1s 2ms/step\n",
      "124/124 [==============================] - 0s 2ms/step\n",
      "287/287 [==============================] - 1s 2ms/step\n",
      "124/124 [==============================] - 0s 3ms/step\n",
      "289/289 [==============================] - 1s 3ms/step\n",
      "124/124 [==============================] - 0s 3ms/step\n"
     ]
    },
    {
     "data": {
      "image/png": "[encoded data removed]",
      "text/plain": [
       "<Figure size 640x480 with 1 Axes>"
      ]
     },
     "metadata": {},
     "output_type": "display_data"
    }
   ],
   "source": [
    "# Let's graph the learning curves on the best model\n",
    "\n",
    "#X_train, X_val, y_train, y_val = train_test_split(X, y, test_size=0.2)\n",
    "train_errors, val_errors = [], []\n",
    "for m in range(1, len(X_train), 100):\n",
    "    mth_X_train_transform = X_train[:m]\n",
    "    y_train_predict = best_estimators.predict(X_train[:m])\n",
    "    y_val_predict = best_estimators.predict(X_test[:m])\n",
    "    train_errors.append(mean_squared_error(y_train_predict, y_train[:m]))\n",
    "    val_errors.append(mean_squared_error(y_val_predict, y_test[:m]))\n",
    "\n",
    "plt.plot(np.sqrt(train_errors), \"r-+\", linewidth=2, label=\"train\")\n",
    "plt.plot(np.sqrt(val_errors), \"b-\", linewidth=3, label=\"val\")\n",
    "plt.show()"
   ]
  }
 ],
 "metadata": {
  "accelerator": "GPU",
  "colab": {
   "provenance": []
  },
  "gpuClass": "standard",
  "kernelspec": {
   "display_name": "Python 3 (ipykernel)",
   "language": "python",
   "name": "python3"
  },
  "language_info": {
   "codemirror_mode": {
    "name": "ipython",
    "version": 3
   },
   "file_extension": ".py",
   "mimetype": "text/x-python",
   "name": "python",
   "nbconvert_exporter": "python",
   "pygments_lexer": "ipython3",
   "version": "3.10.5"
  }
 },
 "nbformat": 4,
 "nbformat_minor": 1
}
