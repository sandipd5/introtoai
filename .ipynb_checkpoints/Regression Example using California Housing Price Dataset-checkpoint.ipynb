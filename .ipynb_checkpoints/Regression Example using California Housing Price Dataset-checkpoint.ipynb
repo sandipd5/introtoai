{
 "cells": [
  {
   "cell_type": "markdown",
   "metadata": {
    "id": "9ovm3RR7jtJn"
   },
   "source": [
    "## Assignment for Module 6\n",
    "\n",
    "In this assignment you will continue working with the housing price per district from the previous module assignment, this time training SVM models, both for regression and classification.\n",
    "\n",
    "#### Getting the data for the assignment (similar to the notebook from chapter 2 of Hands-On...)"
   ]
  },
  {
   "cell_type": "code",
   "execution_count": 1,
   "metadata": {
    "id": "Yq-tFVZgjtJr"
   },
   "outputs": [],
   "source": [
    "import os\n",
    "import tarfile\n",
    "from six.moves import urllib\n",
    "import numpy as np\n",
    "\n",
    "DOWNLOAD_ROOT = \"https://raw.githubusercontent.com/ageron/handson-ml/master/\"\n",
    "HOUSING_PATH = os.path.join(\"datasets\", \"housing\")\n",
    "HOUSING_URL = DOWNLOAD_ROOT + \"datasets/housing/housing.tgz\"\n",
    "\n",
    "def fetch_housing_data(housing_url=HOUSING_URL, housing_path=HOUSING_PATH):\n",
    "    if not os.path.isdir(housing_path):\n",
    "        os.makedirs(housing_path)\n",
    "    tgz_path = os.path.join(housing_path, \"housing.tgz\")\n",
    "    urllib.request.urlretrieve(housing_url, tgz_path)\n",
    "    housing_tgz = tarfile.open(tgz_path)\n",
    "    housing_tgz.extractall(path=housing_path)\n",
    "    housing_tgz.close()"
   ]
  },
  {
   "cell_type": "code",
   "execution_count": 2,
   "metadata": {
    "id": "nRbTw2PqjtJ4"
   },
   "outputs": [],
   "source": [
    "fetch_housing_data()"
   ]
  },
  {
   "cell_type": "code",
   "execution_count": 3,
   "metadata": {
    "id": "AM1sgyNqjtKF"
   },
   "outputs": [],
   "source": [
    "import pandas as pd\n",
    "\n",
    "def load_housing_data(housing_path=HOUSING_PATH):\n",
    "    csv_path = os.path.join(housing_path, \"housing.csv\")\n",
    "    return pd.read_csv(csv_path)"
   ]
  },
  {
   "cell_type": "code",
   "execution_count": 5,
   "metadata": {
    "id": "KSr3794ojtKW"
   },
   "outputs": [
    {
     "data": {
      "text/html": [
       "<div>\n",
       "<style scoped>\n",
       "    .dataframe tbody tr th:only-of-type {\n",
       "        vertical-align: middle;\n",
       "    }\n",
       "\n",
       "    .dataframe tbody tr th {\n",
       "        vertical-align: top;\n",
       "    }\n",
       "\n",
       "    .dataframe thead th {\n",
       "        text-align: right;\n",
       "    }\n",
       "</style>\n",
       "<table border=\"1\" class=\"dataframe\">\n",
       "  <thead>\n",
       "    <tr style=\"text-align: right;\">\n",
       "      <th></th>\n",
       "      <th>longitude</th>\n",
       "      <th>latitude</th>\n",
       "      <th>housing_median_age</th>\n",
       "      <th>total_rooms</th>\n",
       "      <th>total_bedrooms</th>\n",
       "      <th>population</th>\n",
       "      <th>households</th>\n",
       "      <th>median_income</th>\n",
       "      <th>median_house_value</th>\n",
       "      <th>ocean_proximity</th>\n",
       "    </tr>\n",
       "  </thead>\n",
       "  <tbody>\n",
       "    <tr>\n",
       "      <th>0</th>\n",
       "      <td>-122.23</td>\n",
       "      <td>37.88</td>\n",
       "      <td>41.0</td>\n",
       "      <td>880.0</td>\n",
       "      <td>129.0</td>\n",
       "      <td>322.0</td>\n",
       "      <td>126.0</td>\n",
       "      <td>8.3252</td>\n",
       "      <td>452600.0</td>\n",
       "      <td>NEAR BAY</td>\n",
       "    </tr>\n",
       "    <tr>\n",
       "      <th>1</th>\n",
       "      <td>-122.22</td>\n",
       "      <td>37.86</td>\n",
       "      <td>21.0</td>\n",
       "      <td>7099.0</td>\n",
       "      <td>1106.0</td>\n",
       "      <td>2401.0</td>\n",
       "      <td>1138.0</td>\n",
       "      <td>8.3014</td>\n",
       "      <td>358500.0</td>\n",
       "      <td>NEAR BAY</td>\n",
       "    </tr>\n",
       "    <tr>\n",
       "      <th>2</th>\n",
       "      <td>-122.24</td>\n",
       "      <td>37.85</td>\n",
       "      <td>52.0</td>\n",
       "      <td>1467.0</td>\n",
       "      <td>190.0</td>\n",
       "      <td>496.0</td>\n",
       "      <td>177.0</td>\n",
       "      <td>7.2574</td>\n",
       "      <td>352100.0</td>\n",
       "      <td>NEAR BAY</td>\n",
       "    </tr>\n",
       "    <tr>\n",
       "      <th>3</th>\n",
       "      <td>-122.25</td>\n",
       "      <td>37.85</td>\n",
       "      <td>52.0</td>\n",
       "      <td>1274.0</td>\n",
       "      <td>235.0</td>\n",
       "      <td>558.0</td>\n",
       "      <td>219.0</td>\n",
       "      <td>5.6431</td>\n",
       "      <td>341300.0</td>\n",
       "      <td>NEAR BAY</td>\n",
       "    </tr>\n",
       "    <tr>\n",
       "      <th>4</th>\n",
       "      <td>-122.25</td>\n",
       "      <td>37.85</td>\n",
       "      <td>52.0</td>\n",
       "      <td>1627.0</td>\n",
       "      <td>280.0</td>\n",
       "      <td>565.0</td>\n",
       "      <td>259.0</td>\n",
       "      <td>3.8462</td>\n",
       "      <td>342200.0</td>\n",
       "      <td>NEAR BAY</td>\n",
       "    </tr>\n",
       "    <tr>\n",
       "      <th>...</th>\n",
       "      <td>...</td>\n",
       "      <td>...</td>\n",
       "      <td>...</td>\n",
       "      <td>...</td>\n",
       "      <td>...</td>\n",
       "      <td>...</td>\n",
       "      <td>...</td>\n",
       "      <td>...</td>\n",
       "      <td>...</td>\n",
       "      <td>...</td>\n",
       "    </tr>\n",
       "    <tr>\n",
       "      <th>20635</th>\n",
       "      <td>-121.09</td>\n",
       "      <td>39.48</td>\n",
       "      <td>25.0</td>\n",
       "      <td>1665.0</td>\n",
       "      <td>374.0</td>\n",
       "      <td>845.0</td>\n",
       "      <td>330.0</td>\n",
       "      <td>1.5603</td>\n",
       "      <td>78100.0</td>\n",
       "      <td>INLAND</td>\n",
       "    </tr>\n",
       "    <tr>\n",
       "      <th>20636</th>\n",
       "      <td>-121.21</td>\n",
       "      <td>39.49</td>\n",
       "      <td>18.0</td>\n",
       "      <td>697.0</td>\n",
       "      <td>150.0</td>\n",
       "      <td>356.0</td>\n",
       "      <td>114.0</td>\n",
       "      <td>2.5568</td>\n",
       "      <td>77100.0</td>\n",
       "      <td>INLAND</td>\n",
       "    </tr>\n",
       "    <tr>\n",
       "      <th>20637</th>\n",
       "      <td>-121.22</td>\n",
       "      <td>39.43</td>\n",
       "      <td>17.0</td>\n",
       "      <td>2254.0</td>\n",
       "      <td>485.0</td>\n",
       "      <td>1007.0</td>\n",
       "      <td>433.0</td>\n",
       "      <td>1.7000</td>\n",
       "      <td>92300.0</td>\n",
       "      <td>INLAND</td>\n",
       "    </tr>\n",
       "    <tr>\n",
       "      <th>20638</th>\n",
       "      <td>-121.32</td>\n",
       "      <td>39.43</td>\n",
       "      <td>18.0</td>\n",
       "      <td>1860.0</td>\n",
       "      <td>409.0</td>\n",
       "      <td>741.0</td>\n",
       "      <td>349.0</td>\n",
       "      <td>1.8672</td>\n",
       "      <td>84700.0</td>\n",
       "      <td>INLAND</td>\n",
       "    </tr>\n",
       "    <tr>\n",
       "      <th>20639</th>\n",
       "      <td>-121.24</td>\n",
       "      <td>39.37</td>\n",
       "      <td>16.0</td>\n",
       "      <td>2785.0</td>\n",
       "      <td>616.0</td>\n",
       "      <td>1387.0</td>\n",
       "      <td>530.0</td>\n",
       "      <td>2.3886</td>\n",
       "      <td>89400.0</td>\n",
       "      <td>INLAND</td>\n",
       "    </tr>\n",
       "  </tbody>\n",
       "</table>\n",
       "<p>20640 rows × 10 columns</p>\n",
       "</div>"
      ],
      "text/plain": [
       "       longitude  latitude  housing_median_age  total_rooms  total_bedrooms  \\\n",
       "0        -122.23     37.88                41.0        880.0           129.0   \n",
       "1        -122.22     37.86                21.0       7099.0          1106.0   \n",
       "2        -122.24     37.85                52.0       1467.0           190.0   \n",
       "3        -122.25     37.85                52.0       1274.0           235.0   \n",
       "4        -122.25     37.85                52.0       1627.0           280.0   \n",
       "...          ...       ...                 ...          ...             ...   \n",
       "20635    -121.09     39.48                25.0       1665.0           374.0   \n",
       "20636    -121.21     39.49                18.0        697.0           150.0   \n",
       "20637    -121.22     39.43                17.0       2254.0           485.0   \n",
       "20638    -121.32     39.43                18.0       1860.0           409.0   \n",
       "20639    -121.24     39.37                16.0       2785.0           616.0   \n",
       "\n",
       "       population  households  median_income  median_house_value  \\\n",
       "0           322.0       126.0         8.3252            452600.0   \n",
       "1          2401.0      1138.0         8.3014            358500.0   \n",
       "2           496.0       177.0         7.2574            352100.0   \n",
       "3           558.0       219.0         5.6431            341300.0   \n",
       "4           565.0       259.0         3.8462            342200.0   \n",
       "...           ...         ...            ...                 ...   \n",
       "20635       845.0       330.0         1.5603             78100.0   \n",
       "20636       356.0       114.0         2.5568             77100.0   \n",
       "20637      1007.0       433.0         1.7000             92300.0   \n",
       "20638       741.0       349.0         1.8672             84700.0   \n",
       "20639      1387.0       530.0         2.3886             89400.0   \n",
       "\n",
       "      ocean_proximity  \n",
       "0            NEAR BAY  \n",
       "1            NEAR BAY  \n",
       "2            NEAR BAY  \n",
       "3            NEAR BAY  \n",
       "4            NEAR BAY  \n",
       "...               ...  \n",
       "20635          INLAND  \n",
       "20636          INLAND  \n",
       "20637          INLAND  \n",
       "20638          INLAND  \n",
       "20639          INLAND  \n",
       "\n",
       "[20640 rows x 10 columns]"
      ]
     },
     "execution_count": 5,
     "metadata": {},
     "output_type": "execute_result"
    }
   ],
   "source": [
    "housing = load_housing_data()\n",
    "housing"
   ]
  },
  {
   "cell_type": "markdown",
   "metadata": {
    "id": "lV_V15mbjtKg"
   },
   "source": [
    "### Fix the categories in the categorical variable"
   ]
  },
  {
   "cell_type": "code",
   "execution_count": null,
   "metadata": {
    "id": "4O0ai5mxjtKi"
   },
   "outputs": [],
   "source": [
    "d = {'<1H OCEAN':'LESS_1H_OCEAN', 'INLAND':'INLAND', 'ISLAND':'ISLAND', 'NEAR BAY':'NEAR_BAY', 'NEAR OCEAN':'NEAR_OCEAN'}\n",
    "housing['ocean_proximity'] = housing['ocean_proximity'].map(lambda s: d[s])"
   ]
  },
  {
   "cell_type": "markdown",
   "metadata": {
    "id": "eNyegZ9WjtKs"
   },
   "source": [
    "### Add 2 more features"
   ]
  },
  {
   "cell_type": "code",
   "execution_count": null,
   "metadata": {
    "id": "YPgm9-D8jtKu"
   },
   "outputs": [],
   "source": [
    "housing[\"rooms_per_household\"] = housing[\"total_rooms\"]/housing[\"households\"]\n",
    "housing[\"population_per_household\"]=housing[\"population\"]/housing[\"households\"]"
   ]
  },
  {
   "cell_type": "markdown",
   "metadata": {
    "id": "0eJ3axkUjtK8"
   },
   "source": [
    "### Fix missing data"
   ]
  },
  {
   "cell_type": "code",
   "execution_count": null,
   "metadata": {
    "id": "SmmI2NNpjtK_"
   },
   "outputs": [],
   "source": [
    "median = housing[\"total_bedrooms\"].median()\n",
    "housing[\"total_bedrooms\"].fillna(median, inplace=True) "
   ]
  },
  {
   "cell_type": "markdown",
   "metadata": {
    "id": "gQUlH7jVjtLK"
   },
   "source": [
    "### Create dummy variables based on the categorical variable"
   ]
  },
  {
   "cell_type": "code",
   "execution_count": null,
   "metadata": {
    "id": "Sdc1JLrrjtLM"
   },
   "outputs": [],
   "source": [
    "one_hot = pd.get_dummies(housing['ocean_proximity'])\n",
    "housing = housing.join(one_hot)\n",
    "housing = housing.drop(['ocean_proximity','NEAR_OCEAN'], axis=1)"
   ]
  },
  {
   "cell_type": "markdown",
   "metadata": {
    "id": "zkiJS2vPjtLW"
   },
   "source": [
    "### Check the data"
   ]
  },
  {
   "cell_type": "code",
   "execution_count": null,
   "metadata": {
    "colab": {
     "base_uri": "https://localhost:8080/"
    },
    "id": "4AD7FtDLjtLX",
    "outputId": "e44a72b3-6ad4-42af-9417-b689fab6cb7c"
   },
   "outputs": [
    {
     "name": "stdout",
     "output_type": "stream",
     "text": [
      "<class 'pandas.core.frame.DataFrame'>\n",
      "RangeIndex: 20640 entries, 0 to 20639\n",
      "Data columns (total 15 columns):\n",
      " #   Column                    Non-Null Count  Dtype  \n",
      "---  ------                    --------------  -----  \n",
      " 0   longitude                 20640 non-null  float64\n",
      " 1   latitude                  20640 non-null  float64\n",
      " 2   housing_median_age        20640 non-null  float64\n",
      " 3   total_rooms               20640 non-null  float64\n",
      " 4   total_bedrooms            20640 non-null  float64\n",
      " 5   population                20640 non-null  float64\n",
      " 6   households                20640 non-null  float64\n",
      " 7   median_income             20640 non-null  float64\n",
      " 8   median_house_value        20640 non-null  float64\n",
      " 9   rooms_per_household       20640 non-null  float64\n",
      " 10  population_per_household  20640 non-null  float64\n",
      " 11  INLAND                    20640 non-null  uint8  \n",
      " 12  ISLAND                    20640 non-null  uint8  \n",
      " 13  LESS_1H_OCEAN             20640 non-null  uint8  \n",
      " 14  NEAR_BAY                  20640 non-null  uint8  \n",
      "dtypes: float64(11), uint8(4)\n",
      "memory usage: 1.8 MB\n"
     ]
    }
   ],
   "source": [
    "housing.info()"
   ]
  },
  {
   "cell_type": "markdown",
   "metadata": {
    "id": "MXyQH87ZjtLi"
   },
   "source": [
    "### Partition into train and test\n",
    "\n",
    "Use train_test_split from sklearn.model_selection to partition the dataset into 70% for training and 30% for testing.\n",
    "\n",
    "You can use the 70% for training set as both training and validation by using cross-validation.\n"
   ]
  },
  {
   "cell_type": "code",
   "execution_count": null,
   "metadata": {
    "id": "7prpD6s-jtLl"
   },
   "outputs": [],
   "source": [
    "from sklearn.model_selection import train_test_split\n",
    "train_set, test_set = train_test_split(housing, test_size=0.3, random_state=42)"
   ]
  },
  {
   "cell_type": "markdown",
   "metadata": {
    "id": "vvKtt58ujtL0"
   },
   "source": [
    "### Features"
   ]
  },
  {
   "cell_type": "code",
   "execution_count": null,
   "metadata": {
    "id": "OimuLurGjtL3"
   },
   "outputs": [],
   "source": [
    "target = 'median_house_value'\n",
    "features = list(train_set.columns)\n",
    "features = [f for f in features if f!=target]"
   ]
  },
  {
   "cell_type": "code",
   "execution_count": null,
   "metadata": {
    "id": "G-v1TSP5jtMG"
   },
   "outputs": [],
   "source": [
    "X_tr = train_set[features]\n",
    "y_tr = train_set[[target]]\n",
    "\n",
    "X_te = test_set[features]\n",
    "y_te = test_set[[target]]"
   ]
  },
  {
   "cell_type": "code",
   "execution_count": null,
   "metadata": {
    "id": "0knHNBJccVPj"
   },
   "outputs": [],
   "source": [
    "#Capture all the categorical features in a list.\n",
    "column_Categorical = ['INLAND','ISLAND','LESS_1H_OCEAN','NEAR_BAY']\n",
    "column_Numerical = [col for col in features if col not in column_Categorical]"
   ]
  },
  {
   "cell_type": "markdown",
   "metadata": {
    "id": "7WmoVTeJjtMQ"
   },
   "source": [
    "### Bulding Data Pipeline using Feature Union (using Column instead of index)"
   ]
  },
  {
   "cell_type": "markdown",
   "metadata": {
    "id": "TuZyGDaBjtMS"
   },
   "source": [
    "Similarly, use StandardScaler from sklearn.preprocessing to normalize the training and testing data, using the training data"
   ]
  },
  {
   "cell_type": "code",
   "execution_count": null,
   "metadata": {
    "id": "OwZXgU4IjtMT"
   },
   "outputs": [],
   "source": [
    "from sklearn.base import BaseEstimator, TransformerMixin\n",
    "from sklearn.pipeline import Pipeline\n",
    "from sklearn.preprocessing import StandardScaler\n",
    "\n",
    "\n",
    "# Create a class to select numerical or categorical columns \n",
    "# since Scikit-Learn doesn't handle DataFrames yet\n",
    "class DataFrameSelector(BaseEstimator, TransformerMixin):\n",
    "    def __init__(self, attribute_names):\n",
    "        self.attribute_names = attribute_names\n",
    "    def fit(self, X, y=None):\n",
    "        return self\n",
    "    def transform(self, X):\n",
    "        return X[self.attribute_names].values\n",
    "\n",
    "num_pipeline = Pipeline([\n",
    "        ('selector', DataFrameSelector(column_Numerical)),\n",
    "        ('std_scaler', StandardScaler()),\n",
    "    ])\n",
    "\n",
    "cat_pipeline = Pipeline([\n",
    "        ('selector', DataFrameSelector(column_Categorical))\n",
    "    ])\n",
    "\n",
    "\n",
    "from sklearn.pipeline import FeatureUnion\n",
    "\n",
    "full_pipeline = FeatureUnion(transformer_list=[\n",
    "    (\"num_pipeline\", num_pipeline),\n",
    "    (\"cat_pipeline\", cat_pipeline),    \n",
    "    \n",
    "    ])\n",
    "\n",
    "X_train = full_pipeline.fit_transform(X_tr)\n",
    "X_test = full_pipeline.transform(X_te)"
   ]
  },
  {
   "cell_type": "markdown",
   "metadata": {
    "id": "UFQNBO8bjtMb"
   },
   "source": [
    "#### Comparing models"
   ]
  },
  {
   "cell_type": "code",
   "execution_count": null,
   "metadata": {
    "id": "yBxstoBtjtMd"
   },
   "outputs": [],
   "source": [
    "from sklearn.model_selection import cross_val_score\n",
    "from sklearn.model_selection import GridSearchCV\n",
    "import numpy as np\n",
    "\n",
    "def display_scores(scores):\n",
    "    print(\"Scores:\", scores)\n",
    "    print(\"Mean:\", scores.mean())"
   ]
  },
  {
   "cell_type": "markdown",
   "metadata": {
    "id": "Da42oVjAjtMp"
   },
   "source": [
    "### Linear regression on original features (no transformations) --- benchmark"
   ]
  },
  {
   "cell_type": "code",
   "execution_count": null,
   "metadata": {
    "colab": {
     "base_uri": "https://localhost:8080/"
    },
    "id": "Q2H3GLHejtMs",
    "outputId": "0c4d69ed-aee2-490e-ad29-5d25d2970679"
   },
   "outputs": [
    {
     "name": "stdout",
     "output_type": "stream",
     "text": [
      "Scores: [71638.62205417 68369.59766399 67555.56882232 67668.00470579\n",
      " 68568.29042969 66325.04204759 65360.8224899  70215.41434329\n",
      " 74926.32255192 68989.18585777]\n",
      "Mean: 68961.68709664335\n"
     ]
    }
   ],
   "source": [
    "from sklearn.linear_model import LinearRegression\n",
    "lin_scores = cross_val_score(LinearRegression(), train_set[features], train_set[target], scoring=\"neg_mean_squared_error\", cv=10)\n",
    "lin_rmse_scores = np.sqrt(-lin_scores)\n",
    "display_scores(lin_rmse_scores)"
   ]
  },
  {
   "cell_type": "markdown",
   "metadata": {
    "id": "0ukYm-v1jtM2"
   },
   "source": [
    "### 1. Support Vector Machines for Regression"
   ]
  },
  {
   "cell_type": "markdown",
   "metadata": {
    "id": "LSWFgVkOjtM4"
   },
   "source": [
    "#### (a) In this exercise your goal is to tune SVR with RBF kernel, and make the average score mean_squared_error over 3-folds (cv=3) below 58000. \n",
    "\n",
    "You are encouraged to try optimizing any of the hyper-parameters of SVR\n",
    "\n",
    "See http://scikit-learn.org/stable/modules/generated/sklearn.svm.SVR.html for more details\n",
    "\n",
    "However, as a hint, you can focus on C and gamma. \n",
    "\n",
    "Hint 2: if when you try different values for a hyper-parameter, the optimal models corresponds to one of the extreme values in your range, that probably means you can keep improving your solution by considering values beyond the current range.\n",
    "\n"
   ]
  },
  {
   "cell_type": "code",
   "execution_count": null,
   "metadata": {
    "colab": {
     "base_uri": "https://localhost:8080/"
    },
    "id": "9GHzLvihjtM7",
    "outputId": "3548a1ee-b962-47e9-fa65-4be761a327d7"
   },
   "outputs": [
    {
     "name": "stdout",
     "output_type": "stream",
     "text": [
      "Fitting 3 folds for each of 9 candidates, totalling 27 fits\n"
     ]
    },
    {
     "name": "stderr",
     "output_type": "stream",
     "text": [
      "[Parallel(n_jobs=-1)]: Using backend LokyBackend with 2 concurrent workers.\n",
      "[Parallel(n_jobs=-1)]: Done  27 out of  27 | elapsed:  2.9min finished\n"
     ]
    },
    {
     "data": {
      "text/plain": [
       "GridSearchCV(cv=3, error_score=nan,\n",
       "             estimator=SVR(C=1.0, cache_size=200, coef0=0.0, degree=3,\n",
       "                           epsilon=0.1, gamma='scale', kernel='rbf',\n",
       "                           max_iter=-1, shrinking=True, tol=0.001,\n",
       "                           verbose=False),\n",
       "             iid='deprecated', n_jobs=-1,\n",
       "             param_grid=[{'C': [50, 150, 300], 'gamma': [0.05, 0.1, 0.15]}],\n",
       "             pre_dispatch='2*n_jobs', refit=True, return_train_score=False,\n",
       "             scoring='neg_mean_squared_error', verbose=2)"
      ]
     },
     "execution_count": 18,
     "metadata": {},
     "output_type": "execute_result"
    }
   ],
   "source": [
    "from sklearn.svm import SVR\n",
    "\n",
    "C_vals = [50,150,300]\n",
    "gamma_vals = [0.05, 0.10,0.15]\n",
    "\n",
    "param_grid = [{'C':C_vals, 'gamma':gamma_vals}]\n",
    "grid_search_rbf = GridSearchCV(SVR(kernel='rbf'), param_grid, cv=3,scoring='neg_mean_squared_error', n_jobs=-1, verbose=2)\n",
    "grid_search_rbf.fit(X_train, np.ravel(y_tr))"
   ]
  },
  {
   "cell_type": "code",
   "execution_count": null,
   "metadata": {
    "colab": {
     "base_uri": "https://localhost:8080/"
    },
    "id": "a3bY3IqkjtND",
    "outputId": "f44f11ad-7ec5-4d5a-9bea-a7e2cf74d0cf"
   },
   "outputs": [
    {
     "name": "stdout",
     "output_type": "stream",
     "text": [
      "{'C': 300, 'gamma': 0.05}\n",
      "86988.29174311661\n"
     ]
    }
   ],
   "source": [
    "print(grid_search_rbf.best_params_)\n",
    "print(np.sqrt(-grid_search_rbf.best_score_))"
   ]
  },
  {
   "cell_type": "markdown",
   "metadata": {
    "id": "sJHE8EYzjtNL"
   },
   "source": [
    "### Performance on Test Set for SVR"
   ]
  },
  {
   "cell_type": "code",
   "execution_count": null,
   "metadata": {
    "colab": {
     "base_uri": "https://localhost:8080/"
    },
    "id": "aqCWCakkjtNM",
    "outputId": "27544e6e-9537-451b-fe61-b26715480d03"
   },
   "outputs": [
    {
     "name": "stdout",
     "output_type": "stream",
     "text": [
      "81077.99153611588\n"
     ]
    }
   ],
   "source": [
    "from sklearn.metrics import mean_squared_error\n",
    "\n",
    "final_model = grid_search_rbf.best_estimator_   ## THIS SHOULD BE THE BEST GRID_SEARCH ##\n",
    "\n",
    "y_te_estimation = final_model.predict(X_test)\n",
    "\n",
    "final_mse = mean_squared_error(y_te, y_te_estimation)\n",
    "final_rmse = np.sqrt(final_mse)\n",
    "print(final_rmse)"
   ]
  },
  {
   "cell_type": "code",
   "execution_count": null,
   "metadata": {
    "id": "g0IKH99tU16f"
   },
   "outputs": [],
   "source": [
    "#Flatten y_te for the graph\n",
    "y_te = y_te.values.flatten()"
   ]
  },
  {
   "cell_type": "code",
   "execution_count": null,
   "metadata": {
    "colab": {
     "base_uri": "https://localhost:8080/",
     "height": 817
    },
    "id": "6q2FREjOjtNU",
    "outputId": "ca653b94-7130-42b3-e604-8624aaab7942"
   },
   "outputs": [
    {
     "data": {
      "text/html": [
       "<html>\n",
       "<head><meta charset=\"utf-8\" /></head>\n",
       "<body>\n",
       "    <div>\n",
       "            <script src=\"https://cdnjs.cloudflare.com/ajax/libs/mathjax/2.7.5/MathJax.js?config=TeX-AMS-MML_SVG\"></script><script type=\"text/javascript\">if (window.MathJax) {MathJax.Hub.Config({SVG: {font: \"STIX-Web\"}});}</script>\n",
       "                <script type=\"text/javascript\">window.PlotlyConfig = {MathJaxConfig: 'local'};</script>\n",
       "        <script src=\"https://cdn.plot.ly/plotly-latest.min.js\"></script>    \n",
       "            <div id=\"9d4a0c2f-4325-4e90-9c09-0740c693fdbf\" class=\"plotly-graph-div\" style=\"height:800px; width:1000px;\"></div>\n",
       "            <script type=\"text/javascript\">\n",
       "                \n",
       "                    window.PLOTLYENV=window.PLOTLYENV || {};\n",
       "                    \n",
       "                if (document.getElementById(\"9d4a0c2f-4325-4e90-9c09-0740c693fdbf\")) {\n",
       "                    Plotly.newPlot(\n",
       "                        '9d4a0c2f-4325-4e90-9c09-0740c693fdbf',\n",
       "                        [{\"hovertemplate\": \"Actual: %{x} <br> Predicted: %{y}\", \"marker\": {\"color\": [69204.53568110574, 111932.34417459044, 221695.74029470808, 254931.45208715537, 197500.0330223929, 170060.98709908128, 238742.34420914314, 190830.8517087786, 209126.95249091068, 330763.0878106601, 101619.25818782784, 171999.93676524222, 166297.1537662006, 161753.45235304843, 249478.2831010365, 187255.4416754004, 200774.14217461293, 152801.31160187113, 183017.87651330853, 92266.2846329069, 236507.87413942863, 232087.0422549361, 182330.84837371475, 275752.5630013309, 197700.97092486487, 82617.55677817903, 164843.30658747998, 178784.1279906954, 143093.9773016803, 271680.6896267155, 137616.09617880575, 138837.28244092764, 164323.3545783779, 292827.88880182063, 189555.69345773754, 217696.45826685373, 204680.55664116514, 177200.35092834072, 137334.49053881742, 163199.8020958649, 274506.1332428665, 132010.04589976073, 97281.92871690782, 188802.81615073417, 142076.24117040334, 173587.61280256187, 171298.1689862821, 165232.19376125667, 161315.54567391222, 175269.53659430044, 212436.9202152542, 162547.16556098685, 179521.39878885314, 72965.97506283649, 162890.37072638463, 186771.13998907982, 89905.30026547823, 241048.75475430794, 199370.05990564093, 202077.8882455716, 198497.98834180905, 175867.46735662123, 99651.26878025143, 163851.79307598952, 278466.4397116086, 184838.5835458703, 165109.72788060657, 163863.69535734635, 157240.05414322575, 160941.71745801833, 137518.56841355877, 238210.65190073816, 119781.59753886878, 201377.3042044663, 184557.7335563738, 190524.03302979495, 275126.45516562695, 196979.42112529083, 205610.53991151607, 168316.44764968957, 93078.66577671988, 152535.23947402983, 128449.07414354249, 135137.2473282502, 299359.17821961024, 241858.51133302553, 116882.03856640113, 84120.5705622801, 127687.87412178323, 156383.5468220765, 178872.56770029603, 207271.97701088907, 148108.64320116676, 74908.1915477222, 98479.07899750328, 111929.70593977094, 212776.85267553115, 145357.99585614016, 173756.02819994467, 186600.43008536304, 119457.81798714853, 317193.7438985531, 194990.94897570557, 250166.5235609765, 196085.5291329494, 162060.39061867213, 144244.1110326603, 232509.75582186217, 204824.44348295816, 96324.6439706505, 179111.77874737495, 217415.23750370002, 302451.5451231965, 297022.9964889905, 138586.06287022925, 173153.6297159142, 189314.41929537567, 210185.77466645898, 231939.07073869673, 222479.13795943087, 191198.93112126552, 201694.99301300544, 234111.4874879818, 149861.13573193896, 168934.19260171909, 100762.1886102515, 93859.0098218252, 156381.77881826062, 202385.79560253816, 151149.5709239862, 227783.3657029579, 304980.97454059846, 217888.99225088142, 102826.23107759055, 192360.70208666107, 150598.01354390132, 223459.30511331875, 176524.38434304373, 180119.72438838438, 243191.4857818131, 203389.46598742495, 166284.02453139008, 165154.2200935434, 173957.99821653764, 324338.6871185761, 165317.33157756837, 279025.68946115463, 157719.87714641783, 89272.57643084752, 118441.33621306073, 135458.5539127008, 125816.90471241252, 204753.98193029282, 147508.00669821224, 174611.2690145573, 263728.45646305464, 206648.78234421113, 253391.3515433405, 88783.23547437736, 127338.59594976217, 237625.3659409031, 189250.63258399934, 271299.62657817, 143958.67270544195, 100357.02403081197, 230659.93573126852, 171450.93408097926, 112767.56697959523, 188454.37894485748, 219162.2397966193, 270934.5803085814, 177231.27881102363, 255561.68399949578, 256457.37118857188, 87092.49076982231, 102112.20909827613, 150761.66298901007, 129691.87346194571, 166801.6988555736, 138302.90631908976, 285461.64952673146, 296324.8193813665, 187009.61415687384, 229441.03892674262, 73311.38834998335, 128734.81194219434, 168892.3625078472, 172465.68068620373, 327275.74696266686, 204520.894138851, 184191.91085194872, 237761.9953070589, 102020.70018374168, 172298.0955009774, 130572.40292357205, 105511.37214569146, 208452.9864096614, 113369.65226249238, 358019.19480765203, 146941.48726471304, 191660.2657334184, 316065.52135902416, 262392.53766284394, 225215.89836824936, 198736.86354316914, 169774.8809663199, 81660.2252984915, 88881.84335492887, 216880.10668030285, 157197.55090818892, 153074.41997355164, 330830.4133852038, 230580.92742798806, 252256.0698298789, 166233.22973611913, 157566.43536824963, 149835.8450703498, 81630.55159568605, 186629.2637832619, 153141.59772830666, 128893.93181107458, 158609.22663292973, 227413.52139070886, 171036.43786887368, 167355.03107913153, 137071.69636774954, 237420.76625217186, 177602.99552227528, 229577.83446728945, 198329.45625691544, 226770.60607820612, 175674.36301570566, 151516.28834763673, 232168.02916564845, 111684.18180089915, 96476.49727494406, 309881.3575103524, 340432.54391461157, 170126.90617652633, 230905.99689630547, 188484.0638859899, 121553.63931434305, 166971.74128753372, 166846.15233899443, 137167.9716192854, 228357.01178472646, 224368.49576572963, 245640.82712225686, 216963.21212870927, 158473.83126444847, 96491.47939535348, 211987.5553373729, 170615.60590640342, 152452.19181696308, 89120.82586578012, 229479.37189169132, 160359.20092700102, 143602.48590037445, 132225.7704266772, 198140.4462936407, 250640.1129814629, 206368.3565549727, 304534.3265167427, 197176.41970032832, 104353.00261026059, 262093.4602707872, 146358.9887934121, 201037.18015025422, 280485.31598138134, 180401.76843218633, 312987.1871610532, 191629.1633292339, 170432.32732583774, 183615.60114171632, 140111.40971603664, 197627.5219738085, 233894.18888908136, 122009.32501167584, 178742.28561044286, 192481.2263499451, 167258.09074169846, 217447.05701021722, 115172.3839969039, 183640.85418222798, 182969.6917440688, 275996.6363448384, 291558.51553297334, 154590.41219808767, 264996.8308134355, 331611.1672149437, 184921.6110261849, 137864.34835837365, 159469.19804329617, 146000.48151274637, 169775.64828327377, 98312.16893885756, 198913.51623615276, 96328.31043085788, 238687.77128937165, 219197.6055769438, 76464.5583075587, 97772.35999748572, 282185.98502933234, 153672.93065444584, 116931.46466658928, 295880.22857655154, 160182.2045849666, 78843.98313650498, 269296.61218071246, 175462.12839061423, 166110.2546586763, 124583.43358622087, 215089.8340494004, 230931.92338403163, 321449.17946403695, 173051.10713958478, 93915.47198727657, 203740.0079378247, 186207.4803065589, 251913.22339243366, 219785.49733588367, 226273.276918068, 160585.51894412778, 344442.25105184386, 232400.43350333077, 151258.0437381519, 197024.22347000806, 106821.92895397193, 180187.2654102326, 168895.15411587997, 119054.43186698257, 172814.13486351044, 235509.06193833947, 184331.58601120548, 103220.65189604048, 265698.19313760137, 144299.54658418457, 91828.8007973482, 71308.92517728778, 330052.09342480486, 213555.2833206373, 106828.4966131502, 95893.87086476714, 211610.19327008736, 192504.06207179473, 109837.07802361768, 271290.78235993354, 237195.60204138266, 336621.7852015124, 178560.63196037905, 145811.07691788938, 186103.6678226523, 129107.95525215482, 91386.0705951598, 216004.33436759224, 166818.00800641562, 83047.51369569403, 208333.80369253943, 242329.88537217004, 158694.91219993721, 283603.859487431, 236736.00055069418, 195762.69981965638, 129192.20580228274, 182765.19272313995, 195129.0249921592, 187841.44364708549, 317856.22002323455, 239224.15239776706, 203936.4574730758, 187856.91987240818, 133392.79467406796, 75162.27502694038, 150307.07135852712, 220930.35437838186, 239559.88228380767, 178316.09285689046, 165084.14238659973, 105535.55362064687, 205066.97915143176, 275387.0899201598, 341512.660666898, 199365.77854354243, 128368.75291734641, 169915.45748222567, 223541.52600545157, 87850.15043296888, 168276.29213040773, 137935.32534530852, 190171.40944385758, 223867.42867557608, 144442.38769539946, 151768.11446444184, 117454.46498978249, 208957.62014024623, 157562.20586455482, 302045.6251726648, 258270.11515739418, 189635.94213740708, 192579.15375712755, 206011.5050190793, 188941.19269729956, 195001.0960296538, 146048.5280690003, 155867.79389444823, 82232.94266438301, 340190.8805629032, 184557.0302451488, 88471.04202667043, 177916.08618502485, 171736.2192232482, 339035.85956135625, 214383.21538008336, 158411.35772300186, 143113.16847450967, 234969.02453644524, 227500.8423479455, 110330.9756550381, 248369.26933719308, 170822.9342887531, 108865.83350042895, 137351.58382749677, 204176.66115090039, 152022.98255993557, 315172.7995794922, 201038.04409248737, 185305.4126545621, 223223.4626176854, 213374.39944120037, 167861.48689736557, 100758.00690489872, 171689.20051722616, 264729.12355341465, 153153.7820317949, 191567.91583579357, 263153.24607969774, 256007.58689829407, 107023.1879292594, 200210.7071728949, 216867.73320438925, 219953.49508893897, 161366.49430368553, 228749.01273280947, 235369.03290086947, 151971.1305447935, 160532.86988139653, 294305.4798982542, 142687.43931603373, 124627.54750652405, 229887.0087731281, 232729.22408234546, 183565.88151794212, 319026.04280995275, 109871.99216923857, 174018.6496636542, 244800.15139527462, 185005.20093538644, 214728.1974383017, 245773.25808544277, 72877.24406684333, 123597.91160184967, 324408.4692282636, 138269.55108661915, 150263.12889091036, 140104.84772727313, 150484.10516166996, 201354.52391039592, 227633.5417186382, 126222.63624839803, 129145.37398413203, 191557.62102406207, 157376.61238866998, 138478.20053505656, 125967.72923502464, 218492.2994167655, 153779.46255323794, 140711.89130594023, 90614.22807190235, 181230.4449057986, 92747.09433022511, 219409.1659253899, 171687.6079133983, 183556.91999091173, 198987.0604257489, 133938.56849883788, 184380.4336276405, 174121.90901851765, 237818.1921004096, 149213.11022222284, 196757.9898039077, 121223.85850807898, 127458.06578117843, 130970.56993808183, 70424.58505449834, 195180.4279903339, 142813.25593670201, 246606.61481341324, 235821.05394234625, 163231.52663885092, 252634.2779815534, 179898.6899772554, 258604.38350904163, 178277.80113410094, 112323.44807192929, 201403.1419982329, 206183.7712266659, 161977.59305611765, 267339.1601836418, 252656.17598922146, 196498.75471889938, 140036.56106636755, 227008.57292389075, 280985.80696084426, 271687.61488187034, 199458.15815043543, 290394.0921099741, 170981.05791604173, 170177.81675151325, 78355.92252975571, 163586.49184274033, 232556.9095742905, 159798.24866734393, 232540.4628185502, 144886.55734771313, 131438.52755037567, 194065.17724345805, 121437.37223512879, 110325.62400769093, 107675.13696308511, 152001.1500759256, 146448.3392897509, 154669.62348277454, 169207.53503874474, 160343.73505812508, 184366.0353500869, 188423.10178322575, 262303.92817973933, 105155.76114798934, 201315.83679058022, 87976.21201192406, 247299.05768300995, 265520.27767865144, 241916.27562874585, 188169.3980963724, 200935.14934067198, 330720.9103852425, 216626.76704018947, 349722.9777456592, 247584.10978737712, 109157.82314901071, 139311.48268858617, 221056.00142058788, 135548.1432337115, 161091.4800124307, 138992.90015963308, 178252.38928376633, 121232.77037080938, 175091.5053880674, 131899.01965479885, 123155.3918284036, 219285.06557024035, 243053.82034544315, 217848.5113208828, 208303.2450485889, 136542.7993089647, 263026.11111991183, 261280.45724115823, 245070.7408520308, 246314.34580619435, 202989.7686344024, 292261.9707927961, 77738.17480785337, 177501.1269523877, 190616.94785377439, 131419.1033076946, 168315.90692710108, 99153.2975645406, 193853.30338847218, 147580.3411125549, 206167.5537142663, 277597.69666409714, 331220.80238406523, 318938.3309360738, 171132.99067388993, 182659.22344405664, 309344.7581115919, 170566.32468482107, 164208.8407172453, 105421.60805254766, 211212.96169920568, 97984.07087934072, 142319.32931984754, 182730.5961822773, 170209.45719634704, 65683.8703955386, 263080.8789259961, 173301.10430180182, 104542.72620282223, 131166.97420990502, 309488.2141772436, 129767.97707032188, 240436.46337086285, 224618.23616440818, 164414.58584814993, 127435.97379459665, 237934.11426542292, 151511.6110874282, 216120.6645008913, 203601.21689190378, 87259.71880431427, 173240.26246192973, 159091.73785436648, 97283.59293853628, 264103.86256486725, 218273.31903053162, 219628.2407832806, 232067.42809352485, 224629.33404603953, 149578.94293190158, 118557.83426734043, 271894.937044332, 178783.14282073072, 183610.50133477684, 209831.45336031003, 306341.76827971195, 172770.7694520592, 221098.46625906506, 230627.09345673883, 313103.2626631881, 262593.7298680602, 261553.8197636148, 180595.32650258794, 123558.13975000616, 104921.37688817234, 144089.6232304587, 273051.6553127715, 163034.4823430625, 210248.42696004358, 171234.77092436407, 93253.97202089195, 225218.85120887213, 138650.12128371716, 217124.99321202608, 123397.71119580671, 216170.3910432789, 177697.65801912724, 101061.72980283202, 130906.35626677852, 239434.51122583364, 206627.97736975065, 122053.92116733534, 154417.01381792646, 106018.15999846924, 99729.65716564239, 135860.66725193965, 176240.16281719587, 155518.13778131732, 111979.03269331872, 173788.5961464863, 174643.930979288, 169246.85344333784, 198202.78224040146, 294608.768708918, 113618.92357119318, 154853.53970951482, 124015.28565331377, 85123.4608919485, 138844.10114642658, 104809.92663018627, 218930.86555460934, 200220.77706147995, 169764.03081894535, 313673.094481552, 161852.7717045355, 120950.46764030262, 181229.2986692865, 121904.5908060886, 120115.89445015168, 299115.64369067876, 341441.8017517263, 174486.93558160122, 117678.42843434845, 163962.5929857652, 263741.0260319847, 262022.2471611594, 275278.9192390795, 302315.0834778459, 222979.48228337237, 212835.24553892124, 84373.31368111464, 79870.46993734592, 185900.4204163705, 207374.57684777194, 183376.0599553575, 201661.2513109376, 140814.5468327083, 92791.47717764504, 142116.07420763766, 132103.78968952602, 258809.83348668407, 172798.07054026515, 185386.05518411013, 192561.05491341185, 166311.7821618992, 157911.89418663332, 299150.6586753002, 198173.82138700318, 202196.90787234827, 167340.1786268977, 241098.419325774, 242589.61330838758, 210344.18633732852, 300756.5509029969, 191695.7836184117, 91126.51166234691, 205363.61839827502, 210069.65111899274, 171110.16896911882, 258029.37365690304, 101309.23533925954, 302831.06478409044, 195867.55483421212, 108786.83777537906, 244750.33230979406, 172156.68886294047, 133872.53170837136, 218598.53919500133, 115960.63288553133, 106763.56696788792, 206056.2720928828, 144276.52717286465, 126910.29356144168, 171278.0228277653, 145649.57593066647, 329618.840802207, 155675.5419949218, 158805.36621190858, 146959.1195627133, 152965.03800917044, 196772.43606453558, 124150.93555528444, 178390.82296027878, 104906.78383597612, 289408.1265467731, 186068.3371159446, 195145.39535113913, 184169.76780499978, 124086.44732327005, 204468.3320107841, 147906.31797155985, 101027.74284832843, 262506.50997082226, 195877.97139869683, 204720.28494552078, 265340.46133799414, 284167.1578079979, 159554.13574849922, 205965.34268989577, 154457.55646681166, 198500.4863218672, 152889.6389451584, 165929.65537704516, 164746.24798708432, 240173.89086995274, 286076.77715557755, 101958.12262038358, 246030.37487752037, 285222.769100287, 266038.7978221359, 114357.6189210601, 179786.32721967602, 257592.31080722445, 114232.41669921583, 159222.46089192, 179050.2867800452, 177757.3655733557, 110177.36219175336, 139384.7197330849, 163079.75361963606, 165863.5405093786, 140888.01672861085, 159673.76869534404, 191459.90853854772, 230854.74891215557, 122339.92911954604, 183479.72953970157, 228529.36457398222, 128246.82492218338, 86848.21436842848, 228881.2242893536, 201429.7796243952, 130402.65905728265, 172083.2041985112, 135142.20373529408, 312785.88414341473, 162556.3939850671, 310300.51570367813, 188555.4662316206, 237117.28871068775, 189414.77420761995, 127626.70012997658, 125536.25202823868, 230709.72206183375, 194133.56019799726, 202005.62476043944, 65952.27375531639, 189530.9182472094, 107912.26984049987, 210057.4381131373, 221794.17571576944, 189940.41440875747, 143925.08925037223, 147902.43798082494, 203652.09595582008, 104679.30036814738, 208441.13366225347, 177373.94639740573, 216844.8309027522, 182296.01998154976, 130075.79665503172, 230184.1314773698, 166903.66232579394, 173553.82760070474, 205424.515787397, 227961.1158026418, 308150.25650039816, 304310.6282616653, 146839.85922512686, 174002.7573218677, 131976.52053346997, 86943.77672481751, 188991.7407283337, 173890.49506827307, 191901.177582106, 204418.9128832541, 84366.67732481589, 182863.32773857174, 356294.2442440419, 173758.15964384482, 198232.31036943366, 154455.98601111176, 184678.03809087016, 216063.55168860848, 102030.76351014539, 162892.3861225253, 115409.38629662446, 68672.89036252932, 187949.81371601782, 168464.26666279443, 251912.1645003226, 138280.40049599577, 202327.959476396, 277441.70343651786, 134924.19897873158, 190451.1451640541, 206428.31370571433, 246612.5056925014, 177960.3723680421, 159860.92637065164, 242364.92208586898, 154167.026328755, 231587.4145180755, 210076.37556466679, 86604.85959474747, 188924.70875446606, 100134.32894608234, 208452.24706626314, 229205.8087518653, 214836.403538315, 271011.6381183867, 239152.8831153301, 153079.94502292876, 164552.01871579638, 165585.7040161874, 231959.94155200987, 93492.57693277221, 291962.3171102065, 221858.4375306951, 150188.74932802713, 137910.51674238523, 262790.67593683733, 184976.50152316852, 268097.5429902349, 190128.646494378, 175256.16586477277, 160578.1860998593, 102234.19056623112, 179188.2673991619, 180702.5878017335, 187568.20578867348, 162299.064757431, 131777.0183954297, 101860.58136723135, 201950.91166504938, 243272.47603007086, 92430.9327868204, 191381.75589620316, 186147.2629004869, 116575.81705446585, 135442.64303513448, 231012.56167644498, 122503.97736318689, 113449.12055606495, 169935.6270543955, 163013.79824593183, 158074.6407551698, 286778.3832535959, 236410.10409436934, 157245.77473521148, 253128.34537339545, 163859.56116750874, 241203.95701189118, 174259.5622583026, 166927.69654443866, 342519.1983507713, 95572.58678887569, 192463.5742146254, 88443.26412750164, 127371.5550186347, 258018.43786311615, 109159.51162105505, 219373.1849615465, 181869.0102616645, 93629.47102944285, 125148.91388491388, 93092.64426545697, 156099.81244641158, 285590.13934551855, 188907.43331338617, 242383.04397535697, 191965.17394112624, 299508.3126670245, 171782.1126461915, 143164.50789003356, 189276.3589771385, 175169.43978818675, 218469.31340458515, 223933.33067796816, 144057.49811733695, 154393.45533915772, 239155.26255160605, 245669.3234905995, 266449.8265789917, 146247.04569278608, 204776.3641099909, 142876.74491677442, 88977.67467341783, 149672.349981712, 120820.80371524907, 169789.7117093695, 265089.1321882992, 158858.89419132716, 170532.59947803646, 170562.7416059301, 105629.70858269, 248429.46880344392, 176281.4164361881, 135118.6122106746, 171745.1651027256, 110502.00475667659, 121751.93199196835, 335886.7803965735, 173571.75904462562, 327431.30076401925, 286327.7496755846, 120551.3289392056, 220158.25303147035, 213613.4680936076, 188278.87859378054, 71197.31625237205, 199589.64201828555, 265206.22159291396, 189559.7803295735, 161056.72562283144, 140640.66946919134, 194233.70076272916, 210344.83010309268, 199016.54929267397, 114377.39857186777, 141719.30331425666, 108927.70526006087, 203527.31992850968, 187453.2976372606, 233733.67168246186, 281951.9899197697, 157021.68637040688, 216896.81086417477, 334884.31973757397, 154461.80242410413, 263765.7952182888, 200435.73879424407, 240917.01733635034, 121872.65580842583, 139649.30217273097, 170891.5097877084, 244731.43073036784, 113925.01547131724, 138329.20928995922, 362587.1107937946, 195776.78084078027, 185000.77814448444, 105048.0996859316, 197476.00746056295, 299979.59914221545, 177198.20632655083, 217041.11010305193, 126287.8634570126, 206442.26557522386, 218315.44691544437, 249225.44767906118, 179207.01998539447, 226082.23846243165, 204378.00849094693, 217960.3570060403, 314986.1745057596, 132033.8260672436, 222215.46720575576, 217411.13421173187, 135974.9832714767, 202280.71074286406, 152923.07658425864, 362591.0930358545, 157424.4185833408, 218014.47298117634, 163294.84355506726, 156689.38395044682, 204016.02746238286, 195084.18520315771, 234642.30345961597, 193299.73659469082, 313468.49927362177, 286349.49712209305, 208050.52618423972, 218680.26634995762, 137938.04933554213, 159267.62785468472, 109546.61616461402, 174387.55756419816, 164761.81034913528, 329540.8021367581, 253809.8966868323, 136918.73826588033, 115756.8449579367, 86485.68573949914, 187826.49377830795, 190002.44239525686, 187866.89626187895, 200741.26465135225, 154130.43743113452, 249791.99444940302, 160452.20606094308, 132630.53283892464, 150401.3842035998, 159232.55994349666, 134461.74420975905, 111718.72187918145, 114662.58182638677, 318606.8742978633, 83903.05779957914, 123853.5984698931, 165241.04882582623, 157469.52221308427, 106962.2998084011, 314156.19070624444, 167596.05551727832, 145682.3564406483, 110870.50981560862, 183798.90280929167, 175535.93268831066, 142603.3415401559, 165856.0084461212, 94849.22451267838, 170553.44469883392, 306650.98865928757, 133828.32994983566, 271528.9481726358, 133809.29757010663, 138445.54053798912, 232560.82167843165, 141982.33338419208, 305581.8995261937, 234203.58740702522, 172805.18946612053, 153322.64740964415, 134992.67986058406, 83052.94062148598, 274921.2595450781, 124579.0620764387, 192669.97914461157, 207816.2861201831, 145675.3493568744, 130948.34967738397, 135958.1305807258, 177589.46859337486, 239882.53354380446, 206215.81851749204, 215994.85382998054, 198365.8927002318, 213302.10816448982, 166284.47371904584, 120780.48301990637, 143791.868975454, 289666.0381305303, 78909.03231473024, 154686.4631149355, 105709.85354783206, 115237.29822591008, 238044.1185909256, 89369.17008087458, 163572.66194359132, 202199.09423579983, 275310.45372541575, 300942.79670224705, 262993.9296212784, 198454.5368052686, 219154.40796873524, 213240.94102930944, 204730.35160061708, 133137.90273517068, 139677.5829811978, 181128.01335723978, 100829.07979413075, 139624.639257912, 180096.43103665882, 184397.6180352607, 195614.48508277413, 186437.37178504257, 207736.11094676913, 247164.7006436414, 268260.6557105099, 132533.80482691567, 167479.63065448083, 107421.81292603888, 167093.4905417172, 151938.20749790664, 266265.2611676175, 182089.74825915974, 91311.18966330928, 194959.40189321787, 154632.0695303374, 144425.27663838578, 138950.64566540948, 101923.08723611086, 127282.28231704983, 141720.91804845165, 209099.28131531476, 123356.697418601, 113047.01717437826, 127440.68310029541, 143506.42681056395, 362410.0835519717, 165628.13417270785, 222043.36318489956, 127761.08100006898, 89790.90243686085, 161560.28108948312, 154617.73972864266, 203956.86598166803, 146369.2601684028, 207778.83205912844, 177459.97261996518, 186651.66964143893, 98423.85542589685, 129552.53517459745, 96357.02862287321, 123363.39412099474, 163173.07163602955, 190297.5889861401, 184286.71725583554, 101569.88237089782, 84352.45726062245, 68510.83193865014, 238117.08969808693, 241256.2523045868, 145131.57699755573, 158203.0993942476, 95889.9515445002, 192815.44820246822, 184534.50756688823, 179118.32579817873, 89679.30895712801, 138920.27655113602, 201093.54924950405, 173216.75267271497, 285131.13401398354, 250768.6555976363, 213113.1864487668, 177133.23077277976, 116908.02941245513, 190709.2799896353, 232346.7135047423, 194997.5737210024, 114010.91058905322, 152757.39095274074, 246978.5251061455, 99816.15598494312, 121167.92571918773, 231760.9782522946, 173144.02929627334, 316954.78253850044, 184656.64776646832, 186538.2858422258, 93883.25636422416, 96278.69952741034, 325335.51305544813, 165521.0467063649, 323437.092587559, 214854.97082494074, 235609.362458592, 216055.26599132316, 224463.64244107477, 145127.77174253846, 123390.0946594186, 159770.38463777967, 265565.2654995099, 173831.29819603337, 99346.20845864622, 299857.8406699776, 172026.78073772512, 197353.05912524575, 219726.7265200151, 133231.99664103627, 296609.86344955734, 201850.51164794463, 162188.9050661579, 209591.8933283283, 140418.877310014, 211955.04400966445, 139935.3088016512, 208919.262286787, 336520.8926149437, 115347.6231224776, 87236.56927197424, 130446.42753610294, 142381.7320939885, 122374.76817383386, 156033.57103139127, 174222.7683475474, 160925.18526460347, 290074.0459762717, 80796.50512864589, 251681.5364016964, 162055.5614998127, 272332.22573330416, 207045.46774286943, 128426.04233653969, 114389.70634349991, 133963.1005144747, 362138.3610523694, 147493.2638709448, 269730.6845592929, 214840.78431197186, 240787.06543232314, 220107.6048135463, 228395.92188735318, 230799.90786698007, 232629.76291432817, 116098.37119438747, 195632.03219346885, 241999.2957723296, 217848.42709283668, 148889.8778891575, 101826.13253622853, 183727.06951375428, 237456.60261937254, 120491.66789806863, 172211.38340241788, 164188.1805467297, 175927.14060045098, 229469.2028587708, 186089.05624386147, 159578.30497431918, 172788.87030649217, 99958.39269321974, 207270.36731750745, 121927.80230949924, 254760.30393252175, 178285.57646866486, 344777.5257411794, 222841.70454581018, 141397.89210541235, 126723.79601233194, 218539.09715653394, 196283.74882632066, 177574.01430118934, 181623.1403612413, 309453.5015182359, 177302.7002628951, 216018.68285739038, 191681.02002061822, 189646.13731647583, 281977.78822718933, 247978.57976201427, 260593.32263265844, 73787.38801595692, 205111.91388714194, 95716.5584403323, 151814.42901721413, 203150.18797996937, 204370.68363984942, 192662.55088424616, 171557.39965553497, 167334.12451720587, 305931.7147057317, 123630.57937238476, 156911.52315253796, 93214.80467755235, 219346.5752756302, 158778.18376170844, 244988.06678220787, 246625.523021794, 247884.5168915851, 266877.10905173025, 192719.96836945866, 100524.1162619495, 309465.96525689523, 186920.61394063925, 277920.9149940742, 179337.13872574543, 86194.58064863876, 219701.79773768698, 293439.10037733323, 130564.0664045094, 258239.80831209692, 98300.14949755503, 223569.85816761956, 96656.23168376654, 271767.16606670397, 292144.6305391253, 224217.71999756954, 96888.7677868793, 187495.61639548207, 216539.05921876567, 135393.42675173533, 171427.5992014962, 339283.618966219, 282022.0827580665, 95050.55160429177, 207745.16533241284, 226715.333238642, 134052.18869004984, 178311.02425390697, 182764.70078315277, 68558.47482765358, 188586.11890320783, 154368.1598423689, 145264.7064005457, 161612.26574668838, 237721.4107352266, 152673.924139948, 148446.4024642671, 162693.24362003175, 171230.4616506091, 272704.30226167425, 198312.87990814156, 257502.31406555494, 124670.04145796997, 143664.96541651603, 176525.77640085912, 170047.983189447, 226000.13150745112, 97416.30156812382, 221917.20279450063, 186778.25041826323, 211451.35782385027, 265425.9427700978, 185158.41408901455, 168357.2801729158, 92591.33691711519, 115844.56352534966, 234792.42779572512, 295120.3277188507, 223159.93064503008, 132664.46860371082, 218893.43304108665, 176223.62666314834, 217468.8223710961, 205082.6172055118, 95228.24956897572, 118702.84181965991, 89938.91351107506, 144139.48564197018, 321506.3889201747, 226050.76854083058, 188177.67499731467, 126848.42624219773, 120407.37139838605, 200714.52191170547, 150094.94746560184, 231088.56079038925, 343905.41989821434, 154004.95398279515, 206092.77101824214, 212194.86691780406, 141734.50749825075, 287133.507419048, 181833.14416182376, 188449.90953796858, 88131.45146541425, 191764.08905420758, 139151.71539171966, 219274.02024899746, 81924.78507567085, 105843.21618898863, 204713.76013327442, 164421.95830425885, 213964.7489423966, 160584.141722546, 272876.8194656899, 221383.87133102084, 122206.25881262336, 173579.6784751824, 135623.84734836614, 79633.5680936332, 166639.68469951407, 116406.75864747894, 204028.80724986183, 150507.78131655973, 229718.2223975678, 213881.41222556404, 159438.87374461239, 169022.76034298813, 138939.1551310566, 248445.19216257296, 202025.29245956475, 220812.8779333399, 128878.8302805674, 76200.05124032346, 128128.50899821373, 235579.1569787901, 108080.47223590793, 179019.7098838753, 216202.74993000328, 194645.2921092088, 285864.314505942, 160920.6482091972, 139969.02609227423, 163616.92912543527, 108593.57151537667, 72432.68671491594, 160106.21555495015, 256610.0113562221, 296100.1329368501, 151718.60240811502, 236128.08116226617, 199173.37499646147, 159498.47368025169, 90427.34188212553, 207193.89232758863, 255477.15720571036, 136688.44383748743, 109265.32376168009, 214840.31461929835, 118019.54426935434, 170808.63114554484, 206416.5634103047, 146896.46023105225, 89977.29622388359, 156366.0560456864, 90446.95682022613, 187366.549321368, 260327.02397675172, 219101.8707747038, 132685.0245029866, 67564.36985958793, 119975.16154949243, 169065.6009060141, 151327.39999819524, 154652.4042531599, 191662.2902220126, 173629.0525037759, 267032.75180886826, 146680.79523422354, 275154.5126778023, 217403.515289566, 137525.7880217255, 217147.84008466938, 197948.796425919, 165126.1697118859, 200203.6669788103, 114163.3597713075, 181199.28387849996, 149516.84466511826, 178961.48676741563, 331898.71977289644, 121071.27486833188, 221793.9090940976, 204804.25609467036, 204883.56136500722, 208178.02437278387, 129124.47136143628, 175113.36416320875, 157055.80859390652, 157667.3980770449, 280838.8400232673, 211719.5481294097, 66236.04221603923, 152419.69222204675, 205853.59919469838, 137958.62122666324, 148400.3277568067, 102181.85507280128, 217898.24718559714, 192475.83057067246, 221159.07165544905, 196142.08556365297, 159227.06992115604, 128092.46054165042, 205240.5705033803, 154707.55084090523, 217226.09787820658, 182384.687824252, 177971.5202402808, 206006.45499786065, 103676.82923559695, 279730.323922604, 198275.81731762146, 126017.16803929643, 199581.9533024043, 159713.8833444628, 126932.85956526424, 194716.25695255274, 238234.02847378963, 80709.55485798471, 111163.27356711343, 116422.4113250275, 212831.2936045327, 128009.81335159209, 137946.8987247523, 91246.48617095074, 239634.51493783476, 191847.4305860728, 154177.8124185526, 104229.25140339488, 259627.1906518448, 235575.22742879594, 105173.16956863935, 195869.83092250745, 131204.26595086342, 72622.38744319958, 145733.0920310939, 210958.07994572265, 127284.20971150443, 87728.69905083663, 124444.0177052467, 104525.47547493428, 155078.0429871857, 179653.32253045708, 186526.45568927747, 155066.83429169538, 150696.60425998727, 171823.50036824172, 220112.4201981003, 193964.36894455596, 187745.60764106654, 192188.27118154112, 136901.59122734063, 192348.21289759388, 165822.81908316253, 211672.27571301415, 223727.25836454736, 126845.10158003688, 174578.3196813418, 197976.8195956616, 201714.19607148928, 187792.83903073717, 263107.45283129934, 168110.89766720947, 132886.11728861244, 193626.5847891031, 196765.9890844216, 215163.33507563596, 144747.82988345326, 143268.03787826974, 127584.91887178757, 269689.17671293556, 181067.88011577007, 159536.96290810904, 272368.4273440631, 233579.2299261171, 167537.51639547385, 103983.17384847056, 167938.2732813788, 227056.90391042148, 195783.5942617671, 136178.4475797186, 94619.14920379742, 121587.18485716706, 81545.76158326087, 254876.18037549313, 219638.17207408306, 144137.04009609844, 252630.7491677696, 215349.6155259551, 353277.4719816382, 153155.58234742488, 94818.6907733615, 137143.3353852573, 149009.14054682132, 71901.7523693697, 224558.30744509533, 186649.3998700666, 212062.29196296245, 187255.90999631156, 147289.0348267441, 191950.53314045322, 90065.12331279676, 217455.510522557, 231292.66857468666, 129150.61511515889, 244872.39886615865, 137026.3803406005, 210907.01792921106, 168776.2943298481, 85120.36017781698, 153990.43810611995, 114395.93254177227, 140636.207858101, 159502.72760227227, 205941.8556882684, 121352.87314440624, 94315.54450600127, 166243.14204141905, 176037.69616181328, 74187.56913881391, 209937.20755834438, 197001.55780347882, 211722.1606111447, 165657.41987239252, 177789.2450137137, 195188.65516743006, 203544.7600936896, 200730.55934760303, 97466.24474570839, 92621.27029071547, 200215.6288417085, 165651.19376887602, 110365.16181039756, 208167.81802680888, 95006.7857580837, 204637.26340466773, 155737.14589814687, 158023.02034591488, 144083.40278225671, 205597.67125606883, 93113.09908095466, 208098.82837167778, 275952.88347005076, 118718.86419299366, 85552.07400813824, 211076.63693738796, 96445.26987438442, 139679.57808897755, 159349.55135896918, 277824.68888524617, 187474.35276505133, 232398.26024308443, 300855.2109983295, 199418.03271412797, 175970.8405595575, 247013.42570693692, 134853.7458884772, 212961.25742844047, 122304.89102684938, 319677.1857829237, 172345.6024109683, 281200.1895646531, 273845.0372748893, 150217.30129146634, 265196.605949643, 200264.83571930818, 295402.18612519867, 231751.58976412626, 113163.50311655017, 149478.505237599, 139870.52646324283, 201302.42179829927, 154273.56815642893, 309325.56409314857, 212111.11458351518, 174105.74325034404, 182807.31146855812, 233092.7397348052, 228744.9962585311, 193118.6286939731, 226813.6926296681, 144362.4454329981, 196858.31331813548, 188975.62308328436, 278177.70528984617, 196261.60003154623, 188087.75015156518, 218484.08013818774, 163427.29531394655, 171455.3261181147, 204164.82649700614, 170244.53664425467, 137499.03438116272, 144010.1793523772, 152246.0750369182, 213603.10745334788, 142392.14589863794, 199558.04673951806, 229306.39062396123, 167788.93266475855, 128087.53783375189, 103374.7629802175, 251424.52941829024, 194009.7932743579, 219485.54277121884, 105243.75894534358, 275587.89223043155, 214575.22360655363, 167773.34383088708, 173125.45071988495, 192999.01595185322, 150715.5718398738, 160932.78241607745, 183016.47212023035, 216408.1479805491, 159476.18726816447, 109102.27339112626, 246625.8739656344, 181237.2045651862, 167351.5838675284, 98800.3827490851, 206076.2829060817, 150776.89275839404, 164141.72942331492, 90818.50712080204, 213003.93874442202, 169518.5965578243, 179165.69016949285, 139331.57953635522, 136344.2741045261, 108583.248041051, 252785.88080023203, 181579.10392809167, 259988.40848687149, 99769.88414642862, 96792.03372540888, 81539.59719308245, 188764.15463666947, 286418.73466060037, 164411.33224500786, 121297.31958813554, 339965.1639544657, 141674.26865106993, 250011.4122342405, 147123.88826853817, 262402.821445249, 188367.40172949395, 270201.69110343535, 245238.27197631088, 246387.44365628652, 199928.64957650652, 226362.54798899477, 149320.09656372, 231445.99862656608, 66901.73310689625, 175781.8893438161, 189930.79158855314, 197044.74391163315, 251311.31844999758, 170451.23949138774, 235240.18097427493, 119393.20853879333, 138003.41427473119, 238134.93812256868, 194287.12950421876, 198754.10101377836, 167032.04589830086, 151719.17823221238, 193386.73805504906, 98583.89539193525, 224080.16346616286, 207344.2039996948, 154841.13478601747, 209612.8058153918, 185511.08719212553, 268432.71783155826, 164386.11119632307, 233257.2147668209, 336525.7540694431, 177343.24218657627, 249620.14742719114, 258928.47844299042, 190430.44740345806, 154820.68299128202, 136962.65483091775, 92080.27674388739, 122697.32240479313, 111190.10283509403, 108438.76278662124, 139670.69921815157, 199589.45711873844, 156562.8341891191, 72664.1146672079, 187628.4522426161, 176360.30899778134, 217674.92007816606, 131320.8277909967, 228958.69701574813, 255523.74867401514, 138998.97372447903, 127842.46972463076, 241208.17332328012, 191845.26454174132, 129973.44714324223, 189600.19413255624, 192611.38373336048, 160853.6144519024, 110812.736093933, 264232.3916546625, 123137.64405875973, 207446.61091562046, 132619.050320882, 166402.9837997396, 249423.02051300346, 148644.34348930724, 133224.03422156183, 198942.43305002066, 260200.89752540464, 205299.27766411152, 98371.76013986011, 148280.67753639095, 218681.6920087939, 125671.20823988577, 235160.29565118573, 196281.12160546408, 142225.01302461553, 193569.61465843374, 197766.0924878152, 188169.17689972298, 133204.1103253967, 293835.28824793844, 152556.46158295224, 211852.33291596902, 240888.6161379359, 333042.637155873, 176188.4631057407, 138549.21433355665, 287524.5751539059, 93032.04681831606, 286718.9899192031, 186165.55904361882, 212759.9422392667, 184047.0221858252, 218713.79254520862, 89532.86195107622, 188367.9406979964, 208878.56138830775, 210326.1301970745, 152794.0397723869, 140054.87492078255, 157439.22496570286, 135547.38590028923, 238230.01921325215, 310175.25149352825, 320629.55081949005, 258113.8656810235, 145340.504161446, 269495.0820452937, 233995.83223287575, 222238.10059161476, 140865.32905085382, 224640.22371931816, 224437.19874845073, 210457.34217405738, 190824.74932781287, 196439.62590821652, 194149.9833462628, 334751.9892357725, 202751.07003619563, 202800.77276205676, 133979.8082512349, 128787.5938058176, 181894.1183223021, 184822.25783897113, 111997.11980919814, 215920.3303166574, 157738.98486110894, 178172.3753668281, 174843.95101112916, 144450.61431616032, 110391.48764853764, 174613.84509238758, 130944.79868297771, 101903.65939476606, 137038.4142790442, 274877.4283524337, 222219.44109666604, 248081.74424009744, 155363.87642217905, 188789.82366031405, 195426.6827038077, 83598.40232044953, 162685.13105457873, 160561.07200126603, 157315.73940058888, 202617.21076572625, 138626.9620686038, 67312.71914619373, 97982.40316495342, 231603.32464687488, 93616.21995127166, 213332.58102749276, 151061.90567650116, 185597.33657713843, 135829.28960901246, 153296.81329561534, 212241.76442258598, 166537.04123071732, 188069.57822026458, 145083.41396609662, 158154.84125209512, 144743.5623143168, 90772.8207622364, 239341.26452426228, 202741.86533967793, 204774.57495209703, 155520.3686017443, 160326.14247872093, 170993.60394769008, 175352.67078766902, 213484.01959159403, 292986.05990351865, 330108.9308651285, 151357.49609528107, 159415.3488122702, 215225.17819528194, 226185.13501895306, 82170.98842245682, 119087.77619434633, 191455.61925262737, 94253.3731160568, 110901.76263256611, 188401.92792462825, 97422.53892629949, 201366.1347333435, 137945.49687607746, 126263.38069300869, 192045.25595804275, 180996.93957369248, 144627.64948631916, 172605.15083097928, 311858.37210086524, 138365.05553907403, 188563.5274481354, 208054.77151116438, 246539.60837599414, 95142.18714776308, 124417.31124390266, 204807.11286844677, 183970.01292369433, 153338.02460239915, 169243.67635188368, 136898.8223823069, 181965.40790136112, 345994.9808087015, 259367.64145914398, 77839.00596243612, 243693.97674907552, 85512.78581435044, 157248.53163021506, 95760.09336987398, 232867.17628709006, 167535.02630192504, 306367.1033307897, 88294.52884182526, 176996.510764191, 309098.8376011995, 156267.11199601516, 203867.07422951408, 194525.40496553446, 198068.68927818743, 288561.07930131047, 181184.36636065567, 193080.02084630344, 186093.1815011242, 204724.3567197505, 145983.9831573855, 167121.90507840065, 109966.25251862174, 208472.7363783437, 128585.36462271346, 198112.27640379424, 237098.2875952574, 192983.79857812708, 127869.44663453141, 185579.56878517562, 200074.41267107526, 100971.34070552263, 147064.75082074892, 128449.3061182454, 142283.13757779825, 304251.9604478069, 258030.33091498795, 222516.94406282733, 129991.33946180025, 194288.98530012905, 145717.09904966928, 199416.69871463138, 200684.75991364976, 181838.645735003, 322398.06145861174, 201563.63635642437, 161972.8473012296, 204310.01848895804, 205474.29679503135, 270232.64029708714, 149913.207884908, 331364.760040178, 329491.342216279, 191499.56317029562, 205387.8250953803, 168460.1953355865, 248558.67223168345, 135492.5743579978, 150582.0536205261, 200547.0647024182, 148519.3052560523, 222776.76612694707, 171296.32342059928, 73368.76683950485, 197649.3907007025, 213843.6025582949, 128775.34426302364, 184151.76128395624, 158858.10041521274, 138248.09578677046, 137788.8006380613, 208924.07383507106, 179961.9468058917, 188006.21425405014, 151713.64203749178, 205593.932159574, 211575.75289449934, 73944.59755410382, 195247.66326912423, 217429.78024409097, 167021.9640311123, 113244.41184179936, 203096.04119294722, 209317.51866224426, 177157.55665230087, 227538.67308630917, 156672.57592659342, 277961.0039143118, 217194.57351667937, 288803.4262281527, 307833.9797421098, 203958.97787408752, 302277.58405516023, 146588.23865805645, 134280.62873126322, 187198.7419877096, 95646.91393341126, 87582.66507917468, 192887.50857529845, 161087.35248472114, 266377.4828946093, 148681.66306541458, 132898.62603998242, 208592.5304844439, 327366.5803106864, 214318.22861775017, 111448.24527123495, 171096.0105447103, 82443.96633104407, 277539.56121024874, 287805.229766025, 214011.78353898734, 349919.34528428165, 262841.3321745494, 174049.46155230064, 182357.03165251244, 218191.4794887076, 235134.27746333706, 274419.38652375626, 155099.28614230544, 184991.10500285093, 204937.42118709974, 153250.81713800365, 113039.64733309604, 179148.57897201265, 229148.510556591, 176753.19059828878, 95563.82434715964, 212300.98934052952, 82454.50397595225, 80075.1684322472, 178322.78410702126, 192835.60076954053, 202160.1938774018, 160407.0180654962, 216129.48912471745, 242804.0217331828, 224754.23892804832, 288966.94098602905, 120311.78743786298, 207999.91534281598, 147370.8765134211, 213290.3592214067, 335915.0901058304, 150439.26759896512, 236536.18710580692, 168030.36965343595, 136748.16745997354, 147693.46441655155, 230969.1095965074, 292676.5703196064, 192387.99288617534, 197067.52738720138, 165393.19033219453, 173911.64401451414, 154126.8418002609, 161090.05581041123, 201620.261548505, 200701.14786379662, 163839.43905559124, 234884.6540744669, 145010.82698690944, 166976.6419220707, 179620.92703027034, 231241.9224995899, 254690.70900225802, 188164.42466161723, 209748.7065998454, 85307.06687268999, 138753.03791399268, 186569.35883014157, 220641.4781065984, 168386.37653825397, 219615.21971471628, 158009.20616267747, 202058.4140329836, 132125.9468392623, 99249.40048384524, 175164.1042889086, 121141.75938802188, 121180.46543698017, 236496.22148834929, 237901.93939440313, 210002.25921824813, 130280.40374338195, 154015.89964626182, 207336.8588945555, 185816.45519871314, 210956.69397786816, 97668.89444550645, 195195.11297726954, 210905.3520819832, 163575.30985107622, 122587.76222806213, 158995.26737890896, 180741.63317459443, 229090.64783914166, 163317.63424198749, 194161.52498107048, 125977.34108379723, 110968.1870124112, 202051.07263033124, 197740.4659860823, 102733.11088493245, 182159.62692505433, 172373.41020854254, 205351.81317886538, 280034.26991574594, 138113.92738230305, 140744.30149229013, 218748.21708245616, 136053.3311074691, 202646.9313203622, 285867.88306810905, 120448.6724211111, 134180.5561141741, 170091.40393592362, 145205.51085089648, 352958.30964893114, 239712.32116495332, 96187.57120676707, 158741.06080922493, 106151.50099733369, 78330.90448539346, 142257.56120674746, 205659.2737951242, 315224.497692902, 149457.99724367383, 156392.4196290308, 233061.9506314283, 113258.32230686744, 226506.25154205636, 146306.0187773761, 179508.57995177695, 202825.38207451042, 199781.20815155868, 212541.7299630801, 188853.78565032204, 95317.14930358213, 169198.85504100873, 251274.4594462532, 176339.59986030095, 82954.65066977999, 151994.46951046083, 127273.45382381763, 138169.51179341634, 105085.12651764901, 208519.47903723124, 236057.28387975282, 100480.91206707103, 328238.4666236511, 195825.95583523688, 101431.68932734718, 182372.9713621092, 209394.46916556652, 198947.29849702376, 313956.02448018966, 267308.3513107922, 348645.7983583659, 187814.53220942925, 207975.7349068489, 258941.45047613652, 130168.41024207692, 168035.06362400664, 245075.79983237982, 144244.4443322964, 154581.57289578783, 189166.64244091444, 264824.8905810539, 159527.31280362775, 223453.8843514936, 284034.76240931987, 168593.6561401124, 268408.69321023667, 156951.84606747451, 289373.1214040488, 136853.40973068948, 95512.5351005512, 97031.22069755865, 180773.59340156813, 229390.53062550665, 149790.44812040895, 225947.33984809482, 175429.02492037945, 188872.77306294523, 242133.5208875272, 126816.76918344597, 121216.39049481205, 133416.26782560765, 220920.46161276673, 164423.33662631246, 214306.6869051776, 165322.38416431623, 223666.0261540598, 203935.34305234088, 138921.15075302424, 173250.7847819428, 236176.54763539488, 198105.85698141382, 194694.73563598242, 226114.05059293762, 120539.29560728368, 189283.35136501587, 146456.174302011, 257504.74672504244, 142118.6481390478, 215862.4555848348, 215630.1858423908, 112012.54851317235, 210229.59036427827, 207072.64371058362, 189097.8445237995, 92710.99482009008, 234358.44071558036, 195766.534726208, 287604.0230784052, 130663.43570715528, 290461.1268493734, 67614.08711264294, 111291.80844134481, 189869.7785087649, 240295.58736429276, 136810.22476274008, 146857.00809499878, 234757.8687224455, 321543.8981695024, 132102.376927613, 260592.36152083473, 156211.78444946135, 251184.0521484067, 210575.1248932832, 87223.59028108555, 113306.26576636736, 139429.992566752, 279840.55629542714, 163047.64265144488, 149727.32844643135, 166840.7505550988, 174780.4822981745, 141865.39045600436, 206398.47233186002, 190499.11141927136, 172041.69908959913, 190826.3409275324, 116927.96052576955, 269786.63683251373, 214233.1009242387, 144785.33537698782, 170580.77229318608, 193317.48367725438, 139682.44035347918, 151321.0207820042, 147604.26640906, 184984.9171235446, 157746.2067452603, 141968.24387403, 287477.352819121, 143618.16015032394, 239631.59495404482, 224745.1320793354, 149412.18201136842, 182527.3438367617, 168102.45255641598, 183898.41840455894, 225985.25913202803, 100568.14416418901, 222708.93539440603, 167151.7871286006, 173112.60568499507, 258523.50637647466, 192138.57142578566, 186646.98790153879, 211241.67483468697, 205829.61236215508, 150682.0871308965, 151540.32886895136, 65042.79322158595, 201253.522901432, 298622.9327349977, 130914.29289414175, 142982.00318139506, 152386.90171998515, 194482.48821602255, 123167.53369709585, 125275.64935295572, 129417.84594472428, 211694.21872293027, 285707.59015052865, 178953.70271581388, 238141.11769365042, 156757.26727608236, 171098.44855903016, 156434.61451725702, 182397.06380982825, 70608.54022907067, 201159.14428603364, 77574.85331448777, 170322.91316381146, 81100.51362324128, 74348.33885133569, 219831.5627709623, 202483.1462764148, 101167.27895119466, 231248.66382968615, 156496.15952816652, 201892.523814615, 337350.62961133523, 89195.25935136332, 160347.78408930384, 304444.55780216435, 215719.46447030257, 122008.05303028051, 197956.58186418668, 76322.36856028669, 165099.65058597247, 149602.9372390877, 162098.69551229116, 149418.8122615895, 123628.2835422854, 185485.90138881205, 104583.4053460389, 122618.86193312313, 153313.02326330385, 210628.53549776462, 163272.90430745567, 220887.25820194528, 195647.17082417628, 182407.80511217943, 222081.68619926242, 210086.3974407712, 114947.2418227756, 172386.35179365892, 140214.13170877707, 135201.23534414137, 120441.64833698185, 100275.18582520477, 170781.20165975677, 105897.94800504664, 183448.1838874927, 149717.28427985305, 260758.02581197518, 257783.4395011575, 207202.97581195625, 228783.08810750608, 330486.11574716424, 180060.72033135072, 263153.88714880956, 178347.53907322788, 178510.0328384911, 179027.80115697364, 187010.8095963484, 162369.98596596273, 237374.03733850384, 92265.19392476798, 196831.23313363458, 237316.78040552814, 177551.99715373226, 181736.0770507743, 97591.08187560232, 118167.03402002205, 214982.24882057158, 276579.94634155877, 206047.36458539282, 118630.89452151301, 318461.61699103593, 185045.06675542376, 107786.02525343288, 152497.9792438077, 93573.7230594909, 202220.25867117656, 233794.1464053261, 173375.51816529254, 241898.45182988088, 137688.8136257828, 155997.2561467487, 182559.8176957498, 150928.38896725865, 128756.67484236331, 100975.97177303353, 281017.40189819003, 221084.41571550196, 238552.6470725017, 221241.59976577244, 207249.02384209158, 146202.83972115407, 129404.57307275952, 94674.79038615168, 189569.95262738946, 95330.87643360347, 192518.1497181051, 184376.30793961269, 124757.65519294309, 191157.88727553026, 222829.35679681733, 321499.0022001619, 111023.55891539674, 160338.75334758166, 126154.19434273469, 108530.34314582634, 134857.55294461385, 147425.40876923694, 152166.03193028749, 145213.99147367442, 95938.28609680272, 131037.67125269225, 185828.91602623495, 181268.92805276552, 181258.2913370974, 158037.0903991615, 285346.69819333294, 174805.15552040498, 132865.06531846436, 101646.0573761227, 195738.06596718723, 314209.7178335733, 168040.45518425677, 115543.88170973239, 182601.71939088104, 172589.5313567719, 207623.01635647606, 285489.3603137145, 197412.10101400787, 74822.49985549517, 325559.1800038834, 208087.3570894877, 170694.15740213532, 191605.77949603216, 233167.67685909342, 196798.44775998866, 90742.39994017626, 150155.5375977998, 191155.92743335036, 215397.678557605, 130500.9706926512, 226325.60014764842, 264641.608811211, 224873.83068302492, 134267.77745308302, 242004.29763260545, 112404.50673820566, 155653.73286482214, 115919.7927677592, 202091.7696295756, 217628.15766458682, 180160.85690097796, 158189.1344532378, 174305.78809034356, 187093.29381395679, 125087.45545574265, 341947.5964710673, 333655.0027867064, 76794.1857080211, 234745.62790593173, 174357.3244430371, 183829.27951902343, 166643.94124945512, 252900.54991097935, 312074.7775369395, 204162.93784004962, 126079.99237645618, 175226.57651552474, 217719.62865323792, 152203.26106548894, 167148.60569126482, 108415.77185841797, 179665.07545056628, 212181.9001448339, 141720.37807559315, 234848.37258498484, 154275.61137710797, 212500.5430839214, 156701.4635545495, 169962.2059390775, 249552.90967806234, 198986.84513682095, 328847.3450505241, 169771.7915687673, 238627.9369386462, 193079.5960197624, 234745.1665851446, 126279.93691341103, 333513.5829726778, 188053.80121982127, 224952.37194484432, 259670.54727051, 236990.64492867095, 69351.50163997608, 263369.4671559998, 222791.22287784622, 202859.60209639813, 154249.7154918366, 171028.43940688975, 97539.64065735546, 137917.20509029087, 217485.5911774287, 91952.88586508973, 224989.4185536054, 268386.8826031398, 220170.55157497144, 231494.84612692686, 200978.33481142545, 106730.54644947709, 214758.85503914076, 179329.83334178675, 98695.45326780362, 238347.7998465654, 150192.36002399214, 160617.4838623508, 149428.4326617032, 147084.49275115848, 177763.33398221436, 148991.37083316126, 104824.87446252529, 215447.81975704106, 175819.70115717812, 274242.71829305915, 193390.7008282775, 208942.07359053128, 149871.20365184284, 264241.2984414968, 209106.52895651158, 216684.99074207456, 170817.35673579774, 140746.09601780243, 181186.20774853288, 145305.3664443182, 166433.89001096843, 232802.28090003945, 145283.0942716932, 204840.9060662196, 74989.93231667778, 149838.76104690944, 150470.86528184504, 191295.1097187412, 121659.536742372, 132428.69421384326, 201756.40831385288, 262040.58498183606, 85960.24134995381, 245061.16307048724, 184121.7545609172, 223861.3892210574, 157191.7715652553, 166541.8942659177, 153220.16428583718, 240089.12782586634, 167257.61361355867, 225188.7297956395, 251093.45041668488, 237263.23784545396, 165884.91009093332, 185032.79965608954, 139084.94424978114, 204410.70018733662, 199169.18542066438, 134081.60696296854, 116184.70435410355, 171256.89238971475, 107387.51253895793, 117005.14119323401, 162400.39713521017, 133492.8842370375, 109876.24693678337, 255909.02961360366, 105647.08816522807, 232583.49684428857, 297664.05982100626, 141759.27628776815, 184041.59650273618, 203691.748361118, 122971.69193079647, 70528.73224047988, 355169.7944792459, 149497.04865316546, 141915.84417530047, 228057.5921605391, 227670.13589141628, 192821.34117790102, 230520.66876248427, 345671.3363540189, 157322.8662199025, 132204.60798669784, 236769.90074258155, 121507.50733253128, 169184.93163418118, 168383.93374702905, 206986.6300161882, 152034.8592192644, 141020.8877116847, 169704.52019404742, 174059.447116053, 151781.14202906535, 205428.65474286294, 282203.1722296695, 170798.00327916743, 210715.51363368426, 257489.14180814268, 131407.9511189851, 122838.17483746895, 250236.75651530005, 187623.83245540544, 231231.61293978227, 347468.4185123214, 119973.99560136693, 265914.11074095103, 109857.84202420842, 87516.43350138947, 321364.87810344587, 204328.01310653938, 187517.6230579541, 271815.8366456362, 205004.111677796, 296607.7032536197, 243223.08383956653, 135507.05138831638, 219736.07214521928, 123959.46828489528, 199775.05764490252, 104970.34624889934, 141091.9106846463, 223203.4729005305, 149424.60125992703, 192337.32160282065, 159868.54622548024, 231412.0947726221, 238268.88414273114, 85405.96129663826, 111109.62660325803, 129644.15746005332, 230360.5082836217, 154134.77078679096, 256896.42476983267, 155033.43556466658, 191590.72334041758, 90097.45151168127, 259729.72142925207, 140019.75590486717, 95575.3284315646, 159463.29641829332, 258639.9896231685, 75732.86925263802, 257578.66825880556, 237383.0916682963, 155402.65704395302, 284358.36689095234, 89865.86533718008, 208508.70175868727, 140532.45470466363, 217078.77881498417, 216126.16521122784, 235072.1506220664, 128939.70266758735, 120153.40241638289, 287512.4732179643, 228148.38590166543, 136171.6702228879, 183544.3934599675, 205181.78539855106, 188799.01634722442, 123808.68383452967, 150603.03296161973, 94689.75727488242, 190920.73549823905, 111307.90230933846, 145347.6871697604, 189068.4123010171, 106007.72315740329, 249155.48287717276, 148796.5952991754, 190782.03320696484, 152636.9947957435, 88479.32019003393, 260523.53416883483, 107795.0413621005, 176194.4845997059, 211042.0069087064, 190534.49897622433, 98827.77348834746, 279307.1494440273, 200201.034236023, 184433.6355938435, 213114.78821973666, 161420.9625641203, 182868.70761994232, 228680.30835838206, 199786.97103209767, 215061.04287391852, 138819.94817012496, 186751.87531940886, 163760.4514695526, 247918.4943231705, 209499.55277790542, 175381.17718986602, 239291.13528384038, 145340.94726057712, 89914.68461337638, 259700.69888704663, 141337.60836862423, 203645.84286641295, 360141.08776204917, 206036.94038362708, 91024.03690974062, 135092.8146480776, 175053.99216101412, 150355.81302283998, 190698.06988940795, 199326.23777086686, 111982.07497804696, 181919.67353420836, 124419.51557762317, 213909.77085226955, 132019.55405506433, 222214.30268387697, 91530.30009762573, 239572.94206808254, 163824.81216343603, 147360.2432632387, 255508.22660791437, 180919.88833394911, 199979.9784906499, 84209.35543777003, 186205.01398647117, 89656.94178475144, 121865.6558727484, 211493.3081917427, 181978.28526843406, 253499.32547223938, 126862.38363821557, 197276.2063180001, 310687.7384648566, 229593.08051583596, 89869.57883554959, 306659.43747305666, 238861.33387721085, 286833.1237988506, 167791.39429447256, 196316.476867954, 226190.66698615422, 152788.84109240505, 201792.54475184853, 163439.76115930066, 216302.167524917, 104250.07723292013, 77276.04388216985, 94484.26545191674, 194016.02523966084, 87129.14194043254, 234563.00718383703, 206262.67189184084, 243799.92483125243, 233406.84756390803, 262966.1452083616, 152711.95794788687, 130894.58070921888, 270667.62703119137, 135187.62386275994, 140866.12666891096, 79534.82370676177, 148068.24762473762, 148013.74303255053, 252266.3923361097, 98965.66025627159, 159912.1087016566, 223465.69922495907, 242337.844115383, 104511.96287765013, 212690.57999277025, 196526.5426974322, 274840.5658908901, 311936.2399356316, 224178.9999126198, 195302.94227113915, 168904.47777395614, 236682.27068842144, 144383.71648540316, 239056.14959498565, 273721.18631293153, 195639.3719161756, 192977.31342877896, 161708.79906195146, 254950.12223501108, 153436.49399288165, 123474.37843398942, 75197.64900020958, 72151.86473368405, 75895.9367005305, 121323.14802392916, 224252.74269198783, 145254.67951185186, 142839.55349852514, 207063.30036646867, 245571.8147131073, 150832.46838092039, 103204.05803667921, 230867.96327874422, 86452.75300759189, 105195.43592317638, 223640.53519982396, 209699.4010503291, 216579.25949620636, 192421.39835669656, 101256.36860046271, 179505.70405387122, 177933.13102628337, 154108.6388876271, 231502.62417782703, 125684.87269737704, 238384.55832978504, 288105.6578374987, 158908.16410793527, 242099.91027751364, 153345.9471042564, 248695.0188005803, 275974.5200132087, 204789.03439731232, 241299.85945654046, 100749.37313327884, 203327.43565338175, 157560.54803434355, 250654.3468866563, 155758.28944550123, 166742.1254005777, 238011.62961287078, 242543.88832040352, 191383.36442622668, 114086.32222709546, 350274.76482648274, 91861.56640630781, 144006.34254428622, 96893.14495236413, 252835.1660777027, 276568.40718012425, 145535.6364439918, 142438.95955426738, 220491.0997561143, 195604.03681329993, 187771.73416878504, 128505.64152322919, 229005.82269177347, 227014.87718153163, 120682.66476506805, 162646.14602401404, 228226.65207506894, 295456.47295001964, 114222.72511046102, 203113.2143367638, 338087.2711689353, 227711.19943885834, 236505.5866518002, 196247.57632065308, 125754.51152820177, 139637.36923048354, 233795.49135498202, 202325.8826286098, 93221.94746867125, 107739.36444005682, 213990.34720212838, 158342.64955227685, 177685.60434341308, 110582.30234006014, 207319.7717611016, 235224.70554520885, 97200.77127595876, 181837.105226548, 163123.70399893826, 237340.57373298364, 153751.65847610537, 176113.55025436927, 150542.3126370634, 208140.8023503989, 142445.39442223485, 277410.00241643947, 301265.3676505997, 90669.91780878713, 341077.7933146353, 204795.60509740445, 251324.07188732678, 157326.7364091732, 204351.46453003015, 225760.6774477397, 243823.28363413046, 147872.60090956086, 292744.7406826911, 140277.61270151555, 210155.87729834145, 193728.7963241054, 135525.27376410028, 225121.32109549188, 108445.98680775423, 219628.05794043385, 139552.538554638, 179595.41395689058, 144744.49522975212, 183823.35709046162, 176823.63481990018, 254899.40217197366, 166548.92538791275, 193042.70834157983, 251085.2000523044, 149213.96312102972, 213189.16557436576, 252046.67358020763, 176824.90889880498, 180676.4062978564, 177579.2154672246, 158742.22890183015, 195170.73023286118, 211132.05037998775, 164588.9063151038, 197713.455369758, 193557.3294306458, 115826.13724742377, 163500.81879170053, 196142.25484482123, 142555.75327036058, 290636.8807406898, 98951.32368849339, 238912.159336443, 131084.37328368198, 147427.54353471033, 142685.59738861455, 171608.15404034525, 144736.59392301642, 212848.86245496123, 195093.6106143103, 87847.41176565351, 350912.190028736, 197462.20400676204, 111817.03117843016, 172918.91621173848, 243916.47597323873, 210075.99963063348, 79134.03187098163, 177075.72834784488, 231308.38456741415, 168981.56638043904, 121014.16155307445, 230669.29657080842, 234817.02007696364, 200238.88695482927, 258888.04816220576, 192432.52211906487, 141041.79734253234, 118227.32752375273, 207316.98655871727, 115645.08618285251, 171313.9192268986, 163708.78634063934, 185770.47255317468, 98740.2886899809, 77223.14037283129, 176758.32677998484, 99596.78183127193, 82544.67321979528, 160243.962502531, 130832.50698530379, 166589.21895895817, 95229.04806620599, 82325.4694789199, 111815.09299174645, 182490.2409085979, 204433.87216384115, 261885.0066905879, 207052.49763371126, 108165.29353841081, 149024.24124432486, 182488.18644788285, 148075.08489442378, 169614.77353005938, 103683.56293432775, 200382.9555073086, 126791.45185424997, 193475.5859925683, 220930.91321267976, 229842.00329473265, 204216.65054959888, 192611.27447142784, 156792.89772543823, 144975.93541305128, 156987.3076708316, 134279.83034062054, 115841.08909435749, 205696.6116464307, 309825.1962192521, 140864.17056126497, 129172.32567676964, 121515.255891881, 191357.18501908315, 251969.83729606602, 148739.60235953992, 341993.4921998456, 194002.08137123717, 250530.28793661713, 174267.6577219594, 237848.4912795339, 179907.50126815948, 149920.43496249663, 166457.05714543394, 214357.4727659763, 146955.27220642538, 178053.38473406417, 144633.75019900256, 292921.3183089588, 168197.66180758964, 67900.99731018784, 218382.2801136482, 198893.70708008518, 167865.35373560933, 242335.59231202787, 82800.3117705938, 168171.70773296725, 164603.79710910068, 152543.54123888328, 168822.9457327391, 137150.02247183648, 241333.76648536208, 256075.2939970461, 271411.6493914864, 213881.30076289485, 352296.7199240636, 297985.738601037, 134505.94526086436, 73534.14376592406, 188639.95838121776, 269379.2616739846, 146933.19387740092, 252538.47507714498, 143462.74709165542, 189401.6217686901, 212279.37771879628, 131324.4351289181, 100984.69039341134, 176188.7964656672, 204186.76293569742, 170277.63102230293, 129111.80074476967, 202549.34297048117, 133060.77687741618, 150664.4809435933, 184520.497989309, 292143.8235457736, 165566.70009481072, 216281.41454222138, 154567.0277654793, 185286.698727503, 182359.4756368725, 147849.0778141814, 232756.55838422093, 83568.98100300848, 189000.16361436504, 117160.97464952379, 97236.34539771533, 98402.6087968854, 224839.785699371, 154550.25135826544, 82505.62775692757, 193860.03095621374, 182583.36924726717, 186211.94205210585, 123966.71448939288, 206200.85782018708, 201133.22324554416, 160315.51627271812, 195520.23774606828, 118214.06190176232, 225716.0973120405, 209734.26889043133, 92874.1894269227, 180266.88120294118, 213302.1397917371, 145625.01932770037, 267596.52805589954, 150888.73240266493, 237293.57776569866, 223878.54029700535, 194084.48745897994, 228323.55590668228, 215070.67839743462, 137372.88032111785, 205022.9816384705, 132918.62436173772, 134279.25028423738, 212083.15658694739, 261520.82197075163, 100202.58277287887, 226574.07485249802, 188474.25434496874, 346297.1277638987, 180694.65073333195, 94794.55858788016, 236307.10938028115, 252369.95734618677, 93829.92783193619, 141491.56575958215, 110014.50185824533, 76508.88683053704, 207837.12413079714, 176803.5178745782, 232137.39403920682, 139277.26747513135, 172580.0065172787, 251731.0906965728, 214339.69915799997, 204006.7205703513, 187837.30452114527, 123355.51623050102, 133248.83949061914, 209127.42182283322, 193528.06163855002, 122369.05175029444, 120845.78221064503, 158873.48462958657, 76111.44062995848, 256226.59987986553, 150473.0007782203, 201582.5002917303, 246968.49782425858, 209738.5662115222, 120634.5546930564, 151762.17616334945, 181327.68273242115, 110072.48343687836, 273142.40186967765, 217050.4649427544, 200835.42205068952, 104131.68717108814, 214676.4173427804, 119413.12219374378, 100642.3429251093, 213270.95942670482, 206084.22328026473, 113234.86137503576, 134957.6348818899, 135513.85031288414, 175778.54923128925, 267985.4156020736, 128017.77907411027, 132282.30405711965, 185003.30231046438, 209916.6404274024, 133340.76878297975, 254127.79002690312, 178146.8242778674, 121701.20401274729, 113927.67628542126, 181573.93949538274, 290990.9272707524, 213661.2644539588, 111741.61713034361, 263151.5884284453, 129181.4182970794, 208876.80113906442, 214318.70602259124, 224870.3674783912, 244340.68248616988, 285315.8885239687, 120991.99209399658, 247102.02046146902, 169059.680645148, 177293.63662319115, 174097.66532804677, 197059.82327122585, 180739.55067252516, 147279.9210602741, 251632.15282852063, 81052.18563665288, 169299.77221260133, 103423.50882230916, 152358.83955681988, 120125.7686665553, 146227.3897053941, 155687.36185692897, 204319.10788181706, 191948.7232043008, 304622.29588529316, 113277.82973280111, 93179.07680623248, 156190.1413916812, 155520.8041737762, 121878.1512432542, 89735.34271120607, 171840.843976447, 151177.62846182554, 167428.4580996983, 222626.2298481624, 235848.10093016678, 204821.20863273522, 106365.69788174698, 203896.92356318174, 172740.57774570468, 209215.43392011605, 118785.66608521427, 93098.63004720095, 150621.11709349288, 105473.85195433529, 208067.4498565077, 158472.56974813246, 221255.82020811914, 135014.09407604, 220296.12214654827, 297457.70621122286, 187507.02433336127, 89658.9920511801, 238492.53760891964, 210577.6959400832, 194520.10126437337, 84245.44968583078, 182043.08461596965, 297419.00775754557, 317756.25802014134, 113657.10244662756, 235761.52331075512, 259949.7862643087, 127968.43481673082, 170871.8605565751, 103006.19283691436, 180070.39004072227, 224297.00419581076, 223443.50109116695, 182377.38870268775, 101619.94027356457, 128830.46775131348, 213380.72013626312, 203503.55486493008, 98712.08721836282, 130727.92160269828, 206896.4036069331, 143350.41402525088, 217253.33681404643, 102430.40899641364, 135190.57157771787, 208716.38046308886, 286002.1238110169, 162294.7450295813, 185393.00256355552, 102373.07193493553, 209421.94660871167, 217148.43527968536, 124159.0011018111, 221478.72348484633, 237647.24092681214, 165637.38463853076, 219471.77318367324, 168920.0829905459, 160405.18561745613, 178998.90718693167, 187277.71588936308, 165271.53209619533, 176168.62706373137, 158005.4522672145, 124787.26604808761, 181186.45361065463, 235698.52435549616, 214172.39413006013, 146988.59723672614, 229287.05629639255, 232172.88251452663, 261186.07091638437, 207996.86947589862, 192702.42881017705, 96562.37113773913, 173348.6065181533, 171199.42554480975, 132881.9215693946, 168610.45305128797, 207934.2131097164, 138455.65337706078, 293492.0127381653, 185551.02734862934, 166863.0428812186, 192208.3033010068, 176124.55643368204, 340635.37812130793, 226536.6594336154, 199764.85254872285, 140510.96717762065, 188913.33202607353, 207570.45485666653, 137232.70939160313, 293427.4460939397, 262769.66505617974, 146970.0241949533, 224230.8004542164, 126804.92136007259, 163673.48838217816, 320289.8489960481, 231753.26511056526, 175940.08549875353, 86397.016219902, 278836.3142597898, 222262.64962168576, 265319.6112093113, 110603.73936871366, 213914.48110923154, 111701.00512729195, 176003.45250146504, 159867.84257504734, 84828.89748898389, 159026.21944781227, 241593.494318494, 198117.66669344058, 191270.64330473103, 88156.28715296525, 187012.59804955882, 278725.04593171936, 192993.637258064, 157873.43653026072, 207684.15680945272, 68086.69482480077, 162672.54740692943, 186844.15598619203, 195292.42705924113, 195492.0061871492, 179407.2881807113, 290979.76822146086, 190753.4022909019, 132855.37636488682, 221192.44581473677, 273481.7746048605, 310732.1442643377, 205996.36763532384, 142872.07687969622, 139894.69017858274, 255855.1432545848, 210806.68734799774, 316598.0267659082, 167262.8257866274, 167108.60858402972, 114022.5893215272, 153545.8116733596, 265866.3771062388, 195401.79751800623, 161719.15285002158, 277469.94421328645, 216375.62037578385, 80547.14392829752, 215535.55997379855, 176527.81548794455, 197052.80125217314, 147348.39660950546, 146175.91512526176, 201101.24350849673, 84973.38001887244, 202491.8502842773, 202934.9120691854, 278007.49845015915, 218946.85125158567, 178542.9923829445, 150320.2383298857, 238002.8571403802, 120220.0537755108, 208408.9703530612, 111579.630583711, 158086.70347322652, 129605.27622156378, 242850.39895345824, 138337.00956051346, 195202.5695060981, 204768.18223036974, 249315.9103489675, 216664.613804028, 116078.53702769932, 203114.38147706672, 177679.9961585331, 113624.89350499652, 204776.43889112963, 134312.6714610022, 73241.56941794831, 210510.81892280484, 77286.06602463729, 260517.6091934208, 197617.02817925933, 193927.6412384841, 186074.27667754493, 92372.85964611346, 117221.52577569123, 180403.72555570127, 153217.024143536, 201896.31100642754, 167853.15874087854, 103916.46819105661, 155389.32574339592, 93664.11979987139, 187550.98851808303, 151230.1456686076, 152484.38050998776, 100924.09744888217, 195825.4808501388, 166714.2364563495, 162293.13035291914, 118106.89506967967, 182438.80333446272, 179081.64307986223, 226413.35097202566, 239872.88993872062, 170788.72947607277, 204498.49698783093, 231828.4685954299, 88570.82865965883, 138619.29926988497, 167678.75612567784, 173147.6772148687, 201960.38993865246, 132131.65419280727, 117582.07083251004, 148114.57024868773, 206851.1565907116, 86934.239969768, 128513.06304446828, 252496.7765887166, 177717.21550705077, 182187.6448656485, 166636.58548314753, 221019.02489000495, 168479.746193896, 212574.65869232584, 129113.01103915164, 175051.21772016093, 225365.66010050106, 154453.15141180324, 185317.44717699348, 313366.171678497, 109437.40408059383, 134313.03181925637, 159768.11016285038, 319339.31653641514, 136401.15671572293, 122714.75487851579, 199920.78225740202, 200895.93175191362, 124385.99079943704, 159271.04167328688, 338752.4524422999, 128724.24853318093, 210792.45962020758, 136776.52341607766, 133410.7842231113, 162564.99978528722, 316610.50728675834, 335242.3895570722, 216942.19472429663, 150154.899104759, 198216.39084486655, 135898.35914293845, 204315.11506795906, 195975.6543479555, 157294.65819490718, 164810.49218400114, 124000.54815035149, 170426.97773659104, 238378.6492013914, 126353.04600341615, 281795.35496196075, 159271.17795060464, 209854.20842097577, 134954.93943677092, 149096.0281665467, 217535.81435326274, 106377.34047320618, 172888.22294942205, 66543.87394135678, 195631.3471132894, 251270.91016292557, 267476.12793790107, 258844.77714734845, 97050.79120404679, 256858.43204773247, 78653.6284418942, 95396.33879983242, 204231.73031244584, 100556.03523555578, 125545.82038113137, 97980.32459818211, 127603.51972043666, 204517.4696984582, 171712.36941008916, 233185.36528257868, 168075.71015322005, 101350.07982916132, 277029.72429923463, 135767.71410144618, 199402.4875228221, 125500.5497809532, 258913.9648397366, 268878.8969070742, 128344.94636588372, 97532.55479043411, 120488.88495487573, 150132.65962205615, 194160.51144619976, 236528.56742150814, 209577.35109362908, 141736.8102603866, 135791.68343266507, 113584.94478623665, 206229.08929688728, 126963.9252831587, 326430.6712363156, 347569.66801445046, 136008.64843119972, 98956.62719334652, 209945.69649815996, 213059.310167188, 261327.8628810081, 176200.28595209334, 167498.25853129785, 90955.45789083498, 309275.4052792886, 77352.94522080707, 243953.0582855075, 101212.62621656137, 252803.019104205, 142509.44778677248, 193844.8418225168, 157163.98013471387, 144656.97909577735, 142088.0180922583, 161718.41986030163, 221265.1456636691, 171868.6361460387, 97684.28840513686, 128614.45437994968, 145094.12502068936, 164692.20749462335, 112068.55565047202, 181982.83909888845, 204665.978149373, 147887.42727131007, 150866.25647998197, 77027.28710103419, 189118.66967469684, 180514.5464579163, 123205.50769299018, 85401.18502991265, 125789.85233266375, 141093.91033528856, 237931.7968209197, 255429.45383039248, 228686.7858876884, 125553.7382683818, 244678.49832948318, 101335.46754667825, 135987.91021078842, 256506.92448593, 265481.78339702985, 246640.22123254678, 205115.65872597595, 271292.14540939237, 229543.92917383355, 227311.0075681606, 159598.36824828188, 249455.90967088757, 201350.16195954365, 134534.92368997633, 158514.3260366738, 189432.6730863867, 220590.6673352923, 199302.57570209145, 141454.13953554485, 137507.65475649637, 204695.30595902432, 205072.95580086455, 219542.88582708227, 97553.46575103744, 95854.22166817407, 183119.81439042542, 110530.20069910544, 190969.88375410333, 140149.58776774813, 112886.17445035768, 203589.4386388276, 279959.9471995636, 149136.04916974984, 244175.05352278907, 148462.4464661604, 116765.63514083803, 142242.45324460347, 181179.13859148964, 162065.9033049867, 237042.22504042787, 164296.65964418603, 80375.43863477524, 162560.8334110318, 260535.9197749677, 276484.37098019593, 282206.0018926, 105416.82535580978, 138581.6768242021, 190216.07747596691, 155354.72920353294, 117178.98081994912, 91166.26060621122, 303111.17299970763, 236031.84849974624, 247527.665964033, 175661.73024603387, 232847.23858076974, 151358.63023118844, 88597.82405709964, 126696.471829992, 203967.0936389895, 172235.10664673056, 115873.09754603787, 111988.86824977987, 217290.91069893265, 193158.17901410887, 73471.13016017698, 284992.0821751239, 164862.19440030336, 142214.00259734472, 294635.0394779906, 233854.14711041402, 292940.838528806, 264284.9194613547, 154660.15177336457, 173274.78195953654, 218879.7654858313, 269682.95739818254, 131630.25737151824, 141077.86304658483, 215892.26083288438, 191209.90682781624, 263700.6790381428, 246498.98921362744, 155668.45683290152, 186867.49101454165, 327380.5529406591, 252638.2207118563, 127632.3866409845, 93882.76637545529, 165654.39531135533, 98741.08684041337, 159116.3412078806, 156343.31505237328, 163833.21594395753, 179624.26041637943, 187934.9667633448, 313374.6643746842, 121813.85416519198, 159243.24398460513, 172849.34384221263, 182391.15380959495, 201909.5796743479, 202479.52145420128, 214438.65768953488, 106414.67455462346, 142491.13989856938, 181322.9771899078, 274186.27676278114, 100343.397354091, 79392.38387961268, 82901.06641893434, 97461.64940072419, 175609.48321105662, 145952.61056639213, 170457.7771362104, 229321.58228846913, 234487.68768273992, 171596.5530117037, 112906.20011015736, 235000.58614549288, 204841.9566662124, 171368.3403831372, 104149.23754073598, 82787.9007723479, 131597.0409648984, 198969.48885808338, 147159.59124858418, 151890.20434723375, 141914.67197926872, 142901.70541264856, 79062.02148102032, 100769.92650503656, 185978.25650725883, 88047.70274875435, 144374.63772495353, 197912.94764840734, 124340.31452364742, 150886.91278141446, 156974.33395086572, 126126.87771846273, 102281.61810748557, 154189.96104140923, 122313.68948220828, 94425.18289701856, 100986.8804995516, 180131.54302304692, 248877.65988119956, 329427.222680429, 127950.5299108056, 118488.02112879313, 155077.903339691, 104846.45229459388, 187185.33688275312, 173359.3521009095, 179631.42751440988, 231594.54331834114, 154602.6164446955, 179105.10548611986, 157180.96773387416, 181420.2289477505, 100041.66681783923, 197891.61756426826, 121320.51873376124, 109749.93592365914, 122935.81031544342, 185240.72742576536, 270785.7276569288, 285088.99129574676, 227996.8002939398, 146346.73825653963, 172792.341061445, 112011.55193783343, 173570.15026670205, 195653.3987527997, 324056.8281280002, 139564.09509793896, 208134.69198786427, 260072.08922262964, 230217.86729435055, 176340.79460541633, 146208.4508534128, 123596.62022082685, 78346.22094767202, 189993.6924819434, 188148.61523334423, 326286.6444593935, 253742.93721236667, 228209.27574182916, 157069.933963313, 131851.9752027474, 314099.1971281964, 114512.50671408356, 227750.73369308605, 137533.55742400573, 99939.92123220352, 178939.49078506086, 92737.09714257067, 90176.0190758619, 172761.98799107748, 329604.30410737696, 161905.80933359463, 98659.23428732053, 216436.40641916433, 124603.38047582045, 168264.64510136668, 188508.35868302823, 213093.48780204207, 218782.17041437764, 94136.09689577778, 165037.36357978196, 213185.21303299474, 95655.24162150003, 205520.53412596442, 110828.91486283888, 183131.83445259542, 124636.65472915147, 240040.09859344494, 269485.56110058347, 239923.27830712503, 198570.6746197711, 190030.37357297871, 262616.12726727483, 201765.13207844182, 306629.89741319226, 214789.60834728723, 159476.66674702708, 195399.08253662154, 134339.5511202428, 268308.49410256644, 169268.0264678554, 224912.16886761843, 106789.68684910245, 232068.27387746325, 224632.99801814495, 239451.95807533915, 164048.95501255715, 280127.8529608303, 137138.1946870837, 182057.62302074023, 151991.30033632406, 146485.69952817692, 317449.6748572984, 268788.9214889027, 103443.95618029259, 195571.3931414714, 161094.83994743726, 207539.23518542264, 197713.7302602975, 251006.69266275852, 95914.39964765412, 137167.23793119795, 139215.4100306719, 200048.8584894646, 168534.42612897756, 148499.4490802998, 160595.86217883768, 152128.28666217058, 166331.72344202932, 219550.60081316158, 215521.89821716893, 160977.70514594848, 112802.49246674836, 284258.80319705425, 253691.82693697905, 176695.34230286628, 290520.8273748164, 142512.58750776906, 208352.2933804137, 187416.55469713037, 121100.73198581323, 121724.75508818103, 197915.68354240543, 216313.4139533211, 202185.46008481528, 121112.43496224756, 262884.49266863236, 211075.96293851605, 171599.92632238832, 78715.53129102517, 123635.3631861975, 124402.01260274409, 186983.27483904178, 162295.29252386955, 239031.46404471656, 159608.20848301705, 140930.01807075896, 185379.39695143036, 151035.03651939548, 189370.00578188075, 124388.01750469639, 204672.9402280874, 206900.90658179726, 172827.4926512075, 228022.13995560957, 214760.47708482115, 186396.7251422626, 153830.3971259267, 96040.23698965264, 166446.60143718112, 177571.08145924914, 179471.30562398423, 127929.46021444298, 157031.35875203548, 247312.8359983471, 247952.09804715606, 274476.3303728936, 123384.97919452935, 242094.21793946467, 205385.7199817133, 162914.538999507, 130812.57259785972, 107478.01166304553, 172312.3279721668, 169846.95042695245, 209934.35945777493, 198366.32869471743, 95281.15058113882, 183740.66912001345, 113228.06118089645, 111680.22368510049, 201538.5210940008, 291329.9391294491, 191503.56364278457, 228212.60358043163, 294494.8120358195, 230625.50149460355, 91118.90958052657, 294999.3900706695, 147112.7116972237, 206257.1987402053, 174865.21240617236, 127292.13037635335, 309961.3131670208, 163062.187014579, 252485.70964673444, 158239.5447586353, 109528.3073221286, 188731.96607711725, 123155.65491488593, 129938.00329627932, 227730.09655980687, 180493.25162669452, 90056.76917969353, 167409.8426306836, 221876.94074233389, 220731.2376648164, 230866.46300824216, 184627.6759639391, 298586.5447794483, 109379.01854381875, 161173.74208886805, 179164.93005747537, 182868.743110889, 221663.13348876563, 75958.49009624982, 204326.653964056, 256068.29608729127, 183648.42557746638, 110467.26441161854, 121748.49108370078, 169206.211410879, 138813.17000661325, 229102.17363240742, 119194.15701123142, 171329.71775783843, 213282.32550719552, 188494.77001766462, 196585.77123239214, 216119.5599519237, 204385.8064808054, 174567.64647591984, 252847.95773895987, 185642.34018657665, 101941.30113012239, 184017.6915336753, 165125.71485628263, 244447.97394210572, 138651.44525150373, 203337.33641548184, 234714.0589627378, 197398.87108766404, 179242.51442115713, 224029.94815673798, 88574.35225107614, 235391.09609233506, 231698.1126893052, 148620.26388537214, 204263.76396068573, 267922.64574351354, 171093.2226998891, 197276.94464525237, 346975.07521459763, 169260.13100971346, 193670.0561514118, 178753.07455137194, 161954.72280486714, 191853.18798735115, 198424.7917077266, 242622.17047933117, 72400.09188699786, 116317.2149264997, 211627.87297981736, 147026.8276285815, 146127.13065392175, 295389.1274564282, 166377.15710303513, 145484.62961692736, 97968.28222681738, 232302.42531912457, 174022.95986322712, 197241.69540609245, 160511.3377207092, 178464.12503999294, 204590.0634359055, 224778.6853588663, 144214.6838599518, 117840.247006456, 227476.46997293265, 237012.53942807173, 267659.9713253413, 224046.12504430802, 153333.7069468127, 211722.2252133649, 224601.01313891326, 235306.74389864388, 265635.55135418364, 167711.0358600461, 209504.56594015093, 159640.86396385613, 222462.50568532484, 65448.04639344313, 187508.6851955257, 195856.56948800344, 217701.40890322148, 207209.26379585426, 174183.28057536023, 153285.48084833307, 106335.44360342251, 157951.32775040055, 150160.23663090618, 106329.2112167412, 103505.1295058433, 129516.78978426656, 162029.88027054962, 199701.78335893503, 64262.05317187257, 167309.38806738256, 152116.33624489454, 161251.22953824035, 197892.89957539554, 173172.7373972136, 238520.08136437339, 217127.6838009893, 98513.5799380234, 230951.23167784815, 181171.00632703098, 151645.99705275544, 195984.89746745373, 241357.64752391598, 177887.8834631812, 148542.09129190445, 128302.63988479924, 183697.5963804097, 203351.33760769042, 149037.79961002895, 151747.72882723564, 139326.48167585535, 189675.33896476452, 153776.8737600032, 184223.2934664061, 155294.9685759705, 151963.60207605088, 115442.78120207744, 262929.1614955093, 117390.9047738749, 131039.25230332263, 88227.86097696128, 151730.98626447417, 150845.91113762668, 173127.02255906523, 71719.45842893931, 108160.44636262814, 192666.43175806853, 211190.07080454848, 207742.52944602727, 197827.2933646501, 224462.84359621617, 259465.264143591, 202319.73606892247, 178176.30816919176, 219756.47483070672, 178712.07738538197, 173276.9127352422, 266064.2832223692, 88286.72607748327, 236947.03370664775, 288439.9096118944, 149808.05391562713, 85694.06581485228, 156327.4529269695, 93795.14010189, 255851.05038483362, 152127.52497334863, 299659.22430268105, 260432.41995867906, 160541.48439720177, 104954.16285920481, 239434.05771942588, 324816.84098845214, 224384.5033024705, 235018.6905892394, 206221.69055824896, 95098.20910203624, 259933.4460621565, 156407.0864644504, 135878.2845469155, 317276.3041161896, 121417.49963454698, 172228.4594949909, 311210.0598994287, 326498.9592508242, 215510.3832071111, 183132.3379218535, 351073.23541586485, 114192.183913547, 173989.55764525026, 166374.89746801916, 216540.51277540662, 191527.391379005, 127682.74109619456, 150194.34189722352, 281364.26328445354, 148525.98322487675, 323024.8054350263, 132079.624655816, 206412.249596531, 217102.28398815705, 150856.5968737791, 104328.9974748423, 154702.42538499087, 173410.709907688, 179491.18369700183, 198200.9978250796, 171046.6863098489, 210590.22105644003, 121429.00705019267, 93406.77040536837, 350065.95268408314, 161750.88974399096, 136943.58936751797, 106433.39321272522, 260359.4661374008, 82334.37177991726, 185175.92523971226, 188892.9216911307, 158987.93412722283, 165718.95121173185, 148871.42288278922, 168587.2739445837, 148832.86856854582, 199383.15708680282, 188276.0803294974, 95672.32977083465, 199344.7661470938, 231662.44527078385, 127730.8805713956, 306991.6170478937, 153413.9842809589, 147222.91452051507, 274538.7273329147, 180344.69536402647, 189561.85105281722, 141222.43952381978, 173597.08096357927, 170563.83988955864, 217593.6393487004, 169885.24009261574, 218507.97936411342, 112241.10467946238, 177617.7042598399, 206762.90355351535, 277459.9686946344, 310552.4646749062, 127410.0561624717, 174024.9308987173, 174315.32732263443, 141972.30246921012, 187317.12370899777, 95730.22962284402, 132531.96183275385, 241724.82046224488, 252403.04138130927, 204925.83146317714, 153822.68887727044, 130547.33939932268, 195186.00240107972, 254226.6423490903, 120360.49250246448, 114139.38948453986, 203379.70309851036, 125355.96085595948, 86613.0285468095, 179786.4869973212, 99492.18463369425, 194689.4475850669, 213037.50376413082, 149899.8510050244, 181879.2785064898, 237147.76043420457, 127314.43927827098, 211899.16509784685, 151467.22870259857, 159918.72715571916, 182425.39007272897, 238255.29613652494, 214119.43183306925, 182441.9879311567, 101215.48378580592, 246047.08727942625, 297744.34719574737, 212972.1640636619, 245801.4133813187, 99546.78326321409, 117531.16201740176, 182892.5993363968, 280418.4958066603, 156670.53090638338, 108264.18096006125, 145301.50795368143, 180885.96796275594, 224129.79413652932, 151565.87280976292, 128410.88307090887, 188855.47780460684, 282956.7349876231, 258138.89138779545, 212724.3923967466, 207653.61037457717, 212701.47857981749, 163058.4064972568, 119861.85068010265, 132851.53812243833, 161848.35518548073, 247148.57760679987, 225765.310163002, 77540.76143460424, 234535.85814954856, 251421.13091348368, 224450.45873018051, 186160.709642796, 227541.25506804526, 236153.99235529668, 77599.36030630356, 211689.75726827042, 208655.28363993418, 170652.14084840345, 136291.5037879305, 173133.64655865962, 271434.0172142539, 172480.1204498536, 216475.994239271, 223037.30181042026, 106841.72437067555, 168160.34773855784, 127557.0817894329, 215476.13746839776, 147964.82638671083, 228224.46350563853, 255876.2665965086, 249644.84265301438, 149713.24339213868, 153741.61854860545, 144935.80983097496, 281286.3343980163, 201801.3939864169, 148215.31253152853, 102672.80412750714, 251780.48510166566, 254719.5213175089, 206124.8911904107, 198301.3158284714, 225512.83939535453, 274252.24835898937, 192514.1245896242, 213392.37600939738, 163922.62326983738, 167872.28595963755, 209069.4089573601, 220469.3753143105, 123659.33319305044, 176814.74557467047, 116586.52539317966, 190840.93915696917, 126801.44566439839, 186166.360524582, 215078.4290668483, 136972.68001106987, 221985.2564651881, 135161.11280109995, 252760.53381169416, 138271.37195725905, 112617.62154400184, 291311.54457005975, 205121.60018195628, 145728.72855811263, 141904.5433875224, 157389.28557948789, 148629.07193969982, 140357.39443753724, 309929.4221221639, 136106.3794430646, 234419.00939999032, 320896.76466668735, 204849.49873509313, 98627.69507345949, 219385.27766658485, 107241.53671109628, 187722.9504030478, 158439.48192161904, 278372.4627888652, 360678.5101563467, 113915.4501362725, 188067.1324999247, 98285.75173056706, 213530.74673402077, 114032.65946875575, 210312.1937327328, 199976.9400503289, 189805.7693130397, 150761.55726408758, 212444.33069217455, 220111.38210900011, 180220.52372000515, 258615.07237041846, 124445.28268551291, 175023.1486710457, 162563.18726486937, 182596.75518843057, 181722.71239489585, 218133.98506925788, 120987.85573667866, 172095.115090397, 186686.60403176508, 240545.8630178084, 250948.63305740766, 234271.173155025, 170042.46808278136, 90491.87969463288, 145507.65052721513, 140762.0246644335, 140914.47722411552, 310116.90450643876, 72372.15826163962, 199142.7745245166, 103145.01656683689, 131632.0194038155, 176063.52299768274, 166378.1439631789, 145091.21914301458, 194340.71294391627, 287432.75507504126, 156947.17086704442, 93600.40749056856, 229870.30372659775, 233784.24463238844, 157972.18469730325, 230313.70653170996, 205608.1637991638, 150451.75544780272, 161888.26526665495, 221125.4729094716, 186874.88187478812, 194197.93701164532, 198592.21587997684, 223179.460939631, 231636.35722053744, 165921.6260722783, 195317.12331052058, 111152.40650936477, 201599.18039175466, 166123.76488860234, 191799.16375667346, 104496.49086891074, 191705.54085464045, 272868.13530263305, 154744.50236782973, 155478.79682599902, 180024.25978662985, 141557.19239716855, 109328.61463826898, 203849.07742596974, 162423.64822625372, 252063.3602405953, 76432.2209648882, 148820.45475307349, 212037.77319488476, 297987.1122237876, 143502.3694545827, 202420.81254906463, 151527.37152314867, 308428.5764148829, 249863.1761559822, 156897.21831419494, 160033.24739093997, 96731.08753064826, 127385.58831544845, 112665.79932540991, 136782.15398274845, 147743.8705761769, 198463.1944324435, 197607.1538722432, 131392.35397150833, 245866.1489345032, 132485.41241875675, 184253.7368636455, 188780.55462756532, 197111.59172665203, 162511.62477414438, 255715.33312910772, 340286.8978732932, 200475.17922913874, 227357.56396457308, 146392.7368792447, 236204.4800591984, 141375.4096174694, 124320.93009502937, 91855.15621062391, 206740.2251513674, 281412.3660043499, 253834.4233536451, 200985.33379699202, 327849.8655466103, 71669.6085712853, 87620.87661753227, 224150.67529509508, 184848.78032212507, 209456.28771522664, 301171.51118424325, 205209.53862052842, 239727.42489115542, 332673.3632572485, 213747.3959823748, 264962.76597982086, 180395.99447425437, 153221.14793293737, 206241.47889982324, 186572.95877930018, 202617.73760675953, 189353.98998864953, 152415.96529871988, 125243.61363143951, 250542.4048970307, 204322.33889063477, 165114.44895472281, 208049.66256354438, 156563.5932257331, 95458.12472977715, 96425.2982601518, 110868.23522222495, 277837.7744648267, 90965.6014942897, 292526.02723775123, 139810.6218844367, 329398.9928896312, 282330.647501383, 110326.89924208597, 214308.04262243863, 250470.09101159402, 203163.03995162892, 215775.58231088205, 159290.79786483903, 177177.71963927953, 216554.17095808114, 196951.9633938227, 223740.06668743078, 212478.83569219458, 161911.89251934728, 203655.92148891074, 193576.53628120193, 207792.14616110772, 211249.3577170911, 145701.33962743884, 270420.8974183751, 257071.1553183077, 188617.47445579598, 218361.05909048315, 215160.0818685654, 307618.9970953025, 269359.39999744535, 208613.2552029705, 204678.70004156767, 109708.39005764211, 123462.47164956368, 117389.73373341285, 206662.9077476819, 147134.6936614517, 102234.76201999547, 156882.76711070142, 196015.18801044422, 325491.50395415834, 132613.3005802433, 163668.13370457536, 152400.15095590363, 296486.20214923815, 203698.74613413474, 165339.16235972202, 116383.15861642445, 149436.3331455032, 174854.61542752208, 155293.37452903204, 266620.39923886344, 140256.11358840842, 276126.0339161664, 87421.50233051313, 190147.52613108454, 66428.47769146043, 88454.541989836, 147530.5591672577, 212675.26934012808, 187043.99044573077, 151355.37801737688, 244651.4212854301, 288237.27876894746, 167873.95544366044, 162031.09004780525, 171424.79022228604, 161034.91647803618, 157729.44248307476, 167336.625136494, 227179.0581715307, 139928.4531710338, 106627.01240182226, 157036.19338375368, 259764.5148382408, 104489.11772098539, 173126.35615101256, 118190.87145535622, 293980.08082234464, 140283.6060613246, 339349.0069310971, 140498.85617378162, 187935.7729525909, 139206.83395897818, 95290.55632262974, 183613.01479943373, 121519.19660142233, 150203.8249374257, 175735.17860003517, 99538.28993678461, 187069.663248756, 169991.74564402027, 257461.2492670191, 81396.77619594484, 168114.52880003472, 179255.98705453437, 243793.9944857186, 201011.7042540222, 179210.51625521813, 205753.40512733452, 137292.91920850726, 165544.95217532376, 229596.68635404203, 262692.88564258505, 304986.8958050796, 265905.9974155298, 147223.9923755708, 179670.59883164815, 141848.57487860433, 180427.3504023611, 131663.77549127856, 155011.41478580964, 101403.3609763041, 247119.59565324543, 156301.15599787168, 148933.54358237569, 240196.017499668, 161307.24211222894, 204939.47061442502, 224860.62234158127, 198889.33558090054, 243651.96082286933, 174446.56045283107, 211246.89661314792, 189135.74002467445, 278384.3004315281, 216657.93010814156, 208684.89013481213, 205759.29729187125, 183262.5809859231, 113606.90917665997, 241614.03089019487, 216750.01794996066, 226519.32483342016, 92176.67001500276, 160592.2830659144, 199923.87298617847, 96332.80588391685, 124423.61783942902, 146314.2982340826, 211603.14307314207, 182636.0816065726, 118314.91928731508, 281235.1822215455, 193628.09370377462, 172080.92679710756, 199518.91618413935, 177143.77011507726, 168884.6755690428, 226588.56558477913, 174716.19367305894, 207544.66283014897, 193506.09065644682, 185441.33176950653, 204323.9541789589, 223581.13727407064, 192250.664696287, 137802.35251652935, 112033.17549869725, 96145.41658246316, 291325.3736281339, 265690.91000007815, 151921.96423053608, 176141.44137717548, 187640.42287777274, 130010.25479982956, 153332.33258162573, 151619.4001664413, 150782.70383366506, 265078.61796563026, 170772.96985152795, 194331.56370992746, 233826.39219245408, 106680.37897606607, 196585.02925661788, 223008.44940110276, 161448.91762984218, 212724.03512850634, 140268.7015035077, 154942.2266037776, 178310.08565757683, 105172.32606520796, 195339.1848912504, 131808.31522795215, 242092.8885220485, 213200.73403192768, 199317.3958674617, 102190.51312322504, 175582.6802965756, 199827.34858641837, 172992.18480401865, 157833.14704858256, 158445.09871116196, 166492.9472833422, 218578.13860045662, 246757.9236444089, 182188.3269970148, 133266.97065152455, 231525.9465216636, 162415.0476117891, 178033.35187084082, 107850.75473946556, 239657.50115547242, 195151.97483045567, 120471.1435487266, 247796.41528906507, 112876.34837210758, 209086.89621643006, 74759.95351182912, 102266.95961715975, 192601.29571115182, 82040.3294743753, 233633.9427041214, 145074.97040467642, 132461.50842902728, 236189.82041948283, 202867.17955839168, 146492.20081526827, 147682.16429604543, 237701.08259842067, 214127.22251223537, 167781.83389727725, 112877.68923791886, 285697.5886129827, 327965.37859021605, 184714.2706410762, 229229.18116353487, 192912.86811533832, 287159.0145823568, 99133.72170689612, 129740.10827230218, 274725.9813437151, 206935.7758663085, 131867.71541829186, 126267.1282620426, 151853.0034100557, 269474.5853240486, 296111.0303207589, 177002.17527814207, 242423.60225082378, 147747.0320923803, 209361.11810593674, 245877.22210524284, 84250.21431263453, 187716.6879362078, 309583.3135744248, 130817.15334294963, 213087.69258271257, 133010.3079706737, 291132.0688290615, 152064.43788352874, 199620.75699998013, 232708.82333368628, 97872.53416964324, 147808.40797777256, 160258.50333796823, 227081.05049236148, 124251.7930502606, 205371.42169343456, 227471.6347983029, 109604.1100094599, 133023.79743899195, 288049.34867674264, 165433.1058635543, 183580.57589447312, 278850.486694157, 208349.32051421196, 193567.9339181166, 169969.86520141512, 183814.68516612565, 130409.5915494094, 162698.50720817648, 213811.19504985356, 105501.62910253262, 275255.8278227611, 171022.7642170412, 185802.89606600755, 95959.80982601328, 236130.1251491597, 353233.7617913129, 237461.1747229763, 215623.7035442937, 335099.6693217782, 183058.08374396843, 119343.73475137039, 237290.86505877113, 214282.871519357, 152109.4689508118, 229015.3684943929, 148945.73887417454, 116658.57785641968, 250537.37822645588, 141560.03360458964, 191595.59253555082, 179448.94597544475, 142214.87953112056, 190062.30999548128, 142100.81205282328, 222043.35070551682, 126950.07433227642, 221251.79052407175, 154627.79459386697, 106093.51144728069, 145098.23841547582, 291919.54234425863, 137044.54905294682, 70649.87306775118, 139104.69773712844, 174295.58937030943, 210945.92589333103, 175507.06071972343, 121401.72820141453, 214315.7819381388, 227670.87729506285, 177074.69948401896, 206398.65535897738, 138880.9580226147, 253180.1825353408, 119558.57288831887, 240622.2596816262, 267648.01546450204, 212329.12105386858, 165027.17777198722, 91217.15172408517, 97108.0755812741, 135944.71523637974, 293485.9233208733, 150941.7318366759, 102438.78852272409, 187324.10702019837, 271312.54965579195, 170304.69701697413, 97779.22031402777, 213364.7023464142, 166086.8524660661, 140422.7608900057, 192411.07780089928, 213998.8220754136, 177438.34482688998, 84776.9406110654, 167282.5996847806, 170941.39223411074, 101157.17740575002, 112723.48113639998, 214517.2771052849, 300128.71202868834, 177716.57148970503, 231558.60032271902, 188458.2757988704, 184497.26381467504, 203071.53058872375, 128695.1788077707, 163812.0315904239, 105157.52115315615, 177727.9098149656, 114770.2414700022, 178539.23333623554, 200027.49647063602, 133656.3477091898, 187450.69054101352, 160759.3882592223, 143194.05786857003, 205852.046846331, 160014.9266250537, 290024.86367209, 211589.07448409143, 207407.44082427782, 202728.50974345437, 97171.58588644343, 280301.01191669184, 185831.3542903282, 120447.94400947561, 169607.53306326765, 136937.81651665305, 161939.76280072064, 155542.67711167998, 173158.0615748702, 249741.75010532432, 216131.3665400892, 291725.2412892873, 175031.58430978694, 254948.69138120167, 207810.75057599528, 220063.74414702927, 253431.99750841677, 343275.5401850134, 182660.48059992093, 239325.32017683412, 314873.14180532715, 173430.33665406276, 165505.75742789122, 236932.48361305348, 272243.23915157834, 83846.23423959776, 278748.02727979457, 184657.5899554953, 145823.34553031903, 194446.20732159892, 144203.48724072886, 277069.35143555363, 222405.9870344743, 94891.250414025, 318208.7960945158, 107497.62011213825, 247190.67956964404, 222606.93158001595, 189820.27714407817, 171047.61764067563, 208157.90000118414, 195156.07874277758, 104063.2250662124, 238322.2790179455, 240377.85904853506, 168042.95405163016, 242451.67778498243, 108980.57844059006, 228598.91961653947, 148468.25176256048, 266617.99957208097, 254309.22899289388, 316449.8870755377, 189835.9695885937, 251953.74513310904, 144051.31526563497, 150331.20280965234, 170629.29658190676, 255207.3584148648, 96726.66653625813, 153343.86107176734, 184343.74288908465, 203087.6489838315, 180339.65032507622, 213110.74069964344, 167276.73739240132, 82146.37224662006, 105197.58680840954, 215080.83097993277, 100115.54940482967, 89435.28740628922, 215820.4060289505, 307298.2518758852, 346388.42771242216, 195683.35333709436, 259389.11293092868, 267171.15445528505, 93396.99080251997, 115811.66104433901, 97281.83901748038, 82730.27192282629, 134880.71382622852, 167265.50887797808, 161735.67905196716, 84626.52824735879, 236148.0596536806, 139353.2603961387, 227780.62526586952, 204957.44684978033, 169264.3207489963, 271989.1496083113, 145226.90232616058, 203770.13770071336, 120719.46433987202, 204121.38430820717, 89212.18856767351, 252486.21807509923, 328782.5192513305, 145634.194189634, 354617.01593468833, 164638.51959169505, 254335.75213671388, 129952.50510800176, 196860.99309869544, 277670.4895328947, 110986.59870211125, 286213.95163189695, 324373.8746984602, 251510.03308176747, 285151.95511680027, 184212.55906200176, 200145.97333009145, 140433.0610927642, 169878.28883448403, 174806.75202372434, 205638.63017977972, 152761.88979153644, 166426.69187756046, 222594.5773539198, 200941.85369116176, 347742.0312119788, 212980.5277830697, 144022.27875817503, 194162.2148462335, 105152.24752454928, 223135.34978085372, 178146.4321216026, 140626.62998069118, 173360.155645958, 166629.39854226125, 232527.21600932765, 123994.91788725842, 230451.24269708016, 179912.10616152524, 209464.08421564702, 244424.92662553588, 234413.94106406294, 105165.01349222905, 315774.2081297157, 220941.00757420593, 147034.3012901133, 238191.4883934452, 89705.88876821226, 101004.18208186224, 87070.61669611414, 189048.5027935787, 148365.08639615466, 138320.4232593425, 158118.952017169, 186705.05045025883, 246454.96054029587, 240017.2403008349, 254549.92658439625, 200692.7684877474, 232748.2830432978, 329156.3584963636, 181292.07522104867, 158537.7361708321, 141159.83572179257, 205833.23354103413, 277687.85771070933, 165446.8858311939, 125191.109637117, 217247.84358213015, 159538.7900135352, 84468.67951098934, 190095.21589484444, 144713.25282852707, 302081.4701373443, 196919.90974306644, 201304.51513780272, 156308.77571196822, 118304.4134292247, 80852.66927417806, 252526.02592050366, 128661.15551754445, 182834.37049313338, 177641.82261084102, 124795.58791309515, 162227.87956357852, 96290.24870777421, 152038.0494611729, 128197.06844536318, 142727.142139794, 148567.52618513306, 163921.59807395667, 222282.60130374995, 217473.1328724332, 125194.3530102545, 263253.75204194966, 230197.0361008287, 146052.47616409272, 211401.033820218, 221538.92309545865, 165046.1275184517, 283249.32585469197, 178507.38219947167, 227489.32701491695, 180913.7316369548, 155572.66680836256, 266271.20042760763, 221885.78488379464, 259487.75732783336, 247165.90195060667, 211318.50490765876, 135134.7321513149, 246911.19698232537, 164849.00969193902, 140775.981693521, 122679.60643323997, 253673.41865159268, 344242.56868926226, 258062.42223368073, 139172.27502836892, 180512.2248792515, 166154.0878985354, 103299.98994815862, 211157.54926452335, 99915.09160778619, 133537.30272098602, 317485.0024118878, 243136.63217067835, 150886.12107842776, 156682.16511755052, 294648.87265747995, 229337.15797957833, 183652.77587439257, 241531.90448198887, 226097.55453890533, 253665.44016357505, 101116.59959455304, 205071.2565683736, 195018.97301561246, 172270.91834112612, 144419.39575666154, 97340.38397498261, 83268.79350720423, 175713.2957759304, 185086.25590150413, 153453.078076904, 279633.6390455933, 163173.01846873542, 165776.70588192777, 275402.6180967776, 168857.23475171995, 141117.75467305584, 110530.82876191077, 169955.40480900774, 211127.06022033005, 293087.4194000625, 136818.30958519632, 235619.33222180244, 141613.3161473028, 101030.92294176001, 168341.80074375204, 219224.22840990435, 232622.71489049026, 189006.76506815804, 192634.4067901526, 198058.33066324447, 328933.4619632156, 88308.63021666894, 82972.46197855398, 138566.13230255217, 181692.86847793031, 154938.43497494084, 219097.51585055975, 132059.22521485214, 290445.38332293613, 217123.4777964426, 223818.9276193197, 165018.13405718582, 229923.30857937757, 182141.04792474362, 171470.25061989433, 272483.97998867393, 199465.01803223058, 111154.99907606358, 140891.20240352864, 278664.09568221844, 192161.16128995945, 164541.40195514905, 179408.33139184612, 166220.6202606032, 189551.7441714282, 149456.54461541696, 263677.7273312293, 204776.73857147654, 158793.37595368523, 230427.61467664537, 223239.96738750924, 227282.59127010594, 127182.23808591739, 170029.435699507, 183209.73464284404, 125282.15191961304, 83397.7291919769, 126401.33004405805, 186392.56883850775, 287563.83013274334, 175154.03227421994, 147423.68422569727, 107398.44586548964, 171431.20873814748, 210677.2240204327, 322960.1035260814, 153425.46151438868, 192062.876553658, 151131.33388638205, 242937.69115511223, 312119.26612574584, 227239.37755537598, 241912.32908088167, 77363.03353413458, 133165.47521253256, 149948.5006885202, 116636.37587201713, 243722.21134530863, 292934.3481919227, 163118.29570828882, 160889.19541803977, 169891.75535170827, 219882.70740693228, 212020.57658881738, 261277.64445513487, 260572.038661237, 292619.5895761446, 99467.0758947725, 144689.93561580876, 232521.2720261114, 295982.849633873, 211737.26610099006, 269398.05068470404, 206204.28034404674, 292653.7104784977, 94917.81920125865, 192281.7560444977, 179249.0759434461, 94636.84352863254, 317108.7506005232, 122789.02938720964, 160259.85213894196, 124752.07497925572, 176665.477581715, 114870.78029279741, 198021.10416688718, 192684.6456984068, 103994.52110000937, 210814.0800810553, 237932.7833388768, 315476.869410742, 155609.51951232026, 116844.88236946604, 153027.46854167985, 160189.99033594484, 92150.86382499397, 112679.26905115628, 267978.4781718853, 144288.57702668686, 139500.5809967699, 159321.197348029, 204092.80886847473, 304299.38672816125, 182514.02121432457, 162262.10533290752, 160480.74081842828, 198586.2578685337, 203388.2941704087, 179143.94153675454, 151798.97051753066, 186124.10193237945, 195542.99587548134, 113134.88562911311, 194875.01674212818, 183617.9727720659, 139185.82043537777, 182108.55138465186, 129594.22492373842, 90536.93168077774, 217966.05140989757, 71145.5152072034, 139954.99953796947, 233284.61324005778, 301693.4518502344, 218625.38478861316, 201115.12636315278, 230644.46273206783, 151695.0921257031, 223471.97240602283, 107273.71570120755, 138036.7665867064, 137198.99182638148, 130916.47110175504, 132531.62439486105, 273560.6194172166, 173597.95055432923, 258441.4546777764, 188122.53271757098, 167628.5793920859, 96801.26094223348, 231015.54509222176, 235983.37994009885, 163836.71592643586, 254420.76656259666, 150959.63272347464, 130046.81854314929, 161869.61807753897, 92421.89585624811, 312372.8919346142, 113641.17952504425, 308422.4467229705, 237167.74784584818, 137071.73314460047, 181803.48023753776, 165912.4812428684, 168205.37910477346, 107200.83176228563, 141848.34015118584, 203586.9973251113, 195397.8253060805, 209722.82483571678, 205317.18918794277, 103482.77155162557, 257207.63888600198, 266341.1972697837, 146914.80721516567, 186491.20670429693, 240448.7508178812, 200988.0126076666, 168273.8525919065, 149890.2073286346, 196995.66473365054, 215866.97231092438, 207556.75439009085, 122001.42785587892, 74671.45211319778, 151087.37851782097, 145475.95514427745, 96681.75000496443, 98552.53556676366, 198075.68526405285, 184627.5502187127, 102310.44503946062, 262592.33559844614, 337196.3323779219, 166938.1509253376, 150258.25244092854, 250515.7388135061, 219863.19972383397, 115653.96439233425, 197243.27089023538, 188434.28877687798, 182627.5793673843, 287164.50340233603, 182178.04946646938, 205321.2647412027, 187205.88345804493, 187278.68655088855, 351101.3368455592, 173784.3630219002, 143257.92862898886, 166707.1941951217, 165010.5363546462, 179600.16833345065, 179076.39567959256, 200805.573393823, 213599.1889000327, 147346.9656610339, 146958.4843289866, 130843.03921086664, 83637.20143107614, 319108.13475730224, 86942.15466073794, 230919.03098013662, 160125.13427432737, 184786.09738959093, 172986.135897764, 152038.85494356562, 188671.39869161657, 185034.65469950484, 187850.1673749839, 211072.5637201911, 100907.3582681079, 171083.69534022047, 216238.39062471857, 216711.418410239, 220209.13624718494, 292819.93352117634, 188332.4518491957, 130649.51838485252, 199074.0805161461, 111543.76864943052, 166446.1294942868, 166828.52324768293, 209249.82703793637, 140458.36336183126, 308260.7170349695, 102049.48669546598, 268875.5245403861, 192147.18947133905, 124852.86201900693, 208857.52355865185, 175772.57365301842, 328300.1588408882, 174931.52826096208, 167991.64089631743, 269686.4755684386, 125264.85457607383, 201914.91213325755, 135557.98802169922, 113108.57612939738, 209100.29980904472, 216494.51638580326, 303687.7537194552, 200863.06945607445, 202954.9373058955, 116582.51317417288, 166200.00920517585, 178196.65580014949, 328511.6029091043, 187392.89759082996, 204844.71183022956, 232097.0441674805, 181247.75237770725, 164685.88806334438, 184265.81830430703, 117997.59545870543, 139815.26178840807, 225190.4186670273, 222925.76452440285, 168332.1823782077, 189821.82947882576, 93493.95999510841, 134881.32373216073, 309523.46310228435, 178702.54248431948, 181662.8158067766, 118902.47226925097, 250486.59280668577, 195870.6510985257, 164808.14520636018, 103649.00751330952, 249142.23574488398, 157833.5039215625, 223181.65540909723, 166667.77584170428, 214757.63729497287, 126469.67659927945, 215363.6981056729, 171820.14016426686, 263858.40011139854, 245322.77121247962, 184583.4865497348, 217306.35512256034, 235422.97910647653, 145575.1884800898, 209532.7576627789, 126987.56201703269, 158516.4823110668, 212013.7799700258, 130326.5058514852, 129203.74477046485, 143435.14582786363, 324428.5439263842, 247049.1396911958, 96762.3824459187, 169802.8271437814, 293274.23329407035, 203398.01090256713, 192825.17796622473, 149153.42218039598, 215217.0137181673, 169591.04150166275, 168173.58830348795, 164536.81777142052, 286939.5398309891, 244425.16167204623, 186453.70011902216, 239467.43146851673, 214398.87130302438, 112641.88842050718, 150857.53769750783, 149213.3989616252, 143871.30720588574, 275448.5942971787, 247323.91234985006, 173838.04901427907, 312935.74655691464, 105781.66932926298, 128167.25697229103, 194093.1665826022, 251331.319501804, 101965.54738365175, 104066.7469605936, 89098.89623245453, 91610.40670639352, 148683.32998784614, 227302.08594418684, 282199.15176470426, 236414.31849443377, 162038.40805520996, 326206.51327492465, 170832.96834632612, 112392.92626346409, 150348.16307221705, 142583.0552608716, 171038.81026534282, 181030.0666930332, 191256.69197929298, 225920.59909532507, 167944.6503216086, 212604.4060368681, 203427.20523123126, 210378.28229389252, 222017.02763764176, 138231.87969865056, 189485.61446010752, 96898.60537177474, 205072.5418229262, 103781.56535063796, 108061.69500207058, 167529.8934070097, 333331.29022163304, 165741.41880180634, 136908.47842495266, 68124.38231442505, 82887.67788769538, 263171.2422181837, 118685.45113522674, 162091.01224497848, 272842.2754223599, 141207.1607376116, 107395.5352886588, 157898.41182580622, 105872.50684692331, 218398.04019896893, 184185.80877779558, 149324.65647270443, 213074.74297380116, 349049.7098492729, 169542.86171867163, 234204.64028255068, 229187.0087221479, 300143.2598467485, 194001.55036938624, 146831.62293708196, 200452.21205118546, 127556.42708597545, 245278.1928034886, 145776.6307067786, 290398.18178455264, 162915.61585092073, 267049.73765054723, 159875.97331784075, 156229.78910461004, 149137.80500466947, 77568.59956746463, 176486.7363917444, 312474.6939084142, 232376.6513517632, 103931.19365690988, 102194.43293429476, 102808.48705156198, 231310.28742476756, 163360.59217084828, 82768.02120277454, 196124.6436571639, 211566.38933697483, 75989.8506387116, 114799.87460704059, 76832.76254526318, 72909.96417581281, 119871.88516940994, 136760.27572324505, 150380.13667313894, 148660.676527591, 182997.98265222792, 208927.60946456256, 251824.56849268184, 162042.1872497264, 206048.20178454777, 268582.41088268394, 164125.54542575747, 196092.137346214, 160422.9144332135, 217769.56844844532, 173702.5413727178, 131389.56008796568, 178942.42609809735, 326203.01002855913, 319130.0532630179, 99778.65739383237, 138735.62634697667, 207312.85985581507, 100517.55151011377, 298003.6602592047, 274187.596493701, 182876.15473769006, 190137.92220661015, 261439.8053064874, 174824.06128784176, 247979.60219060193, 267591.26180357614, 209215.86823331195, 138710.06451692805, 205140.1900496519, 141028.9305219947, 198582.74219972524, 255390.8451045621, 195860.04484910032, 325997.39061686303, 164866.2136725844, 138546.9788809925, 121695.27331280125, 81899.93030232075, 205549.2017436915, 151878.22515698595, 203165.02243334032, 95266.96483696667, 244372.814369765, 175180.62389255947, 239328.84858601683, 291695.3713974481, 195823.20603440754, 105299.06406860572, 200301.75025512397, 162321.68225920753, 176443.0722424789, 205847.21677383292, 90473.80537347689, 108930.2854415545, 207346.58599547064, 79318.52289956498, 242108.04355048854, 273590.2169661876, 133465.43271690095, 166285.4555450644, 152944.2334715847, 244917.5397218053, 258410.89562119037, 151348.8163579492, 332884.3149777744, 349942.51862584706, 206474.21431376663, 142311.830537941, 113615.24423766407, 154676.46989773918, 338362.4297734143, 157932.44986013309, 123826.87994125251, 212943.44338843692, 122778.40253088926, 88831.91342836776, 252538.70206126463, 181034.38374743407, 254812.6655102183, 221694.86379973372, 178368.249231151, 103205.20983097, 203368.5919225244, 105006.76886978958, 109151.18411624567, 259103.81796847115, 203577.32776667515, 137795.5617703661, 201873.61158462145, 199413.9131456471, 105930.88497280791, 109653.7739047754, 221107.17685075363, 99025.1722135632, 197675.95848987653, 229993.0310993143, 149150.6420015601, 148950.12409714283, 345409.3776126781, 191686.6113398052, 274568.6812689607, 104545.14528849127, 189629.9338231141, 219037.86062908714, 156286.66863641475, 249358.7407938336, 223848.95959135838, 244746.88618956023, 230035.43543629878, 143552.34790095035, 213196.9451323117, 176192.71150649633, 174512.16068064608, 215137.14039839891, 210227.4114914248, 277054.66231025016, 149592.84298223752, 254453.6500219689, 164015.5116742171, 224553.8390930167, 162554.43659145536, 275540.7605204425, 84881.81862657928, 143193.83463631017, 264780.3176422202, 264967.70132455963, 169800.89315332667, 106729.10392858619, 95769.28427157395, 121695.23265737641, 145729.81410967524, 226435.86262319534, 210257.2223728846, 271808.32381001225, 263885.98250259313, 274017.01659523847, 169293.792970099, 236925.1540874666, 95858.9222999708, 152545.39931592098, 228485.75347580953, 157240.11274996883, 103340.8539144873, 208460.72199761518, 129259.71329192256, 160383.1454062889, 205043.39999582648, 199734.00903606703, 80568.90814128725, 167180.86701629596, 226260.62022862348, 166441.97331179294, 167180.02702300303, 277513.84869395185, 234264.0057292697, 194324.48268025133, 303180.5457125604, 148801.27703543042, 171763.7393822148, 142449.867499112, 314431.50673816813, 165684.20072048585, 310024.45839226514, 155036.33458340264, 171071.0490970587, 221811.64325930362, 169003.01265619523, 219068.7245518741, 82320.0613252078, 193323.77869324383, 143447.66391743708, 219541.12561692533, 257501.31437453307, 235365.9441036178, 179609.70287212828, 209077.7489613939, 139145.1143228672, 162214.3883155076, 210715.8721315699, 105045.90688651342, 211559.43527034402, 157522.9738475244, 224658.02178394044, 157284.15101007823, 155643.70927023498, 121475.11162823191, 100622.8388312492, 326939.6609827662, 206113.38319492844, 152514.3990876914, 167203.60045542062, 97480.63942672005, 206415.9552351615, 218898.5725852248, 154701.17312891793, 277900.7542179059, 141518.36678824853, 239937.68511867992, 203275.48400490926, 138511.74675982882, 157805.95139790332, 216161.9603201433, 147660.43589607946, 203357.63295708207, 153311.8970348283, 213076.41818823185, 173497.56991801455, 212960.38715623703, 200811.5014892734, 175554.6631680323, 181858.45454499594, 135741.52869491925, 200536.24162681203, 150817.2944408728, 184584.67317495536, 336264.67776966916, 75687.47961575213, 183049.8207282464, 215641.03533494443, 212290.39944906233, 160828.94028238903, 214038.7224129509, 148569.00738940068, 155053.06891289493, 210277.74939417432, 148184.24245510396, 132654.8271781422, 128585.786356263, 83018.8389661823, 274913.4681826669, 100329.31411212706, 220017.62278606032, 152299.0152974336, 166760.9207555581, 177812.26165189262, 208043.30420391142, 204384.2772852496, 236979.4833244598, 94446.90685488813, 122063.95265525588, 190682.2774277543, 146978.8252543862, 92701.868786753, 91633.91679227857, 132911.3346673685, 133852.2271346557, 186573.67895272406, 128692.80597755415, 128500.82912949711, 116915.82308802329, 256539.7793317836, 231478.45252516825, 158239.6626940085, 258212.59187694552, 114885.33938382356, 284612.67952178617, 183473.73064162204, 223346.92982114374, 169312.58618128707, 214622.87891626992, 276431.1741805261, 184032.7457723301, 219723.83034231528, 220012.9979183308, 161831.2890469677, 186407.95212773624, 148202.50507835427, 148586.46566194325, 148582.90329707458, 138143.43314307032, 286166.38519137335, 100384.60777415094, 155967.68237319667, 202741.51424028593, 214326.87037956208, 90720.30651033035, 257598.62254275716, 257166.45176564605, 171619.38191289068, 198331.03044886, 110402.80755342898, 156734.40597633005, 260926.8236722209, 257902.87586548578, 162554.67872805847, 90942.41421294402, 161402.27145500516, 227566.6877382614, 244530.72942711317, 132490.48607114004, 222020.0101699068, 220809.2257565667, 257392.33029958914, 149755.6807804905, 201133.38555128002, 78078.81364901747, 227870.02692663757, 339822.4532904031, 220132.01291877354, 221616.25039450443, 310410.5821034963, 144262.22839633707, 143765.6222409471, 175730.10293797537, 270086.8504682428, 157580.29174035578, 149002.8314212775, 202152.22359296997, 86814.5281797447, 119790.9569925615, 188005.23240984857, 188197.8880864356, 172242.21490765185, 130794.85018011925, 178266.39789328532, 334280.62283912726, 247694.45941008572, 72637.46449027184, 113244.2356820797, 116154.00010915357, 136715.40346283047, 221817.9915737158, 136268.71028965758, 269300.2346564885, 118649.1349199245, 142694.4410354438, 298660.86213946494, 235574.5800501393, 197023.90531022017, 201215.781968619, 127934.66622197538, 221980.03646577004, 226971.1533731469, 186810.81769423943, 163418.59921692795, 203880.25898663214, 232645.65133869852, 193866.96928886854, 228346.73861450012, 196803.09914028912, 341310.2401110976, 166590.23432606563, 158664.72470718247, 212640.1969239562, 174878.55125404632, 183687.33937354866, 201391.19533247908, 185162.18074196155, 192504.4226668549, 170752.2348947838, 236705.54243026284, 128559.17204266401, 184607.09643337742, 244922.7070212707, 87496.91809831996, 136250.69918777552, 198074.9694225254, 240463.15096106884, 92971.67244582609, 196732.29934537405, 212680.28542362945, 198525.55103839267, 194316.48606136057, 105065.07035696271, 127924.77701667899, 141147.64446281656, 143294.8868406569, 171712.2597481029, 176786.31045130815, 232500.7836992669, 151880.76884639618, 98655.90815587922, 212606.50150055517, 173585.21431796526, 101017.03890621617, 171710.08633773515, 300499.0411380468, 182771.77644674943, 253162.83569360434, 185078.13656763162, 137213.78786447825, 175912.66474837332, 241561.32831593984, 210781.79713755395, 163370.20534878253, 192246.66449604125, 201514.73499540734, 109216.40939496062, 155787.9821325674, 213680.2884335412, 105585.62670175594, 142204.74666260916, 259996.76937648107, 178257.0025489082, 195518.33431664074, 195220.5853115335, 270338.16357342765, 174455.81709504558, 187046.22732036895, 270976.8642298556, 183111.68435935874, 190547.09746416472, 271469.8340337031, 293502.1575488212, 120004.34315711654, 141104.3433880491, 113115.392867571, 231765.11365641138, 326403.0598615946, 251199.48074484785, 185786.12672804348, 162746.03574050454, 156045.60936728012, 114389.00426522031, 269441.349666546, 222878.91081448257, 114056.38989798653, 124950.65859550217, 160597.5558109559, 292966.5680128434, 247277.97136393085, 216761.36475856585, 111605.12473430394, 109954.67572260973, 199464.67157486416, 255237.6266670097, 95134.1762828788, 145208.0160336831, 114038.31989771938, 244136.4492027814, 146309.0606386424, 155575.1265081914, 218087.48780030082, 197897.80918319646, 251523.3573447558, 202394.79043300857, 192569.18090635567, 101189.95704510952, 202297.3539037708, 274177.9454264931, 219231.67556178392, 205658.0410450859, 158372.3103238754, 280425.4937466348, 167104.37208897158, 343237.19076970237, 133406.85507642868, 205681.3011212055, 169974.9037772813, 145163.09120028213, 131377.93079184645, 183501.07043943752, 191737.75185427658, 157713.88886196556, 150612.43936212972, 170215.79724360752, 170765.06298037953, 117261.3193991952, 217804.29966765686, 193202.68050569465, 133122.10028354835, 138677.89964588865, 193412.34304327032, 308550.36602484947, 117946.95744671181, 184262.79215487372, 228495.17282251728, 290355.6574384355, 282671.568240162, 277442.87049740466, 307089.1130410685, 157915.5555943327, 233329.09507437557, 198849.70981511514, 133944.13162188497, 102788.20130992467, 198718.8106581871, 163549.00338942764, 163547.87598583146, 243137.8786346735, 154258.228490227, 197135.14859095533, 289088.03278480575, 213204.81289727415, 181147.2976001835, 195208.1288495938, 153662.02818713686, 213944.23842157974, 152204.2979919397, 84869.758076956, 167409.07350534445, 236565.37098688737, 229572.70404680286, 123798.51522662792, 287867.58678887703, 255882.00687165445, 84307.27518421736, 157773.06133461947, 112837.25419181558, 158123.63563790196, 149280.2738814329, 208733.84582025209, 177337.89092508084, 164160.6480017393, 191485.5080487417, 243223.28260095045, 193838.43281947233, 194834.2603286289, 200270.1052907908, 187318.70459834216, 126245.69947896808, 288032.73136713146, 247216.16168634017, 128305.01452203841, 120062.25380525079, 221985.33821190434, 194196.6260099756, 180597.75785031123, 150968.68775595093, 145404.81685968005, 196095.0009558375, 88020.94805413565, 166580.59832645132, 162415.23906911747, 119648.55950133149, 198528.3544535601, 210239.7400515847, 310384.62388297095, 227906.8095502577, 131222.11456904188, 138962.01120785618, 113788.58993309565, 306087.0977062249, 175813.6044283025, 348536.21634248353, 254063.8865117185, 210130.06429021948, 85142.12117592734, 113353.05596984671, 190485.4721735688, 140028.31861389178, 157241.07947630933, 204743.82535924594, 192725.68169464305, 179353.9584430415, 208913.72540509567, 211109.7624945869, 193581.21868427258, 129441.25750360379, 213413.5320051614, 121966.8290390576, 209201.3622361229, 135556.5927512906, 119090.38709602982, 111419.03075415504, 279857.6673281859, 165679.00646203704, 221569.64307435259, 154577.76840441584, 82581.31338985184, 200176.69591430158, 125283.56625227869, 127439.79656957435, 150123.1140381148, 213968.70952910947, 199955.19869619884, 181463.51991126843, 223114.78766792978, 81849.446020845, 274167.6283840686, 183118.24154508932, 120365.75467926267, 193610.94914367952, 253255.12052195458, 130370.15310455232, 178899.5804893313, 139809.48510142532, 197261.10146275914, 190377.8597732718, 154169.12340056832, 194241.43327969895, 119004.35618399558, 186060.52673949738, 221766.8701581864, 223841.26029723222, 169849.63555328507, 91810.82003830431, 198492.22370615727, 239200.06593078445, 217480.87171493188, 137756.50177129975, 98902.55458030412, 204598.4243722989, 102573.45483686631, 78850.02688505453, 151093.21674977685, 211861.9094412289, 134378.69472486764, 221573.8064335205, 185275.4373315134, 195613.60428962685, 182947.78176524397, 162831.25360974536, 141983.84297674813, 198985.96766069753, 212022.97378256446, 182026.16999092678, 217750.72072909045, 108102.09910803782, 194750.40965308493, 171079.26528017526, 170767.0794973603, 193625.03320589574, 146505.67168395105, 220289.93874750083, 289352.6802147163, 222922.0839971662, 73772.56045205072, 237404.64586996837, 215610.09477232167, 158006.70725035272, 114026.10786001029, 178445.56608654367, 205446.00192019483, 218865.33274304742, 292889.3730909008, 213871.58964620694, 248346.83440036533, 145493.20151458678, 231350.4807205572, 163508.72987860354, 112057.35244468033, 215842.9963671623, 269671.9915558609, 270405.7809091676, 305789.9289362722, 166872.09283681554, 133108.37407461865, 204109.30598381598, 205896.11848452748, 301344.6083424227, 190288.32422057743, 88815.25211814062, 193183.44218513108, 175730.15721529297, 161325.5711656083, 209309.82662424064, 169441.97224292558, 80771.00710250174, 184100.81597532032, 215859.6609372949, 220273.32659504673, 90285.82600799325, 194285.1145406072, 240576.77951268884, 182471.61218423472, 232985.49991679593, 235584.89467405336, 202361.56773692166, 113442.2072611127, 123738.789035219, 171188.59425944713, 169836.36532578428, 145182.61580644065, 106479.95311976993, 261770.97581366796, 78474.10942922549, 248445.40235775433, 214200.86217036127, 192645.1587101296, 255856.14344253298, 148410.22836053048, 171035.59612954338, 88880.55965824083, 271493.1045108854, 122570.35673075014, 143019.78412984, 159769.96210279912, 259837.40826141695, 176774.395663426, 150641.7562781208, 181581.23382834299, 87974.99201795437, 199460.63479658027, 185878.73576858395, 194898.24948578756], \"coloraxis\": \"coloraxis\", \"size\": 5}, \"mode\": \"markers\", \"type\": \"scattergl\", \"x\": [47700.0, 45800.0, 500001.0, 218600.0, 278000.0, 158700.0, 198200.0, 157500.0, 340000.0, 446600.0, 123200.0, 253900.0, 215100.0, 220500.0, 219800.0, 136200.0, 178400.0, 187500.0, 139800.0, 137500.0, 425000.0, 405600.0, 138800.0, 500001.0, 162100.0, 51400.0, 151300.0, 94800.0, 204100.0, 361500.0, 85100.0, 138400.0, 137500.0, 465000.0, 271800.0, 239400.0, 340900.0, 150400.0, 128100.0, 156000.0, 258100.0, 90500.0, 71300.0, 219700.0, 151000.0, 290100.0, 142000.0, 291500.0, 255400.0, 98100.0, 251900.0, 162100.0, 129400.0, 89400.0, 150500.0, 133800.0, 80400.0, 211100.0, 255600.0, 214500.0, 500001.0, 202100.0, 81500.0, 98800.0, 281900.0, 184600.0, 254700.0, 143100.0, 162500.0, 142600.0, 85900.0, 186900.0, 71300.0, 174400.0, 225000.0, 146500.0, 405000.0, 189600.0, 164400.0, 337500.0, 72500.0, 143800.0, 160000.0, 118100.0, 374000.0, 202700.0, 96600.0, 65800.0, 167400.0, 179800.0, 96700.0, 266100.0, 91100.0, 49800.0, 90700.0, 115800.0, 278600.0, 250000.0, 85000.0, 177000.0, 99700.0, 357600.0, 475000.0, 273600.0, 182400.0, 157800.0, 193800.0, 333600.0, 264600.0, 58400.0, 173400.0, 214800.0, 200000.0, 422800.0, 93600.0, 122200.0, 167600.0, 303600.0, 269300.0, 264400.0, 191000.0, 153800.0, 275500.0, 208800.0, 142300.0, 63500.0, 95800.0, 231700.0, 221500.0, 89500.0, 226000.0, 500001.0, 270200.0, 59600.0, 193300.0, 133600.0, 161900.0, 357500.0, 276500.0, 410700.0, 375000.0, 135200.0, 167200.0, 252000.0, 308400.0, 172100.0, 500001.0, 193800.0, 105200.0, 90800.0, 168800.0, 162100.0, 161200.0, 137500.0, 289300.0, 278700.0, 161700.0, 231000.0, 87500.0, 95700.0, 240600.0, 214100.0, 428600.0, 125000.0, 76400.0, 263800.0, 120400.0, 109100.0, 170600.0, 257400.0, 320000.0, 289600.0, 307300.0, 325500.0, 58400.0, 48500.0, 216700.0, 97900.0, 158600.0, 69000.0, 322300.0, 467700.0, 163000.0, 287100.0, 54600.0, 90400.0, 155500.0, 175000.0, 411200.0, 332100.0, 141200.0, 247100.0, 153000.0, 155000.0, 390800.0, 90000.0, 196700.0, 68200.0, 500001.0, 92100.0, 297900.0, 500001.0, 332300.0, 171100.0, 152100.0, 232000.0, 127100.0, 87500.0, 203400.0, 228600.0, 116700.0, 416700.0, 227600.0, 267900.0, 97200.0, 137500.0, 198800.0, 68600.0, 352500.0, 103800.0, 107800.0, 131700.0, 271300.0, 97300.0, 95000.0, 67500.0, 326100.0, 65600.0, 225600.0, 263800.0, 348300.0, 325000.0, 108800.0, 400000.0, 138400.0, 61000.0, 453100.0, 500001.0, 120200.0, 329200.0, 196300.0, 150000.0, 152000.0, 169900.0, 137500.0, 283000.0, 404500.0, 193500.0, 205100.0, 145600.0, 225000.0, 215900.0, 158500.0, 124700.0, 65400.0, 280200.0, 180500.0, 105400.0, 100000.0, 166300.0, 158000.0, 243800.0, 362900.0, 201900.0, 52600.0, 500001.0, 112000.0, 225000.0, 439900.0, 88300.0, 500001.0, 276800.0, 179200.0, 199700.0, 132000.0, 61300.0, 171900.0, 123800.0, 135300.0, 137100.0, 129300.0, 227900.0, 94400.0, 103500.0, 320800.0, 125000.0, 332400.0, 159100.0, 236900.0, 461600.0, 156900.0, 148200.0, 166500.0, 196900.0, 167800.0, 126700.0, 500001.0, 57900.0, 238000.0, 142000.0, 86900.0, 56000.0, 500001.0, 112400.0, 63600.0, 431300.0, 265900.0, 58000.0, 194100.0, 142800.0, 178700.0, 187500.0, 225000.0, 313000.0, 500001.0, 153600.0, 62300.0, 194500.0, 163900.0, 398800.0, 204100.0, 199300.0, 176700.0, 500001.0, 248900.0, 150000.0, 231700.0, 58000.0, 126000.0, 163300.0, 113400.0, 300000.0, 310900.0, 218800.0, 70400.0, 237700.0, 118800.0, 73100.0, 75000.0, 450700.0, 240200.0, 65800.0, 64700.0, 175100.0, 223700.0, 96300.0, 405100.0, 376800.0, 500001.0, 350000.0, 162500.0, 177300.0, 98400.0, 138800.0, 175000.0, 260900.0, 104700.0, 159500.0, 295900.0, 137500.0, 500001.0, 227000.0, 263900.0, 160400.0, 142000.0, 162500.0, 230400.0, 500001.0, 217700.0, 183000.0, 245800.0, 129200.0, 60400.0, 67500.0, 295200.0, 192600.0, 150600.0, 125700.0, 63400.0, 151300.0, 245600.0, 500001.0, 165500.0, 113500.0, 322200.0, 362500.0, 69600.0, 156100.0, 87500.0, 193100.0, 218000.0, 101800.0, 129100.0, 156300.0, 183200.0, 148100.0, 500001.0, 222100.0, 167600.0, 184500.0, 370000.0, 239400.0, 166700.0, 233300.0, 240000.0, 91300.0, 483500.0, 150500.0, 99500.0, 240200.0, 95500.0, 500001.0, 251600.0, 120800.0, 135700.0, 225400.0, 500001.0, 85100.0, 500001.0, 164800.0, 111600.0, 161000.0, 213700.0, 116500.0, 350000.0, 159900.0, 438300.0, 171100.0, 271100.0, 500001.0, 68000.0, 191700.0, 255900.0, 112500.0, 182200.0, 347600.0, 332000.0, 110900.0, 211900.0, 262500.0, 237900.0, 90000.0, 427200.0, 370500.0, 116300.0, 170800.0, 285500.0, 111500.0, 83200.0, 248200.0, 395500.0, 218300.0, 500001.0, 88900.0, 181000.0, 280900.0, 345300.0, 181000.0, 192200.0, 78100.0, 75000.0, 433300.0, 160100.0, 109200.0, 96200.0, 191400.0, 360000.0, 185600.0, 118800.0, 122700.0, 206300.0, 195600.0, 75600.0, 104300.0, 385900.0, 113900.0, 79400.0, 81300.0, 129200.0, 73500.0, 175900.0, 142400.0, 234100.0, 286700.0, 92500.0, 170100.0, 161800.0, 225300.0, 170600.0, 319400.0, 95800.0, 73400.0, 93600.0, 51700.0, 358700.0, 64700.0, 344200.0, 314000.0, 185700.0, 279300.0, 119400.0, 280400.0, 187100.0, 83800.0, 309300.0, 229200.0, 245000.0, 227600.0, 500001.0, 320800.0, 147300.0, 162300.0, 265900.0, 500001.0, 189100.0, 316400.0, 181900.0, 261500.0, 69000.0, 181300.0, 293000.0, 111100.0, 218300.0, 147200.0, 243800.0, 223000.0, 137500.0, 60600.0, 275000.0, 350000.0, 171200.0, 83500.0, 225000.0, 165600.0, 152000.0, 192000.0, 254200.0, 150000.0, 212500.0, 80400.0, 206500.0, 331100.0, 201400.0, 188400.0, 195400.0, 442500.0, 152700.0, 500001.0, 239800.0, 159400.0, 91800.0, 240900.0, 136400.0, 103600.0, 132500.0, 292900.0, 62800.0, 112100.0, 89100.0, 120700.0, 471400.0, 314700.0, 226400.0, 409700.0, 149000.0, 171700.0, 235500.0, 322800.0, 244500.0, 162200.0, 340900.0, 57400.0, 198900.0, 109700.0, 137500.0, 85700.0, 98300.0, 178200.0, 137500.0, 275000.0, 381500.0, 500001.0, 500001.0, 179200.0, 204500.0, 394100.0, 184400.0, 174000.0, 80700.0, 189600.0, 60000.0, 126600.0, 262500.0, 139200.0, 51300.0, 229200.0, 101100.0, 97700.0, 158300.0, 349100.0, 85500.0, 214100.0, 227100.0, 155700.0, 66800.0, 207300.0, 222800.0, 354500.0, 340500.0, 52900.0, 140600.0, 150800.0, 56100.0, 259600.0, 318900.0, 148400.0, 289900.0, 161800.0, 255000.0, 87500.0, 245000.0, 305000.0, 215000.0, 249000.0, 500001.0, 320000.0, 174000.0, 292500.0, 500001.0, 289900.0, 438400.0, 182000.0, 170500.0, 69200.0, 95600.0, 272800.0, 81300.0, 272400.0, 152600.0, 55900.0, 213500.0, 331300.0, 201800.0, 57100.0, 331800.0, 365900.0, 127500.0, 111800.0, 353700.0, 229300.0, 87500.0, 237500.0, 113300.0, 112500.0, 138500.0, 307400.0, 100900.0, 97800.0, 176700.0, 218000.0, 290600.0, 157700.0, 348000.0, 67200.0, 260400.0, 123600.0, 67500.0, 130700.0, 66000.0, 166600.0, 225600.0, 257100.0, 500001.0, 113900.0, 91000.0, 217400.0, 96000.0, 129200.0, 350200.0, 442100.0, 222900.0, 81300.0, 160600.0, 500001.0, 341200.0, 287900.0, 344700.0, 180000.0, 167800.0, 55000.0, 50800.0, 142600.0, 235800.0, 112700.0, 210200.0, 210700.0, 65400.0, 162500.0, 150300.0, 500001.0, 101400.0, 221800.0, 260300.0, 178800.0, 170400.0, 319400.0, 190600.0, 184100.0, 191100.0, 149600.0, 500001.0, 183400.0, 444100.0, 242700.0, 76200.0, 132900.0, 409800.0, 112500.0, 376600.0, 50500.0, 500001.0, 209500.0, 77800.0, 299700.0, 375000.0, 156500.0, 240000.0, 77200.0, 98500.0, 500001.0, 110400.0, 86400.0, 230400.0, 163900.0, 500001.0, 49500.0, 107400.0, 362500.0, 145000.0, 218500.0, 130100.0, 146000.0, 152500.0, 457200.0, 165200.0, 394700.0, 144400.0, 136600.0, 216400.0, 139000.0, 103800.0, 488500.0, 227100.0, 238000.0, 215600.0, 292300.0, 145900.0, 187300.0, 185400.0, 280000.0, 141100.0, 190900.0, 262500.0, 442000.0, 274800.0, 85500.0, 231800.0, 302000.0, 235800.0, 72200.0, 182400.0, 500001.0, 78700.0, 181300.0, 198000.0, 199600.0, 63300.0, 94000.0, 186800.0, 117000.0, 117800.0, 121000.0, 230900.0, 427300.0, 128100.0, 384700.0, 290400.0, 91300.0, 61900.0, 232200.0, 129600.0, 127500.0, 150500.0, 187500.0, 437900.0, 126500.0, 453400.0, 229400.0, 364900.0, 191900.0, 87500.0, 30000.0, 335700.0, 242100.0, 173700.0, 54100.0, 207800.0, 112500.0, 166700.0, 271800.0, 141100.0, 375000.0, 161600.0, 159400.0, 86300.0, 256300.0, 213200.0, 254100.0, 132600.0, 169300.0, 347700.0, 159700.0, 90900.0, 290500.0, 189900.0, 495600.0, 333300.0, 183800.0, 189000.0, 157500.0, 66600.0, 132400.0, 156000.0, 348100.0, 226400.0, 74200.0, 158300.0, 500001.0, 165500.0, 329500.0, 139600.0, 152900.0, 367300.0, 70000.0, 97400.0, 65900.0, 49300.0, 154100.0, 272800.0, 247100.0, 268800.0, 247600.0, 416800.0, 121600.0, 171700.0, 173800.0, 235600.0, 260100.0, 200000.0, 296600.0, 374600.0, 177800.0, 269500.0, 62000.0, 197600.0, 52700.0, 191400.0, 317700.0, 329400.0, 330700.0, 187400.0, 286500.0, 500001.0, 133900.0, 199800.0, 45000.0, 354600.0, 263800.0, 278400.0, 160400.0, 241300.0, 208300.0, 263600.0, 145000.0, 132500.0, 183800.0, 81100.0, 176500.0, 255500.0, 166100.0, 102000.0, 86100.0, 100600.0, 500000.0, 209900.0, 52500.0, 262900.0, 158800.0, 209500.0, 350000.0, 217100.0, 141400.0, 93400.0, 198200.0, 187200.0, 185300.0, 500001.0, 281300.0, 103600.0, 287900.0, 208300.0, 175000.0, 132700.0, 172000.0, 500001.0, 64000.0, 227900.0, 63100.0, 84100.0, 339200.0, 156300.0, 383600.0, 137100.0, 56800.0, 70000.0, 96300.0, 92600.0, 359100.0, 158700.0, 500001.0, 114600.0, 410200.0, 281900.0, 101700.0, 169300.0, 207800.0, 327200.0, 277900.0, 111400.0, 80600.0, 207500.0, 275300.0, 421000.0, 128800.0, 313900.0, 67600.0, 64400.0, 153900.0, 130700.0, 238500.0, 379600.0, 146500.0, 150300.0, 80300.0, 293300.0, 288000.0, 144100.0, 127000.0, 152100.0, 156800.0, 104900.0, 500001.0, 134400.0, 500001.0, 272800.0, 151600.0, 362600.0, 169200.0, 140400.0, 43700.0, 136000.0, 264400.0, 152200.0, 137500.0, 214700.0, 170900.0, 236200.0, 297800.0, 88500.0, 127600.0, 80200.0, 306000.0, 436400.0, 238900.0, 231700.0, 122900.0, 218200.0, 397000.0, 260300.0, 435700.0, 164000.0, 440500.0, 85400.0, 101900.0, 159400.0, 190300.0, 100000.0, 139600.0, 500001.0, 154500.0, 170500.0, 110600.0, 191200.0, 287200.0, 150100.0, 238300.0, 154200.0, 280500.0, 161900.0, 265600.0, 122700.0, 231200.0, 319100.0, 231300.0, 500001.0, 121200.0, 222500.0, 450000.0, 102100.0, 201200.0, 104200.0, 500001.0, 132000.0, 221100.0, 151600.0, 146900.0, 151200.0, 165100.0, 213600.0, 213500.0, 500001.0, 438000.0, 183800.0, 350000.0, 159300.0, 129100.0, 76600.0, 225000.0, 230800.0, 431800.0, 191000.0, 84700.0, 152500.0, 67600.0, 198200.0, 306300.0, 122100.0, 276100.0, 103000.0, 409100.0, 135200.0, 121600.0, 182800.0, 228000.0, 110000.0, 111200.0, 84700.0, 447300.0, 88300.0, 87100.0, 187500.0, 146900.0, 103100.0, 343700.0, 98200.0, 262500.0, 77400.0, 135100.0, 134700.0, 231300.0, 158600.0, 101600.0, 122000.0, 380000.0, 189400.0, 440000.0, 70000.0, 70000.0, 333500.0, 101800.0, 500001.0, 360500.0, 169500.0, 205600.0, 166300.0, 32500.0, 362700.0, 174500.0, 197600.0, 183000.0, 158300.0, 100200.0, 87500.0, 461100.0, 190200.0, 232300.0, 221600.0, 226900.0, 224200.0, 119800.0, 78200.0, 165100.0, 213900.0, 69700.0, 105800.0, 75000.0, 91700.0, 269500.0, 68200.0, 165800.0, 154600.0, 472700.0, 345900.0, 230700.0, 300000.0, 249400.0, 435700.0, 225800.0, 175000.0, 178400.0, 276000.0, 115900.0, 214300.0, 118300.0, 500001.0, 152100.0, 140400.0, 222600.0, 444500.0, 500000.0, 163300.0, 193800.0, 90500.0, 115200.0, 147000.0, 273900.0, 190900.0, 74800.0, 500001.0, 118500.0, 500001.0, 55000.0, 58400.0, 95800.0, 99200.0, 167400.0, 70500.0, 67500.0, 75700.0, 183000.0, 500001.0, 97300.0, 230000.0, 82900.0, 52200.0, 114800.0, 88000.0, 224200.0, 150000.0, 341700.0, 181700.0, 140600.0, 72700.0, 210900.0, 97700.0, 109700.0, 165600.0, 230600.0, 163800.0, 95800.0, 48100.0, 44400.0, 237900.0, 284800.0, 164800.0, 200000.0, 77800.0, 186000.0, 169700.0, 418800.0, 73300.0, 87000.0, 168200.0, 154300.0, 225000.0, 333000.0, 225900.0, 138100.0, 112700.0, 231600.0, 419100.0, 221100.0, 155400.0, 151700.0, 248900.0, 153200.0, 126500.0, 240000.0, 186100.0, 500001.0, 181600.0, 178100.0, 69200.0, 66800.0, 500001.0, 181300.0, 396400.0, 187500.0, 297900.0, 345400.0, 245100.0, 105500.0, 101100.0, 141700.0, 430900.0, 286300.0, 113000.0, 466700.0, 168600.0, 360500.0, 256400.0, 113900.0, 350400.0, 209100.0, 131500.0, 216700.0, 101300.0, 202800.0, 117600.0, 292600.0, 500001.0, 130300.0, 92400.0, 112500.0, 154200.0, 104000.0, 121600.0, 206300.0, 108300.0, 349400.0, 83300.0, 245800.0, 91500.0, 500001.0, 500001.0, 190500.0, 108300.0, 89600.0, 500001.0, 94600.0, 67500.0, 177500.0, 261300.0, 500001.0, 168400.0, 245300.0, 240000.0, 156500.0, 500001.0, 235600.0, 185600.0, 316700.0, 118800.0, 248500.0, 236500.0, 94600.0, 176800.0, 148600.0, 195300.0, 215900.0, 126600.0, 173900.0, 183000.0, 74300.0, 224700.0, 101600.0, 391000.0, 265000.0, 500001.0, 186500.0, 78000.0, 80800.0, 189600.0, 199200.0, 189600.0, 160000.0, 375300.0, 166700.0, 215600.0, 228600.0, 171300.0, 431000.0, 275100.0, 276800.0, 46300.0, 144000.0, 94300.0, 157600.0, 194500.0, 351100.0, 453400.0, 224600.0, 155600.0, 242000.0, 70000.0, 71300.0, 66800.0, 153100.0, 137500.0, 230400.0, 242200.0, 301900.0, 415800.0, 156500.0, 78600.0, 441400.0, 184300.0, 276500.0, 232800.0, 60400.0, 224100.0, 439000.0, 123100.0, 255700.0, 57600.0, 199800.0, 51300.0, 348200.0, 362800.0, 240300.0, 73600.0, 172600.0, 229000.0, 166300.0, 83300.0, 500001.0, 332900.0, 54300.0, 241700.0, 387500.0, 136400.0, 98300.0, 176000.0, 63000.0, 236900.0, 97200.0, 220000.0, 105800.0, 270900.0, 99400.0, 166300.0, 143800.0, 140600.0, 330900.0, 156900.0, 500001.0, 162500.0, 124800.0, 216100.0, 171400.0, 325600.0, 109800.0, 276200.0, 129900.0, 292300.0, 341500.0, 66800.0, 238800.0, 77400.0, 82400.0, 359900.0, 465700.0, 214000.0, 107100.0, 157800.0, 119300.0, 232900.0, 179500.0, 70100.0, 55000.0, 65900.0, 99600.0, 500001.0, 164100.0, 77000.0, 140300.0, 172900.0, 500001.0, 314300.0, 500001.0, 500001.0, 143000.0, 280600.0, 375000.0, 137500.0, 337100.0, 128000.0, 185400.0, 63000.0, 109500.0, 400000.0, 151900.0, 56300.0, 102500.0, 225000.0, 145500.0, 363100.0, 249000.0, 415300.0, 267400.0, 75000.0, 250000.0, 161800.0, 97500.0, 111500.0, 87300.0, 272900.0, 124400.0, 228700.0, 229500.0, 162500.0, 80000.0, 118800.0, 244200.0, 187500.0, 246000.0, 102600.0, 116700.0, 137500.0, 171900.0, 103100.0, 239100.0, 194000.0, 219900.0, 380000.0, 155700.0, 89900.0, 89300.0, 55000.0, 49800.0, 146400.0, 278000.0, 288700.0, 129200.0, 221600.0, 85600.0, 160400.0, 57600.0, 348500.0, 199400.0, 97100.0, 58100.0, 301000.0, 74200.0, 249400.0, 267000.0, 119900.0, 77700.0, 143400.0, 61200.0, 206800.0, 328200.0, 360600.0, 107800.0, 51500.0, 67500.0, 184100.0, 200000.0, 354000.0, 393800.0, 132100.0, 306500.0, 134900.0, 319300.0, 303900.0, 350000.0, 231200.0, 131300.0, 120800.0, 135200.0, 68900.0, 425000.0, 160500.0, 151000.0, 349500.0, 60200.0, 396400.0, 278500.0, 239300.0, 224900.0, 91300.0, 111400.0, 150800.0, 64700.0, 358800.0, 232800.0, 54400.0, 98200.0, 225800.0, 116100.0, 196400.0, 123200.0, 156400.0, 166800.0, 215900.0, 117300.0, 243200.0, 72900.0, 191700.0, 60000.0, 195400.0, 111600.0, 268500.0, 260000.0, 89400.0, 235200.0, 386100.0, 187500.0, 223400.0, 120300.0, 135800.0, 307400.0, 326800.0, 70300.0, 68200.0, 114600.0, 177200.0, 81900.0, 90600.0, 56800.0, 323800.0, 244400.0, 144300.0, 164200.0, 237600.0, 243000.0, 83300.0, 87500.0, 131700.0, 47000.0, 195300.0, 184100.0, 128800.0, 118200.0, 212800.0, 141300.0, 227100.0, 80800.0, 201300.0, 183300.0, 155000.0, 143800.0, 137500.0, 280100.0, 245900.0, 243600.0, 103000.0, 103800.0, 235900.0, 161900.0, 394400.0, 145800.0, 184800.0, 242300.0, 335500.0, 165500.0, 204800.0, 159700.0, 169100.0, 478600.0, 258900.0, 324000.0, 103100.0, 138100.0, 91600.0, 228900.0, 138800.0, 252200.0, 420300.0, 243600.0, 142100.0, 67500.0, 92800.0, 190800.0, 223900.0, 143400.0, 132700.0, 99000.0, 67700.0, 227400.0, 228600.0, 135800.0, 362100.0, 281300.0, 500001.0, 90600.0, 66300.0, 150200.0, 170300.0, 99300.0, 322900.0, 213200.0, 217000.0, 267900.0, 206300.0, 376800.0, 87500.0, 304700.0, 460200.0, 128500.0, 284600.0, 119600.0, 208600.0, 117500.0, 66900.0, 204800.0, 74600.0, 109100.0, 114300.0, 308300.0, 113000.0, 91700.0, 134200.0, 425000.0, 53900.0, 310600.0, 241700.0, 226800.0, 100800.0, 238000.0, 245500.0, 156500.0, 115600.0, 66400.0, 58800.0, 223600.0, 169300.0, 166700.0, 225000.0, 72600.0, 160300.0, 147500.0, 91200.0, 208300.0, 335300.0, 58000.0, 226500.0, 345200.0, 106800.0, 500001.0, 275000.0, 95800.0, 97200.0, 155000.0, 400000.0, 500001.0, 304300.0, 359200.0, 144700.0, 352800.0, 355600.0, 99100.0, 250400.0, 105600.0, 500001.0, 162000.0, 272200.0, 245900.0, 183300.0, 220700.0, 161000.0, 303900.0, 266200.0, 90100.0, 87500.0, 209400.0, 188700.0, 101400.0, 387500.0, 359100.0, 327300.0, 279200.0, 233600.0, 163500.0, 124200.0, 450000.0, 111900.0, 90800.0, 120600.0, 483800.0, 366700.0, 201000.0, 333600.0, 362500.0, 170100.0, 246700.0, 161200.0, 147000.0, 117900.0, 111300.0, 266500.0, 113500.0, 329100.0, 500001.0, 236500.0, 122200.0, 81900.0, 386400.0, 184800.0, 160700.0, 101600.0, 424000.0, 262500.0, 369400.0, 115100.0, 281700.0, 98100.0, 131100.0, 251800.0, 232700.0, 139200.0, 71500.0, 340500.0, 270800.0, 155600.0, 89200.0, 167000.0, 103100.0, 180500.0, 51200.0, 204600.0, 387200.0, 162500.0, 120400.0, 139700.0, 98200.0, 269400.0, 269100.0, 500001.0, 49600.0, 58000.0, 65900.0, 175400.0, 391800.0, 280800.0, 90700.0, 500001.0, 92300.0, 227100.0, 162500.0, 290900.0, 183100.0, 283200.0, 177400.0, 238700.0, 321300.0, 261500.0, 99300.0, 226100.0, 51700.0, 156900.0, 160900.0, 222400.0, 305200.0, 138800.0, 230700.0, 94300.0, 97200.0, 382100.0, 193200.0, 209500.0, 231400.0, 89300.0, 196100.0, 113500.0, 178400.0, 406500.0, 228200.0, 234800.0, 231300.0, 500001.0, 184100.0, 213700.0, 500001.0, 169200.0, 232400.0, 351700.0, 234600.0, 112500.0, 145200.0, 87200.0, 53500.0, 43800.0, 94200.0, 218800.0, 191900.0, 132200.0, 46800.0, 149700.0, 126300.0, 255900.0, 94500.0, 237100.0, 500001.0, 87500.0, 126600.0, 245100.0, 157400.0, 78400.0, 218100.0, 350000.0, 198400.0, 143900.0, 337900.0, 76300.0, 160100.0, 130600.0, 112500.0, 329200.0, 233300.0, 99200.0, 197900.0, 204100.0, 350000.0, 62100.0, 140400.0, 152100.0, 130500.0, 195100.0, 199500.0, 137500.0, 275000.0, 122900.0, 109000.0, 121700.0, 302000.0, 241700.0, 153200.0, 169300.0, 358500.0, 175000.0, 112500.0, 376000.0, 118800.0, 401000.0, 107900.0, 339700.0, 158000.0, 468800.0, 63100.0, 184600.0, 189700.0, 190900.0, 67500.0, 85300.0, 173600.0, 129700.0, 181000.0, 500001.0, 376200.0, 243000.0, 148200.0, 238100.0, 450000.0, 240000.0, 500001.0, 274100.0, 190100.0, 268400.0, 349300.0, 275700.0, 182800.0, 500001.0, 213200.0, 179500.0, 138500.0, 181300.0, 340500.0, 225000.0, 68300.0, 237900.0, 149700.0, 125800.0, 87600.0, 125000.0, 168800.0, 135000.0, 86300.0, 64900.0, 106300.0, 285700.0, 272400.0, 217700.0, 91800.0, 163000.0, 195100.0, 32500.0, 275300.0, 136900.0, 194100.0, 230200.0, 143600.0, 39600.0, 59800.0, 210700.0, 156300.0, 215600.0, 177500.0, 218900.0, 128400.0, 190600.0, 398300.0, 367100.0, 122500.0, 376100.0, 157600.0, 178100.0, 72400.0, 287600.0, 175000.0, 280800.0, 160500.0, 158600.0, 144300.0, 136300.0, 218200.0, 466400.0, 386100.0, 251200.0, 190400.0, 223100.0, 361000.0, 275000.0, 70800.0, 460000.0, 67500.0, 225000.0, 176100.0, 52400.0, 167600.0, 99700.0, 88900.0, 223700.0, 180500.0, 93200.0, 173800.0, 490800.0, 104200.0, 276100.0, 254700.0, 212300.0, 87500.0, 94200.0, 163500.0, 500001.0, 125000.0, 182300.0, 111700.0, 146000.0, 500001.0, 320500.0, 48000.0, 168800.0, 67500.0, 173100.0, 150000.0, 329200.0, 141000.0, 378000.0, 80200.0, 203300.0, 394900.0, 84500.0, 327300.0, 201200.0, 162500.0, 266000.0, 221200.0, 176500.0, 206300.0, 500001.0, 186700.0, 112500.0, 90500.0, 190800.0, 198800.0, 165600.0, 500001.0, 145700.0, 91300.0, 140400.0, 191700.0, 61100.0, 153000.0, 85500.0, 164500.0, 386200.0, 341300.0, 246400.0, 121800.0, 132500.0, 98000.0, 241400.0, 171300.0, 120100.0, 500001.0, 192700.0, 232800.0, 191800.0, 196300.0, 293900.0, 84600.0, 500001.0, 500001.0, 107300.0, 150000.0, 204200.0, 268300.0, 103500.0, 161500.0, 222400.0, 166900.0, 229200.0, 205900.0, 95500.0, 162500.0, 240700.0, 82800.0, 230200.0, 185900.0, 105800.0, 118800.0, 194400.0, 183300.0, 292500.0, 144200.0, 500001.0, 134200.0, 52800.0, 188700.0, 204000.0, 179500.0, 98900.0, 279900.0, 327700.0, 208000.0, 208300.0, 112500.0, 234700.0, 214500.0, 338500.0, 500001.0, 284100.0, 500001.0, 181300.0, 125000.0, 412500.0, 112500.0, 90300.0, 96000.0, 142500.0, 266300.0, 165000.0, 118000.0, 156400.0, 426800.0, 308600.0, 239200.0, 109400.0, 66600.0, 368500.0, 330500.0, 273600.0, 500001.0, 321100.0, 242600.0, 231900.0, 151400.0, 227800.0, 380000.0, 95200.0, 193900.0, 260700.0, 191000.0, 64900.0, 128300.0, 189800.0, 183300.0, 151800.0, 257300.0, 137500.0, 125000.0, 218100.0, 168100.0, 231800.0, 149000.0, 170300.0, 391300.0, 282300.0, 500001.0, 135400.0, 328400.0, 350000.0, 182300.0, 500001.0, 192000.0, 240800.0, 175000.0, 126400.0, 125900.0, 194700.0, 341800.0, 211900.0, 137500.0, 270600.0, 172300.0, 262100.0, 149100.0, 339100.0, 248600.0, 128700.0, 343900.0, 175000.0, 287500.0, 143600.0, 346200.0, 232200.0, 200000.0, 241500.0, 67500.0, 191700.0, 178300.0, 178200.0, 133200.0, 273800.0, 152200.0, 187100.0, 137500.0, 110400.0, 240600.0, 162500.0, 83800.0, 265600.0, 211500.0, 173400.0, 310000.0, 99500.0, 191400.0, 220100.0, 167300.0, 65000.0, 141800.0, 290600.0, 319200.0, 118800.0, 200000.0, 219500.0, 289400.0, 116400.0, 162300.0, 114100.0, 71300.0, 190500.0, 197300.0, 72200.0, 103300.0, 143000.0, 244900.0, 500001.0, 183300.0, 86100.0, 218400.0, 110800.0, 211300.0, 338800.0, 123100.0, 269500.0, 321400.0, 81900.0, 500001.0, 304600.0, 72900.0, 158000.0, 62200.0, 116300.0, 314100.0, 362500.0, 500001.0, 74100.0, 150000.0, 270000.0, 120800.0, 250000.0, 72200.0, 375000.0, 239600.0, 183300.0, 161200.0, 251000.0, 45500.0, 178100.0, 258900.0, 145800.0, 84700.0, 216700.0, 130400.0, 158500.0, 117800.0, 215000.0, 268600.0, 100000.0, 332700.0, 186700.0, 53000.0, 149700.0, 345800.0, 124500.0, 475800.0, 500001.0, 500001.0, 175900.0, 183300.0, 253100.0, 117800.0, 143500.0, 500001.0, 142300.0, 121000.0, 268800.0, 330200.0, 121800.0, 416900.0, 266700.0, 189400.0, 443600.0, 163000.0, 382500.0, 106300.0, 57800.0, 57500.0, 238000.0, 218900.0, 118600.0, 309100.0, 213200.0, 180200.0, 470800.0, 337200.0, 95300.0, 103900.0, 500001.0, 215000.0, 189400.0, 171400.0, 357000.0, 196200.0, 98500.0, 178800.0, 226600.0, 171400.0, 271400.0, 216800.0, 67900.0, 171300.0, 110900.0, 332500.0, 150000.0, 173400.0, 237500.0, 65800.0, 173100.0, 321200.0, 265000.0, 87500.0, 210300.0, 247800.0, 375700.0, 113700.0, 500001.0, 45600.0, 130600.0, 198600.0, 436700.0, 92600.0, 150000.0, 359900.0, 500001.0, 93800.0, 383300.0, 191700.0, 267200.0, 280200.0, 52100.0, 110200.0, 164600.0, 324800.0, 122700.0, 216700.0, 73600.0, 254100.0, 187500.0, 166000.0, 157900.0, 193800.0, 140800.0, 95300.0, 227000.0, 265600.0, 90200.0, 183200.0, 184600.0, 162500.0, 125000.0, 97200.0, 355300.0, 136200.0, 125000.0, 305600.0, 176600.0, 348600.0, 299200.0, 72100.0, 109500.0, 281100.0, 156300.0, 234200.0, 59700.0, 250000.0, 203300.0, 173100.0, 300300.0, 238000.0, 179000.0, 166000.0, 160700.0, 147500.0, 192100.0, 56400.0, 304800.0, 439800.0, 137500.0, 137500.0, 134600.0, 262500.0, 83400.0, 113500.0, 71400.0, 204500.0, 282400.0, 145700.0, 264700.0, 275000.0, 171600.0, 216700.0, 180700.0, 212500.0, 167700.0, 42500.0, 238400.0, 144000.0, 43600.0, 363500.0, 186200.0, 67500.0, 159600.0, 195600.0, 154800.0, 450700.0, 69900.0, 132200.0, 328000.0, 272800.0, 66300.0, 129300.0, 77100.0, 155500.0, 126000.0, 240300.0, 133000.0, 94900.0, 203900.0, 61000.0, 139200.0, 229200.0, 260600.0, 251100.0, 327600.0, 167900.0, 212000.0, 233300.0, 255400.0, 67500.0, 162000.0, 117200.0, 109700.0, 275000.0, 111800.0, 166000.0, 92700.0, 186000.0, 97300.0, 241300.0, 258500.0, 138200.0, 196100.0, 419200.0, 138800.0, 376600.0, 165100.0, 181800.0, 211800.0, 112500.0, 144300.0, 222000.0, 53600.0, 130800.0, 227600.0, 275000.0, 191900.0, 64100.0, 68100.0, 255200.0, 244100.0, 337000.0, 208300.0, 500001.0, 172100.0, 128900.0, 144900.0, 72000.0, 142900.0, 436100.0, 204200.0, 195700.0, 90500.0, 236100.0, 186900.0, 162500.0, 112500.0, 58000.0, 307400.0, 353800.0, 290900.0, 358600.0, 246200.0, 72100.0, 107500.0, 78600.0, 187600.0, 97900.0, 186600.0, 196900.0, 111500.0, 156300.0, 218200.0, 293500.0, 59000.0, 162800.0, 102900.0, 54300.0, 166300.0, 152500.0, 142600.0, 150000.0, 84400.0, 210000.0, 137500.0, 350000.0, 171900.0, 143100.0, 452300.0, 176000.0, 112700.0, 68400.0, 190700.0, 331800.0, 184000.0, 162500.0, 129400.0, 172800.0, 191100.0, 294900.0, 188600.0, 63800.0, 466100.0, 186800.0, 139300.0, 330300.0, 284800.0, 198800.0, 69300.0, 145500.0, 166200.0, 273800.0, 149000.0, 215400.0, 287800.0, 406300.0, 160300.0, 240000.0, 60900.0, 142300.0, 84800.0, 205400.0, 396800.0, 135400.0, 115400.0, 162500.0, 425000.0, 114300.0, 500001.0, 500001.0, 48700.0, 294700.0, 300500.0, 343200.0, 92000.0, 278100.0, 380900.0, 339800.0, 96800.0, 270000.0, 190000.0, 181300.0, 100600.0, 170800.0, 152700.0, 353600.0, 200000.0, 213400.0, 153100.0, 379700.0, 275000.0, 78600.0, 188300.0, 138000.0, 500001.0, 197400.0, 244600.0, 165300.0, 300400.0, 88200.0, 500001.0, 163100.0, 191900.0, 355300.0, 430300.0, 42700.0, 378100.0, 264000.0, 111900.0, 224500.0, 125000.0, 64100.0, 88400.0, 389200.0, 193800.0, 500001.0, 187500.0, 210300.0, 212800.0, 177500.0, 181300.0, 159500.0, 177500.0, 116100.0, 500001.0, 162500.0, 135500.0, 99600.0, 118500.0, 156900.0, 147200.0, 85800.0, 500001.0, 170900.0, 257900.0, 164300.0, 438900.0, 98000.0, 288700.0, 203200.0, 283600.0, 162500.0, 95300.0, 161700.0, 187500.0, 158000.0, 456100.0, 102900.0, 165400.0, 54400.0, 147200.0, 95000.0, 143000.0, 97200.0, 112900.0, 173300.0, 393100.0, 63000.0, 297300.0, 242100.0, 293900.0, 113100.0, 137200.0, 297100.0, 243500.0, 98800.0, 244800.0, 327800.0, 437500.0, 163500.0, 102400.0, 112200.0, 165900.0, 250000.0, 158100.0, 87500.0, 135000.0, 79500.0, 162100.0, 228400.0, 140600.0, 71300.0, 266300.0, 81300.0, 185000.0, 329300.0, 168800.0, 110400.0, 500001.0, 85700.0, 63300.0, 500001.0, 183800.0, 150700.0, 242900.0, 326700.0, 220400.0, 240700.0, 500001.0, 98400.0, 166900.0, 205400.0, 90100.0, 189800.0, 162500.0, 333700.0, 85100.0, 134400.0, 144600.0, 215000.0, 97500.0, 210000.0, 312000.0, 300000.0, 202400.0, 254100.0, 116000.0, 167000.0, 396900.0, 227000.0, 500001.0, 500001.0, 199000.0, 369100.0, 22500.0, 95700.0, 365900.0, 215800.0, 205500.0, 500001.0, 250800.0, 363600.0, 294200.0, 171400.0, 261300.0, 114900.0, 258400.0, 106300.0, 98900.0, 242000.0, 146100.0, 154600.0, 197500.0, 289600.0, 325700.0, 53300.0, 87800.0, 178300.0, 197100.0, 123400.0, 292900.0, 109800.0, 124200.0, 57300.0, 404700.0, 187500.0, 63700.0, 101200.0, 500000.0, 45500.0, 463500.0, 181300.0, 307400.0, 371800.0, 56000.0, 289300.0, 128200.0, 271400.0, 182100.0, 219400.0, 78400.0, 96100.0, 394700.0, 222500.0, 87500.0, 137500.0, 246100.0, 175700.0, 164100.0, 132800.0, 129200.0, 224100.0, 103900.0, 112800.0, 243800.0, 88600.0, 186100.0, 186100.0, 160900.0, 149200.0, 76400.0, 500001.0, 95600.0, 237500.0, 418300.0, 197500.0, 66400.0, 269000.0, 219000.0, 156900.0, 134200.0, 204200.0, 218800.0, 181800.0, 168500.0, 299200.0, 166000.0, 193500.0, 212500.0, 386200.0, 268400.0, 128100.0, 271200.0, 88400.0, 101500.0, 495500.0, 167300.0, 141300.0, 500001.0, 321300.0, 82100.0, 92900.0, 168000.0, 135000.0, 243100.0, 157100.0, 97900.0, 177700.0, 131800.0, 268800.0, 314300.0, 183600.0, 100000.0, 232200.0, 138100.0, 162500.0, 457300.0, 139200.0, 244500.0, 61600.0, 237000.0, 112500.0, 122300.0, 500001.0, 110100.0, 300900.0, 167500.0, 246400.0, 279300.0, 414000.0, 58700.0, 294900.0, 365200.0, 368300.0, 239200.0, 121400.0, 215000.0, 113900.0, 236400.0, 171700.0, 248500.0, 58200.0, 67800.0, 75700.0, 178000.0, 60400.0, 226100.0, 179500.0, 158200.0, 278600.0, 480800.0, 192300.0, 141700.0, 330800.0, 100000.0, 103200.0, 53500.0, 185700.0, 192900.0, 256000.0, 138500.0, 69600.0, 246800.0, 265900.0, 162500.0, 322700.0, 148900.0, 429000.0, 500001.0, 254100.0, 328100.0, 169100.0, 255400.0, 76400.0, 151400.0, 311100.0, 187500.0, 213200.0, 208300.0, 202800.0, 90100.0, 92400.0, 136500.0, 92200.0, 79400.0, 95500.0, 249200.0, 111700.0, 190600.0, 191800.0, 500001.0, 50800.0, 163500.0, 368900.0, 57000.0, 75000.0, 229000.0, 340900.0, 276600.0, 188400.0, 73900.0, 150000.0, 147100.0, 186300.0, 234900.0, 122500.0, 398900.0, 250000.0, 113600.0, 244800.0, 225000.0, 186900.0, 309700.0, 130600.0, 342300.0, 65000.0, 278900.0, 168800.0, 418400.0, 109000.0, 160100.0, 345000.0, 418800.0, 209100.0, 97500.0, 500001.0, 108600.0, 133300.0, 50900.0, 311600.0, 365500.0, 175000.0, 170300.0, 279500.0, 125900.0, 155700.0, 83300.0, 156300.0, 214800.0, 110300.0, 165000.0, 349500.0, 500001.0, 125700.0, 193100.0, 500001.0, 199600.0, 500001.0, 163400.0, 137500.0, 121500.0, 381200.0, 111900.0, 58000.0, 63800.0, 363200.0, 206400.0, 370800.0, 81800.0, 271500.0, 197000.0, 73400.0, 301700.0, 119600.0, 258100.0, 17500.0, 145700.0, 102000.0, 400000.0, 99200.0, 485400.0, 477100.0, 66900.0, 375400.0, 169600.0, 247600.0, 164700.0, 309400.0, 185300.0, 230200.0, 156100.0, 302500.0, 97800.0, 251300.0, 281300.0, 153100.0, 355600.0, 101300.0, 266000.0, 160700.0, 305800.0, 147500.0, 186300.0, 162600.0, 484700.0, 175000.0, 127200.0, 365100.0, 236500.0, 214000.0, 225800.0, 128900.0, 73500.0, 114700.0, 175000.0, 318100.0, 331200.0, 192500.0, 159500.0, 162700.0, 67300.0, 212900.0, 140600.0, 186500.0, 393200.0, 55300.0, 409800.0, 191800.0, 99500.0, 175000.0, 158000.0, 106900.0, 277200.0, 326700.0, 96000.0, 431800.0, 172200.0, 112500.0, 225000.0, 259500.0, 291500.0, 50400.0, 150000.0, 224600.0, 130600.0, 69700.0, 353000.0, 231200.0, 205100.0, 398100.0, 141300.0, 173300.0, 127900.0, 289500.0, 95900.0, 133400.0, 146800.0, 181300.0, 54600.0, 55500.0, 150000.0, 102800.0, 93300.0, 123100.0, 231800.0, 159500.0, 108300.0, 43100.0, 105600.0, 168300.0, 28300.0, 282900.0, 234300.0, 212500.0, 205600.0, 150000.0, 193000.0, 14999.0, 170000.0, 168300.0, 93500.0, 191800.0, 181500.0, 195400.0, 121900.0, 142600.0, 158300.0, 165300.0, 155000.0, 92100.0, 68100.0, 276300.0, 335200.0, 121100.0, 177100.0, 187500.0, 192000.0, 301200.0, 159100.0, 500001.0, 273700.0, 233900.0, 500001.0, 222800.0, 140200.0, 159800.0, 118800.0, 500001.0, 105500.0, 217800.0, 187500.0, 287300.0, 131000.0, 55800.0, 161900.0, 253600.0, 155000.0, 311500.0, 87800.0, 105800.0, 137000.0, 156300.0, 154700.0, 167400.0, 457800.0, 500001.0, 188300.0, 442900.0, 500001.0, 500001.0, 187500.0, 57400.0, 387500.0, 272000.0, 167600.0, 403700.0, 191700.0, 500001.0, 187100.0, 96400.0, 92400.0, 213900.0, 155000.0, 133000.0, 275000.0, 238500.0, 158300.0, 70500.0, 222300.0, 411900.0, 185100.0, 500001.0, 139800.0, 178100.0, 159300.0, 125000.0, 197100.0, 64000.0, 194600.0, 162500.0, 84400.0, 61300.0, 368200.0, 122100.0, 86100.0, 209900.0, 170800.0, 175000.0, 126600.0, 282200.0, 207700.0, 104200.0, 214300.0, 80300.0, 273100.0, 237500.0, 73800.0, 184400.0, 342000.0, 129700.0, 224000.0, 156900.0, 394900.0, 157700.0, 119900.0, 316900.0, 212500.0, 68300.0, 165100.0, 93600.0, 88800.0, 184700.0, 327100.0, 134300.0, 500001.0, 162100.0, 500001.0, 229200.0, 112500.0, 354200.0, 362100.0, 162500.0, 100500.0, 67700.0, 57100.0, 164800.0, 204200.0, 342400.0, 181500.0, 304500.0, 235300.0, 105300.0, 291400.0, 159600.0, 111800.0, 119600.0, 329700.0, 136700.0, 101400.0, 118600.0, 133300.0, 52500.0, 234600.0, 75000.0, 176300.0, 346800.0, 251800.0, 54200.0, 67500.0, 142500.0, 101600.0, 227300.0, 337200.0, 118800.0, 67500.0, 202000.0, 94200.0, 96200.0, 225000.0, 258700.0, 103100.0, 117200.0, 164800.0, 144000.0, 500001.0, 155400.0, 114700.0, 123100.0, 226800.0, 180400.0, 310900.0, 148800.0, 84700.0, 63700.0, 262000.0, 438100.0, 226500.0, 87600.0, 345500.0, 140100.0, 366700.0, 270800.0, 168800.0, 293800.0, 251800.0, 85100.0, 267500.0, 140900.0, 285500.0, 151300.0, 225000.0, 44600.0, 450000.0, 229300.0, 225000.0, 138000.0, 96900.0, 161200.0, 144300.0, 450000.0, 122500.0, 248700.0, 134200.0, 348100.0, 78300.0, 107800.0, 146900.0, 188300.0, 162500.0, 58600.0, 183700.0, 180400.0, 175000.0, 137200.0, 110000.0, 233400.0, 128300.0, 350000.0, 155200.0, 256700.0, 85900.0, 73200.0, 258300.0, 62800.0, 485000.0, 124000.0, 158500.0, 97300.0, 186700.0, 344100.0, 166700.0, 108900.0, 482900.0, 204400.0, 230700.0, 53000.0, 178500.0, 500001.0, 500001.0, 84900.0, 500001.0, 246800.0, 156300.0, 234600.0, 48800.0, 145800.0, 271500.0, 500001.0, 87500.0, 69100.0, 139300.0, 273400.0, 229700.0, 68200.0, 114300.0, 159900.0, 116600.0, 209900.0, 68900.0, 101400.0, 214000.0, 355300.0, 90300.0, 159300.0, 63900.0, 218200.0, 253600.0, 81300.0, 188600.0, 165400.0, 106300.0, 210100.0, 147600.0, 112500.0, 175000.0, 156600.0, 117300.0, 229200.0, 350000.0, 171900.0, 199300.0, 251600.0, 300000.0, 158900.0, 216800.0, 198000.0, 356100.0, 192300.0, 314500.0, 50000.0, 162500.0, 167100.0, 138800.0, 147600.0, 238500.0, 110700.0, 333800.0, 192100.0, 294000.0, 154500.0, 151900.0, 500001.0, 322900.0, 165600.0, 221200.0, 170400.0, 198700.0, 162500.0, 411200.0, 335500.0, 149100.0, 381500.0, 183900.0, 91200.0, 411500.0, 220300.0, 158100.0, 69600.0, 270500.0, 261600.0, 389500.0, 75000.0, 177600.0, 170400.0, 154200.0, 131900.0, 44400.0, 145000.0, 224100.0, 187500.0, 192900.0, 88600.0, 183900.0, 225000.0, 182800.0, 137600.0, 265300.0, 36600.0, 125500.0, 138600.0, 487100.0, 178600.0, 134500.0, 306700.0, 115800.0, 91400.0, 210900.0, 259200.0, 347300.0, 168400.0, 150900.0, 113500.0, 302600.0, 423300.0, 492200.0, 190600.0, 245000.0, 55700.0, 84000.0, 275000.0, 189600.0, 275900.0, 319800.0, 291700.0, 67900.0, 189000.0, 90000.0, 335000.0, 176700.0, 98500.0, 200600.0, 60200.0, 191900.0, 191100.0, 337300.0, 225000.0, 290600.0, 121500.0, 293200.0, 107000.0, 266400.0, 76900.0, 220300.0, 101100.0, 474600.0, 65300.0, 113700.0, 214200.0, 216700.0, 198400.0, 212200.0, 222700.0, 265900.0, 37500.0, 265000.0, 108700.0, 46700.0, 187500.0, 61600.0, 343000.0, 166000.0, 500001.0, 137500.0, 90600.0, 77000.0, 148100.0, 91600.0, 150900.0, 155100.0, 89200.0, 215400.0, 55100.0, 197400.0, 154400.0, 141700.0, 98400.0, 152600.0, 109600.0, 171300.0, 104100.0, 153900.0, 270000.0, 286500.0, 335000.0, 137700.0, 232000.0, 393800.0, 70300.0, 141700.0, 156300.0, 450000.0, 199800.0, 95300.0, 86900.0, 187500.0, 221800.0, 58800.0, 134400.0, 238600.0, 160900.0, 136400.0, 144000.0, 159300.0, 155300.0, 142600.0, 120700.0, 126200.0, 213400.0, 116900.0, 185800.0, 356000.0, 150000.0, 88900.0, 259100.0, 500001.0, 127600.0, 69900.0, 137000.0, 273700.0, 92000.0, 118300.0, 410800.0, 100500.0, 492900.0, 118500.0, 113500.0, 89900.0, 500001.0, 500001.0, 146300.0, 113500.0, 275000.0, 102500.0, 147100.0, 225000.0, 139400.0, 175800.0, 57000.0, 269600.0, 272900.0, 76200.0, 484100.0, 180600.0, 238000.0, 137500.0, 186300.0, 192900.0, 84500.0, 107600.0, 55500.0, 265300.0, 388300.0, 482700.0, 198100.0, 92700.0, 346200.0, 38800.0, 56700.0, 123700.0, 93800.0, 93200.0, 44000.0, 69200.0, 301800.0, 254200.0, 209800.0, 184500.0, 73400.0, 339000.0, 93100.0, 202300.0, 133300.0, 270700.0, 240200.0, 139300.0, 57000.0, 170700.0, 119200.0, 177300.0, 289600.0, 297600.0, 109900.0, 147500.0, 78700.0, 160300.0, 77700.0, 473500.0, 500001.0, 133100.0, 93500.0, 280100.0, 256700.0, 288000.0, 161100.0, 137000.0, 62000.0, 443800.0, 68300.0, 262100.0, 109400.0, 409300.0, 175200.0, 147700.0, 287500.0, 93200.0, 93800.0, 172400.0, 318600.0, 185200.0, 65200.0, 179700.0, 159200.0, 151900.0, 71700.0, 245200.0, 228300.0, 196400.0, 192400.0, 65900.0, 282300.0, 185300.0, 88600.0, 67500.0, 143400.0, 119400.0, 215800.0, 257400.0, 373400.0, 152300.0, 245700.0, 80000.0, 137200.0, 266900.0, 395300.0, 222100.0, 500001.0, 500001.0, 232900.0, 259700.0, 215700.0, 243200.0, 221400.0, 112500.0, 388500.0, 410000.0, 163000.0, 500000.0, 231300.0, 76100.0, 458600.0, 366300.0, 296800.0, 58600.0, 84800.0, 117300.0, 126600.0, 170800.0, 149300.0, 119000.0, 375000.0, 284900.0, 170100.0, 500001.0, 98700.0, 60800.0, 142800.0, 223900.0, 137500.0, 297800.0, 112700.0, 113300.0, 121400.0, 248400.0, 407800.0, 356600.0, 106300.0, 121400.0, 240900.0, 247100.0, 137900.0, 86300.0, 500001.0, 216300.0, 305600.0, 158300.0, 452100.0, 95000.0, 105700.0, 84600.0, 240100.0, 162500.0, 96600.0, 92200.0, 228200.0, 113700.0, 69000.0, 500001.0, 225000.0, 174000.0, 500001.0, 253000.0, 277600.0, 285200.0, 90300.0, 189900.0, 316600.0, 301900.0, 93100.0, 94200.0, 213800.0, 187500.0, 500001.0, 325700.0, 300000.0, 143900.0, 500001.0, 264100.0, 62300.0, 138800.0, 105400.0, 63500.0, 500001.0, 97800.0, 127400.0, 135300.0, 156100.0, 446800.0, 65000.0, 151800.0, 192200.0, 153100.0, 165800.0, 254200.0, 234200.0, 112500.0, 118700.0, 240900.0, 283300.0, 450000.0, 52100.0, 55900.0, 88100.0, 248900.0, 68600.0, 156300.0, 272700.0, 340400.0, 218800.0, 70100.0, 500001.0, 162500.0, 111800.0, 110200.0, 74200.0, 103200.0, 172100.0, 132000.0, 166300.0, 107300.0, 107900.0, 94600.0, 66100.0, 158200.0, 95800.0, 117000.0, 170900.0, 92900.0, 162500.0, 193800.0, 134600.0, 123100.0, 115700.0, 83500.0, 62200.0, 74400.0, 180100.0, 195800.0, 500001.0, 144300.0, 125400.0, 80800.0, 65900.0, 157900.0, 500001.0, 180800.0, 236200.0, 103000.0, 216900.0, 383300.0, 500001.0, 83500.0, 214400.0, 100000.0, 78800.0, 97600.0, 178400.0, 287100.0, 270100.0, 185500.0, 90600.0, 213600.0, 124300.0, 205000.0, 256700.0, 392700.0, 133300.0, 187100.0, 255400.0, 347400.0, 171700.0, 112500.0, 82600.0, 48600.0, 134100.0, 225800.0, 500001.0, 470000.0, 225800.0, 158000.0, 117100.0, 416300.0, 120800.0, 226300.0, 122200.0, 100000.0, 229500.0, 195800.0, 85000.0, 264700.0, 455500.0, 176000.0, 81100.0, 166400.0, 82600.0, 272200.0, 271100.0, 239400.0, 171800.0, 121800.0, 173600.0, 239300.0, 58800.0, 287500.0, 70700.0, 181700.0, 113700.0, 224100.0, 351300.0, 301300.0, 80700.0, 152600.0, 237400.0, 179400.0, 500001.0, 170200.0, 165300.0, 225900.0, 159700.0, 363500.0, 132100.0, 376800.0, 96900.0, 316200.0, 323800.0, 387500.0, 149100.0, 500001.0, 225000.0, 178800.0, 87500.0, 130100.0, 500001.0, 349000.0, 73000.0, 244700.0, 275400.0, 246200.0, 236200.0, 232200.0, 53300.0, 163100.0, 72400.0, 234500.0, 150000.0, 116100.0, 181300.0, 121000.0, 88700.0, 182500.0, 197400.0, 128100.0, 76500.0, 300000.0, 500001.0, 160300.0, 335600.0, 157600.0, 190600.0, 180800.0, 104200.0, 111800.0, 194100.0, 253800.0, 129500.0, 117600.0, 339800.0, 342900.0, 195500.0, 83800.0, 94200.0, 140600.0, 160900.0, 169300.0, 275900.0, 146200.0, 202300.0, 154000.0, 135500.0, 235900.0, 128800.0, 249600.0, 300000.0, 134100.0, 308600.0, 350000.0, 110800.0, 190800.0, 108800.0, 144400.0, 162900.0, 163900.0, 98000.0, 132700.0, 283100.0, 407200.0, 248200.0, 64500.0, 500001.0, 194400.0, 137500.0, 127300.0, 85300.0, 194900.0, 221100.0, 192200.0, 404500.0, 73500.0, 233700.0, 118800.0, 70000.0, 182800.0, 500001.0, 157700.0, 247900.0, 500001.0, 357900.0, 56900.0, 302400.0, 125400.0, 386400.0, 175600.0, 110500.0, 386700.0, 137500.0, 228700.0, 149400.0, 73700.0, 500001.0, 132100.0, 86500.0, 417900.0, 172600.0, 99700.0, 72500.0, 180800.0, 308400.0, 288300.0, 302200.0, 288800.0, 100000.0, 233000.0, 136900.0, 209400.0, 246600.0, 65200.0, 491200.0, 356700.0, 164300.0, 88200.0, 155900.0, 191700.0, 84400.0, 190100.0, 112500.0, 115200.0, 174600.0, 113500.0, 152400.0, 250300.0, 183700.0, 500001.0, 310900.0, 230600.0, 68500.0, 267400.0, 145300.0, 282000.0, 282100.0, 189800.0, 254400.0, 161700.0, 188800.0, 500001.0, 94400.0, 342800.0, 191500.0, 209600.0, 235000.0, 231400.0, 130200.0, 208200.0, 500001.0, 168600.0, 228100.0, 126900.0, 135500.0, 156700.0, 208600.0, 436700.0, 71000.0, 88800.0, 341600.0, 120200.0, 148200.0, 500001.0, 375000.0, 137500.0, 64800.0, 231800.0, 160700.0, 251000.0, 142500.0, 176500.0, 177100.0, 311800.0, 84600.0, 122600.0, 198200.0, 500000.0, 279800.0, 195000.0, 202800.0, 354100.0, 259500.0, 500001.0, 272400.0, 183900.0, 285800.0, 225000.0, 292600.0, 55200.0, 262000.0, 158900.0, 172100.0, 191700.0, 225000.0, 108300.0, 113600.0, 100000.0, 191700.0, 117200.0, 110600.0, 80200.0, 98100.0, 253800.0, 48100.0, 192800.0, 132800.0, 196300.0, 320800.0, 319400.0, 203700.0, 207100.0, 79900.0, 500001.0, 330000.0, 139000.0, 187500.0, 448300.0, 176300.0, 175900.0, 104200.0, 162200.0, 166800.0, 161200.0, 153100.0, 156900.0, 158100.0, 76900.0, 165400.0, 73500.0, 118400.0, 142400.0, 280300.0, 107200.0, 183300.0, 98800.0, 234500.0, 143500.0, 108000.0, 97800.0, 70500.0, 225900.0, 239800.0, 136400.0, 180600.0, 239600.0, 265700.0, 204200.0, 122500.0, 204000.0, 195300.0, 215800.0, 500001.0, 75800.0, 265400.0, 273700.0, 116400.0, 59400.0, 137000.0, 119200.0, 244200.0, 170000.0, 280300.0, 285000.0, 102600.0, 120500.0, 361600.0, 455300.0, 213400.0, 158000.0, 217000.0, 63700.0, 244300.0, 151100.0, 110800.0, 433800.0, 72900.0, 108500.0, 452600.0, 467600.0, 263300.0, 266800.0, 500001.0, 72300.0, 151500.0, 103000.0, 382100.0, 172600.0, 93400.0, 96500.0, 264800.0, 157300.0, 500001.0, 139800.0, 315600.0, 231900.0, 159400.0, 96000.0, 187500.0, 229900.0, 117700.0, 169600.0, 130800.0, 157400.0, 94100.0, 72700.0, 500001.0, 95800.0, 97500.0, 78800.0, 292000.0, 42500.0, 187500.0, 218200.0, 87500.0, 146300.0, 137400.0, 276700.0, 180500.0, 155300.0, 276000.0, 75800.0, 167600.0, 293700.0, 225400.0, 500001.0, 223900.0, 89300.0, 294500.0, 195800.0, 167800.0, 137900.0, 159200.0, 77100.0, 173100.0, 181700.0, 265700.0, 96700.0, 164200.0, 250000.0, 434700.0, 500001.0, 92600.0, 242000.0, 234800.0, 168800.0, 154400.0, 64000.0, 80000.0, 322200.0, 370400.0, 181300.0, 114200.0, 112500.0, 158100.0, 277700.0, 154200.0, 105000.0, 286500.0, 190200.0, 63100.0, 189900.0, 57100.0, 282100.0, 350000.0, 173900.0, 218800.0, 225000.0, 101200.0, 164700.0, 132000.0, 245500.0, 254200.0, 301500.0, 188500.0, 184000.0, 101800.0, 220700.0, 500001.0, 202200.0, 387800.0, 114200.0, 47500.0, 154800.0, 444200.0, 500001.0, 103800.0, 67500.0, 156800.0, 335000.0, 75600.0, 93100.0, 168600.0, 398800.0, 336500.0, 230900.0, 252800.0, 361800.0, 298400.0, 111500.0, 151400.0, 100600.0, 235600.0, 242700.0, 66800.0, 500001.0, 374000.0, 230000.0, 141100.0, 170300.0, 241500.0, 60300.0, 420000.0, 224700.0, 151500.0, 82100.0, 104200.0, 361400.0, 187500.0, 295300.0, 216200.0, 66300.0, 98000.0, 175000.0, 460000.0, 122600.0, 335700.0, 173200.0, 233200.0, 84200.0, 96000.0, 79600.0, 446600.0, 180700.0, 101900.0, 77400.0, 500001.0, 243400.0, 141400.0, 213000.0, 500001.0, 248000.0, 160600.0, 143500.0, 200000.0, 101900.0, 220900.0, 253800.0, 151600.0, 133400.0, 146200.0, 294000.0, 85400.0, 208300.0, 309700.0, 100000.0, 173400.0, 88800.0, 334400.0, 94200.0, 151400.0, 390500.0, 116600.0, 153100.0, 174600.0, 84900.0, 125000.0, 162500.0, 500001.0, 99200.0, 457500.0, 500001.0, 148800.0, 119400.0, 330500.0, 64700.0, 184900.0, 82400.0, 400400.0, 500001.0, 43500.0, 110900.0, 63300.0, 329600.0, 92400.0, 500001.0, 174200.0, 201600.0, 131300.0, 243200.0, 193800.0, 274300.0, 217500.0, 109400.0, 189700.0, 189600.0, 155700.0, 176300.0, 239900.0, 110200.0, 202500.0, 149600.0, 225400.0, 273000.0, 277200.0, 158800.0, 65100.0, 139100.0, 146900.0, 136600.0, 443800.0, 47500.0, 372200.0, 52500.0, 81300.0, 187800.0, 239300.0, 129200.0, 116100.0, 274000.0, 143400.0, 87500.0, 223200.0, 225200.0, 126600.0, 242200.0, 200000.0, 68400.0, 133400.0, 179800.0, 82100.0, 298600.0, 247600.0, 231100.0, 289500.0, 119300.0, 188600.0, 111300.0, 95500.0, 200000.0, 183700.0, 70100.0, 186300.0, 500001.0, 192600.0, 152100.0, 199000.0, 99800.0, 58600.0, 209600.0, 121400.0, 227500.0, 55900.0, 173200.0, 269700.0, 378300.0, 165600.0, 242900.0, 236100.0, 308300.0, 234400.0, 260800.0, 207100.0, 56100.0, 89900.0, 87700.0, 138800.0, 81100.0, 252600.0, 142900.0, 34200.0, 339400.0, 141700.0, 372200.0, 149300.0, 189000.0, 152300.0, 321900.0, 500001.0, 218500.0, 196200.0, 121900.0, 500001.0, 100600.0, 137500.0, 92500.0, 349100.0, 500001.0, 276400.0, 238600.0, 500001.0, 68300.0, 53400.0, 353100.0, 209500.0, 174800.0, 344000.0, 238900.0, 296400.0, 391300.0, 311400.0, 267200.0, 179600.0, 152800.0, 218500.0, 161700.0, 173900.0, 150600.0, 99200.0, 74000.0, 252800.0, 176500.0, 147900.0, 225600.0, 126600.0, 85700.0, 57900.0, 91600.0, 446600.0, 88300.0, 407000.0, 108900.0, 500001.0, 500001.0, 94900.0, 187200.0, 238300.0, 350000.0, 294400.0, 140100.0, 157300.0, 230000.0, 150000.0, 421300.0, 180300.0, 155200.0, 87500.0, 154600.0, 197700.0, 324300.0, 90600.0, 221000.0, 291000.0, 252600.0, 247600.0, 138100.0, 500001.0, 463800.0, 335900.0, 241400.0, 114300.0, 102700.0, 87500.0, 270700.0, 176800.0, 70600.0, 121500.0, 220500.0, 500001.0, 111400.0, 161800.0, 122400.0, 420800.0, 254200.0, 101800.0, 84200.0, 86400.0, 237500.0, 312500.0, 320400.0, 88200.0, 349200.0, 57400.0, 144600.0, 62100.0, 59900.0, 91500.0, 246400.0, 174900.0, 191100.0, 500001.0, 398600.0, 256600.0, 184400.0, 112500.0, 127800.0, 148700.0, 127900.0, 186000.0, 167400.0, 42500.0, 111000.0, 260700.0, 72800.0, 277000.0, 100000.0, 474000.0, 110200.0, 454300.0, 91800.0, 179800.0, 87500.0, 116100.0, 128000.0, 77900.0, 123100.0, 79700.0, 112100.0, 286400.0, 214900.0, 234100.0, 54400.0, 220100.0, 171900.0, 257600.0, 205100.0, 111700.0, 191100.0, 22500.0, 214700.0, 445900.0, 280800.0, 325900.0, 316700.0, 116700.0, 139700.0, 125000.0, 160400.0, 118800.0, 22500.0, 66700.0, 162500.0, 126600.0, 104600.0, 170500.0, 161400.0, 327300.0, 311600.0, 192100.0, 195900.0, 93600.0, 441700.0, 238700.0, 250800.0, 201000.0, 364200.0, 212200.0, 203000.0, 152500.0, 227700.0, 394100.0, 227300.0, 75500.0, 200600.0, 430800.0, 54400.0, 98800.0, 93600.0, 171300.0, 212000.0, 79700.0, 413000.0, 225400.0, 159000.0, 235600.0, 190500.0, 262100.0, 292700.0, 180800.0, 138200.0, 223000.0, 318100.0, 222500.0, 353400.0, 249400.0, 127200.0, 126100.0, 133300.0, 500001.0, 218600.0, 138800.0, 225000.0, 300000.0, 105200.0, 155400.0, 120900.0, 142700.0, 326000.0, 150900.0, 338900.0, 221500.0, 88700.0, 162000.0, 286700.0, 127900.0, 220900.0, 147100.0, 112500.0, 139900.0, 217500.0, 193100.0, 111700.0, 391000.0, 295400.0, 321200.0, 43900.0, 154300.0, 191400.0, 102400.0, 164800.0, 148800.0, 133400.0, 219800.0, 500001.0, 284100.0, 162900.0, 353400.0, 162500.0, 217700.0, 112000.0, 211300.0, 287500.0, 73100.0, 269100.0, 70600.0, 212800.0, 52600.0, 68300.0, 172600.0, 54300.0, 282400.0, 121300.0, 67500.0, 238000.0, 258100.0, 207700.0, 150000.0, 274100.0, 210900.0, 88600.0, 95500.0, 288200.0, 390100.0, 138100.0, 231400.0, 163300.0, 299600.0, 55900.0, 125900.0, 390600.0, 221000.0, 71100.0, 75100.0, 235700.0, 306400.0, 337900.0, 166800.0, 336100.0, 156800.0, 165500.0, 331000.0, 54200.0, 145500.0, 500001.0, 74600.0, 196000.0, 100300.0, 500001.0, 165200.0, 208700.0, 255400.0, 68500.0, 123200.0, 141400.0, 252400.0, 131700.0, 275000.0, 500001.0, 145300.0, 147600.0, 394000.0, 180400.0, 177500.0, 332500.0, 190900.0, 187300.0, 324400.0, 162500.0, 96900.0, 128900.0, 281700.0, 54700.0, 255300.0, 275000.0, 334300.0, 126100.0, 254200.0, 500001.0, 239700.0, 187500.0, 500001.0, 283300.0, 82900.0, 275000.0, 208400.0, 126100.0, 500001.0, 122500.0, 225000.0, 271500.0, 167200.0, 168900.0, 119400.0, 127400.0, 185300.0, 132300.0, 239900.0, 68000.0, 471400.0, 145600.0, 108600.0, 76100.0, 301700.0, 132500.0, 53300.0, 130400.0, 133900.0, 293200.0, 161800.0, 162500.0, 252100.0, 262400.0, 217200.0, 294400.0, 121700.0, 244500.0, 103000.0, 205100.0, 331500.0, 300600.0, 165800.0, 53500.0, 59300.0, 78800.0, 500001.0, 142800.0, 53500.0, 94300.0, 196900.0, 133200.0, 63300.0, 224600.0, 278600.0, 123600.0, 229300.0, 244900.0, 134600.0, 54000.0, 161700.0, 218400.0, 66000.0, 98200.0, 190700.0, 500001.0, 196300.0, 315200.0, 158900.0, 158900.0, 128600.0, 93200.0, 97600.0, 93800.0, 236100.0, 112500.0, 95200.0, 321600.0, 128100.0, 151100.0, 71300.0, 114000.0, 178000.0, 149100.0, 267000.0, 303300.0, 174200.0, 224100.0, 121200.0, 275000.0, 159800.0, 132600.0, 183300.0, 328600.0, 206300.0, 120000.0, 342900.0, 219500.0, 314900.0, 413100.0, 222700.0, 217800.0, 109400.0, 285700.0, 241500.0, 500001.0, 268800.0, 253300.0, 351200.0, 87500.0, 175000.0, 280200.0, 384400.0, 81800.0, 254200.0, 290800.0, 98000.0, 284600.0, 195300.0, 271400.0, 257600.0, 45000.0, 412300.0, 98100.0, 471300.0, 328900.0, 184400.0, 98700.0, 216200.0, 131900.0, 111500.0, 286500.0, 284900.0, 208000.0, 248700.0, 136000.0, 486900.0, 170800.0, 451300.0, 348200.0, 500001.0, 153300.0, 277600.0, 106500.0, 157500.0, 152300.0, 320500.0, 56700.0, 132000.0, 200400.0, 193200.0, 141400.0, 304100.0, 193800.0, 62600.0, 52700.0, 268300.0, 72100.0, 53900.0, 255800.0, 500001.0, 500001.0, 180000.0, 273500.0, 244800.0, 50000.0, 142400.0, 56100.0, 86500.0, 122200.0, 187500.0, 111100.0, 54600.0, 225700.0, 109800.0, 191700.0, 222500.0, 152500.0, 293100.0, 205600.0, 309200.0, 141300.0, 215700.0, 55000.0, 356300.0, 500001.0, 129700.0, 500001.0, 130400.0, 313800.0, 179200.0, 182500.0, 500001.0, 155000.0, 282500.0, 496400.0, 313800.0, 500001.0, 320300.0, 112500.0, 116200.0, 163500.0, 196900.0, 310300.0, 97900.0, 210900.0, 251500.0, 214200.0, 500001.0, 229800.0, 197500.0, 148100.0, 127900.0, 244700.0, 145300.0, 94500.0, 253300.0, 147600.0, 329400.0, 164900.0, 309700.0, 113000.0, 229100.0, 221300.0, 470800.0, 116800.0, 500001.0, 161700.0, 95000.0, 291700.0, 69900.0, 102300.0, 108700.0, 90100.0, 500001.0, 143800.0, 194600.0, 247700.0, 470000.0, 500001.0, 500001.0, 226900.0, 366000.0, 500001.0, 216000.0, 154200.0, 112800.0, 139000.0, 372800.0, 92700.0, 90900.0, 206700.0, 199300.0, 66500.0, 133500.0, 93300.0, 370900.0, 157300.0, 215500.0, 273100.0, 69100.0, 125000.0, 411600.0, 123800.0, 201500.0, 232500.0, 94600.0, 125800.0, 60700.0, 175000.0, 79500.0, 139600.0, 91200.0, 169700.0, 402500.0, 390500.0, 77500.0, 328100.0, 265000.0, 112500.0, 214800.0, 178000.0, 211500.0, 271500.0, 263500.0, 500001.0, 178400.0, 152300.0, 335900.0, 270100.0, 239400.0, 219700.0, 166200.0, 70500.0, 326700.0, 233700.0, 185600.0, 152500.0, 371500.0, 453800.0, 244900.0, 225000.0, 254400.0, 204700.0, 143100.0, 360800.0, 62000.0, 76800.0, 373600.0, 264200.0, 67500.0, 184400.0, 500001.0, 311700.0, 241400.0, 294400.0, 381000.0, 340000.0, 63400.0, 218500.0, 433300.0, 171000.0, 124600.0, 65400.0, 88300.0, 176200.0, 195400.0, 102400.0, 500001.0, 186200.0, 119800.0, 278600.0, 168600.0, 96900.0, 75000.0, 176400.0, 442700.0, 333800.0, 86200.0, 500001.0, 145200.0, 104200.0, 107900.0, 303400.0, 249100.0, 227700.0, 203900.0, 134600.0, 426100.0, 95800.0, 47500.0, 146900.0, 191800.0, 98500.0, 349000.0, 122700.0, 500001.0, 187100.0, 254000.0, 265000.0, 217100.0, 129700.0, 212500.0, 300700.0, 185300.0, 132600.0, 225000.0, 281100.0, 187500.0, 350000.0, 126500.0, 133400.0, 204500.0, 215000.0, 228200.0, 160100.0, 162500.0, 140800.0, 340700.0, 460000.0, 192500.0, 126400.0, 169400.0, 104000.0, 90200.0, 87800.0, 183900.0, 320200.0, 174000.0, 125000.0, 70300.0, 120800.0, 260500.0, 431600.0, 350000.0, 118200.0, 109400.0, 270600.0, 500001.0, 434800.0, 239800.0, 52100.0, 130000.0, 179200.0, 92900.0, 308000.0, 352200.0, 95600.0, 136700.0, 115500.0, 233500.0, 350000.0, 273600.0, 235300.0, 500001.0, 63200.0, 117700.0, 263100.0, 481500.0, 228500.0, 279900.0, 183000.0, 465800.0, 150000.0, 250900.0, 500001.0, 120800.0, 500001.0, 99300.0, 173400.0, 109500.0, 152400.0, 157500.0, 303100.0, 151500.0, 117500.0, 248800.0, 346700.0, 367500.0, 142100.0, 137500.0, 163200.0, 336800.0, 47500.0, 136800.0, 216600.0, 194800.0, 151800.0, 120600.0, 242000.0, 330200.0, 217000.0, 166200.0, 153100.0, 290500.0, 173900.0, 268900.0, 144600.0, 151900.0, 156300.0, 91700.0, 315000.0, 174100.0, 107200.0, 109000.0, 73300.0, 62300.0, 400000.0, 62900.0, 204300.0, 249500.0, 500001.0, 286100.0, 500001.0, 360700.0, 132300.0, 253700.0, 79800.0, 87500.0, 161300.0, 70000.0, 101400.0, 395500.0, 133200.0, 285300.0, 208200.0, 189000.0, 53200.0, 302100.0, 213800.0, 297500.0, 279300.0, 134200.0, 175000.0, 122300.0, 73200.0, 499000.0, 134800.0, 500001.0, 299000.0, 325000.0, 114600.0, 223000.0, 148800.0, 101500.0, 122500.0, 224200.0, 209300.0, 141300.0, 143000.0, 106900.0, 288300.0, 398200.0, 61800.0, 137500.0, 365300.0, 174100.0, 137500.0, 132000.0, 160700.0, 172800.0, 262000.0, 130000.0, 46700.0, 137500.0, 122300.0, 90000.0, 92400.0, 199600.0, 228000.0, 225000.0, 242100.0, 500001.0, 141600.0, 131100.0, 340000.0, 283800.0, 104000.0, 189500.0, 169500.0, 189900.0, 334900.0, 407000.0, 178600.0, 245800.0, 149700.0, 500001.0, 258300.0, 146900.0, 128800.0, 311100.0, 325000.0, 225600.0, 191400.0, 179200.0, 196100.0, 105300.0, 86900.0, 102000.0, 500001.0, 58100.0, 195800.0, 326700.0, 205400.0, 146800.0, 255000.0, 162400.0, 170700.0, 112600.0, 306700.0, 268800.0, 181800.0, 181300.0, 156000.0, 337800.0, 353100.0, 140700.0, 70700.0, 168700.0, 218800.0, 229400.0, 97300.0, 160600.0, 177200.0, 500001.0, 72300.0, 431800.0, 117400.0, 112500.0, 80600.0, 163000.0, 500001.0, 98600.0, 208100.0, 417100.0, 213000.0, 162600.0, 161500.0, 74600.0, 233600.0, 180700.0, 316700.0, 253600.0, 179900.0, 83300.0, 140600.0, 266300.0, 500001.0, 139800.0, 153700.0, 182400.0, 218400.0, 262500.0, 130300.0, 149600.0, 123900.0, 307000.0, 259800.0, 162500.0, 129500.0, 93800.0, 350000.0, 500001.0, 168100.0, 158100.0, 113600.0, 381500.0, 350000.0, 219900.0, 139200.0, 270100.0, 275000.0, 187500.0, 158300.0, 327700.0, 94600.0, 278500.0, 120000.0, 299500.0, 414300.0, 241900.0, 254500.0, 408500.0, 104400.0, 214600.0, 74300.0, 265500.0, 197000.0, 130700.0, 115700.0, 99100.0, 410500.0, 136500.0, 86600.0, 216900.0, 318200.0, 265000.0, 414300.0, 262500.0, 222700.0, 162500.0, 196100.0, 221900.0, 460400.0, 247100.0, 197500.0, 330000.0, 245600.0, 82500.0, 68000.0, 128300.0, 113500.0, 325000.0, 261000.0, 122500.0, 353600.0, 54400.0, 134300.0, 303900.0, 337400.0, 60000.0, 162500.0, 59400.0, 76800.0, 107600.0, 247800.0, 305100.0, 231900.0, 217600.0, 367400.0, 98200.0, 184400.0, 193800.0, 177900.0, 157500.0, 190400.0, 162800.0, 189600.0, 197600.0, 191100.0, 165300.0, 136200.0, 336400.0, 88800.0, 265400.0, 105000.0, 380400.0, 187500.0, 72700.0, 182200.0, 430200.0, 376000.0, 88000.0, 54100.0, 67900.0, 500001.0, 100000.0, 131300.0, 268400.0, 89100.0, 179200.0, 107600.0, 83200.0, 204200.0, 157500.0, 100000.0, 244100.0, 500001.0, 217800.0, 409600.0, 181300.0, 333700.0, 138100.0, 89600.0, 227700.0, 195300.0, 352700.0, 83400.0, 292000.0, 113900.0, 271500.0, 165600.0, 232600.0, 102000.0, 49500.0, 195200.0, 500001.0, 458300.0, 156800.0, 226000.0, 69000.0, 258600.0, 199000.0, 62300.0, 193100.0, 430600.0, 51600.0, 86900.0, 67000.0, 91500.0, 95300.0, 105900.0, 154200.0, 200000.0, 149600.0, 240100.0, 261500.0, 174600.0, 261100.0, 420800.0, 175900.0, 211900.0, 229100.0, 374200.0, 111400.0, 138800.0, 95700.0, 500001.0, 500001.0, 42500.0, 109200.0, 174500.0, 57400.0, 324600.0, 282700.0, 234600.0, 165500.0, 233300.0, 172700.0, 278300.0, 266400.0, 189300.0, 93900.0, 142600.0, 108200.0, 275000.0, 232000.0, 164400.0, 500001.0, 120100.0, 100300.0, 71900.0, 61200.0, 198500.0, 184400.0, 237400.0, 58300.0, 450000.0, 156300.0, 351100.0, 274100.0, 170500.0, 111600.0, 296100.0, 166700.0, 106400.0, 295300.0, 112500.0, 72400.0, 229300.0, 55200.0, 208900.0, 253800.0, 112500.0, 229400.0, 185100.0, 191400.0, 260500.0, 97500.0, 500001.0, 500001.0, 221000.0, 86900.0, 108800.0, 208600.0, 500001.0, 195800.0, 150000.0, 250300.0, 50000.0, 60800.0, 324300.0, 347100.0, 325900.0, 371400.0, 172600.0, 94600.0, 322800.0, 191700.0, 127300.0, 242300.0, 210700.0, 120400.0, 262400.0, 216500.0, 74800.0, 76800.0, 290600.0, 78100.0, 357100.0, 267400.0, 146600.0, 126800.0, 487200.0, 114600.0, 313100.0, 144800.0, 221300.0, 318600.0, 97200.0, 243000.0, 281000.0, 228900.0, 261300.0, 131700.0, 185500.0, 191900.0, 233600.0, 198500.0, 221700.0, 316500.0, 152400.0, 326400.0, 99300.0, 292500.0, 163100.0, 302600.0, 110000.0, 94900.0, 500001.0, 290700.0, 146900.0, 122700.0, 110400.0, 94800.0, 140000.0, 191100.0, 169800.0, 305400.0, 398500.0, 314000.0, 184200.0, 248600.0, 156100.0, 86500.0, 274100.0, 198100.0, 128900.0, 179500.0, 275000.0, 94900.0, 194100.0, 400000.0, 112500.0, 158300.0, 187800.0, 97100.0, 131700.0, 363200.0, 400000.0, 163000.0, 500001.0, 137500.0, 144200.0, 91500.0, 500001.0, 161800.0, 278100.0, 169300.0, 110700.0, 252100.0, 123500.0, 272200.0, 61400.0, 332600.0, 69400.0, 265600.0, 435900.0, 266700.0, 93900.0, 382400.0, 82300.0, 283300.0, 455400.0, 148500.0, 260500.0, 140200.0, 277300.0, 142000.0, 291700.0, 107100.0, 68900.0, 500001.0, 215300.0, 161400.0, 165900.0, 58800.0, 260900.0, 306300.0, 199500.0, 306800.0, 100100.0, 310900.0, 342200.0, 125000.0, 213500.0, 213200.0, 117300.0, 199700.0, 160300.0, 234000.0, 165100.0, 265200.0, 202000.0, 239900.0, 231600.0, 122700.0, 337500.0, 104200.0, 347800.0, 366300.0, 48300.0, 163600.0, 350000.0, 443300.0, 141100.0, 226900.0, 90600.0, 136300.0, 196400.0, 140300.0, 125900.0, 126200.0, 44600.0, 275000.0, 49500.0, 354700.0, 119400.0, 450000.0, 253400.0, 189900.0, 225000.0, 248300.0, 71300.0, 105100.0, 81800.0, 144500.0, 73700.0, 76400.0, 83800.0, 101900.0, 233300.0, 114300.0, 97500.0, 137500.0, 500001.0, 297200.0, 124100.0, 241300.0, 71200.0, 346700.0, 186500.0, 264000.0, 229000.0, 253800.0, 315300.0, 133900.0, 196600.0, 218900.0, 162500.0, 174700.0, 164000.0, 123800.0, 100000.0, 375000.0, 439200.0, 88300.0, 500001.0, 153500.0, 245700.0, 123800.0, 205400.0, 205200.0, 203900.0, 146200.0, 98100.0, 196900.0, 261100.0, 469800.0, 153700.0, 68400.0, 165400.0, 273600.0, 292900.0, 159700.0, 242700.0, 209700.0, 263400.0, 108900.0, 124400.0, 55700.0, 227800.0, 500001.0, 292900.0, 181600.0, 422700.0, 112900.0, 97900.0, 142500.0, 287300.0, 166100.0, 105500.0, 264000.0, 57200.0, 178000.0, 329600.0, 265700.0, 166700.0, 111500.0, 187200.0, 500001.0, 187700.0, 73300.0, 62800.0, 78900.0, 172700.0, 241700.0, 123500.0, 344700.0, 86900.0, 97000.0, 342300.0, 329300.0, 213200.0, 194100.0, 123800.0, 290500.0, 155500.0, 126200.0, 157400.0, 241700.0, 167500.0, 183800.0, 259600.0, 241600.0, 500001.0, 173200.0, 147800.0, 234600.0, 142200.0, 305600.0, 183100.0, 154700.0, 202600.0, 143800.0, 233900.0, 140400.0, 219400.0, 385200.0, 51400.0, 85900.0, 113700.0, 278000.0, 105800.0, 224200.0, 159900.0, 205200.0, 275000.0, 58900.0, 113900.0, 94600.0, 158100.0, 229000.0, 189900.0, 232600.0, 330800.0, 103300.0, 191800.0, 181200.0, 50000.0, 150600.0, 500001.0, 153800.0, 234300.0, 123600.0, 187500.0, 187500.0, 255600.0, 200300.0, 178400.0, 197600.0, 360700.0, 129800.0, 74700.0, 287800.0, 110300.0, 148000.0, 344200.0, 121400.0, 226500.0, 160500.0, 376200.0, 325000.0, 172800.0, 417000.0, 190800.0, 194600.0, 245200.0, 482200.0, 92400.0, 135100.0, 416700.0, 261000.0, 500001.0, 500001.0, 113600.0, 264400.0, 114700.0, 62000.0, 318200.0, 191100.0, 135600.0, 127900.0, 118000.0, 465600.0, 411200.0, 418800.0, 162500.0, 100500.0, 313400.0, 359900.0, 89400.0, 99900.0, 120200.0, 253900.0, 92700.0, 144000.0, 190400.0, 287500.0, 429100.0, 132500.0, 134400.0, 52600.0, 245700.0, 276200.0, 181400.0, 225200.0, 275000.0, 500001.0, 100000.0, 500001.0, 95300.0, 227500.0, 87500.0, 109100.0, 117100.0, 162900.0, 202100.0, 132600.0, 268800.0, 132900.0, 104600.0, 116300.0, 161900.0, 289000.0, 87500.0, 60000.0, 177000.0, 362700.0, 85400.0, 183400.0, 213000.0, 325200.0, 412700.0, 247600.0, 293500.0, 198400.0, 188300.0, 180700.0, 118800.0, 85500.0, 165000.0, 80400.0, 153000.0, 240900.0, 214300.0, 286600.0, 380800.0, 258300.0, 145200.0, 153800.0, 113500.0, 241900.0, 138000.0, 69600.0, 150000.0, 251100.0, 313100.0, 105600.0, 363000.0, 241300.0, 65000.0, 218200.0, 75300.0, 172300.0, 159400.0, 500001.0, 417600.0, 112500.0, 230400.0, 240900.0, 492300.0, 213000.0, 144100.0, 220700.0, 95800.0, 438400.0, 253200.0, 69800.0, 61300.0, 174400.0, 200300.0, 237500.0, 104300.0, 218700.0, 153500.0, 85500.0, 177600.0, 136100.0, 84200.0, 246400.0, 166300.0, 500001.0, 146400.0, 57500.0, 130600.0, 75300.0, 337400.0, 120900.0, 500001.0, 204800.0, 154300.0, 126200.0, 252800.0, 211000.0, 134400.0, 227800.0, 225000.0, 256300.0, 218800.0, 500001.0, 158300.0, 244700.0, 137200.0, 188700.0, 72500.0, 231200.0, 161700.0, 325000.0, 116000.0, 342200.0, 189300.0, 111700.0, 41300.0, 52900.0, 235500.0, 76200.0, 117900.0, 81700.0, 236800.0, 252800.0, 182700.0, 358000.0, 53100.0, 387400.0, 158900.0, 162500.0, 376100.0, 367700.0, 109400.0, 223100.0, 106300.0, 227500.0, 131300.0, 158800.0, 167900.0, 183100.0, 271300.0, 161300.0, 285400.0, 150500.0, 65600.0, 162100.0, 222400.0, 287500.0, 114600.0, 61500.0, 181100.0, 119400.0, 47100.0, 137500.0, 277800.0, 181800.0, 183800.0, 146700.0, 280900.0, 268000.0, 138800.0, 187300.0, 172100.0, 175400.0, 244100.0, 194400.0, 54200.0, 235600.0, 160000.0, 135200.0, 166000.0, 174500.0, 105400.0, 443300.0, 383700.0, 155000.0, 261900.0, 405200.0, 98200.0, 97200.0, 47900.0, 212500.0, 178100.0, 425500.0, 417600.0, 194100.0, 105200.0, 500001.0, 115300.0, 104700.0, 186500.0, 388500.0, 274100.0, 483300.0, 226700.0, 150000.0, 173000.0, 311500.0, 500001.0, 285200.0, 100000.0, 271800.0, 262500.0, 210900.0, 230000.0, 160600.0, 83000.0, 136100.0, 500001.0, 332700.0, 42100.0, 342400.0, 269400.0, 127100.0, 246000.0, 390200.0, 238700.0, 113800.0, 114100.0, 119000.0, 191500.0, 162500.0, 96200.0, 500000.0, 79200.0, 190000.0, 212100.0, 147800.0, 271900.0, 90600.0, 230000.0, 51500.0, 254500.0, 72000.0, 186800.0, 236500.0, 261400.0, 105500.0, 123100.0, 237500.0, 67300.0, 218400.0, 119400.0, 209800.0], \"y\": [69204.53568110574, 111932.34417459044, 221695.74029470808, 254931.45208715537, 197500.0330223929, 170060.98709908128, 238742.34420914314, 190830.8517087786, 209126.95249091068, 330763.0878106601, 101619.25818782784, 171999.93676524222, 166297.1537662006, 161753.45235304843, 249478.2831010365, 187255.4416754004, 200774.14217461293, 152801.31160187113, 183017.87651330853, 92266.2846329069, 236507.87413942863, 232087.0422549361, 182330.84837371475, 275752.5630013309, 197700.97092486487, 82617.55677817903, 164843.30658747998, 178784.1279906954, 143093.9773016803, 271680.6896267155, 137616.09617880575, 138837.28244092764, 164323.3545783779, 292827.88880182063, 189555.69345773754, 217696.45826685373, 204680.55664116514, 177200.35092834072, 137334.49053881742, 163199.8020958649, 274506.1332428665, 132010.04589976073, 97281.92871690782, 188802.81615073417, 142076.24117040334, 173587.61280256187, 171298.1689862821, 165232.19376125667, 161315.54567391222, 175269.53659430044, 212436.9202152542, 162547.16556098685, 179521.39878885314, 72965.97506283649, 162890.37072638463, 186771.13998907982, 89905.30026547823, 241048.75475430794, 199370.05990564093, 202077.8882455716, 198497.98834180905, 175867.46735662123, 99651.26878025143, 163851.79307598952, 278466.4397116086, 184838.5835458703, 165109.72788060657, 163863.69535734635, 157240.05414322575, 160941.71745801833, 137518.56841355877, 238210.65190073816, 119781.59753886878, 201377.3042044663, 184557.7335563738, 190524.03302979495, 275126.45516562695, 196979.42112529083, 205610.53991151607, 168316.44764968957, 93078.66577671988, 152535.23947402983, 128449.07414354249, 135137.2473282502, 299359.17821961024, 241858.51133302553, 116882.03856640113, 84120.5705622801, 127687.87412178323, 156383.5468220765, 178872.56770029603, 207271.97701088907, 148108.64320116676, 74908.1915477222, 98479.07899750328, 111929.70593977094, 212776.85267553115, 145357.99585614016, 173756.02819994467, 186600.43008536304, 119457.81798714853, 317193.7438985531, 194990.94897570557, 250166.5235609765, 196085.5291329494, 162060.39061867213, 144244.1110326603, 232509.75582186217, 204824.44348295816, 96324.6439706505, 179111.77874737495, 217415.23750370002, 302451.5451231965, 297022.9964889905, 138586.06287022925, 173153.6297159142, 189314.41929537567, 210185.77466645898, 231939.07073869673, 222479.13795943087, 191198.93112126552, 201694.99301300544, 234111.4874879818, 149861.13573193896, 168934.19260171909, 100762.1886102515, 93859.0098218252, 156381.77881826062, 202385.79560253816, 151149.5709239862, 227783.3657029579, 304980.97454059846, 217888.99225088142, 102826.23107759055, 192360.70208666107, 150598.01354390132, 223459.30511331875, 176524.38434304373, 180119.72438838438, 243191.4857818131, 203389.46598742495, 166284.02453139008, 165154.2200935434, 173957.99821653764, 324338.6871185761, 165317.33157756837, 279025.68946115463, 157719.87714641783, 89272.57643084752, 118441.33621306073, 135458.5539127008, 125816.90471241252, 204753.98193029282, 147508.00669821224, 174611.2690145573, 263728.45646305464, 206648.78234421113, 253391.3515433405, 88783.23547437736, 127338.59594976217, 237625.3659409031, 189250.63258399934, 271299.62657817, 143958.67270544195, 100357.02403081197, 230659.93573126852, 171450.93408097926, 112767.56697959523, 188454.37894485748, 219162.2397966193, 270934.5803085814, 177231.27881102363, 255561.68399949578, 256457.37118857188, 87092.49076982231, 102112.20909827613, 150761.66298901007, 129691.87346194571, 166801.6988555736, 138302.90631908976, 285461.64952673146, 296324.8193813665, 187009.61415687384, 229441.03892674262, 73311.38834998335, 128734.81194219434, 168892.3625078472, 172465.68068620373, 327275.74696266686, 204520.894138851, 184191.91085194872, 237761.9953070589, 102020.70018374168, 172298.0955009774, 130572.40292357205, 105511.37214569146, 208452.9864096614, 113369.65226249238, 358019.19480765203, 146941.48726471304, 191660.2657334184, 316065.52135902416, 262392.53766284394, 225215.89836824936, 198736.86354316914, 169774.8809663199, 81660.2252984915, 88881.84335492887, 216880.10668030285, 157197.55090818892, 153074.41997355164, 330830.4133852038, 230580.92742798806, 252256.0698298789, 166233.22973611913, 157566.43536824963, 149835.8450703498, 81630.55159568605, 186629.2637832619, 153141.59772830666, 128893.93181107458, 158609.22663292973, 227413.52139070886, 171036.43786887368, 167355.03107913153, 137071.69636774954, 237420.76625217186, 177602.99552227528, 229577.83446728945, 198329.45625691544, 226770.60607820612, 175674.36301570566, 151516.28834763673, 232168.02916564845, 111684.18180089915, 96476.49727494406, 309881.3575103524, 340432.54391461157, 170126.90617652633, 230905.99689630547, 188484.0638859899, 121553.63931434305, 166971.74128753372, 166846.15233899443, 137167.9716192854, 228357.01178472646, 224368.49576572963, 245640.82712225686, 216963.21212870927, 158473.83126444847, 96491.47939535348, 211987.5553373729, 170615.60590640342, 152452.19181696308, 89120.82586578012, 229479.37189169132, 160359.20092700102, 143602.48590037445, 132225.7704266772, 198140.4462936407, 250640.1129814629, 206368.3565549727, 304534.3265167427, 197176.41970032832, 104353.00261026059, 262093.4602707872, 146358.9887934121, 201037.18015025422, 280485.31598138134, 180401.76843218633, 312987.1871610532, 191629.1633292339, 170432.32732583774, 183615.60114171632, 140111.40971603664, 197627.5219738085, 233894.18888908136, 122009.32501167584, 178742.28561044286, 192481.2263499451, 167258.09074169846, 217447.05701021722, 115172.3839969039, 183640.85418222798, 182969.6917440688, 275996.6363448384, 291558.51553297334, 154590.41219808767, 264996.8308134355, 331611.1672149437, 184921.6110261849, 137864.34835837365, 159469.19804329617, 146000.48151274637, 169775.64828327377, 98312.16893885756, 198913.51623615276, 96328.31043085788, 238687.77128937165, 219197.6055769438, 76464.5583075587, 97772.35999748572, 282185.98502933234, 153672.93065444584, 116931.46466658928, 295880.22857655154, 160182.2045849666, 78843.98313650498, 269296.61218071246, 175462.12839061423, 166110.2546586763, 124583.43358622087, 215089.8340494004, 230931.92338403163, 321449.17946403695, 173051.10713958478, 93915.47198727657, 203740.0079378247, 186207.4803065589, 251913.22339243366, 219785.49733588367, 226273.276918068, 160585.51894412778, 344442.25105184386, 232400.43350333077, 151258.0437381519, 197024.22347000806, 106821.92895397193, 180187.2654102326, 168895.15411587997, 119054.43186698257, 172814.13486351044, 235509.06193833947, 184331.58601120548, 103220.65189604048, 265698.19313760137, 144299.54658418457, 91828.8007973482, 71308.92517728778, 330052.09342480486, 213555.2833206373, 106828.4966131502, 95893.87086476714, 211610.19327008736, 192504.06207179473, 109837.07802361768, 271290.78235993354, 237195.60204138266, 336621.7852015124, 178560.63196037905, 145811.07691788938, 186103.6678226523, 129107.95525215482, 91386.0705951598, 216004.33436759224, 166818.00800641562, 83047.51369569403, 208333.80369253943, 242329.88537217004, 158694.91219993721, 283603.859487431, 236736.00055069418, 195762.69981965638, 129192.20580228274, 182765.19272313995, 195129.0249921592, 187841.44364708549, 317856.22002323455, 239224.15239776706, 203936.4574730758, 187856.91987240818, 133392.79467406796, 75162.27502694038, 150307.07135852712, 220930.35437838186, 239559.88228380767, 178316.09285689046, 165084.14238659973, 105535.55362064687, 205066.97915143176, 275387.0899201598, 341512.660666898, 199365.77854354243, 128368.75291734641, 169915.45748222567, 223541.52600545157, 87850.15043296888, 168276.29213040773, 137935.32534530852, 190171.40944385758, 223867.42867557608, 144442.38769539946, 151768.11446444184, 117454.46498978249, 208957.62014024623, 157562.20586455482, 302045.6251726648, 258270.11515739418, 189635.94213740708, 192579.15375712755, 206011.5050190793, 188941.19269729956, 195001.0960296538, 146048.5280690003, 155867.79389444823, 82232.94266438301, 340190.8805629032, 184557.0302451488, 88471.04202667043, 177916.08618502485, 171736.2192232482, 339035.85956135625, 214383.21538008336, 158411.35772300186, 143113.16847450967, 234969.02453644524, 227500.8423479455, 110330.9756550381, 248369.26933719308, 170822.9342887531, 108865.83350042895, 137351.58382749677, 204176.66115090039, 152022.98255993557, 315172.7995794922, 201038.04409248737, 185305.4126545621, 223223.4626176854, 213374.39944120037, 167861.48689736557, 100758.00690489872, 171689.20051722616, 264729.12355341465, 153153.7820317949, 191567.91583579357, 263153.24607969774, 256007.58689829407, 107023.1879292594, 200210.7071728949, 216867.73320438925, 219953.49508893897, 161366.49430368553, 228749.01273280947, 235369.03290086947, 151971.1305447935, 160532.86988139653, 294305.4798982542, 142687.43931603373, 124627.54750652405, 229887.0087731281, 232729.22408234546, 183565.88151794212, 319026.04280995275, 109871.99216923857, 174018.6496636542, 244800.15139527462, 185005.20093538644, 214728.1974383017, 245773.25808544277, 72877.24406684333, 123597.91160184967, 324408.4692282636, 138269.55108661915, 150263.12889091036, 140104.84772727313, 150484.10516166996, 201354.52391039592, 227633.5417186382, 126222.63624839803, 129145.37398413203, 191557.62102406207, 157376.61238866998, 138478.20053505656, 125967.72923502464, 218492.2994167655, 153779.46255323794, 140711.89130594023, 90614.22807190235, 181230.4449057986, 92747.09433022511, 219409.1659253899, 171687.6079133983, 183556.91999091173, 198987.0604257489, 133938.56849883788, 184380.4336276405, 174121.90901851765, 237818.1921004096, 149213.11022222284, 196757.9898039077, 121223.85850807898, 127458.06578117843, 130970.56993808183, 70424.58505449834, 195180.4279903339, 142813.25593670201, 246606.61481341324, 235821.05394234625, 163231.52663885092, 252634.2779815534, 179898.6899772554, 258604.38350904163, 178277.80113410094, 112323.44807192929, 201403.1419982329, 206183.7712266659, 161977.59305611765, 267339.1601836418, 252656.17598922146, 196498.75471889938, 140036.56106636755, 227008.57292389075, 280985.80696084426, 271687.61488187034, 199458.15815043543, 290394.0921099741, 170981.05791604173, 170177.81675151325, 78355.92252975571, 163586.49184274033, 232556.9095742905, 159798.24866734393, 232540.4628185502, 144886.55734771313, 131438.52755037567, 194065.17724345805, 121437.37223512879, 110325.62400769093, 107675.13696308511, 152001.1500759256, 146448.3392897509, 154669.62348277454, 169207.53503874474, 160343.73505812508, 184366.0353500869, 188423.10178322575, 262303.92817973933, 105155.76114798934, 201315.83679058022, 87976.21201192406, 247299.05768300995, 265520.27767865144, 241916.27562874585, 188169.3980963724, 200935.14934067198, 330720.9103852425, 216626.76704018947, 349722.9777456592, 247584.10978737712, 109157.82314901071, 139311.48268858617, 221056.00142058788, 135548.1432337115, 161091.4800124307, 138992.90015963308, 178252.38928376633, 121232.77037080938, 175091.5053880674, 131899.01965479885, 123155.3918284036, 219285.06557024035, 243053.82034544315, 217848.5113208828, 208303.2450485889, 136542.7993089647, 263026.11111991183, 261280.45724115823, 245070.7408520308, 246314.34580619435, 202989.7686344024, 292261.9707927961, 77738.17480785337, 177501.1269523877, 190616.94785377439, 131419.1033076946, 168315.90692710108, 99153.2975645406, 193853.30338847218, 147580.3411125549, 206167.5537142663, 277597.69666409714, 331220.80238406523, 318938.3309360738, 171132.99067388993, 182659.22344405664, 309344.7581115919, 170566.32468482107, 164208.8407172453, 105421.60805254766, 211212.96169920568, 97984.07087934072, 142319.32931984754, 182730.5961822773, 170209.45719634704, 65683.8703955386, 263080.8789259961, 173301.10430180182, 104542.72620282223, 131166.97420990502, 309488.2141772436, 129767.97707032188, 240436.46337086285, 224618.23616440818, 164414.58584814993, 127435.97379459665, 237934.11426542292, 151511.6110874282, 216120.6645008913, 203601.21689190378, 87259.71880431427, 173240.26246192973, 159091.73785436648, 97283.59293853628, 264103.86256486725, 218273.31903053162, 219628.2407832806, 232067.42809352485, 224629.33404603953, 149578.94293190158, 118557.83426734043, 271894.937044332, 178783.14282073072, 183610.50133477684, 209831.45336031003, 306341.76827971195, 172770.7694520592, 221098.46625906506, 230627.09345673883, 313103.2626631881, 262593.7298680602, 261553.8197636148, 180595.32650258794, 123558.13975000616, 104921.37688817234, 144089.6232304587, 273051.6553127715, 163034.4823430625, 210248.42696004358, 171234.77092436407, 93253.97202089195, 225218.85120887213, 138650.12128371716, 217124.99321202608, 123397.71119580671, 216170.3910432789, 177697.65801912724, 101061.72980283202, 130906.35626677852, 239434.51122583364, 206627.97736975065, 122053.92116733534, 154417.01381792646, 106018.15999846924, 99729.65716564239, 135860.66725193965, 176240.16281719587, 155518.13778131732, 111979.03269331872, 173788.5961464863, 174643.930979288, 169246.85344333784, 198202.78224040146, 294608.768708918, 113618.92357119318, 154853.53970951482, 124015.28565331377, 85123.4608919485, 138844.10114642658, 104809.92663018627, 218930.86555460934, 200220.77706147995, 169764.03081894535, 313673.094481552, 161852.7717045355, 120950.46764030262, 181229.2986692865, 121904.5908060886, 120115.89445015168, 299115.64369067876, 341441.8017517263, 174486.93558160122, 117678.42843434845, 163962.5929857652, 263741.0260319847, 262022.2471611594, 275278.9192390795, 302315.0834778459, 222979.48228337237, 212835.24553892124, 84373.31368111464, 79870.46993734592, 185900.4204163705, 207374.57684777194, 183376.0599553575, 201661.2513109376, 140814.5468327083, 92791.47717764504, 142116.07420763766, 132103.78968952602, 258809.83348668407, 172798.07054026515, 185386.05518411013, 192561.05491341185, 166311.7821618992, 157911.89418663332, 299150.6586753002, 198173.82138700318, 202196.90787234827, 167340.1786268977, 241098.419325774, 242589.61330838758, 210344.18633732852, 300756.5509029969, 191695.7836184117, 91126.51166234691, 205363.61839827502, 210069.65111899274, 171110.16896911882, 258029.37365690304, 101309.23533925954, 302831.06478409044, 195867.55483421212, 108786.83777537906, 244750.33230979406, 172156.68886294047, 133872.53170837136, 218598.53919500133, 115960.63288553133, 106763.56696788792, 206056.2720928828, 144276.52717286465, 126910.29356144168, 171278.0228277653, 145649.57593066647, 329618.840802207, 155675.5419949218, 158805.36621190858, 146959.1195627133, 152965.03800917044, 196772.43606453558, 124150.93555528444, 178390.82296027878, 104906.78383597612, 289408.1265467731, 186068.3371159446, 195145.39535113913, 184169.76780499978, 124086.44732327005, 204468.3320107841, 147906.31797155985, 101027.74284832843, 262506.50997082226, 195877.97139869683, 204720.28494552078, 265340.46133799414, 284167.1578079979, 159554.13574849922, 205965.34268989577, 154457.55646681166, 198500.4863218672, 152889.6389451584, 165929.65537704516, 164746.24798708432, 240173.89086995274, 286076.77715557755, 101958.12262038358, 246030.37487752037, 285222.769100287, 266038.7978221359, 114357.6189210601, 179786.32721967602, 257592.31080722445, 114232.41669921583, 159222.46089192, 179050.2867800452, 177757.3655733557, 110177.36219175336, 139384.7197330849, 163079.75361963606, 165863.5405093786, 140888.01672861085, 159673.76869534404, 191459.90853854772, 230854.74891215557, 122339.92911954604, 183479.72953970157, 228529.36457398222, 128246.82492218338, 86848.21436842848, 228881.2242893536, 201429.7796243952, 130402.65905728265, 172083.2041985112, 135142.20373529408, 312785.88414341473, 162556.3939850671, 310300.51570367813, 188555.4662316206, 237117.28871068775, 189414.77420761995, 127626.70012997658, 125536.25202823868, 230709.72206183375, 194133.56019799726, 202005.62476043944, 65952.27375531639, 189530.9182472094, 107912.26984049987, 210057.4381131373, 221794.17571576944, 189940.41440875747, 143925.08925037223, 147902.43798082494, 203652.09595582008, 104679.30036814738, 208441.13366225347, 177373.94639740573, 216844.8309027522, 182296.01998154976, 130075.79665503172, 230184.1314773698, 166903.66232579394, 173553.82760070474, 205424.515787397, 227961.1158026418, 308150.25650039816, 304310.6282616653, 146839.85922512686, 174002.7573218677, 131976.52053346997, 86943.77672481751, 188991.7407283337, 173890.49506827307, 191901.177582106, 204418.9128832541, 84366.67732481589, 182863.32773857174, 356294.2442440419, 173758.15964384482, 198232.31036943366, 154455.98601111176, 184678.03809087016, 216063.55168860848, 102030.76351014539, 162892.3861225253, 115409.38629662446, 68672.89036252932, 187949.81371601782, 168464.26666279443, 251912.1645003226, 138280.40049599577, 202327.959476396, 277441.70343651786, 134924.19897873158, 190451.1451640541, 206428.31370571433, 246612.5056925014, 177960.3723680421, 159860.92637065164, 242364.92208586898, 154167.026328755, 231587.4145180755, 210076.37556466679, 86604.85959474747, 188924.70875446606, 100134.32894608234, 208452.24706626314, 229205.8087518653, 214836.403538315, 271011.6381183867, 239152.8831153301, 153079.94502292876, 164552.01871579638, 165585.7040161874, 231959.94155200987, 93492.57693277221, 291962.3171102065, 221858.4375306951, 150188.74932802713, 137910.51674238523, 262790.67593683733, 184976.50152316852, 268097.5429902349, 190128.646494378, 175256.16586477277, 160578.1860998593, 102234.19056623112, 179188.2673991619, 180702.5878017335, 187568.20578867348, 162299.064757431, 131777.0183954297, 101860.58136723135, 201950.91166504938, 243272.47603007086, 92430.9327868204, 191381.75589620316, 186147.2629004869, 116575.81705446585, 135442.64303513448, 231012.56167644498, 122503.97736318689, 113449.12055606495, 169935.6270543955, 163013.79824593183, 158074.6407551698, 286778.3832535959, 236410.10409436934, 157245.77473521148, 253128.34537339545, 163859.56116750874, 241203.95701189118, 174259.5622583026, 166927.69654443866, 342519.1983507713, 95572.58678887569, 192463.5742146254, 88443.26412750164, 127371.5550186347, 258018.43786311615, 109159.51162105505, 219373.1849615465, 181869.0102616645, 93629.47102944285, 125148.91388491388, 93092.64426545697, 156099.81244641158, 285590.13934551855, 188907.43331338617, 242383.04397535697, 191965.17394112624, 299508.3126670245, 171782.1126461915, 143164.50789003356, 189276.3589771385, 175169.43978818675, 218469.31340458515, 223933.33067796816, 144057.49811733695, 154393.45533915772, 239155.26255160605, 245669.3234905995, 266449.8265789917, 146247.04569278608, 204776.3641099909, 142876.74491677442, 88977.67467341783, 149672.349981712, 120820.80371524907, 169789.7117093695, 265089.1321882992, 158858.89419132716, 170532.59947803646, 170562.7416059301, 105629.70858269, 248429.46880344392, 176281.4164361881, 135118.6122106746, 171745.1651027256, 110502.00475667659, 121751.93199196835, 335886.7803965735, 173571.75904462562, 327431.30076401925, 286327.7496755846, 120551.3289392056, 220158.25303147035, 213613.4680936076, 188278.87859378054, 71197.31625237205, 199589.64201828555, 265206.22159291396, 189559.7803295735, 161056.72562283144, 140640.66946919134, 194233.70076272916, 210344.83010309268, 199016.54929267397, 114377.39857186777, 141719.30331425666, 108927.70526006087, 203527.31992850968, 187453.2976372606, 233733.67168246186, 281951.9899197697, 157021.68637040688, 216896.81086417477, 334884.31973757397, 154461.80242410413, 263765.7952182888, 200435.73879424407, 240917.01733635034, 121872.65580842583, 139649.30217273097, 170891.5097877084, 244731.43073036784, 113925.01547131724, 138329.20928995922, 362587.1107937946, 195776.78084078027, 185000.77814448444, 105048.0996859316, 197476.00746056295, 299979.59914221545, 177198.20632655083, 217041.11010305193, 126287.8634570126, 206442.26557522386, 218315.44691544437, 249225.44767906118, 179207.01998539447, 226082.23846243165, 204378.00849094693, 217960.3570060403, 314986.1745057596, 132033.8260672436, 222215.46720575576, 217411.13421173187, 135974.9832714767, 202280.71074286406, 152923.07658425864, 362591.0930358545, 157424.4185833408, 218014.47298117634, 163294.84355506726, 156689.38395044682, 204016.02746238286, 195084.18520315771, 234642.30345961597, 193299.73659469082, 313468.49927362177, 286349.49712209305, 208050.52618423972, 218680.26634995762, 137938.04933554213, 159267.62785468472, 109546.61616461402, 174387.55756419816, 164761.81034913528, 329540.8021367581, 253809.8966868323, 136918.73826588033, 115756.8449579367, 86485.68573949914, 187826.49377830795, 190002.44239525686, 187866.89626187895, 200741.26465135225, 154130.43743113452, 249791.99444940302, 160452.20606094308, 132630.53283892464, 150401.3842035998, 159232.55994349666, 134461.74420975905, 111718.72187918145, 114662.58182638677, 318606.8742978633, 83903.05779957914, 123853.5984698931, 165241.04882582623, 157469.52221308427, 106962.2998084011, 314156.19070624444, 167596.05551727832, 145682.3564406483, 110870.50981560862, 183798.90280929167, 175535.93268831066, 142603.3415401559, 165856.0084461212, 94849.22451267838, 170553.44469883392, 306650.98865928757, 133828.32994983566, 271528.9481726358, 133809.29757010663, 138445.54053798912, 232560.82167843165, 141982.33338419208, 305581.8995261937, 234203.58740702522, 172805.18946612053, 153322.64740964415, 134992.67986058406, 83052.94062148598, 274921.2595450781, 124579.0620764387, 192669.97914461157, 207816.2861201831, 145675.3493568744, 130948.34967738397, 135958.1305807258, 177589.46859337486, 239882.53354380446, 206215.81851749204, 215994.85382998054, 198365.8927002318, 213302.10816448982, 166284.47371904584, 120780.48301990637, 143791.868975454, 289666.0381305303, 78909.03231473024, 154686.4631149355, 105709.85354783206, 115237.29822591008, 238044.1185909256, 89369.17008087458, 163572.66194359132, 202199.09423579983, 275310.45372541575, 300942.79670224705, 262993.9296212784, 198454.5368052686, 219154.40796873524, 213240.94102930944, 204730.35160061708, 133137.90273517068, 139677.5829811978, 181128.01335723978, 100829.07979413075, 139624.639257912, 180096.43103665882, 184397.6180352607, 195614.48508277413, 186437.37178504257, 207736.11094676913, 247164.7006436414, 268260.6557105099, 132533.80482691567, 167479.63065448083, 107421.81292603888, 167093.4905417172, 151938.20749790664, 266265.2611676175, 182089.74825915974, 91311.18966330928, 194959.40189321787, 154632.0695303374, 144425.27663838578, 138950.64566540948, 101923.08723611086, 127282.28231704983, 141720.91804845165, 209099.28131531476, 123356.697418601, 113047.01717437826, 127440.68310029541, 143506.42681056395, 362410.0835519717, 165628.13417270785, 222043.36318489956, 127761.08100006898, 89790.90243686085, 161560.28108948312, 154617.73972864266, 203956.86598166803, 146369.2601684028, 207778.83205912844, 177459.97261996518, 186651.66964143893, 98423.85542589685, 129552.53517459745, 96357.02862287321, 123363.39412099474, 163173.07163602955, 190297.5889861401, 184286.71725583554, 101569.88237089782, 84352.45726062245, 68510.83193865014, 238117.08969808693, 241256.2523045868, 145131.57699755573, 158203.0993942476, 95889.9515445002, 192815.44820246822, 184534.50756688823, 179118.32579817873, 89679.30895712801, 138920.27655113602, 201093.54924950405, 173216.75267271497, 285131.13401398354, 250768.6555976363, 213113.1864487668, 177133.23077277976, 116908.02941245513, 190709.2799896353, 232346.7135047423, 194997.5737210024, 114010.91058905322, 152757.39095274074, 246978.5251061455, 99816.15598494312, 121167.92571918773, 231760.9782522946, 173144.02929627334, 316954.78253850044, 184656.64776646832, 186538.2858422258, 93883.25636422416, 96278.69952741034, 325335.51305544813, 165521.0467063649, 323437.092587559, 214854.97082494074, 235609.362458592, 216055.26599132316, 224463.64244107477, 145127.77174253846, 123390.0946594186, 159770.38463777967, 265565.2654995099, 173831.29819603337, 99346.20845864622, 299857.8406699776, 172026.78073772512, 197353.05912524575, 219726.7265200151, 133231.99664103627, 296609.86344955734, 201850.51164794463, 162188.9050661579, 209591.8933283283, 140418.877310014, 211955.04400966445, 139935.3088016512, 208919.262286787, 336520.8926149437, 115347.6231224776, 87236.56927197424, 130446.42753610294, 142381.7320939885, 122374.76817383386, 156033.57103139127, 174222.7683475474, 160925.18526460347, 290074.0459762717, 80796.50512864589, 251681.5364016964, 162055.5614998127, 272332.22573330416, 207045.46774286943, 128426.04233653969, 114389.70634349991, 133963.1005144747, 362138.3610523694, 147493.2638709448, 269730.6845592929, 214840.78431197186, 240787.06543232314, 220107.6048135463, 228395.92188735318, 230799.90786698007, 232629.76291432817, 116098.37119438747, 195632.03219346885, 241999.2957723296, 217848.42709283668, 148889.8778891575, 101826.13253622853, 183727.06951375428, 237456.60261937254, 120491.66789806863, 172211.38340241788, 164188.1805467297, 175927.14060045098, 229469.2028587708, 186089.05624386147, 159578.30497431918, 172788.87030649217, 99958.39269321974, 207270.36731750745, 121927.80230949924, 254760.30393252175, 178285.57646866486, 344777.5257411794, 222841.70454581018, 141397.89210541235, 126723.79601233194, 218539.09715653394, 196283.74882632066, 177574.01430118934, 181623.1403612413, 309453.5015182359, 177302.7002628951, 216018.68285739038, 191681.02002061822, 189646.13731647583, 281977.78822718933, 247978.57976201427, 260593.32263265844, 73787.38801595692, 205111.91388714194, 95716.5584403323, 151814.42901721413, 203150.18797996937, 204370.68363984942, 192662.55088424616, 171557.39965553497, 167334.12451720587, 305931.7147057317, 123630.57937238476, 156911.52315253796, 93214.80467755235, 219346.5752756302, 158778.18376170844, 244988.06678220787, 246625.523021794, 247884.5168915851, 266877.10905173025, 192719.96836945866, 100524.1162619495, 309465.96525689523, 186920.61394063925, 277920.9149940742, 179337.13872574543, 86194.58064863876, 219701.79773768698, 293439.10037733323, 130564.0664045094, 258239.80831209692, 98300.14949755503, 223569.85816761956, 96656.23168376654, 271767.16606670397, 292144.6305391253, 224217.71999756954, 96888.7677868793, 187495.61639548207, 216539.05921876567, 135393.42675173533, 171427.5992014962, 339283.618966219, 282022.0827580665, 95050.55160429177, 207745.16533241284, 226715.333238642, 134052.18869004984, 178311.02425390697, 182764.70078315277, 68558.47482765358, 188586.11890320783, 154368.1598423689, 145264.7064005457, 161612.26574668838, 237721.4107352266, 152673.924139948, 148446.4024642671, 162693.24362003175, 171230.4616506091, 272704.30226167425, 198312.87990814156, 257502.31406555494, 124670.04145796997, 143664.96541651603, 176525.77640085912, 170047.983189447, 226000.13150745112, 97416.30156812382, 221917.20279450063, 186778.25041826323, 211451.35782385027, 265425.9427700978, 185158.41408901455, 168357.2801729158, 92591.33691711519, 115844.56352534966, 234792.42779572512, 295120.3277188507, 223159.93064503008, 132664.46860371082, 218893.43304108665, 176223.62666314834, 217468.8223710961, 205082.6172055118, 95228.24956897572, 118702.84181965991, 89938.91351107506, 144139.48564197018, 321506.3889201747, 226050.76854083058, 188177.67499731467, 126848.42624219773, 120407.37139838605, 200714.52191170547, 150094.94746560184, 231088.56079038925, 343905.41989821434, 154004.95398279515, 206092.77101824214, 212194.86691780406, 141734.50749825075, 287133.507419048, 181833.14416182376, 188449.90953796858, 88131.45146541425, 191764.08905420758, 139151.71539171966, 219274.02024899746, 81924.78507567085, 105843.21618898863, 204713.76013327442, 164421.95830425885, 213964.7489423966, 160584.141722546, 272876.8194656899, 221383.87133102084, 122206.25881262336, 173579.6784751824, 135623.84734836614, 79633.5680936332, 166639.68469951407, 116406.75864747894, 204028.80724986183, 150507.78131655973, 229718.2223975678, 213881.41222556404, 159438.87374461239, 169022.76034298813, 138939.1551310566, 248445.19216257296, 202025.29245956475, 220812.8779333399, 128878.8302805674, 76200.05124032346, 128128.50899821373, 235579.1569787901, 108080.47223590793, 179019.7098838753, 216202.74993000328, 194645.2921092088, 285864.314505942, 160920.6482091972, 139969.02609227423, 163616.92912543527, 108593.57151537667, 72432.68671491594, 160106.21555495015, 256610.0113562221, 296100.1329368501, 151718.60240811502, 236128.08116226617, 199173.37499646147, 159498.47368025169, 90427.34188212553, 207193.89232758863, 255477.15720571036, 136688.44383748743, 109265.32376168009, 214840.31461929835, 118019.54426935434, 170808.63114554484, 206416.5634103047, 146896.46023105225, 89977.29622388359, 156366.0560456864, 90446.95682022613, 187366.549321368, 260327.02397675172, 219101.8707747038, 132685.0245029866, 67564.36985958793, 119975.16154949243, 169065.6009060141, 151327.39999819524, 154652.4042531599, 191662.2902220126, 173629.0525037759, 267032.75180886826, 146680.79523422354, 275154.5126778023, 217403.515289566, 137525.7880217255, 217147.84008466938, 197948.796425919, 165126.1697118859, 200203.6669788103, 114163.3597713075, 181199.28387849996, 149516.84466511826, 178961.48676741563, 331898.71977289644, 121071.27486833188, 221793.9090940976, 204804.25609467036, 204883.56136500722, 208178.02437278387, 129124.47136143628, 175113.36416320875, 157055.80859390652, 157667.3980770449, 280838.8400232673, 211719.5481294097, 66236.04221603923, 152419.69222204675, 205853.59919469838, 137958.62122666324, 148400.3277568067, 102181.85507280128, 217898.24718559714, 192475.83057067246, 221159.07165544905, 196142.08556365297, 159227.06992115604, 128092.46054165042, 205240.5705033803, 154707.55084090523, 217226.09787820658, 182384.687824252, 177971.5202402808, 206006.45499786065, 103676.82923559695, 279730.323922604, 198275.81731762146, 126017.16803929643, 199581.9533024043, 159713.8833444628, 126932.85956526424, 194716.25695255274, 238234.02847378963, 80709.55485798471, 111163.27356711343, 116422.4113250275, 212831.2936045327, 128009.81335159209, 137946.8987247523, 91246.48617095074, 239634.51493783476, 191847.4305860728, 154177.8124185526, 104229.25140339488, 259627.1906518448, 235575.22742879594, 105173.16956863935, 195869.83092250745, 131204.26595086342, 72622.38744319958, 145733.0920310939, 210958.07994572265, 127284.20971150443, 87728.69905083663, 124444.0177052467, 104525.47547493428, 155078.0429871857, 179653.32253045708, 186526.45568927747, 155066.83429169538, 150696.60425998727, 171823.50036824172, 220112.4201981003, 193964.36894455596, 187745.60764106654, 192188.27118154112, 136901.59122734063, 192348.21289759388, 165822.81908316253, 211672.27571301415, 223727.25836454736, 126845.10158003688, 174578.3196813418, 197976.8195956616, 201714.19607148928, 187792.83903073717, 263107.45283129934, 168110.89766720947, 132886.11728861244, 193626.5847891031, 196765.9890844216, 215163.33507563596, 144747.82988345326, 143268.03787826974, 127584.91887178757, 269689.17671293556, 181067.88011577007, 159536.96290810904, 272368.4273440631, 233579.2299261171, 167537.51639547385, 103983.17384847056, 167938.2732813788, 227056.90391042148, 195783.5942617671, 136178.4475797186, 94619.14920379742, 121587.18485716706, 81545.76158326087, 254876.18037549313, 219638.17207408306, 144137.04009609844, 252630.7491677696, 215349.6155259551, 353277.4719816382, 153155.58234742488, 94818.6907733615, 137143.3353852573, 149009.14054682132, 71901.7523693697, 224558.30744509533, 186649.3998700666, 212062.29196296245, 187255.90999631156, 147289.0348267441, 191950.53314045322, 90065.12331279676, 217455.510522557, 231292.66857468666, 129150.61511515889, 244872.39886615865, 137026.3803406005, 210907.01792921106, 168776.2943298481, 85120.36017781698, 153990.43810611995, 114395.93254177227, 140636.207858101, 159502.72760227227, 205941.8556882684, 121352.87314440624, 94315.54450600127, 166243.14204141905, 176037.69616181328, 74187.56913881391, 209937.20755834438, 197001.55780347882, 211722.1606111447, 165657.41987239252, 177789.2450137137, 195188.65516743006, 203544.7600936896, 200730.55934760303, 97466.24474570839, 92621.27029071547, 200215.6288417085, 165651.19376887602, 110365.16181039756, 208167.81802680888, 95006.7857580837, 204637.26340466773, 155737.14589814687, 158023.02034591488, 144083.40278225671, 205597.67125606883, 93113.09908095466, 208098.82837167778, 275952.88347005076, 118718.86419299366, 85552.07400813824, 211076.63693738796, 96445.26987438442, 139679.57808897755, 159349.55135896918, 277824.68888524617, 187474.35276505133, 232398.26024308443, 300855.2109983295, 199418.03271412797, 175970.8405595575, 247013.42570693692, 134853.7458884772, 212961.25742844047, 122304.89102684938, 319677.1857829237, 172345.6024109683, 281200.1895646531, 273845.0372748893, 150217.30129146634, 265196.605949643, 200264.83571930818, 295402.18612519867, 231751.58976412626, 113163.50311655017, 149478.505237599, 139870.52646324283, 201302.42179829927, 154273.56815642893, 309325.56409314857, 212111.11458351518, 174105.74325034404, 182807.31146855812, 233092.7397348052, 228744.9962585311, 193118.6286939731, 226813.6926296681, 144362.4454329981, 196858.31331813548, 188975.62308328436, 278177.70528984617, 196261.60003154623, 188087.75015156518, 218484.08013818774, 163427.29531394655, 171455.3261181147, 204164.82649700614, 170244.53664425467, 137499.03438116272, 144010.1793523772, 152246.0750369182, 213603.10745334788, 142392.14589863794, 199558.04673951806, 229306.39062396123, 167788.93266475855, 128087.53783375189, 103374.7629802175, 251424.52941829024, 194009.7932743579, 219485.54277121884, 105243.75894534358, 275587.89223043155, 214575.22360655363, 167773.34383088708, 173125.45071988495, 192999.01595185322, 150715.5718398738, 160932.78241607745, 183016.47212023035, 216408.1479805491, 159476.18726816447, 109102.27339112626, 246625.8739656344, 181237.2045651862, 167351.5838675284, 98800.3827490851, 206076.2829060817, 150776.89275839404, 164141.72942331492, 90818.50712080204, 213003.93874442202, 169518.5965578243, 179165.69016949285, 139331.57953635522, 136344.2741045261, 108583.248041051, 252785.88080023203, 181579.10392809167, 259988.40848687149, 99769.88414642862, 96792.03372540888, 81539.59719308245, 188764.15463666947, 286418.73466060037, 164411.33224500786, 121297.31958813554, 339965.1639544657, 141674.26865106993, 250011.4122342405, 147123.88826853817, 262402.821445249, 188367.40172949395, 270201.69110343535, 245238.27197631088, 246387.44365628652, 199928.64957650652, 226362.54798899477, 149320.09656372, 231445.99862656608, 66901.73310689625, 175781.8893438161, 189930.79158855314, 197044.74391163315, 251311.31844999758, 170451.23949138774, 235240.18097427493, 119393.20853879333, 138003.41427473119, 238134.93812256868, 194287.12950421876, 198754.10101377836, 167032.04589830086, 151719.17823221238, 193386.73805504906, 98583.89539193525, 224080.16346616286, 207344.2039996948, 154841.13478601747, 209612.8058153918, 185511.08719212553, 268432.71783155826, 164386.11119632307, 233257.2147668209, 336525.7540694431, 177343.24218657627, 249620.14742719114, 258928.47844299042, 190430.44740345806, 154820.68299128202, 136962.65483091775, 92080.27674388739, 122697.32240479313, 111190.10283509403, 108438.76278662124, 139670.69921815157, 199589.45711873844, 156562.8341891191, 72664.1146672079, 187628.4522426161, 176360.30899778134, 217674.92007816606, 131320.8277909967, 228958.69701574813, 255523.74867401514, 138998.97372447903, 127842.46972463076, 241208.17332328012, 191845.26454174132, 129973.44714324223, 189600.19413255624, 192611.38373336048, 160853.6144519024, 110812.736093933, 264232.3916546625, 123137.64405875973, 207446.61091562046, 132619.050320882, 166402.9837997396, 249423.02051300346, 148644.34348930724, 133224.03422156183, 198942.43305002066, 260200.89752540464, 205299.27766411152, 98371.76013986011, 148280.67753639095, 218681.6920087939, 125671.20823988577, 235160.29565118573, 196281.12160546408, 142225.01302461553, 193569.61465843374, 197766.0924878152, 188169.17689972298, 133204.1103253967, 293835.28824793844, 152556.46158295224, 211852.33291596902, 240888.6161379359, 333042.637155873, 176188.4631057407, 138549.21433355665, 287524.5751539059, 93032.04681831606, 286718.9899192031, 186165.55904361882, 212759.9422392667, 184047.0221858252, 218713.79254520862, 89532.86195107622, 188367.9406979964, 208878.56138830775, 210326.1301970745, 152794.0397723869, 140054.87492078255, 157439.22496570286, 135547.38590028923, 238230.01921325215, 310175.25149352825, 320629.55081949005, 258113.8656810235, 145340.504161446, 269495.0820452937, 233995.83223287575, 222238.10059161476, 140865.32905085382, 224640.22371931816, 224437.19874845073, 210457.34217405738, 190824.74932781287, 196439.62590821652, 194149.9833462628, 334751.9892357725, 202751.07003619563, 202800.77276205676, 133979.8082512349, 128787.5938058176, 181894.1183223021, 184822.25783897113, 111997.11980919814, 215920.3303166574, 157738.98486110894, 178172.3753668281, 174843.95101112916, 144450.61431616032, 110391.48764853764, 174613.84509238758, 130944.79868297771, 101903.65939476606, 137038.4142790442, 274877.4283524337, 222219.44109666604, 248081.74424009744, 155363.87642217905, 188789.82366031405, 195426.6827038077, 83598.40232044953, 162685.13105457873, 160561.07200126603, 157315.73940058888, 202617.21076572625, 138626.9620686038, 67312.71914619373, 97982.40316495342, 231603.32464687488, 93616.21995127166, 213332.58102749276, 151061.90567650116, 185597.33657713843, 135829.28960901246, 153296.81329561534, 212241.76442258598, 166537.04123071732, 188069.57822026458, 145083.41396609662, 158154.84125209512, 144743.5623143168, 90772.8207622364, 239341.26452426228, 202741.86533967793, 204774.57495209703, 155520.3686017443, 160326.14247872093, 170993.60394769008, 175352.67078766902, 213484.01959159403, 292986.05990351865, 330108.9308651285, 151357.49609528107, 159415.3488122702, 215225.17819528194, 226185.13501895306, 82170.98842245682, 119087.77619434633, 191455.61925262737, 94253.3731160568, 110901.76263256611, 188401.92792462825, 97422.53892629949, 201366.1347333435, 137945.49687607746, 126263.38069300869, 192045.25595804275, 180996.93957369248, 144627.64948631916, 172605.15083097928, 311858.37210086524, 138365.05553907403, 188563.5274481354, 208054.77151116438, 246539.60837599414, 95142.18714776308, 124417.31124390266, 204807.11286844677, 183970.01292369433, 153338.02460239915, 169243.67635188368, 136898.8223823069, 181965.40790136112, 345994.9808087015, 259367.64145914398, 77839.00596243612, 243693.97674907552, 85512.78581435044, 157248.53163021506, 95760.09336987398, 232867.17628709006, 167535.02630192504, 306367.1033307897, 88294.52884182526, 176996.510764191, 309098.8376011995, 156267.11199601516, 203867.07422951408, 194525.40496553446, 198068.68927818743, 288561.07930131047, 181184.36636065567, 193080.02084630344, 186093.1815011242, 204724.3567197505, 145983.9831573855, 167121.90507840065, 109966.25251862174, 208472.7363783437, 128585.36462271346, 198112.27640379424, 237098.2875952574, 192983.79857812708, 127869.44663453141, 185579.56878517562, 200074.41267107526, 100971.34070552263, 147064.75082074892, 128449.3061182454, 142283.13757779825, 304251.9604478069, 258030.33091498795, 222516.94406282733, 129991.33946180025, 194288.98530012905, 145717.09904966928, 199416.69871463138, 200684.75991364976, 181838.645735003, 322398.06145861174, 201563.63635642437, 161972.8473012296, 204310.01848895804, 205474.29679503135, 270232.64029708714, 149913.207884908, 331364.760040178, 329491.342216279, 191499.56317029562, 205387.8250953803, 168460.1953355865, 248558.67223168345, 135492.5743579978, 150582.0536205261, 200547.0647024182, 148519.3052560523, 222776.76612694707, 171296.32342059928, 73368.76683950485, 197649.3907007025, 213843.6025582949, 128775.34426302364, 184151.76128395624, 158858.10041521274, 138248.09578677046, 137788.8006380613, 208924.07383507106, 179961.9468058917, 188006.21425405014, 151713.64203749178, 205593.932159574, 211575.75289449934, 73944.59755410382, 195247.66326912423, 217429.78024409097, 167021.9640311123, 113244.41184179936, 203096.04119294722, 209317.51866224426, 177157.55665230087, 227538.67308630917, 156672.57592659342, 277961.0039143118, 217194.57351667937, 288803.4262281527, 307833.9797421098, 203958.97787408752, 302277.58405516023, 146588.23865805645, 134280.62873126322, 187198.7419877096, 95646.91393341126, 87582.66507917468, 192887.50857529845, 161087.35248472114, 266377.4828946093, 148681.66306541458, 132898.62603998242, 208592.5304844439, 327366.5803106864, 214318.22861775017, 111448.24527123495, 171096.0105447103, 82443.96633104407, 277539.56121024874, 287805.229766025, 214011.78353898734, 349919.34528428165, 262841.3321745494, 174049.46155230064, 182357.03165251244, 218191.4794887076, 235134.27746333706, 274419.38652375626, 155099.28614230544, 184991.10500285093, 204937.42118709974, 153250.81713800365, 113039.64733309604, 179148.57897201265, 229148.510556591, 176753.19059828878, 95563.82434715964, 212300.98934052952, 82454.50397595225, 80075.1684322472, 178322.78410702126, 192835.60076954053, 202160.1938774018, 160407.0180654962, 216129.48912471745, 242804.0217331828, 224754.23892804832, 288966.94098602905, 120311.78743786298, 207999.91534281598, 147370.8765134211, 213290.3592214067, 335915.0901058304, 150439.26759896512, 236536.18710580692, 168030.36965343595, 136748.16745997354, 147693.46441655155, 230969.1095965074, 292676.5703196064, 192387.99288617534, 197067.52738720138, 165393.19033219453, 173911.64401451414, 154126.8418002609, 161090.05581041123, 201620.261548505, 200701.14786379662, 163839.43905559124, 234884.6540744669, 145010.82698690944, 166976.6419220707, 179620.92703027034, 231241.9224995899, 254690.70900225802, 188164.42466161723, 209748.7065998454, 85307.06687268999, 138753.03791399268, 186569.35883014157, 220641.4781065984, 168386.37653825397, 219615.21971471628, 158009.20616267747, 202058.4140329836, 132125.9468392623, 99249.40048384524, 175164.1042889086, 121141.75938802188, 121180.46543698017, 236496.22148834929, 237901.93939440313, 210002.25921824813, 130280.40374338195, 154015.89964626182, 207336.8588945555, 185816.45519871314, 210956.69397786816, 97668.89444550645, 195195.11297726954, 210905.3520819832, 163575.30985107622, 122587.76222806213, 158995.26737890896, 180741.63317459443, 229090.64783914166, 163317.63424198749, 194161.52498107048, 125977.34108379723, 110968.1870124112, 202051.07263033124, 197740.4659860823, 102733.11088493245, 182159.62692505433, 172373.41020854254, 205351.81317886538, 280034.26991574594, 138113.92738230305, 140744.30149229013, 218748.21708245616, 136053.3311074691, 202646.9313203622, 285867.88306810905, 120448.6724211111, 134180.5561141741, 170091.40393592362, 145205.51085089648, 352958.30964893114, 239712.32116495332, 96187.57120676707, 158741.06080922493, 106151.50099733369, 78330.90448539346, 142257.56120674746, 205659.2737951242, 315224.497692902, 149457.99724367383, 156392.4196290308, 233061.9506314283, 113258.32230686744, 226506.25154205636, 146306.0187773761, 179508.57995177695, 202825.38207451042, 199781.20815155868, 212541.7299630801, 188853.78565032204, 95317.14930358213, 169198.85504100873, 251274.4594462532, 176339.59986030095, 82954.65066977999, 151994.46951046083, 127273.45382381763, 138169.51179341634, 105085.12651764901, 208519.47903723124, 236057.28387975282, 100480.91206707103, 328238.4666236511, 195825.95583523688, 101431.68932734718, 182372.9713621092, 209394.46916556652, 198947.29849702376, 313956.02448018966, 267308.3513107922, 348645.7983583659, 187814.53220942925, 207975.7349068489, 258941.45047613652, 130168.41024207692, 168035.06362400664, 245075.79983237982, 144244.4443322964, 154581.57289578783, 189166.64244091444, 264824.8905810539, 159527.31280362775, 223453.8843514936, 284034.76240931987, 168593.6561401124, 268408.69321023667, 156951.84606747451, 289373.1214040488, 136853.40973068948, 95512.5351005512, 97031.22069755865, 180773.59340156813, 229390.53062550665, 149790.44812040895, 225947.33984809482, 175429.02492037945, 188872.77306294523, 242133.5208875272, 126816.76918344597, 121216.39049481205, 133416.26782560765, 220920.46161276673, 164423.33662631246, 214306.6869051776, 165322.38416431623, 223666.0261540598, 203935.34305234088, 138921.15075302424, 173250.7847819428, 236176.54763539488, 198105.85698141382, 194694.73563598242, 226114.05059293762, 120539.29560728368, 189283.35136501587, 146456.174302011, 257504.74672504244, 142118.6481390478, 215862.4555848348, 215630.1858423908, 112012.54851317235, 210229.59036427827, 207072.64371058362, 189097.8445237995, 92710.99482009008, 234358.44071558036, 195766.534726208, 287604.0230784052, 130663.43570715528, 290461.1268493734, 67614.08711264294, 111291.80844134481, 189869.7785087649, 240295.58736429276, 136810.22476274008, 146857.00809499878, 234757.8687224455, 321543.8981695024, 132102.376927613, 260592.36152083473, 156211.78444946135, 251184.0521484067, 210575.1248932832, 87223.59028108555, 113306.26576636736, 139429.992566752, 279840.55629542714, 163047.64265144488, 149727.32844643135, 166840.7505550988, 174780.4822981745, 141865.39045600436, 206398.47233186002, 190499.11141927136, 172041.69908959913, 190826.3409275324, 116927.96052576955, 269786.63683251373, 214233.1009242387, 144785.33537698782, 170580.77229318608, 193317.48367725438, 139682.44035347918, 151321.0207820042, 147604.26640906, 184984.9171235446, 157746.2067452603, 141968.24387403, 287477.352819121, 143618.16015032394, 239631.59495404482, 224745.1320793354, 149412.18201136842, 182527.3438367617, 168102.45255641598, 183898.41840455894, 225985.25913202803, 100568.14416418901, 222708.93539440603, 167151.7871286006, 173112.60568499507, 258523.50637647466, 192138.57142578566, 186646.98790153879, 211241.67483468697, 205829.61236215508, 150682.0871308965, 151540.32886895136, 65042.79322158595, 201253.522901432, 298622.9327349977, 130914.29289414175, 142982.00318139506, 152386.90171998515, 194482.48821602255, 123167.53369709585, 125275.64935295572, 129417.84594472428, 211694.21872293027, 285707.59015052865, 178953.70271581388, 238141.11769365042, 156757.26727608236, 171098.44855903016, 156434.61451725702, 182397.06380982825, 70608.54022907067, 201159.14428603364, 77574.85331448777, 170322.91316381146, 81100.51362324128, 74348.33885133569, 219831.5627709623, 202483.1462764148, 101167.27895119466, 231248.66382968615, 156496.15952816652, 201892.523814615, 337350.62961133523, 89195.25935136332, 160347.78408930384, 304444.55780216435, 215719.46447030257, 122008.05303028051, 197956.58186418668, 76322.36856028669, 165099.65058597247, 149602.9372390877, 162098.69551229116, 149418.8122615895, 123628.2835422854, 185485.90138881205, 104583.4053460389, 122618.86193312313, 153313.02326330385, 210628.53549776462, 163272.90430745567, 220887.25820194528, 195647.17082417628, 182407.80511217943, 222081.68619926242, 210086.3974407712, 114947.2418227756, 172386.35179365892, 140214.13170877707, 135201.23534414137, 120441.64833698185, 100275.18582520477, 170781.20165975677, 105897.94800504664, 183448.1838874927, 149717.28427985305, 260758.02581197518, 257783.4395011575, 207202.97581195625, 228783.08810750608, 330486.11574716424, 180060.72033135072, 263153.88714880956, 178347.53907322788, 178510.0328384911, 179027.80115697364, 187010.8095963484, 162369.98596596273, 237374.03733850384, 92265.19392476798, 196831.23313363458, 237316.78040552814, 177551.99715373226, 181736.0770507743, 97591.08187560232, 118167.03402002205, 214982.24882057158, 276579.94634155877, 206047.36458539282, 118630.89452151301, 318461.61699103593, 185045.06675542376, 107786.02525343288, 152497.9792438077, 93573.7230594909, 202220.25867117656, 233794.1464053261, 173375.51816529254, 241898.45182988088, 137688.8136257828, 155997.2561467487, 182559.8176957498, 150928.38896725865, 128756.67484236331, 100975.97177303353, 281017.40189819003, 221084.41571550196, 238552.6470725017, 221241.59976577244, 207249.02384209158, 146202.83972115407, 129404.57307275952, 94674.79038615168, 189569.95262738946, 95330.87643360347, 192518.1497181051, 184376.30793961269, 124757.65519294309, 191157.88727553026, 222829.35679681733, 321499.0022001619, 111023.55891539674, 160338.75334758166, 126154.19434273469, 108530.34314582634, 134857.55294461385, 147425.40876923694, 152166.03193028749, 145213.99147367442, 95938.28609680272, 131037.67125269225, 185828.91602623495, 181268.92805276552, 181258.2913370974, 158037.0903991615, 285346.69819333294, 174805.15552040498, 132865.06531846436, 101646.0573761227, 195738.06596718723, 314209.7178335733, 168040.45518425677, 115543.88170973239, 182601.71939088104, 172589.5313567719, 207623.01635647606, 285489.3603137145, 197412.10101400787, 74822.49985549517, 325559.1800038834, 208087.3570894877, 170694.15740213532, 191605.77949603216, 233167.67685909342, 196798.44775998866, 90742.39994017626, 150155.5375977998, 191155.92743335036, 215397.678557605, 130500.9706926512, 226325.60014764842, 264641.608811211, 224873.83068302492, 134267.77745308302, 242004.29763260545, 112404.50673820566, 155653.73286482214, 115919.7927677592, 202091.7696295756, 217628.15766458682, 180160.85690097796, 158189.1344532378, 174305.78809034356, 187093.29381395679, 125087.45545574265, 341947.5964710673, 333655.0027867064, 76794.1857080211, 234745.62790593173, 174357.3244430371, 183829.27951902343, 166643.94124945512, 252900.54991097935, 312074.7775369395, 204162.93784004962, 126079.99237645618, 175226.57651552474, 217719.62865323792, 152203.26106548894, 167148.60569126482, 108415.77185841797, 179665.07545056628, 212181.9001448339, 141720.37807559315, 234848.37258498484, 154275.61137710797, 212500.5430839214, 156701.4635545495, 169962.2059390775, 249552.90967806234, 198986.84513682095, 328847.3450505241, 169771.7915687673, 238627.9369386462, 193079.5960197624, 234745.1665851446, 126279.93691341103, 333513.5829726778, 188053.80121982127, 224952.37194484432, 259670.54727051, 236990.64492867095, 69351.50163997608, 263369.4671559998, 222791.22287784622, 202859.60209639813, 154249.7154918366, 171028.43940688975, 97539.64065735546, 137917.20509029087, 217485.5911774287, 91952.88586508973, 224989.4185536054, 268386.8826031398, 220170.55157497144, 231494.84612692686, 200978.33481142545, 106730.54644947709, 214758.85503914076, 179329.83334178675, 98695.45326780362, 238347.7998465654, 150192.36002399214, 160617.4838623508, 149428.4326617032, 147084.49275115848, 177763.33398221436, 148991.37083316126, 104824.87446252529, 215447.81975704106, 175819.70115717812, 274242.71829305915, 193390.7008282775, 208942.07359053128, 149871.20365184284, 264241.2984414968, 209106.52895651158, 216684.99074207456, 170817.35673579774, 140746.09601780243, 181186.20774853288, 145305.3664443182, 166433.89001096843, 232802.28090003945, 145283.0942716932, 204840.9060662196, 74989.93231667778, 149838.76104690944, 150470.86528184504, 191295.1097187412, 121659.536742372, 132428.69421384326, 201756.40831385288, 262040.58498183606, 85960.24134995381, 245061.16307048724, 184121.7545609172, 223861.3892210574, 157191.7715652553, 166541.8942659177, 153220.16428583718, 240089.12782586634, 167257.61361355867, 225188.7297956395, 251093.45041668488, 237263.23784545396, 165884.91009093332, 185032.79965608954, 139084.94424978114, 204410.70018733662, 199169.18542066438, 134081.60696296854, 116184.70435410355, 171256.89238971475, 107387.51253895793, 117005.14119323401, 162400.39713521017, 133492.8842370375, 109876.24693678337, 255909.02961360366, 105647.08816522807, 232583.49684428857, 297664.05982100626, 141759.27628776815, 184041.59650273618, 203691.748361118, 122971.69193079647, 70528.73224047988, 355169.7944792459, 149497.04865316546, 141915.84417530047, 228057.5921605391, 227670.13589141628, 192821.34117790102, 230520.66876248427, 345671.3363540189, 157322.8662199025, 132204.60798669784, 236769.90074258155, 121507.50733253128, 169184.93163418118, 168383.93374702905, 206986.6300161882, 152034.8592192644, 141020.8877116847, 169704.52019404742, 174059.447116053, 151781.14202906535, 205428.65474286294, 282203.1722296695, 170798.00327916743, 210715.51363368426, 257489.14180814268, 131407.9511189851, 122838.17483746895, 250236.75651530005, 187623.83245540544, 231231.61293978227, 347468.4185123214, 119973.99560136693, 265914.11074095103, 109857.84202420842, 87516.43350138947, 321364.87810344587, 204328.01310653938, 187517.6230579541, 271815.8366456362, 205004.111677796, 296607.7032536197, 243223.08383956653, 135507.05138831638, 219736.07214521928, 123959.46828489528, 199775.05764490252, 104970.34624889934, 141091.9106846463, 223203.4729005305, 149424.60125992703, 192337.32160282065, 159868.54622548024, 231412.0947726221, 238268.88414273114, 85405.96129663826, 111109.62660325803, 129644.15746005332, 230360.5082836217, 154134.77078679096, 256896.42476983267, 155033.43556466658, 191590.72334041758, 90097.45151168127, 259729.72142925207, 140019.75590486717, 95575.3284315646, 159463.29641829332, 258639.9896231685, 75732.86925263802, 257578.66825880556, 237383.0916682963, 155402.65704395302, 284358.36689095234, 89865.86533718008, 208508.70175868727, 140532.45470466363, 217078.77881498417, 216126.16521122784, 235072.1506220664, 128939.70266758735, 120153.40241638289, 287512.4732179643, 228148.38590166543, 136171.6702228879, 183544.3934599675, 205181.78539855106, 188799.01634722442, 123808.68383452967, 150603.03296161973, 94689.75727488242, 190920.73549823905, 111307.90230933846, 145347.6871697604, 189068.4123010171, 106007.72315740329, 249155.48287717276, 148796.5952991754, 190782.03320696484, 152636.9947957435, 88479.32019003393, 260523.53416883483, 107795.0413621005, 176194.4845997059, 211042.0069087064, 190534.49897622433, 98827.77348834746, 279307.1494440273, 200201.034236023, 184433.6355938435, 213114.78821973666, 161420.9625641203, 182868.70761994232, 228680.30835838206, 199786.97103209767, 215061.04287391852, 138819.94817012496, 186751.87531940886, 163760.4514695526, 247918.4943231705, 209499.55277790542, 175381.17718986602, 239291.13528384038, 145340.94726057712, 89914.68461337638, 259700.69888704663, 141337.60836862423, 203645.84286641295, 360141.08776204917, 206036.94038362708, 91024.03690974062, 135092.8146480776, 175053.99216101412, 150355.81302283998, 190698.06988940795, 199326.23777086686, 111982.07497804696, 181919.67353420836, 124419.51557762317, 213909.77085226955, 132019.55405506433, 222214.30268387697, 91530.30009762573, 239572.94206808254, 163824.81216343603, 147360.2432632387, 255508.22660791437, 180919.88833394911, 199979.9784906499, 84209.35543777003, 186205.01398647117, 89656.94178475144, 121865.6558727484, 211493.3081917427, 181978.28526843406, 253499.32547223938, 126862.38363821557, 197276.2063180001, 310687.7384648566, 229593.08051583596, 89869.57883554959, 306659.43747305666, 238861.33387721085, 286833.1237988506, 167791.39429447256, 196316.476867954, 226190.66698615422, 152788.84109240505, 201792.54475184853, 163439.76115930066, 216302.167524917, 104250.07723292013, 77276.04388216985, 94484.26545191674, 194016.02523966084, 87129.14194043254, 234563.00718383703, 206262.67189184084, 243799.92483125243, 233406.84756390803, 262966.1452083616, 152711.95794788687, 130894.58070921888, 270667.62703119137, 135187.62386275994, 140866.12666891096, 79534.82370676177, 148068.24762473762, 148013.74303255053, 252266.3923361097, 98965.66025627159, 159912.1087016566, 223465.69922495907, 242337.844115383, 104511.96287765013, 212690.57999277025, 196526.5426974322, 274840.5658908901, 311936.2399356316, 224178.9999126198, 195302.94227113915, 168904.47777395614, 236682.27068842144, 144383.71648540316, 239056.14959498565, 273721.18631293153, 195639.3719161756, 192977.31342877896, 161708.79906195146, 254950.12223501108, 153436.49399288165, 123474.37843398942, 75197.64900020958, 72151.86473368405, 75895.9367005305, 121323.14802392916, 224252.74269198783, 145254.67951185186, 142839.55349852514, 207063.30036646867, 245571.8147131073, 150832.46838092039, 103204.05803667921, 230867.96327874422, 86452.75300759189, 105195.43592317638, 223640.53519982396, 209699.4010503291, 216579.25949620636, 192421.39835669656, 101256.36860046271, 179505.70405387122, 177933.13102628337, 154108.6388876271, 231502.62417782703, 125684.87269737704, 238384.55832978504, 288105.6578374987, 158908.16410793527, 242099.91027751364, 153345.9471042564, 248695.0188005803, 275974.5200132087, 204789.03439731232, 241299.85945654046, 100749.37313327884, 203327.43565338175, 157560.54803434355, 250654.3468866563, 155758.28944550123, 166742.1254005777, 238011.62961287078, 242543.88832040352, 191383.36442622668, 114086.32222709546, 350274.76482648274, 91861.56640630781, 144006.34254428622, 96893.14495236413, 252835.1660777027, 276568.40718012425, 145535.6364439918, 142438.95955426738, 220491.0997561143, 195604.03681329993, 187771.73416878504, 128505.64152322919, 229005.82269177347, 227014.87718153163, 120682.66476506805, 162646.14602401404, 228226.65207506894, 295456.47295001964, 114222.72511046102, 203113.2143367638, 338087.2711689353, 227711.19943885834, 236505.5866518002, 196247.57632065308, 125754.51152820177, 139637.36923048354, 233795.49135498202, 202325.8826286098, 93221.94746867125, 107739.36444005682, 213990.34720212838, 158342.64955227685, 177685.60434341308, 110582.30234006014, 207319.7717611016, 235224.70554520885, 97200.77127595876, 181837.105226548, 163123.70399893826, 237340.57373298364, 153751.65847610537, 176113.55025436927, 150542.3126370634, 208140.8023503989, 142445.39442223485, 277410.00241643947, 301265.3676505997, 90669.91780878713, 341077.7933146353, 204795.60509740445, 251324.07188732678, 157326.7364091732, 204351.46453003015, 225760.6774477397, 243823.28363413046, 147872.60090956086, 292744.7406826911, 140277.61270151555, 210155.87729834145, 193728.7963241054, 135525.27376410028, 225121.32109549188, 108445.98680775423, 219628.05794043385, 139552.538554638, 179595.41395689058, 144744.49522975212, 183823.35709046162, 176823.63481990018, 254899.40217197366, 166548.92538791275, 193042.70834157983, 251085.2000523044, 149213.96312102972, 213189.16557436576, 252046.67358020763, 176824.90889880498, 180676.4062978564, 177579.2154672246, 158742.22890183015, 195170.73023286118, 211132.05037998775, 164588.9063151038, 197713.455369758, 193557.3294306458, 115826.13724742377, 163500.81879170053, 196142.25484482123, 142555.75327036058, 290636.8807406898, 98951.32368849339, 238912.159336443, 131084.37328368198, 147427.54353471033, 142685.59738861455, 171608.15404034525, 144736.59392301642, 212848.86245496123, 195093.6106143103, 87847.41176565351, 350912.190028736, 197462.20400676204, 111817.03117843016, 172918.91621173848, 243916.47597323873, 210075.99963063348, 79134.03187098163, 177075.72834784488, 231308.38456741415, 168981.56638043904, 121014.16155307445, 230669.29657080842, 234817.02007696364, 200238.88695482927, 258888.04816220576, 192432.52211906487, 141041.79734253234, 118227.32752375273, 207316.98655871727, 115645.08618285251, 171313.9192268986, 163708.78634063934, 185770.47255317468, 98740.2886899809, 77223.14037283129, 176758.32677998484, 99596.78183127193, 82544.67321979528, 160243.962502531, 130832.50698530379, 166589.21895895817, 95229.04806620599, 82325.4694789199, 111815.09299174645, 182490.2409085979, 204433.87216384115, 261885.0066905879, 207052.49763371126, 108165.29353841081, 149024.24124432486, 182488.18644788285, 148075.08489442378, 169614.77353005938, 103683.56293432775, 200382.9555073086, 126791.45185424997, 193475.5859925683, 220930.91321267976, 229842.00329473265, 204216.65054959888, 192611.27447142784, 156792.89772543823, 144975.93541305128, 156987.3076708316, 134279.83034062054, 115841.08909435749, 205696.6116464307, 309825.1962192521, 140864.17056126497, 129172.32567676964, 121515.255891881, 191357.18501908315, 251969.83729606602, 148739.60235953992, 341993.4921998456, 194002.08137123717, 250530.28793661713, 174267.6577219594, 237848.4912795339, 179907.50126815948, 149920.43496249663, 166457.05714543394, 214357.4727659763, 146955.27220642538, 178053.38473406417, 144633.75019900256, 292921.3183089588, 168197.66180758964, 67900.99731018784, 218382.2801136482, 198893.70708008518, 167865.35373560933, 242335.59231202787, 82800.3117705938, 168171.70773296725, 164603.79710910068, 152543.54123888328, 168822.9457327391, 137150.02247183648, 241333.76648536208, 256075.2939970461, 271411.6493914864, 213881.30076289485, 352296.7199240636, 297985.738601037, 134505.94526086436, 73534.14376592406, 188639.95838121776, 269379.2616739846, 146933.19387740092, 252538.47507714498, 143462.74709165542, 189401.6217686901, 212279.37771879628, 131324.4351289181, 100984.69039341134, 176188.7964656672, 204186.76293569742, 170277.63102230293, 129111.80074476967, 202549.34297048117, 133060.77687741618, 150664.4809435933, 184520.497989309, 292143.8235457736, 165566.70009481072, 216281.41454222138, 154567.0277654793, 185286.698727503, 182359.4756368725, 147849.0778141814, 232756.55838422093, 83568.98100300848, 189000.16361436504, 117160.97464952379, 97236.34539771533, 98402.6087968854, 224839.785699371, 154550.25135826544, 82505.62775692757, 193860.03095621374, 182583.36924726717, 186211.94205210585, 123966.71448939288, 206200.85782018708, 201133.22324554416, 160315.51627271812, 195520.23774606828, 118214.06190176232, 225716.0973120405, 209734.26889043133, 92874.1894269227, 180266.88120294118, 213302.1397917371, 145625.01932770037, 267596.52805589954, 150888.73240266493, 237293.57776569866, 223878.54029700535, 194084.48745897994, 228323.55590668228, 215070.67839743462, 137372.88032111785, 205022.9816384705, 132918.62436173772, 134279.25028423738, 212083.15658694739, 261520.82197075163, 100202.58277287887, 226574.07485249802, 188474.25434496874, 346297.1277638987, 180694.65073333195, 94794.55858788016, 236307.10938028115, 252369.95734618677, 93829.92783193619, 141491.56575958215, 110014.50185824533, 76508.88683053704, 207837.12413079714, 176803.5178745782, 232137.39403920682, 139277.26747513135, 172580.0065172787, 251731.0906965728, 214339.69915799997, 204006.7205703513, 187837.30452114527, 123355.51623050102, 133248.83949061914, 209127.42182283322, 193528.06163855002, 122369.05175029444, 120845.78221064503, 158873.48462958657, 76111.44062995848, 256226.59987986553, 150473.0007782203, 201582.5002917303, 246968.49782425858, 209738.5662115222, 120634.5546930564, 151762.17616334945, 181327.68273242115, 110072.48343687836, 273142.40186967765, 217050.4649427544, 200835.42205068952, 104131.68717108814, 214676.4173427804, 119413.12219374378, 100642.3429251093, 213270.95942670482, 206084.22328026473, 113234.86137503576, 134957.6348818899, 135513.85031288414, 175778.54923128925, 267985.4156020736, 128017.77907411027, 132282.30405711965, 185003.30231046438, 209916.6404274024, 133340.76878297975, 254127.79002690312, 178146.8242778674, 121701.20401274729, 113927.67628542126, 181573.93949538274, 290990.9272707524, 213661.2644539588, 111741.61713034361, 263151.5884284453, 129181.4182970794, 208876.80113906442, 214318.70602259124, 224870.3674783912, 244340.68248616988, 285315.8885239687, 120991.99209399658, 247102.02046146902, 169059.680645148, 177293.63662319115, 174097.66532804677, 197059.82327122585, 180739.55067252516, 147279.9210602741, 251632.15282852063, 81052.18563665288, 169299.77221260133, 103423.50882230916, 152358.83955681988, 120125.7686665553, 146227.3897053941, 155687.36185692897, 204319.10788181706, 191948.7232043008, 304622.29588529316, 113277.82973280111, 93179.07680623248, 156190.1413916812, 155520.8041737762, 121878.1512432542, 89735.34271120607, 171840.843976447, 151177.62846182554, 167428.4580996983, 222626.2298481624, 235848.10093016678, 204821.20863273522, 106365.69788174698, 203896.92356318174, 172740.57774570468, 209215.43392011605, 118785.66608521427, 93098.63004720095, 150621.11709349288, 105473.85195433529, 208067.4498565077, 158472.56974813246, 221255.82020811914, 135014.09407604, 220296.12214654827, 297457.70621122286, 187507.02433336127, 89658.9920511801, 238492.53760891964, 210577.6959400832, 194520.10126437337, 84245.44968583078, 182043.08461596965, 297419.00775754557, 317756.25802014134, 113657.10244662756, 235761.52331075512, 259949.7862643087, 127968.43481673082, 170871.8605565751, 103006.19283691436, 180070.39004072227, 224297.00419581076, 223443.50109116695, 182377.38870268775, 101619.94027356457, 128830.46775131348, 213380.72013626312, 203503.55486493008, 98712.08721836282, 130727.92160269828, 206896.4036069331, 143350.41402525088, 217253.33681404643, 102430.40899641364, 135190.57157771787, 208716.38046308886, 286002.1238110169, 162294.7450295813, 185393.00256355552, 102373.07193493553, 209421.94660871167, 217148.43527968536, 124159.0011018111, 221478.72348484633, 237647.24092681214, 165637.38463853076, 219471.77318367324, 168920.0829905459, 160405.18561745613, 178998.90718693167, 187277.71588936308, 165271.53209619533, 176168.62706373137, 158005.4522672145, 124787.26604808761, 181186.45361065463, 235698.52435549616, 214172.39413006013, 146988.59723672614, 229287.05629639255, 232172.88251452663, 261186.07091638437, 207996.86947589862, 192702.42881017705, 96562.37113773913, 173348.6065181533, 171199.42554480975, 132881.9215693946, 168610.45305128797, 207934.2131097164, 138455.65337706078, 293492.0127381653, 185551.02734862934, 166863.0428812186, 192208.3033010068, 176124.55643368204, 340635.37812130793, 226536.6594336154, 199764.85254872285, 140510.96717762065, 188913.33202607353, 207570.45485666653, 137232.70939160313, 293427.4460939397, 262769.66505617974, 146970.0241949533, 224230.8004542164, 126804.92136007259, 163673.48838217816, 320289.8489960481, 231753.26511056526, 175940.08549875353, 86397.016219902, 278836.3142597898, 222262.64962168576, 265319.6112093113, 110603.73936871366, 213914.48110923154, 111701.00512729195, 176003.45250146504, 159867.84257504734, 84828.89748898389, 159026.21944781227, 241593.494318494, 198117.66669344058, 191270.64330473103, 88156.28715296525, 187012.59804955882, 278725.04593171936, 192993.637258064, 157873.43653026072, 207684.15680945272, 68086.69482480077, 162672.54740692943, 186844.15598619203, 195292.42705924113, 195492.0061871492, 179407.2881807113, 290979.76822146086, 190753.4022909019, 132855.37636488682, 221192.44581473677, 273481.7746048605, 310732.1442643377, 205996.36763532384, 142872.07687969622, 139894.69017858274, 255855.1432545848, 210806.68734799774, 316598.0267659082, 167262.8257866274, 167108.60858402972, 114022.5893215272, 153545.8116733596, 265866.3771062388, 195401.79751800623, 161719.15285002158, 277469.94421328645, 216375.62037578385, 80547.14392829752, 215535.55997379855, 176527.81548794455, 197052.80125217314, 147348.39660950546, 146175.91512526176, 201101.24350849673, 84973.38001887244, 202491.8502842773, 202934.9120691854, 278007.49845015915, 218946.85125158567, 178542.9923829445, 150320.2383298857, 238002.8571403802, 120220.0537755108, 208408.9703530612, 111579.630583711, 158086.70347322652, 129605.27622156378, 242850.39895345824, 138337.00956051346, 195202.5695060981, 204768.18223036974, 249315.9103489675, 216664.613804028, 116078.53702769932, 203114.38147706672, 177679.9961585331, 113624.89350499652, 204776.43889112963, 134312.6714610022, 73241.56941794831, 210510.81892280484, 77286.06602463729, 260517.6091934208, 197617.02817925933, 193927.6412384841, 186074.27667754493, 92372.85964611346, 117221.52577569123, 180403.72555570127, 153217.024143536, 201896.31100642754, 167853.15874087854, 103916.46819105661, 155389.32574339592, 93664.11979987139, 187550.98851808303, 151230.1456686076, 152484.38050998776, 100924.09744888217, 195825.4808501388, 166714.2364563495, 162293.13035291914, 118106.89506967967, 182438.80333446272, 179081.64307986223, 226413.35097202566, 239872.88993872062, 170788.72947607277, 204498.49698783093, 231828.4685954299, 88570.82865965883, 138619.29926988497, 167678.75612567784, 173147.6772148687, 201960.38993865246, 132131.65419280727, 117582.07083251004, 148114.57024868773, 206851.1565907116, 86934.239969768, 128513.06304446828, 252496.7765887166, 177717.21550705077, 182187.6448656485, 166636.58548314753, 221019.02489000495, 168479.746193896, 212574.65869232584, 129113.01103915164, 175051.21772016093, 225365.66010050106, 154453.15141180324, 185317.44717699348, 313366.171678497, 109437.40408059383, 134313.03181925637, 159768.11016285038, 319339.31653641514, 136401.15671572293, 122714.75487851579, 199920.78225740202, 200895.93175191362, 124385.99079943704, 159271.04167328688, 338752.4524422999, 128724.24853318093, 210792.45962020758, 136776.52341607766, 133410.7842231113, 162564.99978528722, 316610.50728675834, 335242.3895570722, 216942.19472429663, 150154.899104759, 198216.39084486655, 135898.35914293845, 204315.11506795906, 195975.6543479555, 157294.65819490718, 164810.49218400114, 124000.54815035149, 170426.97773659104, 238378.6492013914, 126353.04600341615, 281795.35496196075, 159271.17795060464, 209854.20842097577, 134954.93943677092, 149096.0281665467, 217535.81435326274, 106377.34047320618, 172888.22294942205, 66543.87394135678, 195631.3471132894, 251270.91016292557, 267476.12793790107, 258844.77714734845, 97050.79120404679, 256858.43204773247, 78653.6284418942, 95396.33879983242, 204231.73031244584, 100556.03523555578, 125545.82038113137, 97980.32459818211, 127603.51972043666, 204517.4696984582, 171712.36941008916, 233185.36528257868, 168075.71015322005, 101350.07982916132, 277029.72429923463, 135767.71410144618, 199402.4875228221, 125500.5497809532, 258913.9648397366, 268878.8969070742, 128344.94636588372, 97532.55479043411, 120488.88495487573, 150132.65962205615, 194160.51144619976, 236528.56742150814, 209577.35109362908, 141736.8102603866, 135791.68343266507, 113584.94478623665, 206229.08929688728, 126963.9252831587, 326430.6712363156, 347569.66801445046, 136008.64843119972, 98956.62719334652, 209945.69649815996, 213059.310167188, 261327.8628810081, 176200.28595209334, 167498.25853129785, 90955.45789083498, 309275.4052792886, 77352.94522080707, 243953.0582855075, 101212.62621656137, 252803.019104205, 142509.44778677248, 193844.8418225168, 157163.98013471387, 144656.97909577735, 142088.0180922583, 161718.41986030163, 221265.1456636691, 171868.6361460387, 97684.28840513686, 128614.45437994968, 145094.12502068936, 164692.20749462335, 112068.55565047202, 181982.83909888845, 204665.978149373, 147887.42727131007, 150866.25647998197, 77027.28710103419, 189118.66967469684, 180514.5464579163, 123205.50769299018, 85401.18502991265, 125789.85233266375, 141093.91033528856, 237931.7968209197, 255429.45383039248, 228686.7858876884, 125553.7382683818, 244678.49832948318, 101335.46754667825, 135987.91021078842, 256506.92448593, 265481.78339702985, 246640.22123254678, 205115.65872597595, 271292.14540939237, 229543.92917383355, 227311.0075681606, 159598.36824828188, 249455.90967088757, 201350.16195954365, 134534.92368997633, 158514.3260366738, 189432.6730863867, 220590.6673352923, 199302.57570209145, 141454.13953554485, 137507.65475649637, 204695.30595902432, 205072.95580086455, 219542.88582708227, 97553.46575103744, 95854.22166817407, 183119.81439042542, 110530.20069910544, 190969.88375410333, 140149.58776774813, 112886.17445035768, 203589.4386388276, 279959.9471995636, 149136.04916974984, 244175.05352278907, 148462.4464661604, 116765.63514083803, 142242.45324460347, 181179.13859148964, 162065.9033049867, 237042.22504042787, 164296.65964418603, 80375.43863477524, 162560.8334110318, 260535.9197749677, 276484.37098019593, 282206.0018926, 105416.82535580978, 138581.6768242021, 190216.07747596691, 155354.72920353294, 117178.98081994912, 91166.26060621122, 303111.17299970763, 236031.84849974624, 247527.665964033, 175661.73024603387, 232847.23858076974, 151358.63023118844, 88597.82405709964, 126696.471829992, 203967.0936389895, 172235.10664673056, 115873.09754603787, 111988.86824977987, 217290.91069893265, 193158.17901410887, 73471.13016017698, 284992.0821751239, 164862.19440030336, 142214.00259734472, 294635.0394779906, 233854.14711041402, 292940.838528806, 264284.9194613547, 154660.15177336457, 173274.78195953654, 218879.7654858313, 269682.95739818254, 131630.25737151824, 141077.86304658483, 215892.26083288438, 191209.90682781624, 263700.6790381428, 246498.98921362744, 155668.45683290152, 186867.49101454165, 327380.5529406591, 252638.2207118563, 127632.3866409845, 93882.76637545529, 165654.39531135533, 98741.08684041337, 159116.3412078806, 156343.31505237328, 163833.21594395753, 179624.26041637943, 187934.9667633448, 313374.6643746842, 121813.85416519198, 159243.24398460513, 172849.34384221263, 182391.15380959495, 201909.5796743479, 202479.52145420128, 214438.65768953488, 106414.67455462346, 142491.13989856938, 181322.9771899078, 274186.27676278114, 100343.397354091, 79392.38387961268, 82901.06641893434, 97461.64940072419, 175609.48321105662, 145952.61056639213, 170457.7771362104, 229321.58228846913, 234487.68768273992, 171596.5530117037, 112906.20011015736, 235000.58614549288, 204841.9566662124, 171368.3403831372, 104149.23754073598, 82787.9007723479, 131597.0409648984, 198969.48885808338, 147159.59124858418, 151890.20434723375, 141914.67197926872, 142901.70541264856, 79062.02148102032, 100769.92650503656, 185978.25650725883, 88047.70274875435, 144374.63772495353, 197912.94764840734, 124340.31452364742, 150886.91278141446, 156974.33395086572, 126126.87771846273, 102281.61810748557, 154189.96104140923, 122313.68948220828, 94425.18289701856, 100986.8804995516, 180131.54302304692, 248877.65988119956, 329427.222680429, 127950.5299108056, 118488.02112879313, 155077.903339691, 104846.45229459388, 187185.33688275312, 173359.3521009095, 179631.42751440988, 231594.54331834114, 154602.6164446955, 179105.10548611986, 157180.96773387416, 181420.2289477505, 100041.66681783923, 197891.61756426826, 121320.51873376124, 109749.93592365914, 122935.81031544342, 185240.72742576536, 270785.7276569288, 285088.99129574676, 227996.8002939398, 146346.73825653963, 172792.341061445, 112011.55193783343, 173570.15026670205, 195653.3987527997, 324056.8281280002, 139564.09509793896, 208134.69198786427, 260072.08922262964, 230217.86729435055, 176340.79460541633, 146208.4508534128, 123596.62022082685, 78346.22094767202, 189993.6924819434, 188148.61523334423, 326286.6444593935, 253742.93721236667, 228209.27574182916, 157069.933963313, 131851.9752027474, 314099.1971281964, 114512.50671408356, 227750.73369308605, 137533.55742400573, 99939.92123220352, 178939.49078506086, 92737.09714257067, 90176.0190758619, 172761.98799107748, 329604.30410737696, 161905.80933359463, 98659.23428732053, 216436.40641916433, 124603.38047582045, 168264.64510136668, 188508.35868302823, 213093.48780204207, 218782.17041437764, 94136.09689577778, 165037.36357978196, 213185.21303299474, 95655.24162150003, 205520.53412596442, 110828.91486283888, 183131.83445259542, 124636.65472915147, 240040.09859344494, 269485.56110058347, 239923.27830712503, 198570.6746197711, 190030.37357297871, 262616.12726727483, 201765.13207844182, 306629.89741319226, 214789.60834728723, 159476.66674702708, 195399.08253662154, 134339.5511202428, 268308.49410256644, 169268.0264678554, 224912.16886761843, 106789.68684910245, 232068.27387746325, 224632.99801814495, 239451.95807533915, 164048.95501255715, 280127.8529608303, 137138.1946870837, 182057.62302074023, 151991.30033632406, 146485.69952817692, 317449.6748572984, 268788.9214889027, 103443.95618029259, 195571.3931414714, 161094.83994743726, 207539.23518542264, 197713.7302602975, 251006.69266275852, 95914.39964765412, 137167.23793119795, 139215.4100306719, 200048.8584894646, 168534.42612897756, 148499.4490802998, 160595.86217883768, 152128.28666217058, 166331.72344202932, 219550.60081316158, 215521.89821716893, 160977.70514594848, 112802.49246674836, 284258.80319705425, 253691.82693697905, 176695.34230286628, 290520.8273748164, 142512.58750776906, 208352.2933804137, 187416.55469713037, 121100.73198581323, 121724.75508818103, 197915.68354240543, 216313.4139533211, 202185.46008481528, 121112.43496224756, 262884.49266863236, 211075.96293851605, 171599.92632238832, 78715.53129102517, 123635.3631861975, 124402.01260274409, 186983.27483904178, 162295.29252386955, 239031.46404471656, 159608.20848301705, 140930.01807075896, 185379.39695143036, 151035.03651939548, 189370.00578188075, 124388.01750469639, 204672.9402280874, 206900.90658179726, 172827.4926512075, 228022.13995560957, 214760.47708482115, 186396.7251422626, 153830.3971259267, 96040.23698965264, 166446.60143718112, 177571.08145924914, 179471.30562398423, 127929.46021444298, 157031.35875203548, 247312.8359983471, 247952.09804715606, 274476.3303728936, 123384.97919452935, 242094.21793946467, 205385.7199817133, 162914.538999507, 130812.57259785972, 107478.01166304553, 172312.3279721668, 169846.95042695245, 209934.35945777493, 198366.32869471743, 95281.15058113882, 183740.66912001345, 113228.06118089645, 111680.22368510049, 201538.5210940008, 291329.9391294491, 191503.56364278457, 228212.60358043163, 294494.8120358195, 230625.50149460355, 91118.90958052657, 294999.3900706695, 147112.7116972237, 206257.1987402053, 174865.21240617236, 127292.13037635335, 309961.3131670208, 163062.187014579, 252485.70964673444, 158239.5447586353, 109528.3073221286, 188731.96607711725, 123155.65491488593, 129938.00329627932, 227730.09655980687, 180493.25162669452, 90056.76917969353, 167409.8426306836, 221876.94074233389, 220731.2376648164, 230866.46300824216, 184627.6759639391, 298586.5447794483, 109379.01854381875, 161173.74208886805, 179164.93005747537, 182868.743110889, 221663.13348876563, 75958.49009624982, 204326.653964056, 256068.29608729127, 183648.42557746638, 110467.26441161854, 121748.49108370078, 169206.211410879, 138813.17000661325, 229102.17363240742, 119194.15701123142, 171329.71775783843, 213282.32550719552, 188494.77001766462, 196585.77123239214, 216119.5599519237, 204385.8064808054, 174567.64647591984, 252847.95773895987, 185642.34018657665, 101941.30113012239, 184017.6915336753, 165125.71485628263, 244447.97394210572, 138651.44525150373, 203337.33641548184, 234714.0589627378, 197398.87108766404, 179242.51442115713, 224029.94815673798, 88574.35225107614, 235391.09609233506, 231698.1126893052, 148620.26388537214, 204263.76396068573, 267922.64574351354, 171093.2226998891, 197276.94464525237, 346975.07521459763, 169260.13100971346, 193670.0561514118, 178753.07455137194, 161954.72280486714, 191853.18798735115, 198424.7917077266, 242622.17047933117, 72400.09188699786, 116317.2149264997, 211627.87297981736, 147026.8276285815, 146127.13065392175, 295389.1274564282, 166377.15710303513, 145484.62961692736, 97968.28222681738, 232302.42531912457, 174022.95986322712, 197241.69540609245, 160511.3377207092, 178464.12503999294, 204590.0634359055, 224778.6853588663, 144214.6838599518, 117840.247006456, 227476.46997293265, 237012.53942807173, 267659.9713253413, 224046.12504430802, 153333.7069468127, 211722.2252133649, 224601.01313891326, 235306.74389864388, 265635.55135418364, 167711.0358600461, 209504.56594015093, 159640.86396385613, 222462.50568532484, 65448.04639344313, 187508.6851955257, 195856.56948800344, 217701.40890322148, 207209.26379585426, 174183.28057536023, 153285.48084833307, 106335.44360342251, 157951.32775040055, 150160.23663090618, 106329.2112167412, 103505.1295058433, 129516.78978426656, 162029.88027054962, 199701.78335893503, 64262.05317187257, 167309.38806738256, 152116.33624489454, 161251.22953824035, 197892.89957539554, 173172.7373972136, 238520.08136437339, 217127.6838009893, 98513.5799380234, 230951.23167784815, 181171.00632703098, 151645.99705275544, 195984.89746745373, 241357.64752391598, 177887.8834631812, 148542.09129190445, 128302.63988479924, 183697.5963804097, 203351.33760769042, 149037.79961002895, 151747.72882723564, 139326.48167585535, 189675.33896476452, 153776.8737600032, 184223.2934664061, 155294.9685759705, 151963.60207605088, 115442.78120207744, 262929.1614955093, 117390.9047738749, 131039.25230332263, 88227.86097696128, 151730.98626447417, 150845.91113762668, 173127.02255906523, 71719.45842893931, 108160.44636262814, 192666.43175806853, 211190.07080454848, 207742.52944602727, 197827.2933646501, 224462.84359621617, 259465.264143591, 202319.73606892247, 178176.30816919176, 219756.47483070672, 178712.07738538197, 173276.9127352422, 266064.2832223692, 88286.72607748327, 236947.03370664775, 288439.9096118944, 149808.05391562713, 85694.06581485228, 156327.4529269695, 93795.14010189, 255851.05038483362, 152127.52497334863, 299659.22430268105, 260432.41995867906, 160541.48439720177, 104954.16285920481, 239434.05771942588, 324816.84098845214, 224384.5033024705, 235018.6905892394, 206221.69055824896, 95098.20910203624, 259933.4460621565, 156407.0864644504, 135878.2845469155, 317276.3041161896, 121417.49963454698, 172228.4594949909, 311210.0598994287, 326498.9592508242, 215510.3832071111, 183132.3379218535, 351073.23541586485, 114192.183913547, 173989.55764525026, 166374.89746801916, 216540.51277540662, 191527.391379005, 127682.74109619456, 150194.34189722352, 281364.26328445354, 148525.98322487675, 323024.8054350263, 132079.624655816, 206412.249596531, 217102.28398815705, 150856.5968737791, 104328.9974748423, 154702.42538499087, 173410.709907688, 179491.18369700183, 198200.9978250796, 171046.6863098489, 210590.22105644003, 121429.00705019267, 93406.77040536837, 350065.95268408314, 161750.88974399096, 136943.58936751797, 106433.39321272522, 260359.4661374008, 82334.37177991726, 185175.92523971226, 188892.9216911307, 158987.93412722283, 165718.95121173185, 148871.42288278922, 168587.2739445837, 148832.86856854582, 199383.15708680282, 188276.0803294974, 95672.32977083465, 199344.7661470938, 231662.44527078385, 127730.8805713956, 306991.6170478937, 153413.9842809589, 147222.91452051507, 274538.7273329147, 180344.69536402647, 189561.85105281722, 141222.43952381978, 173597.08096357927, 170563.83988955864, 217593.6393487004, 169885.24009261574, 218507.97936411342, 112241.10467946238, 177617.7042598399, 206762.90355351535, 277459.9686946344, 310552.4646749062, 127410.0561624717, 174024.9308987173, 174315.32732263443, 141972.30246921012, 187317.12370899777, 95730.22962284402, 132531.96183275385, 241724.82046224488, 252403.04138130927, 204925.83146317714, 153822.68887727044, 130547.33939932268, 195186.00240107972, 254226.6423490903, 120360.49250246448, 114139.38948453986, 203379.70309851036, 125355.96085595948, 86613.0285468095, 179786.4869973212, 99492.18463369425, 194689.4475850669, 213037.50376413082, 149899.8510050244, 181879.2785064898, 237147.76043420457, 127314.43927827098, 211899.16509784685, 151467.22870259857, 159918.72715571916, 182425.39007272897, 238255.29613652494, 214119.43183306925, 182441.9879311567, 101215.48378580592, 246047.08727942625, 297744.34719574737, 212972.1640636619, 245801.4133813187, 99546.78326321409, 117531.16201740176, 182892.5993363968, 280418.4958066603, 156670.53090638338, 108264.18096006125, 145301.50795368143, 180885.96796275594, 224129.79413652932, 151565.87280976292, 128410.88307090887, 188855.47780460684, 282956.7349876231, 258138.89138779545, 212724.3923967466, 207653.61037457717, 212701.47857981749, 163058.4064972568, 119861.85068010265, 132851.53812243833, 161848.35518548073, 247148.57760679987, 225765.310163002, 77540.76143460424, 234535.85814954856, 251421.13091348368, 224450.45873018051, 186160.709642796, 227541.25506804526, 236153.99235529668, 77599.36030630356, 211689.75726827042, 208655.28363993418, 170652.14084840345, 136291.5037879305, 173133.64655865962, 271434.0172142539, 172480.1204498536, 216475.994239271, 223037.30181042026, 106841.72437067555, 168160.34773855784, 127557.0817894329, 215476.13746839776, 147964.82638671083, 228224.46350563853, 255876.2665965086, 249644.84265301438, 149713.24339213868, 153741.61854860545, 144935.80983097496, 281286.3343980163, 201801.3939864169, 148215.31253152853, 102672.80412750714, 251780.48510166566, 254719.5213175089, 206124.8911904107, 198301.3158284714, 225512.83939535453, 274252.24835898937, 192514.1245896242, 213392.37600939738, 163922.62326983738, 167872.28595963755, 209069.4089573601, 220469.3753143105, 123659.33319305044, 176814.74557467047, 116586.52539317966, 190840.93915696917, 126801.44566439839, 186166.360524582, 215078.4290668483, 136972.68001106987, 221985.2564651881, 135161.11280109995, 252760.53381169416, 138271.37195725905, 112617.62154400184, 291311.54457005975, 205121.60018195628, 145728.72855811263, 141904.5433875224, 157389.28557948789, 148629.07193969982, 140357.39443753724, 309929.4221221639, 136106.3794430646, 234419.00939999032, 320896.76466668735, 204849.49873509313, 98627.69507345949, 219385.27766658485, 107241.53671109628, 187722.9504030478, 158439.48192161904, 278372.4627888652, 360678.5101563467, 113915.4501362725, 188067.1324999247, 98285.75173056706, 213530.74673402077, 114032.65946875575, 210312.1937327328, 199976.9400503289, 189805.7693130397, 150761.55726408758, 212444.33069217455, 220111.38210900011, 180220.52372000515, 258615.07237041846, 124445.28268551291, 175023.1486710457, 162563.18726486937, 182596.75518843057, 181722.71239489585, 218133.98506925788, 120987.85573667866, 172095.115090397, 186686.60403176508, 240545.8630178084, 250948.63305740766, 234271.173155025, 170042.46808278136, 90491.87969463288, 145507.65052721513, 140762.0246644335, 140914.47722411552, 310116.90450643876, 72372.15826163962, 199142.7745245166, 103145.01656683689, 131632.0194038155, 176063.52299768274, 166378.1439631789, 145091.21914301458, 194340.71294391627, 287432.75507504126, 156947.17086704442, 93600.40749056856, 229870.30372659775, 233784.24463238844, 157972.18469730325, 230313.70653170996, 205608.1637991638, 150451.75544780272, 161888.26526665495, 221125.4729094716, 186874.88187478812, 194197.93701164532, 198592.21587997684, 223179.460939631, 231636.35722053744, 165921.6260722783, 195317.12331052058, 111152.40650936477, 201599.18039175466, 166123.76488860234, 191799.16375667346, 104496.49086891074, 191705.54085464045, 272868.13530263305, 154744.50236782973, 155478.79682599902, 180024.25978662985, 141557.19239716855, 109328.61463826898, 203849.07742596974, 162423.64822625372, 252063.3602405953, 76432.2209648882, 148820.45475307349, 212037.77319488476, 297987.1122237876, 143502.3694545827, 202420.81254906463, 151527.37152314867, 308428.5764148829, 249863.1761559822, 156897.21831419494, 160033.24739093997, 96731.08753064826, 127385.58831544845, 112665.79932540991, 136782.15398274845, 147743.8705761769, 198463.1944324435, 197607.1538722432, 131392.35397150833, 245866.1489345032, 132485.41241875675, 184253.7368636455, 188780.55462756532, 197111.59172665203, 162511.62477414438, 255715.33312910772, 340286.8978732932, 200475.17922913874, 227357.56396457308, 146392.7368792447, 236204.4800591984, 141375.4096174694, 124320.93009502937, 91855.15621062391, 206740.2251513674, 281412.3660043499, 253834.4233536451, 200985.33379699202, 327849.8655466103, 71669.6085712853, 87620.87661753227, 224150.67529509508, 184848.78032212507, 209456.28771522664, 301171.51118424325, 205209.53862052842, 239727.42489115542, 332673.3632572485, 213747.3959823748, 264962.76597982086, 180395.99447425437, 153221.14793293737, 206241.47889982324, 186572.95877930018, 202617.73760675953, 189353.98998864953, 152415.96529871988, 125243.61363143951, 250542.4048970307, 204322.33889063477, 165114.44895472281, 208049.66256354438, 156563.5932257331, 95458.12472977715, 96425.2982601518, 110868.23522222495, 277837.7744648267, 90965.6014942897, 292526.02723775123, 139810.6218844367, 329398.9928896312, 282330.647501383, 110326.89924208597, 214308.04262243863, 250470.09101159402, 203163.03995162892, 215775.58231088205, 159290.79786483903, 177177.71963927953, 216554.17095808114, 196951.9633938227, 223740.06668743078, 212478.83569219458, 161911.89251934728, 203655.92148891074, 193576.53628120193, 207792.14616110772, 211249.3577170911, 145701.33962743884, 270420.8974183751, 257071.1553183077, 188617.47445579598, 218361.05909048315, 215160.0818685654, 307618.9970953025, 269359.39999744535, 208613.2552029705, 204678.70004156767, 109708.39005764211, 123462.47164956368, 117389.73373341285, 206662.9077476819, 147134.6936614517, 102234.76201999547, 156882.76711070142, 196015.18801044422, 325491.50395415834, 132613.3005802433, 163668.13370457536, 152400.15095590363, 296486.20214923815, 203698.74613413474, 165339.16235972202, 116383.15861642445, 149436.3331455032, 174854.61542752208, 155293.37452903204, 266620.39923886344, 140256.11358840842, 276126.0339161664, 87421.50233051313, 190147.52613108454, 66428.47769146043, 88454.541989836, 147530.5591672577, 212675.26934012808, 187043.99044573077, 151355.37801737688, 244651.4212854301, 288237.27876894746, 167873.95544366044, 162031.09004780525, 171424.79022228604, 161034.91647803618, 157729.44248307476, 167336.625136494, 227179.0581715307, 139928.4531710338, 106627.01240182226, 157036.19338375368, 259764.5148382408, 104489.11772098539, 173126.35615101256, 118190.87145535622, 293980.08082234464, 140283.6060613246, 339349.0069310971, 140498.85617378162, 187935.7729525909, 139206.83395897818, 95290.55632262974, 183613.01479943373, 121519.19660142233, 150203.8249374257, 175735.17860003517, 99538.28993678461, 187069.663248756, 169991.74564402027, 257461.2492670191, 81396.77619594484, 168114.52880003472, 179255.98705453437, 243793.9944857186, 201011.7042540222, 179210.51625521813, 205753.40512733452, 137292.91920850726, 165544.95217532376, 229596.68635404203, 262692.88564258505, 304986.8958050796, 265905.9974155298, 147223.9923755708, 179670.59883164815, 141848.57487860433, 180427.3504023611, 131663.77549127856, 155011.41478580964, 101403.3609763041, 247119.59565324543, 156301.15599787168, 148933.54358237569, 240196.017499668, 161307.24211222894, 204939.47061442502, 224860.62234158127, 198889.33558090054, 243651.96082286933, 174446.56045283107, 211246.89661314792, 189135.74002467445, 278384.3004315281, 216657.93010814156, 208684.89013481213, 205759.29729187125, 183262.5809859231, 113606.90917665997, 241614.03089019487, 216750.01794996066, 226519.32483342016, 92176.67001500276, 160592.2830659144, 199923.87298617847, 96332.80588391685, 124423.61783942902, 146314.2982340826, 211603.14307314207, 182636.0816065726, 118314.91928731508, 281235.1822215455, 193628.09370377462, 172080.92679710756, 199518.91618413935, 177143.77011507726, 168884.6755690428, 226588.56558477913, 174716.19367305894, 207544.66283014897, 193506.09065644682, 185441.33176950653, 204323.9541789589, 223581.13727407064, 192250.664696287, 137802.35251652935, 112033.17549869725, 96145.41658246316, 291325.3736281339, 265690.91000007815, 151921.96423053608, 176141.44137717548, 187640.42287777274, 130010.25479982956, 153332.33258162573, 151619.4001664413, 150782.70383366506, 265078.61796563026, 170772.96985152795, 194331.56370992746, 233826.39219245408, 106680.37897606607, 196585.02925661788, 223008.44940110276, 161448.91762984218, 212724.03512850634, 140268.7015035077, 154942.2266037776, 178310.08565757683, 105172.32606520796, 195339.1848912504, 131808.31522795215, 242092.8885220485, 213200.73403192768, 199317.3958674617, 102190.51312322504, 175582.6802965756, 199827.34858641837, 172992.18480401865, 157833.14704858256, 158445.09871116196, 166492.9472833422, 218578.13860045662, 246757.9236444089, 182188.3269970148, 133266.97065152455, 231525.9465216636, 162415.0476117891, 178033.35187084082, 107850.75473946556, 239657.50115547242, 195151.97483045567, 120471.1435487266, 247796.41528906507, 112876.34837210758, 209086.89621643006, 74759.95351182912, 102266.95961715975, 192601.29571115182, 82040.3294743753, 233633.9427041214, 145074.97040467642, 132461.50842902728, 236189.82041948283, 202867.17955839168, 146492.20081526827, 147682.16429604543, 237701.08259842067, 214127.22251223537, 167781.83389727725, 112877.68923791886, 285697.5886129827, 327965.37859021605, 184714.2706410762, 229229.18116353487, 192912.86811533832, 287159.0145823568, 99133.72170689612, 129740.10827230218, 274725.9813437151, 206935.7758663085, 131867.71541829186, 126267.1282620426, 151853.0034100557, 269474.5853240486, 296111.0303207589, 177002.17527814207, 242423.60225082378, 147747.0320923803, 209361.11810593674, 245877.22210524284, 84250.21431263453, 187716.6879362078, 309583.3135744248, 130817.15334294963, 213087.69258271257, 133010.3079706737, 291132.0688290615, 152064.43788352874, 199620.75699998013, 232708.82333368628, 97872.53416964324, 147808.40797777256, 160258.50333796823, 227081.05049236148, 124251.7930502606, 205371.42169343456, 227471.6347983029, 109604.1100094599, 133023.79743899195, 288049.34867674264, 165433.1058635543, 183580.57589447312, 278850.486694157, 208349.32051421196, 193567.9339181166, 169969.86520141512, 183814.68516612565, 130409.5915494094, 162698.50720817648, 213811.19504985356, 105501.62910253262, 275255.8278227611, 171022.7642170412, 185802.89606600755, 95959.80982601328, 236130.1251491597, 353233.7617913129, 237461.1747229763, 215623.7035442937, 335099.6693217782, 183058.08374396843, 119343.73475137039, 237290.86505877113, 214282.871519357, 152109.4689508118, 229015.3684943929, 148945.73887417454, 116658.57785641968, 250537.37822645588, 141560.03360458964, 191595.59253555082, 179448.94597544475, 142214.87953112056, 190062.30999548128, 142100.81205282328, 222043.35070551682, 126950.07433227642, 221251.79052407175, 154627.79459386697, 106093.51144728069, 145098.23841547582, 291919.54234425863, 137044.54905294682, 70649.87306775118, 139104.69773712844, 174295.58937030943, 210945.92589333103, 175507.06071972343, 121401.72820141453, 214315.7819381388, 227670.87729506285, 177074.69948401896, 206398.65535897738, 138880.9580226147, 253180.1825353408, 119558.57288831887, 240622.2596816262, 267648.01546450204, 212329.12105386858, 165027.17777198722, 91217.15172408517, 97108.0755812741, 135944.71523637974, 293485.9233208733, 150941.7318366759, 102438.78852272409, 187324.10702019837, 271312.54965579195, 170304.69701697413, 97779.22031402777, 213364.7023464142, 166086.8524660661, 140422.7608900057, 192411.07780089928, 213998.8220754136, 177438.34482688998, 84776.9406110654, 167282.5996847806, 170941.39223411074, 101157.17740575002, 112723.48113639998, 214517.2771052849, 300128.71202868834, 177716.57148970503, 231558.60032271902, 188458.2757988704, 184497.26381467504, 203071.53058872375, 128695.1788077707, 163812.0315904239, 105157.52115315615, 177727.9098149656, 114770.2414700022, 178539.23333623554, 200027.49647063602, 133656.3477091898, 187450.69054101352, 160759.3882592223, 143194.05786857003, 205852.046846331, 160014.9266250537, 290024.86367209, 211589.07448409143, 207407.44082427782, 202728.50974345437, 97171.58588644343, 280301.01191669184, 185831.3542903282, 120447.94400947561, 169607.53306326765, 136937.81651665305, 161939.76280072064, 155542.67711167998, 173158.0615748702, 249741.75010532432, 216131.3665400892, 291725.2412892873, 175031.58430978694, 254948.69138120167, 207810.75057599528, 220063.74414702927, 253431.99750841677, 343275.5401850134, 182660.48059992093, 239325.32017683412, 314873.14180532715, 173430.33665406276, 165505.75742789122, 236932.48361305348, 272243.23915157834, 83846.23423959776, 278748.02727979457, 184657.5899554953, 145823.34553031903, 194446.20732159892, 144203.48724072886, 277069.35143555363, 222405.9870344743, 94891.250414025, 318208.7960945158, 107497.62011213825, 247190.67956964404, 222606.93158001595, 189820.27714407817, 171047.61764067563, 208157.90000118414, 195156.07874277758, 104063.2250662124, 238322.2790179455, 240377.85904853506, 168042.95405163016, 242451.67778498243, 108980.57844059006, 228598.91961653947, 148468.25176256048, 266617.99957208097, 254309.22899289388, 316449.8870755377, 189835.9695885937, 251953.74513310904, 144051.31526563497, 150331.20280965234, 170629.29658190676, 255207.3584148648, 96726.66653625813, 153343.86107176734, 184343.74288908465, 203087.6489838315, 180339.65032507622, 213110.74069964344, 167276.73739240132, 82146.37224662006, 105197.58680840954, 215080.83097993277, 100115.54940482967, 89435.28740628922, 215820.4060289505, 307298.2518758852, 346388.42771242216, 195683.35333709436, 259389.11293092868, 267171.15445528505, 93396.99080251997, 115811.66104433901, 97281.83901748038, 82730.27192282629, 134880.71382622852, 167265.50887797808, 161735.67905196716, 84626.52824735879, 236148.0596536806, 139353.2603961387, 227780.62526586952, 204957.44684978033, 169264.3207489963, 271989.1496083113, 145226.90232616058, 203770.13770071336, 120719.46433987202, 204121.38430820717, 89212.18856767351, 252486.21807509923, 328782.5192513305, 145634.194189634, 354617.01593468833, 164638.51959169505, 254335.75213671388, 129952.50510800176, 196860.99309869544, 277670.4895328947, 110986.59870211125, 286213.95163189695, 324373.8746984602, 251510.03308176747, 285151.95511680027, 184212.55906200176, 200145.97333009145, 140433.0610927642, 169878.28883448403, 174806.75202372434, 205638.63017977972, 152761.88979153644, 166426.69187756046, 222594.5773539198, 200941.85369116176, 347742.0312119788, 212980.5277830697, 144022.27875817503, 194162.2148462335, 105152.24752454928, 223135.34978085372, 178146.4321216026, 140626.62998069118, 173360.155645958, 166629.39854226125, 232527.21600932765, 123994.91788725842, 230451.24269708016, 179912.10616152524, 209464.08421564702, 244424.92662553588, 234413.94106406294, 105165.01349222905, 315774.2081297157, 220941.00757420593, 147034.3012901133, 238191.4883934452, 89705.88876821226, 101004.18208186224, 87070.61669611414, 189048.5027935787, 148365.08639615466, 138320.4232593425, 158118.952017169, 186705.05045025883, 246454.96054029587, 240017.2403008349, 254549.92658439625, 200692.7684877474, 232748.2830432978, 329156.3584963636, 181292.07522104867, 158537.7361708321, 141159.83572179257, 205833.23354103413, 277687.85771070933, 165446.8858311939, 125191.109637117, 217247.84358213015, 159538.7900135352, 84468.67951098934, 190095.21589484444, 144713.25282852707, 302081.4701373443, 196919.90974306644, 201304.51513780272, 156308.77571196822, 118304.4134292247, 80852.66927417806, 252526.02592050366, 128661.15551754445, 182834.37049313338, 177641.82261084102, 124795.58791309515, 162227.87956357852, 96290.24870777421, 152038.0494611729, 128197.06844536318, 142727.142139794, 148567.52618513306, 163921.59807395667, 222282.60130374995, 217473.1328724332, 125194.3530102545, 263253.75204194966, 230197.0361008287, 146052.47616409272, 211401.033820218, 221538.92309545865, 165046.1275184517, 283249.32585469197, 178507.38219947167, 227489.32701491695, 180913.7316369548, 155572.66680836256, 266271.20042760763, 221885.78488379464, 259487.75732783336, 247165.90195060667, 211318.50490765876, 135134.7321513149, 246911.19698232537, 164849.00969193902, 140775.981693521, 122679.60643323997, 253673.41865159268, 344242.56868926226, 258062.42223368073, 139172.27502836892, 180512.2248792515, 166154.0878985354, 103299.98994815862, 211157.54926452335, 99915.09160778619, 133537.30272098602, 317485.0024118878, 243136.63217067835, 150886.12107842776, 156682.16511755052, 294648.87265747995, 229337.15797957833, 183652.77587439257, 241531.90448198887, 226097.55453890533, 253665.44016357505, 101116.59959455304, 205071.2565683736, 195018.97301561246, 172270.91834112612, 144419.39575666154, 97340.38397498261, 83268.79350720423, 175713.2957759304, 185086.25590150413, 153453.078076904, 279633.6390455933, 163173.01846873542, 165776.70588192777, 275402.6180967776, 168857.23475171995, 141117.75467305584, 110530.82876191077, 169955.40480900774, 211127.06022033005, 293087.4194000625, 136818.30958519632, 235619.33222180244, 141613.3161473028, 101030.92294176001, 168341.80074375204, 219224.22840990435, 232622.71489049026, 189006.76506815804, 192634.4067901526, 198058.33066324447, 328933.4619632156, 88308.63021666894, 82972.46197855398, 138566.13230255217, 181692.86847793031, 154938.43497494084, 219097.51585055975, 132059.22521485214, 290445.38332293613, 217123.4777964426, 223818.9276193197, 165018.13405718582, 229923.30857937757, 182141.04792474362, 171470.25061989433, 272483.97998867393, 199465.01803223058, 111154.99907606358, 140891.20240352864, 278664.09568221844, 192161.16128995945, 164541.40195514905, 179408.33139184612, 166220.6202606032, 189551.7441714282, 149456.54461541696, 263677.7273312293, 204776.73857147654, 158793.37595368523, 230427.61467664537, 223239.96738750924, 227282.59127010594, 127182.23808591739, 170029.435699507, 183209.73464284404, 125282.15191961304, 83397.7291919769, 126401.33004405805, 186392.56883850775, 287563.83013274334, 175154.03227421994, 147423.68422569727, 107398.44586548964, 171431.20873814748, 210677.2240204327, 322960.1035260814, 153425.46151438868, 192062.876553658, 151131.33388638205, 242937.69115511223, 312119.26612574584, 227239.37755537598, 241912.32908088167, 77363.03353413458, 133165.47521253256, 149948.5006885202, 116636.37587201713, 243722.21134530863, 292934.3481919227, 163118.29570828882, 160889.19541803977, 169891.75535170827, 219882.70740693228, 212020.57658881738, 261277.64445513487, 260572.038661237, 292619.5895761446, 99467.0758947725, 144689.93561580876, 232521.2720261114, 295982.849633873, 211737.26610099006, 269398.05068470404, 206204.28034404674, 292653.7104784977, 94917.81920125865, 192281.7560444977, 179249.0759434461, 94636.84352863254, 317108.7506005232, 122789.02938720964, 160259.85213894196, 124752.07497925572, 176665.477581715, 114870.78029279741, 198021.10416688718, 192684.6456984068, 103994.52110000937, 210814.0800810553, 237932.7833388768, 315476.869410742, 155609.51951232026, 116844.88236946604, 153027.46854167985, 160189.99033594484, 92150.86382499397, 112679.26905115628, 267978.4781718853, 144288.57702668686, 139500.5809967699, 159321.197348029, 204092.80886847473, 304299.38672816125, 182514.02121432457, 162262.10533290752, 160480.74081842828, 198586.2578685337, 203388.2941704087, 179143.94153675454, 151798.97051753066, 186124.10193237945, 195542.99587548134, 113134.88562911311, 194875.01674212818, 183617.9727720659, 139185.82043537777, 182108.55138465186, 129594.22492373842, 90536.93168077774, 217966.05140989757, 71145.5152072034, 139954.99953796947, 233284.61324005778, 301693.4518502344, 218625.38478861316, 201115.12636315278, 230644.46273206783, 151695.0921257031, 223471.97240602283, 107273.71570120755, 138036.7665867064, 137198.99182638148, 130916.47110175504, 132531.62439486105, 273560.6194172166, 173597.95055432923, 258441.4546777764, 188122.53271757098, 167628.5793920859, 96801.26094223348, 231015.54509222176, 235983.37994009885, 163836.71592643586, 254420.76656259666, 150959.63272347464, 130046.81854314929, 161869.61807753897, 92421.89585624811, 312372.8919346142, 113641.17952504425, 308422.4467229705, 237167.74784584818, 137071.73314460047, 181803.48023753776, 165912.4812428684, 168205.37910477346, 107200.83176228563, 141848.34015118584, 203586.9973251113, 195397.8253060805, 209722.82483571678, 205317.18918794277, 103482.77155162557, 257207.63888600198, 266341.1972697837, 146914.80721516567, 186491.20670429693, 240448.7508178812, 200988.0126076666, 168273.8525919065, 149890.2073286346, 196995.66473365054, 215866.97231092438, 207556.75439009085, 122001.42785587892, 74671.45211319778, 151087.37851782097, 145475.95514427745, 96681.75000496443, 98552.53556676366, 198075.68526405285, 184627.5502187127, 102310.44503946062, 262592.33559844614, 337196.3323779219, 166938.1509253376, 150258.25244092854, 250515.7388135061, 219863.19972383397, 115653.96439233425, 197243.27089023538, 188434.28877687798, 182627.5793673843, 287164.50340233603, 182178.04946646938, 205321.2647412027, 187205.88345804493, 187278.68655088855, 351101.3368455592, 173784.3630219002, 143257.92862898886, 166707.1941951217, 165010.5363546462, 179600.16833345065, 179076.39567959256, 200805.573393823, 213599.1889000327, 147346.9656610339, 146958.4843289866, 130843.03921086664, 83637.20143107614, 319108.13475730224, 86942.15466073794, 230919.03098013662, 160125.13427432737, 184786.09738959093, 172986.135897764, 152038.85494356562, 188671.39869161657, 185034.65469950484, 187850.1673749839, 211072.5637201911, 100907.3582681079, 171083.69534022047, 216238.39062471857, 216711.418410239, 220209.13624718494, 292819.93352117634, 188332.4518491957, 130649.51838485252, 199074.0805161461, 111543.76864943052, 166446.1294942868, 166828.52324768293, 209249.82703793637, 140458.36336183126, 308260.7170349695, 102049.48669546598, 268875.5245403861, 192147.18947133905, 124852.86201900693, 208857.52355865185, 175772.57365301842, 328300.1588408882, 174931.52826096208, 167991.64089631743, 269686.4755684386, 125264.85457607383, 201914.91213325755, 135557.98802169922, 113108.57612939738, 209100.29980904472, 216494.51638580326, 303687.7537194552, 200863.06945607445, 202954.9373058955, 116582.51317417288, 166200.00920517585, 178196.65580014949, 328511.6029091043, 187392.89759082996, 204844.71183022956, 232097.0441674805, 181247.75237770725, 164685.88806334438, 184265.81830430703, 117997.59545870543, 139815.26178840807, 225190.4186670273, 222925.76452440285, 168332.1823782077, 189821.82947882576, 93493.95999510841, 134881.32373216073, 309523.46310228435, 178702.54248431948, 181662.8158067766, 118902.47226925097, 250486.59280668577, 195870.6510985257, 164808.14520636018, 103649.00751330952, 249142.23574488398, 157833.5039215625, 223181.65540909723, 166667.77584170428, 214757.63729497287, 126469.67659927945, 215363.6981056729, 171820.14016426686, 263858.40011139854, 245322.77121247962, 184583.4865497348, 217306.35512256034, 235422.97910647653, 145575.1884800898, 209532.7576627789, 126987.56201703269, 158516.4823110668, 212013.7799700258, 130326.5058514852, 129203.74477046485, 143435.14582786363, 324428.5439263842, 247049.1396911958, 96762.3824459187, 169802.8271437814, 293274.23329407035, 203398.01090256713, 192825.17796622473, 149153.42218039598, 215217.0137181673, 169591.04150166275, 168173.58830348795, 164536.81777142052, 286939.5398309891, 244425.16167204623, 186453.70011902216, 239467.43146851673, 214398.87130302438, 112641.88842050718, 150857.53769750783, 149213.3989616252, 143871.30720588574, 275448.5942971787, 247323.91234985006, 173838.04901427907, 312935.74655691464, 105781.66932926298, 128167.25697229103, 194093.1665826022, 251331.319501804, 101965.54738365175, 104066.7469605936, 89098.89623245453, 91610.40670639352, 148683.32998784614, 227302.08594418684, 282199.15176470426, 236414.31849443377, 162038.40805520996, 326206.51327492465, 170832.96834632612, 112392.92626346409, 150348.16307221705, 142583.0552608716, 171038.81026534282, 181030.0666930332, 191256.69197929298, 225920.59909532507, 167944.6503216086, 212604.4060368681, 203427.20523123126, 210378.28229389252, 222017.02763764176, 138231.87969865056, 189485.61446010752, 96898.60537177474, 205072.5418229262, 103781.56535063796, 108061.69500207058, 167529.8934070097, 333331.29022163304, 165741.41880180634, 136908.47842495266, 68124.38231442505, 82887.67788769538, 263171.2422181837, 118685.45113522674, 162091.01224497848, 272842.2754223599, 141207.1607376116, 107395.5352886588, 157898.41182580622, 105872.50684692331, 218398.04019896893, 184185.80877779558, 149324.65647270443, 213074.74297380116, 349049.7098492729, 169542.86171867163, 234204.64028255068, 229187.0087221479, 300143.2598467485, 194001.55036938624, 146831.62293708196, 200452.21205118546, 127556.42708597545, 245278.1928034886, 145776.6307067786, 290398.18178455264, 162915.61585092073, 267049.73765054723, 159875.97331784075, 156229.78910461004, 149137.80500466947, 77568.59956746463, 176486.7363917444, 312474.6939084142, 232376.6513517632, 103931.19365690988, 102194.43293429476, 102808.48705156198, 231310.28742476756, 163360.59217084828, 82768.02120277454, 196124.6436571639, 211566.38933697483, 75989.8506387116, 114799.87460704059, 76832.76254526318, 72909.96417581281, 119871.88516940994, 136760.27572324505, 150380.13667313894, 148660.676527591, 182997.98265222792, 208927.60946456256, 251824.56849268184, 162042.1872497264, 206048.20178454777, 268582.41088268394, 164125.54542575747, 196092.137346214, 160422.9144332135, 217769.56844844532, 173702.5413727178, 131389.56008796568, 178942.42609809735, 326203.01002855913, 319130.0532630179, 99778.65739383237, 138735.62634697667, 207312.85985581507, 100517.55151011377, 298003.6602592047, 274187.596493701, 182876.15473769006, 190137.92220661015, 261439.8053064874, 174824.06128784176, 247979.60219060193, 267591.26180357614, 209215.86823331195, 138710.06451692805, 205140.1900496519, 141028.9305219947, 198582.74219972524, 255390.8451045621, 195860.04484910032, 325997.39061686303, 164866.2136725844, 138546.9788809925, 121695.27331280125, 81899.93030232075, 205549.2017436915, 151878.22515698595, 203165.02243334032, 95266.96483696667, 244372.814369765, 175180.62389255947, 239328.84858601683, 291695.3713974481, 195823.20603440754, 105299.06406860572, 200301.75025512397, 162321.68225920753, 176443.0722424789, 205847.21677383292, 90473.80537347689, 108930.2854415545, 207346.58599547064, 79318.52289956498, 242108.04355048854, 273590.2169661876, 133465.43271690095, 166285.4555450644, 152944.2334715847, 244917.5397218053, 258410.89562119037, 151348.8163579492, 332884.3149777744, 349942.51862584706, 206474.21431376663, 142311.830537941, 113615.24423766407, 154676.46989773918, 338362.4297734143, 157932.44986013309, 123826.87994125251, 212943.44338843692, 122778.40253088926, 88831.91342836776, 252538.70206126463, 181034.38374743407, 254812.6655102183, 221694.86379973372, 178368.249231151, 103205.20983097, 203368.5919225244, 105006.76886978958, 109151.18411624567, 259103.81796847115, 203577.32776667515, 137795.5617703661, 201873.61158462145, 199413.9131456471, 105930.88497280791, 109653.7739047754, 221107.17685075363, 99025.1722135632, 197675.95848987653, 229993.0310993143, 149150.6420015601, 148950.12409714283, 345409.3776126781, 191686.6113398052, 274568.6812689607, 104545.14528849127, 189629.9338231141, 219037.86062908714, 156286.66863641475, 249358.7407938336, 223848.95959135838, 244746.88618956023, 230035.43543629878, 143552.34790095035, 213196.9451323117, 176192.71150649633, 174512.16068064608, 215137.14039839891, 210227.4114914248, 277054.66231025016, 149592.84298223752, 254453.6500219689, 164015.5116742171, 224553.8390930167, 162554.43659145536, 275540.7605204425, 84881.81862657928, 143193.83463631017, 264780.3176422202, 264967.70132455963, 169800.89315332667, 106729.10392858619, 95769.28427157395, 121695.23265737641, 145729.81410967524, 226435.86262319534, 210257.2223728846, 271808.32381001225, 263885.98250259313, 274017.01659523847, 169293.792970099, 236925.1540874666, 95858.9222999708, 152545.39931592098, 228485.75347580953, 157240.11274996883, 103340.8539144873, 208460.72199761518, 129259.71329192256, 160383.1454062889, 205043.39999582648, 199734.00903606703, 80568.90814128725, 167180.86701629596, 226260.62022862348, 166441.97331179294, 167180.02702300303, 277513.84869395185, 234264.0057292697, 194324.48268025133, 303180.5457125604, 148801.27703543042, 171763.7393822148, 142449.867499112, 314431.50673816813, 165684.20072048585, 310024.45839226514, 155036.33458340264, 171071.0490970587, 221811.64325930362, 169003.01265619523, 219068.7245518741, 82320.0613252078, 193323.77869324383, 143447.66391743708, 219541.12561692533, 257501.31437453307, 235365.9441036178, 179609.70287212828, 209077.7489613939, 139145.1143228672, 162214.3883155076, 210715.8721315699, 105045.90688651342, 211559.43527034402, 157522.9738475244, 224658.02178394044, 157284.15101007823, 155643.70927023498, 121475.11162823191, 100622.8388312492, 326939.6609827662, 206113.38319492844, 152514.3990876914, 167203.60045542062, 97480.63942672005, 206415.9552351615, 218898.5725852248, 154701.17312891793, 277900.7542179059, 141518.36678824853, 239937.68511867992, 203275.48400490926, 138511.74675982882, 157805.95139790332, 216161.9603201433, 147660.43589607946, 203357.63295708207, 153311.8970348283, 213076.41818823185, 173497.56991801455, 212960.38715623703, 200811.5014892734, 175554.6631680323, 181858.45454499594, 135741.52869491925, 200536.24162681203, 150817.2944408728, 184584.67317495536, 336264.67776966916, 75687.47961575213, 183049.8207282464, 215641.03533494443, 212290.39944906233, 160828.94028238903, 214038.7224129509, 148569.00738940068, 155053.06891289493, 210277.74939417432, 148184.24245510396, 132654.8271781422, 128585.786356263, 83018.8389661823, 274913.4681826669, 100329.31411212706, 220017.62278606032, 152299.0152974336, 166760.9207555581, 177812.26165189262, 208043.30420391142, 204384.2772852496, 236979.4833244598, 94446.90685488813, 122063.95265525588, 190682.2774277543, 146978.8252543862, 92701.868786753, 91633.91679227857, 132911.3346673685, 133852.2271346557, 186573.67895272406, 128692.80597755415, 128500.82912949711, 116915.82308802329, 256539.7793317836, 231478.45252516825, 158239.6626940085, 258212.59187694552, 114885.33938382356, 284612.67952178617, 183473.73064162204, 223346.92982114374, 169312.58618128707, 214622.87891626992, 276431.1741805261, 184032.7457723301, 219723.83034231528, 220012.9979183308, 161831.2890469677, 186407.95212773624, 148202.50507835427, 148586.46566194325, 148582.90329707458, 138143.43314307032, 286166.38519137335, 100384.60777415094, 155967.68237319667, 202741.51424028593, 214326.87037956208, 90720.30651033035, 257598.62254275716, 257166.45176564605, 171619.38191289068, 198331.03044886, 110402.80755342898, 156734.40597633005, 260926.8236722209, 257902.87586548578, 162554.67872805847, 90942.41421294402, 161402.27145500516, 227566.6877382614, 244530.72942711317, 132490.48607114004, 222020.0101699068, 220809.2257565667, 257392.33029958914, 149755.6807804905, 201133.38555128002, 78078.81364901747, 227870.02692663757, 339822.4532904031, 220132.01291877354, 221616.25039450443, 310410.5821034963, 144262.22839633707, 143765.6222409471, 175730.10293797537, 270086.8504682428, 157580.29174035578, 149002.8314212775, 202152.22359296997, 86814.5281797447, 119790.9569925615, 188005.23240984857, 188197.8880864356, 172242.21490765185, 130794.85018011925, 178266.39789328532, 334280.62283912726, 247694.45941008572, 72637.46449027184, 113244.2356820797, 116154.00010915357, 136715.40346283047, 221817.9915737158, 136268.71028965758, 269300.2346564885, 118649.1349199245, 142694.4410354438, 298660.86213946494, 235574.5800501393, 197023.90531022017, 201215.781968619, 127934.66622197538, 221980.03646577004, 226971.1533731469, 186810.81769423943, 163418.59921692795, 203880.25898663214, 232645.65133869852, 193866.96928886854, 228346.73861450012, 196803.09914028912, 341310.2401110976, 166590.23432606563, 158664.72470718247, 212640.1969239562, 174878.55125404632, 183687.33937354866, 201391.19533247908, 185162.18074196155, 192504.4226668549, 170752.2348947838, 236705.54243026284, 128559.17204266401, 184607.09643337742, 244922.7070212707, 87496.91809831996, 136250.69918777552, 198074.9694225254, 240463.15096106884, 92971.67244582609, 196732.29934537405, 212680.28542362945, 198525.55103839267, 194316.48606136057, 105065.07035696271, 127924.77701667899, 141147.64446281656, 143294.8868406569, 171712.2597481029, 176786.31045130815, 232500.7836992669, 151880.76884639618, 98655.90815587922, 212606.50150055517, 173585.21431796526, 101017.03890621617, 171710.08633773515, 300499.0411380468, 182771.77644674943, 253162.83569360434, 185078.13656763162, 137213.78786447825, 175912.66474837332, 241561.32831593984, 210781.79713755395, 163370.20534878253, 192246.66449604125, 201514.73499540734, 109216.40939496062, 155787.9821325674, 213680.2884335412, 105585.62670175594, 142204.74666260916, 259996.76937648107, 178257.0025489082, 195518.33431664074, 195220.5853115335, 270338.16357342765, 174455.81709504558, 187046.22732036895, 270976.8642298556, 183111.68435935874, 190547.09746416472, 271469.8340337031, 293502.1575488212, 120004.34315711654, 141104.3433880491, 113115.392867571, 231765.11365641138, 326403.0598615946, 251199.48074484785, 185786.12672804348, 162746.03574050454, 156045.60936728012, 114389.00426522031, 269441.349666546, 222878.91081448257, 114056.38989798653, 124950.65859550217, 160597.5558109559, 292966.5680128434, 247277.97136393085, 216761.36475856585, 111605.12473430394, 109954.67572260973, 199464.67157486416, 255237.6266670097, 95134.1762828788, 145208.0160336831, 114038.31989771938, 244136.4492027814, 146309.0606386424, 155575.1265081914, 218087.48780030082, 197897.80918319646, 251523.3573447558, 202394.79043300857, 192569.18090635567, 101189.95704510952, 202297.3539037708, 274177.9454264931, 219231.67556178392, 205658.0410450859, 158372.3103238754, 280425.4937466348, 167104.37208897158, 343237.19076970237, 133406.85507642868, 205681.3011212055, 169974.9037772813, 145163.09120028213, 131377.93079184645, 183501.07043943752, 191737.75185427658, 157713.88886196556, 150612.43936212972, 170215.79724360752, 170765.06298037953, 117261.3193991952, 217804.29966765686, 193202.68050569465, 133122.10028354835, 138677.89964588865, 193412.34304327032, 308550.36602484947, 117946.95744671181, 184262.79215487372, 228495.17282251728, 290355.6574384355, 282671.568240162, 277442.87049740466, 307089.1130410685, 157915.5555943327, 233329.09507437557, 198849.70981511514, 133944.13162188497, 102788.20130992467, 198718.8106581871, 163549.00338942764, 163547.87598583146, 243137.8786346735, 154258.228490227, 197135.14859095533, 289088.03278480575, 213204.81289727415, 181147.2976001835, 195208.1288495938, 153662.02818713686, 213944.23842157974, 152204.2979919397, 84869.758076956, 167409.07350534445, 236565.37098688737, 229572.70404680286, 123798.51522662792, 287867.58678887703, 255882.00687165445, 84307.27518421736, 157773.06133461947, 112837.25419181558, 158123.63563790196, 149280.2738814329, 208733.84582025209, 177337.89092508084, 164160.6480017393, 191485.5080487417, 243223.28260095045, 193838.43281947233, 194834.2603286289, 200270.1052907908, 187318.70459834216, 126245.69947896808, 288032.73136713146, 247216.16168634017, 128305.01452203841, 120062.25380525079, 221985.33821190434, 194196.6260099756, 180597.75785031123, 150968.68775595093, 145404.81685968005, 196095.0009558375, 88020.94805413565, 166580.59832645132, 162415.23906911747, 119648.55950133149, 198528.3544535601, 210239.7400515847, 310384.62388297095, 227906.8095502577, 131222.11456904188, 138962.01120785618, 113788.58993309565, 306087.0977062249, 175813.6044283025, 348536.21634248353, 254063.8865117185, 210130.06429021948, 85142.12117592734, 113353.05596984671, 190485.4721735688, 140028.31861389178, 157241.07947630933, 204743.82535924594, 192725.68169464305, 179353.9584430415, 208913.72540509567, 211109.7624945869, 193581.21868427258, 129441.25750360379, 213413.5320051614, 121966.8290390576, 209201.3622361229, 135556.5927512906, 119090.38709602982, 111419.03075415504, 279857.6673281859, 165679.00646203704, 221569.64307435259, 154577.76840441584, 82581.31338985184, 200176.69591430158, 125283.56625227869, 127439.79656957435, 150123.1140381148, 213968.70952910947, 199955.19869619884, 181463.51991126843, 223114.78766792978, 81849.446020845, 274167.6283840686, 183118.24154508932, 120365.75467926267, 193610.94914367952, 253255.12052195458, 130370.15310455232, 178899.5804893313, 139809.48510142532, 197261.10146275914, 190377.8597732718, 154169.12340056832, 194241.43327969895, 119004.35618399558, 186060.52673949738, 221766.8701581864, 223841.26029723222, 169849.63555328507, 91810.82003830431, 198492.22370615727, 239200.06593078445, 217480.87171493188, 137756.50177129975, 98902.55458030412, 204598.4243722989, 102573.45483686631, 78850.02688505453, 151093.21674977685, 211861.9094412289, 134378.69472486764, 221573.8064335205, 185275.4373315134, 195613.60428962685, 182947.78176524397, 162831.25360974536, 141983.84297674813, 198985.96766069753, 212022.97378256446, 182026.16999092678, 217750.72072909045, 108102.09910803782, 194750.40965308493, 171079.26528017526, 170767.0794973603, 193625.03320589574, 146505.67168395105, 220289.93874750083, 289352.6802147163, 222922.0839971662, 73772.56045205072, 237404.64586996837, 215610.09477232167, 158006.70725035272, 114026.10786001029, 178445.56608654367, 205446.00192019483, 218865.33274304742, 292889.3730909008, 213871.58964620694, 248346.83440036533, 145493.20151458678, 231350.4807205572, 163508.72987860354, 112057.35244468033, 215842.9963671623, 269671.9915558609, 270405.7809091676, 305789.9289362722, 166872.09283681554, 133108.37407461865, 204109.30598381598, 205896.11848452748, 301344.6083424227, 190288.32422057743, 88815.25211814062, 193183.44218513108, 175730.15721529297, 161325.5711656083, 209309.82662424064, 169441.97224292558, 80771.00710250174, 184100.81597532032, 215859.6609372949, 220273.32659504673, 90285.82600799325, 194285.1145406072, 240576.77951268884, 182471.61218423472, 232985.49991679593, 235584.89467405336, 202361.56773692166, 113442.2072611127, 123738.789035219, 171188.59425944713, 169836.36532578428, 145182.61580644065, 106479.95311976993, 261770.97581366796, 78474.10942922549, 248445.40235775433, 214200.86217036127, 192645.1587101296, 255856.14344253298, 148410.22836053048, 171035.59612954338, 88880.55965824083, 271493.1045108854, 122570.35673075014, 143019.78412984, 159769.96210279912, 259837.40826141695, 176774.395663426, 150641.7562781208, 181581.23382834299, 87974.99201795437, 199460.63479658027, 185878.73576858395, 194898.24948578756]}],\n",
       "                        {\"autosize\": false, \"coloraxis\": {\"colorscale\": [[0.0, \"#440154\"], [0.1111111111111111, \"#482878\"], [0.2222222222222222, \"#3e4989\"], [0.3333333333333333, \"#31688e\"], [0.4444444444444444, \"#26828e\"], [0.5555555555555556, \"#1f9e89\"], [0.6666666666666666, \"#35b779\"], [0.7777777777777778, \"#6ece58\"], [0.8888888888888888, \"#b5de2b\"], [1.0, \"#fde725\"]]}, \"height\": 800, \"template\": {\"data\": {\"bar\": [{\"error_x\": {\"color\": \"#2a3f5f\"}, \"error_y\": {\"color\": \"#2a3f5f\"}, \"marker\": {\"line\": {\"color\": \"#E5ECF6\", \"width\": 0.5}}, \"type\": \"bar\"}], \"barpolar\": [{\"marker\": {\"line\": {\"color\": \"#E5ECF6\", \"width\": 0.5}}, \"type\": \"barpolar\"}], \"carpet\": [{\"aaxis\": {\"endlinecolor\": \"#2a3f5f\", \"gridcolor\": \"white\", \"linecolor\": \"white\", \"minorgridcolor\": \"white\", \"startlinecolor\": \"#2a3f5f\"}, \"baxis\": {\"endlinecolor\": \"#2a3f5f\", \"gridcolor\": \"white\", \"linecolor\": \"white\", \"minorgridcolor\": \"white\", \"startlinecolor\": \"#2a3f5f\"}, \"type\": \"carpet\"}], \"choropleth\": [{\"colorbar\": {\"outlinewidth\": 0, \"ticks\": \"\"}, \"type\": \"choropleth\"}], \"contour\": [{\"colorbar\": {\"outlinewidth\": 0, \"ticks\": \"\"}, \"colorscale\": [[0.0, \"#0d0887\"], [0.1111111111111111, \"#46039f\"], [0.2222222222222222, \"#7201a8\"], [0.3333333333333333, \"#9c179e\"], [0.4444444444444444, \"#bd3786\"], [0.5555555555555556, \"#d8576b\"], [0.6666666666666666, \"#ed7953\"], [0.7777777777777778, \"#fb9f3a\"], [0.8888888888888888, \"#fdca26\"], [1.0, \"#f0f921\"]], \"type\": \"contour\"}], \"contourcarpet\": [{\"colorbar\": {\"outlinewidth\": 0, \"ticks\": \"\"}, \"type\": \"contourcarpet\"}], \"heatmap\": [{\"colorbar\": {\"outlinewidth\": 0, \"ticks\": \"\"}, \"colorscale\": [[0.0, \"#0d0887\"], [0.1111111111111111, \"#46039f\"], [0.2222222222222222, \"#7201a8\"], [0.3333333333333333, \"#9c179e\"], [0.4444444444444444, \"#bd3786\"], [0.5555555555555556, \"#d8576b\"], [0.6666666666666666, \"#ed7953\"], [0.7777777777777778, \"#fb9f3a\"], [0.8888888888888888, \"#fdca26\"], [1.0, \"#f0f921\"]], \"type\": \"heatmap\"}], \"heatmapgl\": [{\"colorbar\": {\"outlinewidth\": 0, \"ticks\": \"\"}, \"colorscale\": [[0.0, \"#0d0887\"], [0.1111111111111111, \"#46039f\"], [0.2222222222222222, \"#7201a8\"], [0.3333333333333333, \"#9c179e\"], [0.4444444444444444, \"#bd3786\"], [0.5555555555555556, \"#d8576b\"], [0.6666666666666666, \"#ed7953\"], [0.7777777777777778, \"#fb9f3a\"], [0.8888888888888888, \"#fdca26\"], [1.0, \"#f0f921\"]], \"type\": \"heatmapgl\"}], \"histogram\": [{\"marker\": {\"colorbar\": {\"outlinewidth\": 0, \"ticks\": \"\"}}, \"type\": \"histogram\"}], \"histogram2d\": [{\"colorbar\": {\"outlinewidth\": 0, \"ticks\": \"\"}, \"colorscale\": [[0.0, \"#0d0887\"], [0.1111111111111111, \"#46039f\"], [0.2222222222222222, \"#7201a8\"], [0.3333333333333333, \"#9c179e\"], [0.4444444444444444, \"#bd3786\"], [0.5555555555555556, \"#d8576b\"], [0.6666666666666666, \"#ed7953\"], [0.7777777777777778, \"#fb9f3a\"], [0.8888888888888888, \"#fdca26\"], [1.0, \"#f0f921\"]], \"type\": \"histogram2d\"}], \"histogram2dcontour\": [{\"colorbar\": {\"outlinewidth\": 0, \"ticks\": \"\"}, \"colorscale\": [[0.0, \"#0d0887\"], [0.1111111111111111, \"#46039f\"], [0.2222222222222222, \"#7201a8\"], [0.3333333333333333, \"#9c179e\"], [0.4444444444444444, \"#bd3786\"], [0.5555555555555556, \"#d8576b\"], [0.6666666666666666, \"#ed7953\"], [0.7777777777777778, \"#fb9f3a\"], [0.8888888888888888, \"#fdca26\"], [1.0, \"#f0f921\"]], \"type\": \"histogram2dcontour\"}], \"mesh3d\": [{\"colorbar\": {\"outlinewidth\": 0, \"ticks\": \"\"}, \"type\": \"mesh3d\"}], \"parcoords\": [{\"line\": {\"colorbar\": {\"outlinewidth\": 0, \"ticks\": \"\"}}, \"type\": \"parcoords\"}], \"pie\": [{\"automargin\": true, \"type\": \"pie\"}], \"scatter\": [{\"marker\": {\"colorbar\": {\"outlinewidth\": 0, \"ticks\": \"\"}}, \"type\": \"scatter\"}], \"scatter3d\": [{\"line\": {\"colorbar\": {\"outlinewidth\": 0, \"ticks\": \"\"}}, \"marker\": {\"colorbar\": {\"outlinewidth\": 0, \"ticks\": \"\"}}, \"type\": \"scatter3d\"}], \"scattercarpet\": [{\"marker\": {\"colorbar\": {\"outlinewidth\": 0, \"ticks\": \"\"}}, \"type\": \"scattercarpet\"}], \"scattergeo\": [{\"marker\": {\"colorbar\": {\"outlinewidth\": 0, \"ticks\": \"\"}}, \"type\": \"scattergeo\"}], \"scattergl\": [{\"marker\": {\"colorbar\": {\"outlinewidth\": 0, \"ticks\": \"\"}}, \"type\": \"scattergl\"}], \"scattermapbox\": [{\"marker\": {\"colorbar\": {\"outlinewidth\": 0, \"ticks\": \"\"}}, \"type\": \"scattermapbox\"}], \"scatterpolar\": [{\"marker\": {\"colorbar\": {\"outlinewidth\": 0, \"ticks\": \"\"}}, \"type\": \"scatterpolar\"}], \"scatterpolargl\": [{\"marker\": {\"colorbar\": {\"outlinewidth\": 0, \"ticks\": \"\"}}, \"type\": \"scatterpolargl\"}], \"scatterternary\": [{\"marker\": {\"colorbar\": {\"outlinewidth\": 0, \"ticks\": \"\"}}, \"type\": \"scatterternary\"}], \"surface\": [{\"colorbar\": {\"outlinewidth\": 0, \"ticks\": \"\"}, \"colorscale\": [[0.0, \"#0d0887\"], [0.1111111111111111, \"#46039f\"], [0.2222222222222222, \"#7201a8\"], [0.3333333333333333, \"#9c179e\"], [0.4444444444444444, \"#bd3786\"], [0.5555555555555556, \"#d8576b\"], [0.6666666666666666, \"#ed7953\"], [0.7777777777777778, \"#fb9f3a\"], [0.8888888888888888, \"#fdca26\"], [1.0, \"#f0f921\"]], \"type\": \"surface\"}], \"table\": [{\"cells\": {\"fill\": {\"color\": \"#EBF0F8\"}, \"line\": {\"color\": \"white\"}}, \"header\": {\"fill\": {\"color\": \"#C8D4E3\"}, \"line\": {\"color\": \"white\"}}, \"type\": \"table\"}]}, \"layout\": {\"annotationdefaults\": {\"arrowcolor\": \"#2a3f5f\", \"arrowhead\": 0, \"arrowwidth\": 1}, \"coloraxis\": {\"colorbar\": {\"outlinewidth\": 0, \"ticks\": \"\"}}, \"colorscale\": {\"diverging\": [[0, \"#8e0152\"], [0.1, \"#c51b7d\"], [0.2, \"#de77ae\"], [0.3, \"#f1b6da\"], [0.4, \"#fde0ef\"], [0.5, \"#f7f7f7\"], [0.6, \"#e6f5d0\"], [0.7, \"#b8e186\"], [0.8, \"#7fbc41\"], [0.9, \"#4d9221\"], [1, \"#276419\"]], \"sequential\": [[0.0, \"#0d0887\"], [0.1111111111111111, \"#46039f\"], [0.2222222222222222, \"#7201a8\"], [0.3333333333333333, \"#9c179e\"], [0.4444444444444444, \"#bd3786\"], [0.5555555555555556, \"#d8576b\"], [0.6666666666666666, \"#ed7953\"], [0.7777777777777778, \"#fb9f3a\"], [0.8888888888888888, \"#fdca26\"], [1.0, \"#f0f921\"]], \"sequentialminus\": [[0.0, \"#0d0887\"], [0.1111111111111111, \"#46039f\"], [0.2222222222222222, \"#7201a8\"], [0.3333333333333333, \"#9c179e\"], [0.4444444444444444, \"#bd3786\"], [0.5555555555555556, \"#d8576b\"], [0.6666666666666666, \"#ed7953\"], [0.7777777777777778, \"#fb9f3a\"], [0.8888888888888888, \"#fdca26\"], [1.0, \"#f0f921\"]]}, \"colorway\": [\"#636efa\", \"#EF553B\", \"#00cc96\", \"#ab63fa\", \"#FFA15A\", \"#19d3f3\", \"#FF6692\", \"#B6E880\", \"#FF97FF\", \"#FECB52\"], \"font\": {\"color\": \"#2a3f5f\"}, \"geo\": {\"bgcolor\": \"white\", \"lakecolor\": \"white\", \"landcolor\": \"#E5ECF6\", \"showlakes\": true, \"showland\": true, \"subunitcolor\": \"white\"}, \"hoverlabel\": {\"align\": \"left\"}, \"hovermode\": \"closest\", \"mapbox\": {\"style\": \"light\"}, \"paper_bgcolor\": \"white\", \"plot_bgcolor\": \"#E5ECF6\", \"polar\": {\"angularaxis\": {\"gridcolor\": \"white\", \"linecolor\": \"white\", \"ticks\": \"\"}, \"bgcolor\": \"#E5ECF6\", \"radialaxis\": {\"gridcolor\": \"white\", \"linecolor\": \"white\", \"ticks\": \"\"}}, \"scene\": {\"xaxis\": {\"backgroundcolor\": \"#E5ECF6\", \"gridcolor\": \"white\", \"gridwidth\": 2, \"linecolor\": \"white\", \"showbackground\": true, \"ticks\": \"\", \"zerolinecolor\": \"white\"}, \"yaxis\": {\"backgroundcolor\": \"#E5ECF6\", \"gridcolor\": \"white\", \"gridwidth\": 2, \"linecolor\": \"white\", \"showbackground\": true, \"ticks\": \"\", \"zerolinecolor\": \"white\"}, \"zaxis\": {\"backgroundcolor\": \"#E5ECF6\", \"gridcolor\": \"white\", \"gridwidth\": 2, \"linecolor\": \"white\", \"showbackground\": true, \"ticks\": \"\", \"zerolinecolor\": \"white\"}}, \"shapedefaults\": {\"line\": {\"color\": \"#2a3f5f\"}}, \"ternary\": {\"aaxis\": {\"gridcolor\": \"white\", \"linecolor\": \"white\", \"ticks\": \"\"}, \"baxis\": {\"gridcolor\": \"white\", \"linecolor\": \"white\", \"ticks\": \"\"}, \"bgcolor\": \"#E5ECF6\", \"caxis\": {\"gridcolor\": \"white\", \"linecolor\": \"white\", \"ticks\": \"\"}}, \"title\": {\"x\": 0.05}, \"xaxis\": {\"automargin\": true, \"gridcolor\": \"white\", \"linecolor\": \"white\", \"ticks\": \"\", \"title\": {\"standoff\": 15}, \"zerolinecolor\": \"white\", \"zerolinewidth\": 2}, \"yaxis\": {\"automargin\": true, \"gridcolor\": \"white\", \"linecolor\": \"white\", \"ticks\": \"\", \"title\": {\"standoff\": 15}, \"zerolinecolor\": \"white\", \"zerolinewidth\": 2}}}, \"title\": {\"text\": \"Predicted vs Actual Housing Prices\"}, \"width\": 1000, \"xaxis\": {\"title\": {\"text\": \"Actual Values\"}}, \"yaxis\": {\"title\": {\"text\": \"Predicted Values\"}}},\n",
       "                        {\"responsive\": true}\n",
       "                    ).then(function(){\n",
       "                            \n",
       "var gd = document.getElementById('9d4a0c2f-4325-4e90-9c09-0740c693fdbf');\n",
       "var x = new MutationObserver(function (mutations, observer) {{\n",
       "        var display = window.getComputedStyle(gd).display;\n",
       "        if (!display || display === 'none') {{\n",
       "            console.log([gd, 'removed!']);\n",
       "            Plotly.purge(gd);\n",
       "            observer.disconnect();\n",
       "        }}\n",
       "}});\n",
       "\n",
       "// Listen for the removal of the full notebook cells\n",
       "var notebookContainer = gd.closest('#notebook-container');\n",
       "if (notebookContainer) {{\n",
       "    x.observe(notebookContainer, {childList: true});\n",
       "}}\n",
       "\n",
       "// Listen for the clearing of the current output cell\n",
       "var outputEl = gd.closest('.output');\n",
       "if (outputEl) {{\n",
       "    x.observe(outputEl, {childList: true});\n",
       "}}\n",
       "\n",
       "                        })\n",
       "                };\n",
       "                \n",
       "            </script>\n",
       "        </div>\n",
       "</body>\n",
       "</html>"
      ]
     },
     "metadata": {},
     "output_type": "display_data"
    }
   ],
   "source": [
    "import matplotlib.pyplot as plt\n",
    "\n",
    "import plotly.graph_objects as go\n",
    "fig = go.Figure(data=go.Scattergl(\n",
    "    x=y_te, y=y_te_estimation,\n",
    "    mode='markers',\n",
    "    marker=dict(\n",
    "        color = y_te_estimation,\n",
    "        size = 5,\n",
    "        coloraxis=\"coloraxis\")\n",
    "))\n",
    "fig.update_yaxes(title_text=\"Predicted Values\")\n",
    "fig.update_xaxes(title_text=\"Actual Values\")\n",
    "fig.update_layout(\n",
    "    autosize=False,\n",
    "    width=1000,\n",
    "    height=800,\n",
    "    title_text=\"Predicted vs Actual Housing Prices\",\n",
    "coloraxis=dict(colorscale='Viridis'))\n",
    "fig.update_traces(hovertemplate='Actual: %{x} <br> Predicted: %{y}') \n",
    "fig.show()"
   ]
  },
  {
   "cell_type": "markdown",
   "metadata": {
    "id": "p-vx-bVxv1Y9"
   },
   "source": [
    "**Now lets compare the a performance of SVR with Actual Y and Log Transformation Y variable (will this improve the RMSE?)**"
   ]
  },
  {
   "cell_type": "code",
   "execution_count": null,
   "metadata": {
    "id": "chYV8XNuMvWx"
   },
   "outputs": [],
   "source": [
    "y_ltr = np.log(y_tr)\n",
    "y_lte = np.log(y_te)"
   ]
  },
  {
   "cell_type": "code",
   "execution_count": null,
   "metadata": {
    "colab": {
     "base_uri": "https://localhost:8080/",
     "height": 422
    },
    "id": "f-nT_OFr7A6W",
    "outputId": "37ff05ee-aa51-4728-e3c8-96ba2d4ece78"
   },
   "outputs": [
    {
     "data": {
      "text/html": [
       "<div>\n",
       "<style scoped>\n",
       "    .dataframe tbody tr th:only-of-type {\n",
       "        vertical-align: middle;\n",
       "    }\n",
       "\n",
       "    .dataframe tbody tr th {\n",
       "        vertical-align: top;\n",
       "    }\n",
       "\n",
       "    .dataframe thead th {\n",
       "        text-align: right;\n",
       "    }\n",
       "</style>\n",
       "<table border=\"1\" class=\"dataframe\">\n",
       "  <thead>\n",
       "    <tr style=\"text-align: right;\">\n",
       "      <th></th>\n",
       "      <th>median_house_value</th>\n",
       "    </tr>\n",
       "  </thead>\n",
       "  <tbody>\n",
       "    <tr>\n",
       "      <th>7061</th>\n",
       "      <td>193800.0</td>\n",
       "    </tr>\n",
       "    <tr>\n",
       "      <th>14689</th>\n",
       "      <td>169700.0</td>\n",
       "    </tr>\n",
       "    <tr>\n",
       "      <th>17323</th>\n",
       "      <td>259800.0</td>\n",
       "    </tr>\n",
       "    <tr>\n",
       "      <th>10056</th>\n",
       "      <td>136100.0</td>\n",
       "    </tr>\n",
       "    <tr>\n",
       "      <th>15750</th>\n",
       "      <td>500001.0</td>\n",
       "    </tr>\n",
       "    <tr>\n",
       "      <th>...</th>\n",
       "      <td>...</td>\n",
       "    </tr>\n",
       "    <tr>\n",
       "      <th>11284</th>\n",
       "      <td>229200.0</td>\n",
       "    </tr>\n",
       "    <tr>\n",
       "      <th>11964</th>\n",
       "      <td>97800.0</td>\n",
       "    </tr>\n",
       "    <tr>\n",
       "      <th>5390</th>\n",
       "      <td>222100.0</td>\n",
       "    </tr>\n",
       "    <tr>\n",
       "      <th>860</th>\n",
       "      <td>283500.0</td>\n",
       "    </tr>\n",
       "    <tr>\n",
       "      <th>15795</th>\n",
       "      <td>325000.0</td>\n",
       "    </tr>\n",
       "  </tbody>\n",
       "</table>\n",
       "<p>14448 rows × 1 columns</p>\n",
       "</div>"
      ],
      "text/plain": [
       "       median_house_value\n",
       "7061             193800.0\n",
       "14689            169700.0\n",
       "17323            259800.0\n",
       "10056            136100.0\n",
       "15750            500001.0\n",
       "...                   ...\n",
       "11284            229200.0\n",
       "11964             97800.0\n",
       "5390             222100.0\n",
       "860              283500.0\n",
       "15795            325000.0\n",
       "\n",
       "[14448 rows x 1 columns]"
      ]
     },
     "execution_count": 14,
     "metadata": {},
     "output_type": "execute_result"
    }
   ],
   "source": [
    "y_tr"
   ]
  },
  {
   "cell_type": "code",
   "execution_count": null,
   "metadata": {
    "colab": {
     "base_uri": "https://localhost:8080/",
     "height": 422
    },
    "id": "puHa5fRb7Dzc",
    "outputId": "454af8fc-4fba-4f66-88a7-73ab489e42f0"
   },
   "outputs": [
    {
     "data": {
      "text/html": [
       "<div>\n",
       "<style scoped>\n",
       "    .dataframe tbody tr th:only-of-type {\n",
       "        vertical-align: middle;\n",
       "    }\n",
       "\n",
       "    .dataframe tbody tr th {\n",
       "        vertical-align: top;\n",
       "    }\n",
       "\n",
       "    .dataframe thead th {\n",
       "        text-align: right;\n",
       "    }\n",
       "</style>\n",
       "<table border=\"1\" class=\"dataframe\">\n",
       "  <thead>\n",
       "    <tr style=\"text-align: right;\">\n",
       "      <th></th>\n",
       "      <th>median_house_value</th>\n",
       "    </tr>\n",
       "  </thead>\n",
       "  <tbody>\n",
       "    <tr>\n",
       "      <th>7061</th>\n",
       "      <td>12.174582</td>\n",
       "    </tr>\n",
       "    <tr>\n",
       "      <th>14689</th>\n",
       "      <td>12.041787</td>\n",
       "    </tr>\n",
       "    <tr>\n",
       "      <th>17323</th>\n",
       "      <td>12.467667</td>\n",
       "    </tr>\n",
       "    <tr>\n",
       "      <th>10056</th>\n",
       "      <td>11.821145</td>\n",
       "    </tr>\n",
       "    <tr>\n",
       "      <th>15750</th>\n",
       "      <td>13.122365</td>\n",
       "    </tr>\n",
       "    <tr>\n",
       "      <th>...</th>\n",
       "      <td>...</td>\n",
       "    </tr>\n",
       "    <tr>\n",
       "      <th>11284</th>\n",
       "      <td>12.342350</td>\n",
       "    </tr>\n",
       "    <tr>\n",
       "      <th>11964</th>\n",
       "      <td>11.490680</td>\n",
       "    </tr>\n",
       "    <tr>\n",
       "      <th>5390</th>\n",
       "      <td>12.310883</td>\n",
       "    </tr>\n",
       "    <tr>\n",
       "      <th>860</th>\n",
       "      <td>12.554967</td>\n",
       "    </tr>\n",
       "    <tr>\n",
       "      <th>15795</th>\n",
       "      <td>12.691580</td>\n",
       "    </tr>\n",
       "  </tbody>\n",
       "</table>\n",
       "<p>14448 rows × 1 columns</p>\n",
       "</div>"
      ],
      "text/plain": [
       "       median_house_value\n",
       "7061            12.174582\n",
       "14689           12.041787\n",
       "17323           12.467667\n",
       "10056           11.821145\n",
       "15750           13.122365\n",
       "...                   ...\n",
       "11284           12.342350\n",
       "11964           11.490680\n",
       "5390            12.310883\n",
       "860             12.554967\n",
       "15795           12.691580\n",
       "\n",
       "[14448 rows x 1 columns]"
      ]
     },
     "execution_count": 15,
     "metadata": {},
     "output_type": "execute_result"
    }
   ],
   "source": [
    "y_ltr"
   ]
  },
  {
   "cell_type": "code",
   "execution_count": null,
   "metadata": {
    "colab": {
     "base_uri": "https://localhost:8080/"
    },
    "id": "Jc5mAnhiv0LD",
    "outputId": "59686334-cece-4f49-e584-81087e5d72fc"
   },
   "outputs": [
    {
     "name": "stdout",
     "output_type": "stream",
     "text": [
      "Fitting 3 folds for each of 9 candidates, totalling 27 fits\n",
      "[CV] C=50, gamma=0.05 ................................................\n"
     ]
    },
    {
     "name": "stderr",
     "output_type": "stream",
     "text": [
      "[Parallel(n_jobs=1)]: Using backend SequentialBackend with 1 concurrent workers.\n"
     ]
    },
    {
     "name": "stdout",
     "output_type": "stream",
     "text": [
      "[CV] ................................. C=50, gamma=0.05, total=  28.4s\n",
      "[CV] C=50, gamma=0.05 ................................................\n"
     ]
    },
    {
     "name": "stderr",
     "output_type": "stream",
     "text": [
      "[Parallel(n_jobs=1)]: Done   1 out of   1 | elapsed:   28.4s remaining:    0.0s\n"
     ]
    },
    {
     "name": "stdout",
     "output_type": "stream",
     "text": [
      "[CV] ................................. C=50, gamma=0.05, total=  28.4s\n",
      "[CV] C=50, gamma=0.05 ................................................\n",
      "[CV] ................................. C=50, gamma=0.05, total=  28.8s\n",
      "[CV] C=50, gamma=0.1 .................................................\n",
      "[CV] .................................. C=50, gamma=0.1, total=  45.5s\n",
      "[CV] C=50, gamma=0.1 .................................................\n",
      "[CV] .................................. C=50, gamma=0.1, total=  43.9s\n",
      "[CV] C=50, gamma=0.1 .................................................\n",
      "[CV] .................................. C=50, gamma=0.1, total=  45.3s\n",
      "[CV] C=50, gamma=0.15 ................................................\n",
      "[CV] ................................. C=50, gamma=0.15, total= 1.0min\n",
      "[CV] C=50, gamma=0.15 ................................................\n",
      "[CV] ................................. C=50, gamma=0.15, total= 1.0min\n",
      "[CV] C=50, gamma=0.15 ................................................\n",
      "[CV] ................................. C=50, gamma=0.15, total=  59.9s\n",
      "[CV] C=150, gamma=0.05 ...............................................\n",
      "[CV] ................................ C=150, gamma=0.05, total= 1.2min\n",
      "[CV] C=150, gamma=0.05 ...............................................\n",
      "[CV] ................................ C=150, gamma=0.05, total= 1.2min\n",
      "[CV] C=150, gamma=0.05 ...............................................\n",
      "[CV] ................................ C=150, gamma=0.05, total= 1.2min\n",
      "[CV] C=150, gamma=0.1 ................................................\n",
      "[CV] ................................. C=150, gamma=0.1, total= 2.2min\n",
      "[CV] C=150, gamma=0.1 ................................................\n",
      "[CV] ................................. C=150, gamma=0.1, total= 2.2min\n",
      "[CV] C=150, gamma=0.1 ................................................\n",
      "[CV] ................................. C=150, gamma=0.1, total= 2.1min\n",
      "[CV] C=150, gamma=0.15 ...............................................\n",
      "[CV] ................................ C=150, gamma=0.15, total= 2.9min\n",
      "[CV] C=150, gamma=0.15 ...............................................\n",
      "[CV] ................................ C=150, gamma=0.15, total= 3.1min\n",
      "[CV] C=150, gamma=0.15 ...............................................\n",
      "[CV] ................................ C=150, gamma=0.15, total= 3.0min\n",
      "[CV] C=300, gamma=0.05 ...............................................\n",
      "[CV] ................................ C=300, gamma=0.05, total= 2.3min\n",
      "[CV] C=300, gamma=0.05 ...............................................\n",
      "[CV] ................................ C=300, gamma=0.05, total= 2.3min\n",
      "[CV] C=300, gamma=0.05 ...............................................\n",
      "[CV] ................................ C=300, gamma=0.05, total= 2.3min\n",
      "[CV] C=300, gamma=0.1 ................................................\n",
      "[CV] ................................. C=300, gamma=0.1, total= 4.0min\n",
      "[CV] C=300, gamma=0.1 ................................................\n",
      "[CV] ................................. C=300, gamma=0.1, total= 4.4min\n",
      "[CV] C=300, gamma=0.1 ................................................\n",
      "[CV] ................................. C=300, gamma=0.1, total= 4.2min\n",
      "[CV] C=300, gamma=0.15 ...............................................\n",
      "[CV] ................................ C=300, gamma=0.15, total= 6.2min\n",
      "[CV] C=300, gamma=0.15 ...............................................\n",
      "[CV] ................................ C=300, gamma=0.15, total= 5.8min\n",
      "[CV] C=300, gamma=0.15 ...............................................\n",
      "[CV] ................................ C=300, gamma=0.15, total= 6.1min\n"
     ]
    },
    {
     "name": "stderr",
     "output_type": "stream",
     "text": [
      "[Parallel(n_jobs=1)]: Done  27 out of  27 | elapsed: 63.3min finished\n"
     ]
    },
    {
     "data": {
      "text/plain": [
       "GridSearchCV(cv=3, error_score=nan,\n",
       "             estimator=SVR(C=1.0, cache_size=200, coef0=0.0, degree=3,\n",
       "                           epsilon=0.1, gamma='scale', kernel='rbf',\n",
       "                           max_iter=-1, shrinking=True, tol=0.001,\n",
       "                           verbose=False),\n",
       "             iid='deprecated', n_jobs=None,\n",
       "             param_grid=[{'C': [50, 150, 300], 'gamma': [0.05, 0.1, 0.15]}],\n",
       "             pre_dispatch='2*n_jobs', refit=True, return_train_score=False,\n",
       "             scoring='neg_mean_squared_error', verbose=2)"
      ]
     },
     "execution_count": 24,
     "metadata": {},
     "output_type": "execute_result"
    }
   ],
   "source": [
    "from sklearn.svm import SVR #- Takes 60 min on training\n",
    "\n",
    "C_vals = [50,150,300]\n",
    "gamma_vals = [0.05, 0.10,0.15]\n",
    "\n",
    "param_grid = [{'C':C_vals, 'gamma':gamma_vals}]\n",
    "grid_search_rbf = GridSearchCV(SVR(kernel='rbf'), param_grid, cv=3,scoring='neg_mean_squared_error', verbose=2)\n",
    "grid_search_rbf.fit(X_train, np.ravel(y_ltr))"
   ]
  },
  {
   "cell_type": "code",
   "execution_count": null,
   "metadata": {
    "colab": {
     "base_uri": "https://localhost:8080/"
    },
    "id": "9dhw_OWhxrMR",
    "outputId": "331bd05a-cb95-47a9-f1a0-72f3588e18bf"
   },
   "outputs": [
    {
     "name": "stdout",
     "output_type": "stream",
     "text": [
      "{'C': 50, 'gamma': 0.1}\n",
      "0.261867365157418\n"
     ]
    }
   ],
   "source": [
    "#1st Model Insights\n",
    "print(grid_search_rbf.best_params_)\n",
    "print(np.sqrt(-grid_search_rbf.best_score_))"
   ]
  },
  {
   "cell_type": "code",
   "execution_count": null,
   "metadata": {
    "colab": {
     "base_uri": "https://localhost:8080/"
    },
    "id": "--BJKDZMxxf6",
    "outputId": "5f1b722c-af09-4642-8ab8-1b034358e0db"
   },
   "outputs": [
    {
     "name": "stdout",
     "output_type": "stream",
     "text": [
      "0.2550378909095587\n"
     ]
    }
   ],
   "source": [
    "#first Model\n",
    "from sklearn.metrics import mean_squared_error\n",
    "\n",
    "final_model = grid_search_rbf.best_estimator_   ## THIS SHOULD BE THE BEST GRID_SEARCH ##\n",
    "\n",
    "y_lte_estimation = final_model.predict(X_test)\n",
    "\n",
    "final_mse = mean_squared_error(y_lte, y_lte_estimation)\n",
    "final_rmse = np.sqrt(final_mse)\n",
    "print(final_rmse)"
   ]
  },
  {
   "cell_type": "markdown",
   "metadata": {
    "id": "0kMn4W8AZIee"
   },
   "source": [
    "Lets Compare the first Prediction vs Actual for First Model (without Log)"
   ]
  },
  {
   "cell_type": "code",
   "execution_count": null,
   "metadata": {
    "colab": {
     "base_uri": "https://localhost:8080/"
    },
    "id": "rIRadCMaNY4s",
    "outputId": "8bd26144-dd69-4723-8c7e-4c344f80cf28"
   },
   "outputs": [
    {
     "name": "stdout",
     "output_type": "stream",
     "text": [
      "[47700.]\n"
     ]
    }
   ],
   "source": [
    "# Actual value\n",
    "Actual = y_te[:1]\n",
    "print(Actual)"
   ]
  },
  {
   "cell_type": "code",
   "execution_count": null,
   "metadata": {
    "colab": {
     "base_uri": "https://localhost:8080/"
    },
    "id": "zAI7jBsLMDu8",
    "outputId": "f7711dbc-59e6-49f0-a09d-654bb49740c5"
   },
   "outputs": [
    {
     "name": "stdout",
     "output_type": "stream",
     "text": [
      "69204.53568110574\n"
     ]
    }
   ],
   "source": [
    "#Prediction without the log\n",
    "Prediction_Without_Log = y_te_estimation[0]\n",
    "print(Prediction_Without_Log)"
   ]
  },
  {
   "cell_type": "code",
   "execution_count": null,
   "metadata": {
    "colab": {
     "base_uri": "https://localhost:8080/"
    },
    "id": "cKVe8kaeyJbS",
    "outputId": "9741ed60-a926-4670-d58c-69b1666145d5"
   },
   "outputs": [
    {
     "name": "stdout",
     "output_type": "stream",
     "text": [
      "48080.97334470886\n"
     ]
    }
   ],
   "source": [
    "#Prediction with Log\n",
    "y_lte_estimation = np.exp(y_lte_estimation)\n",
    "Prediction_Without_Log = y_lte_estimation[0]\n",
    "print(Prediction_Without_Log)"
   ]
  },
  {
   "cell_type": "markdown",
   "metadata": {
    "id": "3T0oJwyNr1cf"
   },
   "source": [
    "As a result of applying Log Transformation, You can see the Actual Value (47700) is much closer to Log - Exp Transformed prediction (48757.71) compared to default prediction (57848.334)"
   ]
  },
  {
   "cell_type": "markdown",
   "metadata": {
    "collapsed": true,
    "id": "7098lskfjtNc"
   },
   "source": [
    "### 2. SVM for Classification\n",
    "\n",
    "Now we transform the continuous target into a binary variable, and try a classification model, that will predict whether or not the price is above the average $179700\n"
   ]
  },
  {
   "cell_type": "code",
   "execution_count": null,
   "metadata": {
    "id": "bzjUjmlSjtNe"
   },
   "outputs": [],
   "source": [
    "from sklearn.metrics import accuracy_score"
   ]
  },
  {
   "cell_type": "code",
   "execution_count": null,
   "metadata": {
    "colab": {
     "base_uri": "https://localhost:8080/"
    },
    "id": "aphHGdZUjtNn",
    "outputId": "1f44908a-9585-4c27-8b2e-828d7109d79f"
   },
   "outputs": [
    {
     "data": {
      "text/plain": [
       "179700.0"
      ]
     },
     "execution_count": 44,
     "metadata": {},
     "output_type": "execute_result"
    }
   ],
   "source": [
    "np.median(housing[['median_house_value']])"
   ]
  },
  {
   "cell_type": "markdown",
   "metadata": {
    "id": "MK_ryvz9jtN3"
   },
   "source": [
    "#### Binary target variable"
   ]
  },
  {
   "cell_type": "code",
   "execution_count": null,
   "metadata": {
    "id": "ikF2HZgpjtN5"
   },
   "outputs": [],
   "source": [
    "y_tr_b = 1*np.ravel(y_tr>=179700.0)\n",
    "y_te_b = 1*np.ravel(y_te>=179700.0)"
   ]
  },
  {
   "cell_type": "code",
   "execution_count": null,
   "metadata": {
    "colab": {
     "base_uri": "https://localhost:8080/"
    },
    "id": "EzEIgcVe4FTN",
    "outputId": "a58a29f4-efd4-4790-8bce-bd3d35d80ae6"
   },
   "outputs": [
    {
     "data": {
      "text/plain": [
       "array([0, 0, 1, ..., 1, 0, 1])"
      ]
     },
     "execution_count": 46,
     "metadata": {},
     "output_type": "execute_result"
    }
   ],
   "source": [
    "y_te_b"
   ]
  },
  {
   "cell_type": "markdown",
   "metadata": {
    "id": "zfd8pYyyjtOF"
   },
   "source": [
    "#### Linear SVC for classification"
   ]
  },
  {
   "cell_type": "code",
   "execution_count": null,
   "metadata": {
    "id": "Rhhw3TG4jtOH"
   },
   "outputs": [],
   "source": [
    "from sklearn.svm import LinearSVC"
   ]
  },
  {
   "cell_type": "code",
   "execution_count": null,
   "metadata": {
    "colab": {
     "base_uri": "https://localhost:8080/"
    },
    "id": "Otj6VGNBjtOS",
    "outputId": "254f6d6f-b3f2-45ad-f4fc-4ab82371f6f5"
   },
   "outputs": [
    {
     "data": {
      "text/plain": [
       "LinearSVC(C=1e-05, class_weight=None, dual=True, fit_intercept=True,\n",
       "          intercept_scaling=1, loss='squared_hinge', max_iter=1000,\n",
       "          multi_class='ovr', penalty='l2', random_state=42, tol=0.0001,\n",
       "          verbose=0)"
      ]
     },
     "execution_count": 56,
     "metadata": {},
     "output_type": "execute_result"
    }
   ],
   "source": [
    "lin_clf = LinearSVC(C=1e-5, random_state=42)\n",
    "lin_clf.fit(X_train, y_tr_b)"
   ]
  },
  {
   "cell_type": "code",
   "execution_count": null,
   "metadata": {
    "colab": {
     "base_uri": "https://localhost:8080/"
    },
    "id": "94bIKTBWjtOc",
    "outputId": "3a654dc9-6eab-400b-c188-92de5d3f758e"
   },
   "outputs": [
    {
     "data": {
      "text/plain": [
       "0.7953349944629015"
      ]
     },
     "execution_count": 57,
     "metadata": {},
     "output_type": "execute_result"
    }
   ],
   "source": [
    "y_pred = lin_clf.predict(X_train)\n",
    "accuracy_score(y_tr_b, y_pred)"
   ]
  },
  {
   "cell_type": "code",
   "execution_count": null,
   "metadata": {
    "colab": {
     "base_uri": "https://localhost:8080/"
    },
    "id": "xJyLTPDujtOm",
    "outputId": "0b914e41-b8e4-41da-c4d7-965547d03742"
   },
   "outputs": [
    {
     "data": {
      "text/plain": [
       "0.7965116279069767"
      ]
     },
     "execution_count": 58,
     "metadata": {},
     "output_type": "execute_result"
    }
   ],
   "source": [
    "# Calculate the Accuracy\n",
    "y_pred_test = lin_clf.predict(X_test)\n",
    "accuracy_score(y_te_b, y_pred_test)"
   ]
  },
  {
   "cell_type": "markdown",
   "metadata": {
    "id": "qAoaYMexjtO0"
   },
   "source": [
    "### (a) Does SVC (with default hyper-parameters) improve the performance of the linear SVC?"
   ]
  },
  {
   "cell_type": "code",
   "execution_count": null,
   "metadata": {
    "id": "A_iBQMiijtO2"
   },
   "outputs": [],
   "source": [
    "from sklearn.svm import SVC"
   ]
  },
  {
   "cell_type": "code",
   "execution_count": null,
   "metadata": {
    "colab": {
     "base_uri": "https://localhost:8080/"
    },
    "id": "cVliVq0njtPB",
    "outputId": "01cd364c-5421-4043-bc75-a1ed8fa20309"
   },
   "outputs": [
    {
     "data": {
      "text/plain": [
       "SVC(C=1.0, break_ties=False, cache_size=200, class_weight=None, coef0=0.0,\n",
       "    decision_function_shape='ovr', degree=3, gamma='scale', kernel='rbf',\n",
       "    max_iter=-1, probability=False, random_state=42, shrinking=True, tol=0.001,\n",
       "    verbose=False)"
      ]
     },
     "execution_count": 67,
     "metadata": {},
     "output_type": "execute_result"
    }
   ],
   "source": [
    "SVC_Classifier = SVC(random_state = 42)\n",
    "SVC_Classifier.fit(X_train, y_tr_b)"
   ]
  },
  {
   "cell_type": "code",
   "execution_count": null,
   "metadata": {
    "colab": {
     "base_uri": "https://localhost:8080/"
    },
    "id": "U0--heMbO9-g",
    "outputId": "691a0947-e8b9-449a-a00f-f11b77b742d4"
   },
   "outputs": [
    {
     "data": {
      "text/plain": [
       "0.8690476190476191"
      ]
     },
     "execution_count": 68,
     "metadata": {},
     "output_type": "execute_result"
    }
   ],
   "source": [
    "#get training accuracy\n",
    "\n",
    "y_pred_SVC_Classifier = SVC_Classifier.predict(X_train)\n",
    "accuracy_score(y_tr_b, y_pred_SVC_Classifier)"
   ]
  },
  {
   "cell_type": "code",
   "execution_count": null,
   "metadata": {
    "colab": {
     "base_uri": "https://localhost:8080/"
    },
    "id": "AXd32k1-jtPI",
    "outputId": "5c27702a-82d8-4e42-d5ea-49a768ad0939"
   },
   "outputs": [
    {
     "data": {
      "text/plain": [
       "0.8640180878552972"
      ]
     },
     "execution_count": 69,
     "metadata": {},
     "output_type": "execute_result"
    }
   ],
   "source": [
    "#get the accuracy score for test set\n",
    "\n",
    "y_pred_te_SVC_Classifier = SVC_Classifier.predict(X_test)\n",
    "accuracy_score(y_te_b, y_pred_te_SVC_Classifier)"
   ]
  },
  {
   "cell_type": "markdown",
   "metadata": {
    "id": "Ql3-CS4ejtPS"
   },
   "source": [
    "### (b) Use randomized search to tune hyper-parameters of SVC and improve its performance"
   ]
  },
  {
   "cell_type": "code",
   "execution_count": null,
   "metadata": {
    "id": "ycugmfJbjtPU"
   },
   "outputs": [],
   "source": [
    "from sklearn.model_selection import RandomizedSearchCV\n",
    "from scipy.stats import reciprocal, uniform"
   ]
  },
  {
   "cell_type": "code",
   "execution_count": null,
   "metadata": {
    "colab": {
     "base_uri": "https://localhost:8080/"
    },
    "id": "Y8mNqhEFjtPd",
    "outputId": "c9942718-b187-46ab-a1ba-e6cd9f4ee421"
   },
   "outputs": [
    {
     "name": "stdout",
     "output_type": "stream",
     "text": [
      "Fitting 5 folds for each of 10 candidates, totalling 50 fits\n"
     ]
    },
    {
     "name": "stderr",
     "output_type": "stream",
     "text": [
      "[Parallel(n_jobs=-1)]: Using backend LokyBackend with 2 concurrent workers.\n",
      "[Parallel(n_jobs=-1)]: Done  37 tasks      | elapsed:  4.3min\n",
      "[Parallel(n_jobs=-1)]: Done  50 out of  50 | elapsed:  5.5min finished\n"
     ]
    },
    {
     "data": {
      "text/plain": [
       "RandomizedSearchCV(cv=None, error_score=nan,\n",
       "                   estimator=SVC(C=1.0, break_ties=False, cache_size=200,\n",
       "                                 class_weight=None, coef0=0.0,\n",
       "                                 decision_function_shape='ovr', degree=3,\n",
       "                                 gamma='scale', kernel='rbf', max_iter=-1,\n",
       "                                 probability=False, random_state=42,\n",
       "                                 shrinking=True, tol=0.001, verbose=False),\n",
       "                   iid='deprecated', n_iter=10, n_jobs=-1,\n",
       "                   param_distributions={'C': <scipy.stats._distn_infrastructure.rv_frozen object at 0x7fb7ff037050>,\n",
       "                                        'gamma': <scipy.stats._distn_infrastructure.rv_frozen object at 0x7fb7ff02c950>},\n",
       "                   pre_dispatch='2*n_jobs', random_state=None, refit=True,\n",
       "                   return_train_score=False, scoring=None, verbose=2)"
      ]
     },
     "execution_count": 77,
     "metadata": {},
     "output_type": "execute_result"
    }
   ],
   "source": [
    "param_distributions = {\"gamma\": reciprocal(0.05,0.15), \"C\": uniform(50,300)}\n",
    "rnd_search_cv = RandomizedSearchCV(SVC_Classifier, param_distributions, n_iter=10, n_jobs=-1, verbose=2)\n",
    "rnd_search_cv.fit(X_train, y_tr_b)"
   ]
  },
  {
   "cell_type": "code",
   "execution_count": null,
   "metadata": {
    "colab": {
     "base_uri": "https://localhost:8080/"
    },
    "id": "u-q0iG9_jtPn",
    "outputId": "37c315fc-a502-4889-91c5-5fd7e694658f"
   },
   "outputs": [
    {
     "data": {
      "text/plain": [
       "SVC(C=315.04019238259167, break_ties=False, cache_size=200, class_weight=None,\n",
       "    coef0=0.0, decision_function_shape='ovr', degree=3,\n",
       "    gamma=0.07192739553937967, kernel='rbf', max_iter=-1, probability=False,\n",
       "    random_state=42, shrinking=True, tol=0.001, verbose=False)"
      ]
     },
     "execution_count": 78,
     "metadata": {},
     "output_type": "execute_result"
    }
   ],
   "source": [
    "#Get the best estimator on Randomized SearchCV\n",
    "rnd_search_cv.best_estimator_"
   ]
  },
  {
   "cell_type": "code",
   "execution_count": null,
   "metadata": {
    "colab": {
     "base_uri": "https://localhost:8080/"
    },
    "id": "ewDR9hfqjtP_",
    "outputId": "6a2e3819-0f9b-4ce8-c1db-431bea65f229"
   },
   "outputs": [
    {
     "data": {
      "text/plain": [
       "0.877352611803991"
      ]
     },
     "execution_count": 79,
     "metadata": {},
     "output_type": "execute_result"
    }
   ],
   "source": [
    "#Get the best Score.\n",
    "rnd_search_cv.best_score_"
   ]
  },
  {
   "cell_type": "code",
   "execution_count": null,
   "metadata": {
    "colab": {
     "base_uri": "https://localhost:8080/"
    },
    "id": "74Ne75mOjtPx",
    "outputId": "05ade157-d34b-4c9c-842b-f44ec6b58dda"
   },
   "outputs": [
    {
     "data": {
      "text/plain": [
       "0.9051771871539314"
      ]
     },
     "execution_count": 80,
     "metadata": {},
     "output_type": "execute_result"
    }
   ],
   "source": [
    "#get the accuracy score on Random Search CV\n",
    "y_pred_rnd_Classifier = rnd_search_cv.predict(X_train)\n",
    "accuracy_score(y_tr_b, y_pred_rnd_Classifier)"
   ]
  },
  {
   "cell_type": "code",
   "execution_count": null,
   "metadata": {
    "colab": {
     "base_uri": "https://localhost:8080/"
    },
    "id": "kZ_xJjHUjtQP",
    "outputId": "78f94b1e-8566-47b9-bcd2-80c3b774475b"
   },
   "outputs": [
    {
     "data": {
      "text/plain": [
       "0.8746770025839793"
      ]
     },
     "execution_count": 81,
     "metadata": {},
     "output_type": "execute_result"
    }
   ],
   "source": [
    "FinalModel_Randomized_Search = rnd_search_cv.best_estimator_   ## THIS SHOULD BE THE BEST GRID_SEARCH ##\n",
    "\n",
    "y_te_FinalModel = FinalModel_Randomized_Search.predict(X_test)\n",
    "accuracy_score(y_te_b, y_te_FinalModel)"
   ]
  },
  {
   "cell_type": "markdown",
   "metadata": {
    "id": "k3RosFIljtQe"
   },
   "source": [
    "This indicates that the model fits very well on the test data. To check the overall fit, The code below shows the learning curve on the best parameters.\n",
    "\n",
    "<pre>\n",
    "SVC(C=315.04019238259167, break_ties=False, cache_size=200, class_weight=None,\n",
    "    coef0=0.0, decision_function_shape='ovr', degree=3,\n",
    "    gamma=0.07192739553937967, kernel='rbf', max_iter=-1, probability=False,\n",
    "    random_state=42, shrinking=True, tol=0.001, verbose=False)\n",
    "</pre>"
   ]
  },
  {
   "cell_type": "code",
   "execution_count": null,
   "metadata": {
    "colab": {
     "base_uri": "https://localhost:8080/",
     "height": 265
    },
    "id": "TEtZvagejtQg",
    "outputId": "8e5b2de4-2eb2-41a4-9770-315cc006a290"
   },
   "outputs": [
    {
     "data": {
      "image/png": "[encoded data removed]",
      "text/plain": [
       "<Figure size 432x288 with 1 Axes>"
      ]
     },
     "metadata": {
      "needs_background": "light"
     },
     "output_type": "display_data"
    }
   ],
   "source": [
    "#draw the learning curve on the best estimator.\n",
    "\n",
    "svc_randomized = rnd_search_cv.best_estimator_\n",
    "\n",
    "train_errors, val_errors = [], []\n",
    "for m in range(100, len(X_train), 100):\n",
    "    svc_randomized.fit(X_train[:m], y_tr_b[:m]) # DO NOT DELETE\n",
    "    y_train_predict = svc_randomized.predict(X_train[:m])\n",
    "    y_val_predict = svc_randomized.predict(X_test[:m])\n",
    "    train_errors.append(mean_squared_error(y_train_predict, y_tr_b[:m]))\n",
    "    val_errors.append(mean_squared_error(y_val_predict, y_te_b[:m]))\n",
    "    \n",
    "plt.plot(np.sqrt(train_errors), \"r-+\", linewidth=2, label=\"train\")\n",
    "plt.plot(np.sqrt(val_errors), \"b-\", linewidth=3, label=\"val\")\n",
    "plt.show()"
   ]
  }
 ],
 "metadata": {
  "colab": {
   "provenance": []
  },
  "kernelspec": {
   "display_name": "Python 3 (ipykernel)",
   "language": "python",
   "name": "python3"
  },
  "language_info": {
   "codemirror_mode": {
    "name": "ipython",
    "version": 3
   },
   "file_extension": ".py",
   "mimetype": "text/x-python",
   "name": "python",
   "nbconvert_exporter": "python",
   "pygments_lexer": "ipython3",
   "version": "3.10.5"
  }
 },
 "nbformat": 4,
 "nbformat_minor": 1
}
