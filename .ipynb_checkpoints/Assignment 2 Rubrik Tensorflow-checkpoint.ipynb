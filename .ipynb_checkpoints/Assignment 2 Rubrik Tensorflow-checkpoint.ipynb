{
 "cells": [
  {
   "cell_type": "markdown",
   "metadata": {},
   "source": [
    "### We picked up the Regression Problem from Kaggle i.e  Business Case 2: Cost Prediction for Logistic Company"
   ]
  },
  {
   "cell_type": "markdown",
   "metadata": {},
   "source": [
    "## Load Train and Test Datasets"
   ]
  },
  {
   "cell_type": "code",
   "execution_count": 3,
   "metadata": {
    "execution": {
     "iopub.execute_input": "2023-08-01T19:20:42.098644Z",
     "iopub.status.busy": "2023-08-01T19:20:42.098217Z",
     "iopub.status.idle": "2023-08-01T19:20:42.197655Z",
     "shell.execute_reply": "2023-08-01T19:20:42.196427Z",
     "shell.execute_reply.started": "2023-08-01T19:20:42.098611Z"
    }
   },
   "outputs": [],
   "source": [
    "import pandas as pd\n",
    "df_train = pd.read_csv('datasets/train.csv')\n",
    "df_test = pd.read_csv('datasets/test.csv')"
   ]
  },
  {
   "cell_type": "code",
   "execution_count": 4,
   "metadata": {
    "execution": {
     "iopub.execute_input": "2023-08-01T19:20:44.979438Z",
     "iopub.status.busy": "2023-08-01T19:20:44.979036Z",
     "iopub.status.idle": "2023-08-01T19:20:45.004616Z",
     "shell.execute_reply": "2023-08-01T19:20:45.002573Z",
     "shell.execute_reply.started": "2023-08-01T19:20:44.979406Z"
    }
   },
   "outputs": [
    {
     "data": {
      "text/html": [
       "<div>\n",
       "<style scoped>\n",
       "    .dataframe tbody tr th:only-of-type {\n",
       "        vertical-align: middle;\n",
       "    }\n",
       "\n",
       "    .dataframe tbody tr th {\n",
       "        vertical-align: top;\n",
       "    }\n",
       "\n",
       "    .dataframe thead th {\n",
       "        text-align: right;\n",
       "    }\n",
       "</style>\n",
       "<table border=\"1\" class=\"dataframe\">\n",
       "  <thead>\n",
       "    <tr style=\"text-align: right;\">\n",
       "      <th></th>\n",
       "      <th>trip</th>\n",
       "      <th>date</th>\n",
       "      <th>dayPart</th>\n",
       "      <th>exWeatherTag</th>\n",
       "      <th>originLocation</th>\n",
       "      <th>destinationLocation</th>\n",
       "      <th>distance</th>\n",
       "      <th>type</th>\n",
       "      <th>weight</th>\n",
       "      <th>packageType</th>\n",
       "      <th>carrier</th>\n",
       "      <th>cost</th>\n",
       "    </tr>\n",
       "  </thead>\n",
       "  <tbody>\n",
       "    <tr>\n",
       "      <th>0</th>\n",
       "      <td>t52712528</td>\n",
       "      <td>2017-09-06</td>\n",
       "      <td>night</td>\n",
       "      <td>NaN</td>\n",
       "      <td>S4</td>\n",
       "      <td>D7</td>\n",
       "      <td>2200</td>\n",
       "      <td>expedited</td>\n",
       "      <td>50</td>\n",
       "      <td>NaN</td>\n",
       "      <td>D</td>\n",
       "      <td>68.413152</td>\n",
       "    </tr>\n",
       "    <tr>\n",
       "      <th>1</th>\n",
       "      <td>t29859381</td>\n",
       "      <td>2017-10-21</td>\n",
       "      <td>night</td>\n",
       "      <td>NaN</td>\n",
       "      <td>S8</td>\n",
       "      <td>D1</td>\n",
       "      <td>1800</td>\n",
       "      <td>NaN</td>\n",
       "      <td>12</td>\n",
       "      <td>NaN</td>\n",
       "      <td>B</td>\n",
       "      <td>36.450649</td>\n",
       "    </tr>\n",
       "    <tr>\n",
       "      <th>2</th>\n",
       "      <td>t25702332</td>\n",
       "      <td>2017-07-15</td>\n",
       "      <td>night</td>\n",
       "      <td>NaN</td>\n",
       "      <td>S9</td>\n",
       "      <td>D5</td>\n",
       "      <td>2800</td>\n",
       "      <td>NaN</td>\n",
       "      <td>1</td>\n",
       "      <td>NaN</td>\n",
       "      <td>B</td>\n",
       "      <td>9.057939</td>\n",
       "    </tr>\n",
       "    <tr>\n",
       "      <th>3</th>\n",
       "      <td>t27713405</td>\n",
       "      <td>2017-10-22</td>\n",
       "      <td>day</td>\n",
       "      <td>NaN</td>\n",
       "      <td>S9</td>\n",
       "      <td>D7</td>\n",
       "      <td>3200</td>\n",
       "      <td>NaN</td>\n",
       "      <td>50</td>\n",
       "      <td>NaN</td>\n",
       "      <td>C</td>\n",
       "      <td>57.320087</td>\n",
       "    </tr>\n",
       "    <tr>\n",
       "      <th>4</th>\n",
       "      <td>t49439220</td>\n",
       "      <td>2019-12-11</td>\n",
       "      <td>day</td>\n",
       "      <td>snow</td>\n",
       "      <td>S9</td>\n",
       "      <td>D1</td>\n",
       "      <td>2000</td>\n",
       "      <td>NaN</td>\n",
       "      <td>43</td>\n",
       "      <td>NaN</td>\n",
       "      <td>B</td>\n",
       "      <td>77.263777</td>\n",
       "    </tr>\n",
       "  </tbody>\n",
       "</table>\n",
       "</div>"
      ],
      "text/plain": [
       "        trip        date dayPart exWeatherTag originLocation  \\\n",
       "0  t52712528  2017-09-06   night          NaN             S4   \n",
       "1  t29859381  2017-10-21   night          NaN             S8   \n",
       "2  t25702332  2017-07-15   night          NaN             S9   \n",
       "3  t27713405  2017-10-22     day          NaN             S9   \n",
       "4  t49439220  2019-12-11     day         snow             S9   \n",
       "\n",
       "  destinationLocation  distance       type  weight packageType carrier  \\\n",
       "0                  D7      2200  expedited      50         NaN       D   \n",
       "1                  D1      1800        NaN      12         NaN       B   \n",
       "2                  D5      2800        NaN       1         NaN       B   \n",
       "3                  D7      3200        NaN      50         NaN       C   \n",
       "4                  D1      2000        NaN      43         NaN       B   \n",
       "\n",
       "        cost  \n",
       "0  68.413152  \n",
       "1  36.450649  \n",
       "2   9.057939  \n",
       "3  57.320087  \n",
       "4  77.263777  "
      ]
     },
     "execution_count": 4,
     "metadata": {},
     "output_type": "execute_result"
    }
   ],
   "source": [
    "df_train.head()"
   ]
  },
  {
   "cell_type": "code",
   "execution_count": 5,
   "metadata": {
    "execution": {
     "iopub.execute_input": "2023-08-01T18:34:21.555867Z",
     "iopub.status.busy": "2023-08-01T18:34:21.555423Z",
     "iopub.status.idle": "2023-08-01T18:34:21.586714Z",
     "shell.execute_reply": "2023-08-01T18:34:21.585543Z",
     "shell.execute_reply.started": "2023-08-01T18:34:21.555833Z"
    }
   },
   "outputs": [
    {
     "data": {
      "text/html": [
       "<div>\n",
       "<style scoped>\n",
       "    .dataframe tbody tr th:only-of-type {\n",
       "        vertical-align: middle;\n",
       "    }\n",
       "\n",
       "    .dataframe tbody tr th {\n",
       "        vertical-align: top;\n",
       "    }\n",
       "\n",
       "    .dataframe thead th {\n",
       "        text-align: right;\n",
       "    }\n",
       "</style>\n",
       "<table border=\"1\" class=\"dataframe\">\n",
       "  <thead>\n",
       "    <tr style=\"text-align: right;\">\n",
       "      <th></th>\n",
       "      <th>trip</th>\n",
       "      <th>date</th>\n",
       "      <th>dayPart</th>\n",
       "      <th>exWeatherTag</th>\n",
       "      <th>originLocation</th>\n",
       "      <th>destinationLocation</th>\n",
       "      <th>distance</th>\n",
       "      <th>type</th>\n",
       "      <th>weight</th>\n",
       "      <th>packageType</th>\n",
       "      <th>carrier</th>\n",
       "    </tr>\n",
       "  </thead>\n",
       "  <tbody>\n",
       "    <tr>\n",
       "      <th>0</th>\n",
       "      <td>t333282728025</td>\n",
       "      <td>2017-09-27</td>\n",
       "      <td>night</td>\n",
       "      <td>NaN</td>\n",
       "      <td>S2</td>\n",
       "      <td>D8</td>\n",
       "      <td>2000</td>\n",
       "      <td>NaN</td>\n",
       "      <td>50</td>\n",
       "      <td>NaN</td>\n",
       "      <td>C</td>\n",
       "    </tr>\n",
       "    <tr>\n",
       "      <th>1</th>\n",
       "      <td>t35583500660</td>\n",
       "      <td>2017-12-12</td>\n",
       "      <td>day</td>\n",
       "      <td>snow</td>\n",
       "      <td>S2</td>\n",
       "      <td>D1</td>\n",
       "      <td>600</td>\n",
       "      <td>NaN</td>\n",
       "      <td>22</td>\n",
       "      <td>NaN</td>\n",
       "      <td>A</td>\n",
       "    </tr>\n",
       "    <tr>\n",
       "      <th>2</th>\n",
       "      <td>t117664376784</td>\n",
       "      <td>2018-11-18</td>\n",
       "      <td>day</td>\n",
       "      <td>NaN</td>\n",
       "      <td>S7</td>\n",
       "      <td>D1</td>\n",
       "      <td>1600</td>\n",
       "      <td>expedited</td>\n",
       "      <td>30</td>\n",
       "      <td>NaN</td>\n",
       "      <td>D</td>\n",
       "    </tr>\n",
       "    <tr>\n",
       "      <th>3</th>\n",
       "      <td>t261320757828</td>\n",
       "      <td>2019-11-18</td>\n",
       "      <td>day</td>\n",
       "      <td>NaN</td>\n",
       "      <td>S5</td>\n",
       "      <td>D6</td>\n",
       "      <td>2200</td>\n",
       "      <td>NaN</td>\n",
       "      <td>32</td>\n",
       "      <td>NaN</td>\n",
       "      <td>B</td>\n",
       "    </tr>\n",
       "    <tr>\n",
       "      <th>4</th>\n",
       "      <td>t147086054909</td>\n",
       "      <td>2019-06-02</td>\n",
       "      <td>night</td>\n",
       "      <td>heat</td>\n",
       "      <td>S6</td>\n",
       "      <td>D7</td>\n",
       "      <td>2600</td>\n",
       "      <td>NaN</td>\n",
       "      <td>7</td>\n",
       "      <td>NaN</td>\n",
       "      <td>B</td>\n",
       "    </tr>\n",
       "  </tbody>\n",
       "</table>\n",
       "</div>"
      ],
      "text/plain": [
       "            trip        date dayPart exWeatherTag originLocation  \\\n",
       "0  t333282728025  2017-09-27   night          NaN             S2   \n",
       "1   t35583500660  2017-12-12     day         snow             S2   \n",
       "2  t117664376784  2018-11-18     day          NaN             S7   \n",
       "3  t261320757828  2019-11-18     day          NaN             S5   \n",
       "4  t147086054909  2019-06-02   night         heat             S6   \n",
       "\n",
       "  destinationLocation  distance       type  weight packageType carrier  \n",
       "0                  D8      2000        NaN      50         NaN       C  \n",
       "1                  D1       600        NaN      22         NaN       A  \n",
       "2                  D1      1600  expedited      30         NaN       D  \n",
       "3                  D6      2200        NaN      32         NaN       B  \n",
       "4                  D7      2600        NaN       7         NaN       B  "
      ]
     },
     "execution_count": 5,
     "metadata": {},
     "output_type": "execute_result"
    }
   ],
   "source": [
    "df_test.head()"
   ]
  },
  {
   "cell_type": "markdown",
   "metadata": {},
   "source": [
    "## Import all required libraries"
   ]
  },
  {
   "cell_type": "code",
   "execution_count": 6,
   "metadata": {
    "execution": {
     "iopub.execute_input": "2023-08-01T19:21:01.476789Z",
     "iopub.status.busy": "2023-08-01T19:21:01.476348Z",
     "iopub.status.idle": "2023-08-01T19:21:01.482674Z",
     "shell.execute_reply": "2023-08-01T19:21:01.481381Z",
     "shell.execute_reply.started": "2023-08-01T19:21:01.476755Z"
    }
   },
   "outputs": [],
   "source": [
    "import pandas as pd\n",
    "import numpy as np\n",
    "import matplotlib.pyplot as plt\n",
    "import seaborn as sns\n",
    "from datetime import datetime\n"
   ]
  },
  {
   "cell_type": "markdown",
   "metadata": {},
   "source": [
    "## Initialize Class and Function for Data Preprocessing Pipeline"
   ]
  },
  {
   "cell_type": "code",
   "execution_count": 7,
   "metadata": {
    "execution": {
     "iopub.execute_input": "2023-08-01T19:21:04.157374Z",
     "iopub.status.busy": "2023-08-01T19:21:04.156929Z",
     "iopub.status.idle": "2023-08-01T19:21:04.279457Z",
     "shell.execute_reply": "2023-08-01T19:21:04.278263Z",
     "shell.execute_reply.started": "2023-08-01T19:21:04.157338Z"
    }
   },
   "outputs": [],
   "source": [
    "class cost_logistic:\n",
    "    \n",
    "    #initialize self \n",
    "    def __init__(self,df):\n",
    "        self.df = df\n",
    "        self.X_train = None\n",
    "        self.y_train = None\n",
    "        self.X_test = None\n",
    "        self.y_pred = None\n",
    "        self.describe = None\n",
    "        \n",
    "    #load datasets    \n",
    "    def load_data(self):\n",
    "        return self.df\n",
    "    \n",
    "    #load columns\n",
    "    def load_columns(self):\n",
    "        return self.df.columns\n",
    "    \n",
    "    #check info about data\n",
    "    def check_info(self):\n",
    "        return self.df.info()\n",
    "    \n",
    "    #check null value proportions\n",
    "    def check_null(self):\n",
    "        #return self.df.isnull().sum()\n",
    "        columns = self.df.columns\n",
    "        for column in columns:\n",
    "            null_count = self.df.isnull().sum()\n",
    "            total_rows = len(self.df)\n",
    "            null_percentages = (null_count / total_rows) * 100\n",
    "            return null_percentages\n",
    "        \n",
    "    # Histograms    \n",
    "    def check_histogram(self):\n",
    "        features = ['weight','distance','cost','dayPart',  'originLocation',\n",
    "                   'destinationLocation','carrier' ]\n",
    "        \n",
    "        for column in features:\n",
    "            #self.df.hist(layout=(1, len(features)), figsize=(len(features) * 3, 3), bins=10)\n",
    "            plt.figure(figsize=(4, 3))\n",
    "            plt.hist(self.df[column], bins=20)  # Adjust 'bins' as needed\n",
    "            plt.title(f'Histogram of {column}')\n",
    "            plt.xlabel(column)\n",
    "            plt.ylabel('Frequency')\n",
    "            plt.show()\n",
    "            \n",
    "    # Bar Plot between Carrier and Cost        \n",
    "    def bar_plot(self):\n",
    "        plt.bar(self.df['carrier'],self.df['cost'])\n",
    "        plt.xlabel('carrier')\n",
    "        plt.ylabel('cost')\n",
    "        plt.show()\n",
    "\n",
    "    #scatter plot between cost and weight\n",
    "    def scatter_plot(self):       \n",
    "        plt.scatter(self.df['weight'],self.df['cost'])\n",
    "        plt.xlabel(\"Weight\")\n",
    "        plt.ylabel(\"Cost\")\n",
    "        plt.show()\n",
    "     \n",
    "    #count unique values for categorical components\n",
    "    def unique_values(self):\n",
    "        return self.df.nunique()\n",
    "    \n",
    "    #Count values for of categorical columns\n",
    "    def value_count(self):\n",
    "        value_to_count = ['dayPart','originLocation','destinationLocation','carrier']\n",
    "        for column in value_to_count:\n",
    "            value_counts = self.df[column].value_counts()\n",
    "            print(value_counts)\n",
    "            \n",
    "    #encode categorical variables\n",
    "    def encode_df(self):\n",
    "        categorical_columns = ['dayPart','carrier','originLocation','destinationLocation']\n",
    "        for column in categorical_columns:\n",
    "            dummies = pd.get_dummies(self.df[column], prefix = column, drop_first = False)\n",
    "            self.df = pd.concat([self.df.drop(column, axis = 1), dummies], axis = 1)\n",
    "     \n",
    "    #convert datetime\n",
    "    def date_month(self):\n",
    "        self.df['date'] = pd.to_datetime(self.df['date'])\n",
    "        # Extract the month as a numerical value(Feature Engineering)\n",
    "        self.df['month'] = self.df['date'].dt.month\n",
    "        self.df['year'] = self.df['date'].dt.year\n",
    "        self.df['day'] = self.df['date'].dt.day\n",
    "    \n",
    "        \n",
    "    #Drop unused columns\n",
    "    def drop_columns(self):\n",
    "        columns_to_drop = ['type','packageType', 'exWeatherTag']\n",
    "        self.df = self.df.drop(columns_to_drop, axis = 1)  \n",
    "        print(f\"Deleted Columns are : {columns_to_drop}\")                   \n",
    "    \n",
    "    #Finding Outliers\n",
    "    def outliers(self):\n",
    "        self.describe = self.df.describe()\n",
    "        return self.describe\n",
    "         \n",
    "       \n",
    "        \n",
    "    \n",
    "    #Heatmap for Correlations\n",
    "    def correlation_matrix(self):\n",
    "        correlation_matrix = self.df.corr()\n",
    "        plt.figure(figsize=(14, 12))\n",
    "        sns.heatmap(correlation_matrix, cmap='coolwarm', annot=True, fmt = '.2f')\n",
    "        plt.title('Correlation Heatmap')\n",
    "        plt.show()\n",
    "    \n",
    "    #Preparing features and target for training  #remove new_train_df \n",
    "    def prepare_data(self):\n",
    "        self.X_train = self.df[['distance','weight','dayPart_day', 'dayPart_night', 'carrier_A',\n",
    "       'carrier_B', 'carrier_C', 'carrier_D', 'originLocation_S1','originLocation_S2',\n",
    "        'originLocation_S3', 'originLocation_S4','originLocation_S5', 'originLocation_S6',\n",
    "        'originLocation_S7','originLocation_S8', 'originLocation_S9', 'destinationLocation_D1',\n",
    "       'destinationLocation_D2', 'destinationLocation_D3','destinationLocation_D4', \n",
    "        'destinationLocation_D5','destinationLocation_D6', 'destinationLocation_D7',\n",
    "       'destinationLocation_D8', 'destinationLocation_D9', 'month','year','day']]\n",
    "        self.y_train = self.df['cost']\n",
    "        return self.X_train, self.y_train\n",
    "    \n",
    "    #Preparing features for test \n",
    "    def final_test(self):\n",
    "        self.X_test = self.df[['distance','weight','dayPart_day', 'dayPart_night', 'carrier_A',\n",
    "       'carrier_B', 'carrier_C', 'carrier_D', 'originLocation_S1','originLocation_S2',\n",
    "        'originLocation_S3', 'originLocation_S4','originLocation_S5', 'originLocation_S6',\n",
    "        'originLocation_S7','originLocation_S8', 'originLocation_S9', 'destinationLocation_D1',\n",
    "       'destinationLocation_D2', 'destinationLocation_D3','destinationLocation_D4', \n",
    "        'destinationLocation_D5','destinationLocation_D6', 'destinationLocation_D7',\n",
    "       'destinationLocation_D8', 'destinationLocation_D9', 'month','year','day']]\n",
    "        return self.X_test\n",
    "        \n",
    "#load Train and Test datasets        \n",
    "train = pd.read_csv('datasets/train.csv')\n",
    "test =  pd.read_csv('datasets/test.csv')    \n",
    "\n",
    "#creating class objects for train and test sets\n",
    "train_obj = cost_logistic(train)\n",
    "test_obj = cost_logistic(test)\n",
    "\n",
    "\n",
    "    \n"
   ]
  },
  {
   "cell_type": "markdown",
   "metadata": {},
   "source": [
    "## Load datasets"
   ]
  },
  {
   "cell_type": "code",
   "execution_count": 8,
   "metadata": {
    "execution": {
     "iopub.execute_input": "2023-08-01T19:21:10.177467Z",
     "iopub.status.busy": "2023-08-01T19:21:10.177046Z",
     "iopub.status.idle": "2023-08-01T19:21:10.201879Z",
     "shell.execute_reply": "2023-08-01T19:21:10.200557Z",
     "shell.execute_reply.started": "2023-08-01T19:21:10.177432Z"
    }
   },
   "outputs": [
    {
     "data": {
      "text/html": [
       "<div>\n",
       "<style scoped>\n",
       "    .dataframe tbody tr th:only-of-type {\n",
       "        vertical-align: middle;\n",
       "    }\n",
       "\n",
       "    .dataframe tbody tr th {\n",
       "        vertical-align: top;\n",
       "    }\n",
       "\n",
       "    .dataframe thead th {\n",
       "        text-align: right;\n",
       "    }\n",
       "</style>\n",
       "<table border=\"1\" class=\"dataframe\">\n",
       "  <thead>\n",
       "    <tr style=\"text-align: right;\">\n",
       "      <th></th>\n",
       "      <th>trip</th>\n",
       "      <th>date</th>\n",
       "      <th>dayPart</th>\n",
       "      <th>exWeatherTag</th>\n",
       "      <th>originLocation</th>\n",
       "      <th>destinationLocation</th>\n",
       "      <th>distance</th>\n",
       "      <th>type</th>\n",
       "      <th>weight</th>\n",
       "      <th>packageType</th>\n",
       "      <th>carrier</th>\n",
       "      <th>cost</th>\n",
       "    </tr>\n",
       "  </thead>\n",
       "  <tbody>\n",
       "    <tr>\n",
       "      <th>0</th>\n",
       "      <td>t52712528</td>\n",
       "      <td>2017-09-06</td>\n",
       "      <td>night</td>\n",
       "      <td>NaN</td>\n",
       "      <td>S4</td>\n",
       "      <td>D7</td>\n",
       "      <td>2200</td>\n",
       "      <td>expedited</td>\n",
       "      <td>50</td>\n",
       "      <td>NaN</td>\n",
       "      <td>D</td>\n",
       "      <td>68.413152</td>\n",
       "    </tr>\n",
       "    <tr>\n",
       "      <th>1</th>\n",
       "      <td>t29859381</td>\n",
       "      <td>2017-10-21</td>\n",
       "      <td>night</td>\n",
       "      <td>NaN</td>\n",
       "      <td>S8</td>\n",
       "      <td>D1</td>\n",
       "      <td>1800</td>\n",
       "      <td>NaN</td>\n",
       "      <td>12</td>\n",
       "      <td>NaN</td>\n",
       "      <td>B</td>\n",
       "      <td>36.450649</td>\n",
       "    </tr>\n",
       "    <tr>\n",
       "      <th>2</th>\n",
       "      <td>t25702332</td>\n",
       "      <td>2017-07-15</td>\n",
       "      <td>night</td>\n",
       "      <td>NaN</td>\n",
       "      <td>S9</td>\n",
       "      <td>D5</td>\n",
       "      <td>2800</td>\n",
       "      <td>NaN</td>\n",
       "      <td>1</td>\n",
       "      <td>NaN</td>\n",
       "      <td>B</td>\n",
       "      <td>9.057939</td>\n",
       "    </tr>\n",
       "    <tr>\n",
       "      <th>3</th>\n",
       "      <td>t27713405</td>\n",
       "      <td>2017-10-22</td>\n",
       "      <td>day</td>\n",
       "      <td>NaN</td>\n",
       "      <td>S9</td>\n",
       "      <td>D7</td>\n",
       "      <td>3200</td>\n",
       "      <td>NaN</td>\n",
       "      <td>50</td>\n",
       "      <td>NaN</td>\n",
       "      <td>C</td>\n",
       "      <td>57.320087</td>\n",
       "    </tr>\n",
       "    <tr>\n",
       "      <th>4</th>\n",
       "      <td>t49439220</td>\n",
       "      <td>2019-12-11</td>\n",
       "      <td>day</td>\n",
       "      <td>snow</td>\n",
       "      <td>S9</td>\n",
       "      <td>D1</td>\n",
       "      <td>2000</td>\n",
       "      <td>NaN</td>\n",
       "      <td>43</td>\n",
       "      <td>NaN</td>\n",
       "      <td>B</td>\n",
       "      <td>77.263777</td>\n",
       "    </tr>\n",
       "    <tr>\n",
       "      <th>...</th>\n",
       "      <td>...</td>\n",
       "      <td>...</td>\n",
       "      <td>...</td>\n",
       "      <td>...</td>\n",
       "      <td>...</td>\n",
       "      <td>...</td>\n",
       "      <td>...</td>\n",
       "      <td>...</td>\n",
       "      <td>...</td>\n",
       "      <td>...</td>\n",
       "      <td>...</td>\n",
       "      <td>...</td>\n",
       "    </tr>\n",
       "    <tr>\n",
       "      <th>38994</th>\n",
       "      <td>t11845608590</td>\n",
       "      <td>2019-10-17</td>\n",
       "      <td>night</td>\n",
       "      <td>NaN</td>\n",
       "      <td>S3</td>\n",
       "      <td>D3</td>\n",
       "      <td>1200</td>\n",
       "      <td>NaN</td>\n",
       "      <td>3</td>\n",
       "      <td>NaN</td>\n",
       "      <td>B</td>\n",
       "      <td>14.987239</td>\n",
       "    </tr>\n",
       "    <tr>\n",
       "      <th>38995</th>\n",
       "      <td>t53557166488</td>\n",
       "      <td>2019-01-23</td>\n",
       "      <td>night</td>\n",
       "      <td>NaN</td>\n",
       "      <td>S4</td>\n",
       "      <td>D6</td>\n",
       "      <td>2000</td>\n",
       "      <td>NaN</td>\n",
       "      <td>6</td>\n",
       "      <td>NaN</td>\n",
       "      <td>B</td>\n",
       "      <td>33.214738</td>\n",
       "    </tr>\n",
       "    <tr>\n",
       "      <th>38996</th>\n",
       "      <td>t337474787136</td>\n",
       "      <td>2018-10-03</td>\n",
       "      <td>night</td>\n",
       "      <td>NaN</td>\n",
       "      <td>S8</td>\n",
       "      <td>D7</td>\n",
       "      <td>3000</td>\n",
       "      <td>NaN</td>\n",
       "      <td>24</td>\n",
       "      <td>NaN</td>\n",
       "      <td>B</td>\n",
       "      <td>45.172159</td>\n",
       "    </tr>\n",
       "    <tr>\n",
       "      <th>38997</th>\n",
       "      <td>t76488353326</td>\n",
       "      <td>2018-02-26</td>\n",
       "      <td>night</td>\n",
       "      <td>NaN</td>\n",
       "      <td>S8</td>\n",
       "      <td>D5</td>\n",
       "      <td>2600</td>\n",
       "      <td>NaN</td>\n",
       "      <td>31</td>\n",
       "      <td>NaN</td>\n",
       "      <td>B</td>\n",
       "      <td>47.541427</td>\n",
       "    </tr>\n",
       "    <tr>\n",
       "      <th>38998</th>\n",
       "      <td>t33300084668</td>\n",
       "      <td>2017-07-30</td>\n",
       "      <td>night</td>\n",
       "      <td>NaN</td>\n",
       "      <td>S8</td>\n",
       "      <td>D8</td>\n",
       "      <td>3200</td>\n",
       "      <td>NaN</td>\n",
       "      <td>36</td>\n",
       "      <td>NaN</td>\n",
       "      <td>B</td>\n",
       "      <td>68.054098</td>\n",
       "    </tr>\n",
       "  </tbody>\n",
       "</table>\n",
       "<p>38999 rows × 12 columns</p>\n",
       "</div>"
      ],
      "text/plain": [
       "                trip        date dayPart exWeatherTag originLocation  \\\n",
       "0          t52712528  2017-09-06   night          NaN             S4   \n",
       "1          t29859381  2017-10-21   night          NaN             S8   \n",
       "2          t25702332  2017-07-15   night          NaN             S9   \n",
       "3          t27713405  2017-10-22     day          NaN             S9   \n",
       "4          t49439220  2019-12-11     day         snow             S9   \n",
       "...              ...         ...     ...          ...            ...   \n",
       "38994   t11845608590  2019-10-17   night          NaN             S3   \n",
       "38995   t53557166488  2019-01-23   night          NaN             S4   \n",
       "38996  t337474787136  2018-10-03   night          NaN             S8   \n",
       "38997   t76488353326  2018-02-26   night          NaN             S8   \n",
       "38998   t33300084668  2017-07-30   night          NaN             S8   \n",
       "\n",
       "      destinationLocation  distance       type  weight packageType carrier  \\\n",
       "0                      D7      2200  expedited      50         NaN       D   \n",
       "1                      D1      1800        NaN      12         NaN       B   \n",
       "2                      D5      2800        NaN       1         NaN       B   \n",
       "3                      D7      3200        NaN      50         NaN       C   \n",
       "4                      D1      2000        NaN      43         NaN       B   \n",
       "...                   ...       ...        ...     ...         ...     ...   \n",
       "38994                  D3      1200        NaN       3         NaN       B   \n",
       "38995                  D6      2000        NaN       6         NaN       B   \n",
       "38996                  D7      3000        NaN      24         NaN       B   \n",
       "38997                  D5      2600        NaN      31         NaN       B   \n",
       "38998                  D8      3200        NaN      36         NaN       B   \n",
       "\n",
       "            cost  \n",
       "0      68.413152  \n",
       "1      36.450649  \n",
       "2       9.057939  \n",
       "3      57.320087  \n",
       "4      77.263777  \n",
       "...          ...  \n",
       "38994  14.987239  \n",
       "38995  33.214738  \n",
       "38996  45.172159  \n",
       "38997  47.541427  \n",
       "38998  68.054098  \n",
       "\n",
       "[38999 rows x 12 columns]"
      ]
     },
     "execution_count": 8,
     "metadata": {},
     "output_type": "execute_result"
    }
   ],
   "source": [
    "train_obj.load_data()"
   ]
  },
  {
   "cell_type": "code",
   "execution_count": 9,
   "metadata": {
    "execution": {
     "iopub.execute_input": "2023-08-01T19:21:14.909570Z",
     "iopub.status.busy": "2023-08-01T19:21:14.908751Z",
     "iopub.status.idle": "2023-08-01T19:21:14.933933Z",
     "shell.execute_reply": "2023-08-01T19:21:14.932675Z",
     "shell.execute_reply.started": "2023-08-01T19:21:14.909520Z"
    }
   },
   "outputs": [
    {
     "data": {
      "text/html": [
       "<div>\n",
       "<style scoped>\n",
       "    .dataframe tbody tr th:only-of-type {\n",
       "        vertical-align: middle;\n",
       "    }\n",
       "\n",
       "    .dataframe tbody tr th {\n",
       "        vertical-align: top;\n",
       "    }\n",
       "\n",
       "    .dataframe thead th {\n",
       "        text-align: right;\n",
       "    }\n",
       "</style>\n",
       "<table border=\"1\" class=\"dataframe\">\n",
       "  <thead>\n",
       "    <tr style=\"text-align: right;\">\n",
       "      <th></th>\n",
       "      <th>trip</th>\n",
       "      <th>date</th>\n",
       "      <th>dayPart</th>\n",
       "      <th>exWeatherTag</th>\n",
       "      <th>originLocation</th>\n",
       "      <th>destinationLocation</th>\n",
       "      <th>distance</th>\n",
       "      <th>type</th>\n",
       "      <th>weight</th>\n",
       "      <th>packageType</th>\n",
       "      <th>carrier</th>\n",
       "    </tr>\n",
       "  </thead>\n",
       "  <tbody>\n",
       "    <tr>\n",
       "      <th>0</th>\n",
       "      <td>t333282728025</td>\n",
       "      <td>2017-09-27</td>\n",
       "      <td>night</td>\n",
       "      <td>NaN</td>\n",
       "      <td>S2</td>\n",
       "      <td>D8</td>\n",
       "      <td>2000</td>\n",
       "      <td>NaN</td>\n",
       "      <td>50</td>\n",
       "      <td>NaN</td>\n",
       "      <td>C</td>\n",
       "    </tr>\n",
       "    <tr>\n",
       "      <th>1</th>\n",
       "      <td>t35583500660</td>\n",
       "      <td>2017-12-12</td>\n",
       "      <td>day</td>\n",
       "      <td>snow</td>\n",
       "      <td>S2</td>\n",
       "      <td>D1</td>\n",
       "      <td>600</td>\n",
       "      <td>NaN</td>\n",
       "      <td>22</td>\n",
       "      <td>NaN</td>\n",
       "      <td>A</td>\n",
       "    </tr>\n",
       "    <tr>\n",
       "      <th>2</th>\n",
       "      <td>t117664376784</td>\n",
       "      <td>2018-11-18</td>\n",
       "      <td>day</td>\n",
       "      <td>NaN</td>\n",
       "      <td>S7</td>\n",
       "      <td>D1</td>\n",
       "      <td>1600</td>\n",
       "      <td>expedited</td>\n",
       "      <td>30</td>\n",
       "      <td>NaN</td>\n",
       "      <td>D</td>\n",
       "    </tr>\n",
       "    <tr>\n",
       "      <th>3</th>\n",
       "      <td>t261320757828</td>\n",
       "      <td>2019-11-18</td>\n",
       "      <td>day</td>\n",
       "      <td>NaN</td>\n",
       "      <td>S5</td>\n",
       "      <td>D6</td>\n",
       "      <td>2200</td>\n",
       "      <td>NaN</td>\n",
       "      <td>32</td>\n",
       "      <td>NaN</td>\n",
       "      <td>B</td>\n",
       "    </tr>\n",
       "    <tr>\n",
       "      <th>4</th>\n",
       "      <td>t147086054909</td>\n",
       "      <td>2019-06-02</td>\n",
       "      <td>night</td>\n",
       "      <td>heat</td>\n",
       "      <td>S6</td>\n",
       "      <td>D7</td>\n",
       "      <td>2600</td>\n",
       "      <td>NaN</td>\n",
       "      <td>7</td>\n",
       "      <td>NaN</td>\n",
       "      <td>B</td>\n",
       "    </tr>\n",
       "    <tr>\n",
       "      <th>...</th>\n",
       "      <td>...</td>\n",
       "      <td>...</td>\n",
       "      <td>...</td>\n",
       "      <td>...</td>\n",
       "      <td>...</td>\n",
       "      <td>...</td>\n",
       "      <td>...</td>\n",
       "      <td>...</td>\n",
       "      <td>...</td>\n",
       "      <td>...</td>\n",
       "      <td>...</td>\n",
       "    </tr>\n",
       "    <tr>\n",
       "      <th>797</th>\n",
       "      <td>t353400176448</td>\n",
       "      <td>2017-10-26</td>\n",
       "      <td>day</td>\n",
       "      <td>NaN</td>\n",
       "      <td>S4</td>\n",
       "      <td>D1</td>\n",
       "      <td>1000</td>\n",
       "      <td>NaN</td>\n",
       "      <td>489</td>\n",
       "      <td>TT</td>\n",
       "      <td>C</td>\n",
       "    </tr>\n",
       "    <tr>\n",
       "      <th>798</th>\n",
       "      <td>t112945848426</td>\n",
       "      <td>2018-09-01</td>\n",
       "      <td>day</td>\n",
       "      <td>NaN</td>\n",
       "      <td>S8</td>\n",
       "      <td>D3</td>\n",
       "      <td>2200</td>\n",
       "      <td>NaN</td>\n",
       "      <td>12</td>\n",
       "      <td>NaN</td>\n",
       "      <td>B</td>\n",
       "    </tr>\n",
       "    <tr>\n",
       "      <th>799</th>\n",
       "      <td>t53097944970</td>\n",
       "      <td>2018-06-20</td>\n",
       "      <td>day</td>\n",
       "      <td>NaN</td>\n",
       "      <td>S9</td>\n",
       "      <td>D2</td>\n",
       "      <td>2200</td>\n",
       "      <td>NaN</td>\n",
       "      <td>9</td>\n",
       "      <td>NaN</td>\n",
       "      <td>B</td>\n",
       "    </tr>\n",
       "    <tr>\n",
       "      <th>800</th>\n",
       "      <td>t127986960246</td>\n",
       "      <td>2019-01-13</td>\n",
       "      <td>night</td>\n",
       "      <td>NaN</td>\n",
       "      <td>S3</td>\n",
       "      <td>D3</td>\n",
       "      <td>1200</td>\n",
       "      <td>expedited</td>\n",
       "      <td>11</td>\n",
       "      <td>NaN</td>\n",
       "      <td>D</td>\n",
       "    </tr>\n",
       "    <tr>\n",
       "      <th>801</th>\n",
       "      <td>t85177360000</td>\n",
       "      <td>2018-12-15</td>\n",
       "      <td>day</td>\n",
       "      <td>snow</td>\n",
       "      <td>S3</td>\n",
       "      <td>D3</td>\n",
       "      <td>1200</td>\n",
       "      <td>NaN</td>\n",
       "      <td>434</td>\n",
       "      <td>TT</td>\n",
       "      <td>C</td>\n",
       "    </tr>\n",
       "  </tbody>\n",
       "</table>\n",
       "<p>802 rows × 11 columns</p>\n",
       "</div>"
      ],
      "text/plain": [
       "              trip        date dayPart exWeatherTag originLocation  \\\n",
       "0    t333282728025  2017-09-27   night          NaN             S2   \n",
       "1     t35583500660  2017-12-12     day         snow             S2   \n",
       "2    t117664376784  2018-11-18     day          NaN             S7   \n",
       "3    t261320757828  2019-11-18     day          NaN             S5   \n",
       "4    t147086054909  2019-06-02   night         heat             S6   \n",
       "..             ...         ...     ...          ...            ...   \n",
       "797  t353400176448  2017-10-26     day          NaN             S4   \n",
       "798  t112945848426  2018-09-01     day          NaN             S8   \n",
       "799   t53097944970  2018-06-20     day          NaN             S9   \n",
       "800  t127986960246  2019-01-13   night          NaN             S3   \n",
       "801   t85177360000  2018-12-15     day         snow             S3   \n",
       "\n",
       "    destinationLocation  distance       type  weight packageType carrier  \n",
       "0                    D8      2000        NaN      50         NaN       C  \n",
       "1                    D1       600        NaN      22         NaN       A  \n",
       "2                    D1      1600  expedited      30         NaN       D  \n",
       "3                    D6      2200        NaN      32         NaN       B  \n",
       "4                    D7      2600        NaN       7         NaN       B  \n",
       "..                  ...       ...        ...     ...         ...     ...  \n",
       "797                  D1      1000        NaN     489          TT       C  \n",
       "798                  D3      2200        NaN      12         NaN       B  \n",
       "799                  D2      2200        NaN       9         NaN       B  \n",
       "800                  D3      1200  expedited      11         NaN       D  \n",
       "801                  D3      1200        NaN     434          TT       C  \n",
       "\n",
       "[802 rows x 11 columns]"
      ]
     },
     "execution_count": 9,
     "metadata": {},
     "output_type": "execute_result"
    }
   ],
   "source": [
    "test_obj.load_data()"
   ]
  },
  {
   "cell_type": "markdown",
   "metadata": {},
   "source": [
    "### Check datatypes and info related to columns"
   ]
  },
  {
   "cell_type": "code",
   "execution_count": 10,
   "metadata": {
    "execution": {
     "iopub.execute_input": "2023-08-01T19:21:18.328178Z",
     "iopub.status.busy": "2023-08-01T19:21:18.327791Z",
     "iopub.status.idle": "2023-08-01T19:21:18.446683Z",
     "shell.execute_reply": "2023-08-01T19:21:18.445320Z",
     "shell.execute_reply.started": "2023-08-01T19:21:18.328147Z"
    }
   },
   "outputs": [
    {
     "name": "stdout",
     "output_type": "stream",
     "text": [
      "<class 'pandas.core.frame.DataFrame'>\n",
      "RangeIndex: 38999 entries, 0 to 38998\n",
      "Data columns (total 12 columns):\n",
      " #   Column               Non-Null Count  Dtype  \n",
      "---  ------               --------------  -----  \n",
      " 0   trip                 38999 non-null  object \n",
      " 1   date                 38999 non-null  object \n",
      " 2   dayPart              38999 non-null  object \n",
      " 3   exWeatherTag         4882 non-null   object \n",
      " 4   originLocation       38999 non-null  object \n",
      " 5   destinationLocation  38999 non-null  object \n",
      " 6   distance             38999 non-null  int64  \n",
      " 7   type                 3748 non-null   object \n",
      " 8   weight               38999 non-null  int64  \n",
      " 9   packageType          2500 non-null   object \n",
      " 10  carrier              38999 non-null  object \n",
      " 11  cost                 38999 non-null  float64\n",
      "dtypes: float64(1), int64(2), object(9)\n",
      "memory usage: 3.6+ MB\n"
     ]
    }
   ],
   "source": [
    "train_obj.check_info()"
   ]
  },
  {
   "cell_type": "code",
   "execution_count": 11,
   "metadata": {
    "execution": {
     "iopub.execute_input": "2023-08-01T19:21:26.192574Z",
     "iopub.status.busy": "2023-08-01T19:21:26.192142Z",
     "iopub.status.idle": "2023-08-01T19:21:26.207755Z",
     "shell.execute_reply": "2023-08-01T19:21:26.206545Z",
     "shell.execute_reply.started": "2023-08-01T19:21:26.192541Z"
    }
   },
   "outputs": [
    {
     "name": "stdout",
     "output_type": "stream",
     "text": [
      "<class 'pandas.core.frame.DataFrame'>\n",
      "RangeIndex: 802 entries, 0 to 801\n",
      "Data columns (total 11 columns):\n",
      " #   Column               Non-Null Count  Dtype \n",
      "---  ------               --------------  ----- \n",
      " 0   trip                 802 non-null    object\n",
      " 1   date                 802 non-null    object\n",
      " 2   dayPart              802 non-null    object\n",
      " 3   exWeatherTag         101 non-null    object\n",
      " 4   originLocation       802 non-null    object\n",
      " 5   destinationLocation  802 non-null    object\n",
      " 6   distance             802 non-null    int64 \n",
      " 7   type                 73 non-null     object\n",
      " 8   weight               802 non-null    int64 \n",
      " 9   packageType          52 non-null     object\n",
      " 10  carrier              802 non-null    object\n",
      "dtypes: int64(2), object(9)\n",
      "memory usage: 69.0+ KB\n"
     ]
    }
   ],
   "source": [
    "test_obj.check_info()"
   ]
  },
  {
   "cell_type": "markdown",
   "metadata": {},
   "source": [
    "### Checking Null Values proportions"
   ]
  },
  {
   "cell_type": "code",
   "execution_count": 12,
   "metadata": {
    "execution": {
     "iopub.execute_input": "2023-08-01T19:21:30.296173Z",
     "iopub.status.busy": "2023-08-01T19:21:30.295753Z",
     "iopub.status.idle": "2023-08-01T19:21:30.414667Z",
     "shell.execute_reply": "2023-08-01T19:21:30.413312Z",
     "shell.execute_reply.started": "2023-08-01T19:21:30.296139Z"
    }
   },
   "outputs": [
    {
     "data": {
      "text/plain": [
       "trip                    0.000000\n",
       "date                    0.000000\n",
       "dayPart                 0.000000\n",
       "exWeatherTag           87.481730\n",
       "originLocation          0.000000\n",
       "destinationLocation     0.000000\n",
       "distance                0.000000\n",
       "type                   90.389497\n",
       "weight                  0.000000\n",
       "packageType            93.589579\n",
       "carrier                 0.000000\n",
       "cost                    0.000000\n",
       "dtype: float64"
      ]
     },
     "execution_count": 12,
     "metadata": {},
     "output_type": "execute_result"
    }
   ],
   "source": [
    "train_obj.check_null()"
   ]
  },
  {
   "cell_type": "markdown",
   "metadata": {},
   "source": [
    "#### We can see that for column exweatherTag, type and packagetype , there are 87%,90%,and 93% of null values so we can drop this columns since there is no significance in imputing these columns"
   ]
  },
  {
   "cell_type": "markdown",
   "metadata": {},
   "source": [
    "# Data Visualization"
   ]
  },
  {
   "cell_type": "markdown",
   "metadata": {},
   "source": [
    "### Histograms"
   ]
  },
  {
   "cell_type": "code",
   "execution_count": 13,
   "metadata": {
    "execution": {
     "iopub.execute_input": "2023-08-01T19:21:44.961971Z",
     "iopub.status.busy": "2023-08-01T19:21:44.961059Z",
     "iopub.status.idle": "2023-08-01T19:21:47.048899Z",
     "shell.execute_reply": "2023-08-01T19:21:47.047466Z",
     "shell.execute_reply.started": "2023-08-01T19:21:44.961927Z"
    }
   },
   "outputs": [
    {
     "data": {
      "image/png": "[encoded data removed]",
      "text/plain": [
       "<Figure size 288x216 with 1 Axes>"
      ]
     },
     "metadata": {
      "needs_background": "light"
     },
     "output_type": "display_data"
    },
    {
     "data": {
      "image/png": "[encoded data removed]",
      "text/plain": [
       "<Figure size 288x216 with 1 Axes>"
      ]
     },
     "metadata": {
      "needs_background": "light"
     },
     "output_type": "display_data"
    },
    {
     "data": {
      "image/png": "[encoded data removed]",
      "text/plain": [
       "<Figure size 288x216 with 1 Axes>"
      ]
     },
     "metadata": {
      "needs_background": "light"
     },
     "output_type": "display_data"
    },
    {
     "data": {
      "image/png": "[encoded data removed]",
      "text/plain": [
       "<Figure size 288x216 with 1 Axes>"
      ]
     },
     "metadata": {
      "needs_background": "light"
     },
     "output_type": "display_data"
    },
    {
     "data": {
      "image/png": "[encoded data removed]",
      "text/plain": [
       "<Figure size 288x216 with 1 Axes>"
      ]
     },
     "metadata": {
      "needs_background": "light"
     },
     "output_type": "display_data"
    },
    {
     "data": {
      "image/png": "[encoded data removed]",
      "text/plain": [
       "<Figure size 288x216 with 1 Axes>"
      ]
     },
     "metadata": {
      "needs_background": "light"
     },
     "output_type": "display_data"
    },
    {
     "data": {
      "image/png": "[encoded data removed]",
      "text/plain": [
       "<Figure size 288x216 with 1 Axes>"
      ]
     },
     "metadata": {
      "needs_background": "light"
     },
     "output_type": "display_data"
    }
   ],
   "source": [
    "train_obj.check_histogram()"
   ]
  },
  {
   "cell_type": "markdown",
   "metadata": {},
   "source": [
    "### Bar Plot"
   ]
  },
  {
   "cell_type": "code",
   "execution_count": 14,
   "metadata": {
    "execution": {
     "iopub.execute_input": "2023-08-01T19:21:51.157175Z",
     "iopub.status.busy": "2023-08-01T19:21:51.156764Z",
     "iopub.status.idle": "2023-08-01T19:22:55.737353Z",
     "shell.execute_reply": "2023-08-01T19:22:55.736292Z",
     "shell.execute_reply.started": "2023-08-01T19:21:51.157139Z"
    }
   },
   "outputs": [
    {
     "data": {
      "image/png": "[encoded data removed]",
      "text/plain": [
       "<Figure size 432x288 with 1 Axes>"
      ]
     },
     "metadata": {
      "needs_background": "light"
     },
     "output_type": "display_data"
    }
   ],
   "source": [
    "train_obj.bar_plot()"
   ]
  },
  {
   "cell_type": "markdown",
   "metadata": {},
   "source": [
    "### Scatter Plot"
   ]
  },
  {
   "cell_type": "code",
   "execution_count": 15,
   "metadata": {
    "execution": {
     "iopub.execute_input": "2023-08-01T19:23:24.903569Z",
     "iopub.status.busy": "2023-08-01T19:23:24.903130Z",
     "iopub.status.idle": "2023-08-01T19:23:25.280598Z",
     "shell.execute_reply": "2023-08-01T19:23:25.279323Z",
     "shell.execute_reply.started": "2023-08-01T19:23:24.903528Z"
    }
   },
   "outputs": [
    {
     "data": {
      "image/png": "[encoded data removed]",
      "text/plain": [
       "<Figure size 432x288 with 1 Axes>"
      ]
     },
     "metadata": {
      "needs_background": "light"
     },
     "output_type": "display_data"
    }
   ],
   "source": [
    "train_obj.scatter_plot()"
   ]
  },
  {
   "cell_type": "markdown",
   "metadata": {},
   "source": [
    "# Data Preprocessing"
   ]
  },
  {
   "cell_type": "markdown",
   "metadata": {},
   "source": [
    "### Checking Unique Values for each Features"
   ]
  },
  {
   "cell_type": "code",
   "execution_count": 16,
   "metadata": {
    "execution": {
     "iopub.execute_input": "2023-08-01T19:23:29.140780Z",
     "iopub.status.busy": "2023-08-01T19:23:29.140376Z",
     "iopub.status.idle": "2023-08-01T19:23:29.191824Z",
     "shell.execute_reply": "2023-08-01T19:23:29.190560Z",
     "shell.execute_reply.started": "2023-08-01T19:23:29.140748Z"
    }
   },
   "outputs": [
    {
     "data": {
      "text/plain": [
       "trip                   38999\n",
       "date                    1074\n",
       "dayPart                    2\n",
       "exWeatherTag               2\n",
       "originLocation             9\n",
       "destinationLocation        9\n",
       "distance                  17\n",
       "type                       1\n",
       "weight                   499\n",
       "packageType                1\n",
       "carrier                    4\n",
       "cost                    3665\n",
       "dtype: int64"
      ]
     },
     "execution_count": 16,
     "metadata": {},
     "output_type": "execute_result"
    }
   ],
   "source": [
    "train_obj.unique_values()"
   ]
  },
  {
   "cell_type": "markdown",
   "metadata": {},
   "source": [
    "#### We have some categorical columns , We will count their occurence and convert them to numericals\n"
   ]
  },
  {
   "cell_type": "markdown",
   "metadata": {},
   "source": [
    "### Value Count for Categorical Columns"
   ]
  },
  {
   "cell_type": "code",
   "execution_count": 17,
   "metadata": {
    "execution": {
     "iopub.execute_input": "2023-08-01T19:23:32.774331Z",
     "iopub.status.busy": "2023-08-01T19:23:32.773933Z",
     "iopub.status.idle": "2023-08-01T19:23:32.807301Z",
     "shell.execute_reply": "2023-08-01T19:23:32.806087Z",
     "shell.execute_reply.started": "2023-08-01T19:23:32.774301Z"
    }
   },
   "outputs": [
    {
     "name": "stdout",
     "output_type": "stream",
     "text": [
      "night    25904\n",
      "day      13095\n",
      "Name: dayPart, dtype: int64\n",
      "S3    4461\n",
      "S5    4388\n",
      "S6    4379\n",
      "S8    4368\n",
      "S4    4324\n",
      "S1    4312\n",
      "S9    4302\n",
      "S7    4267\n",
      "S2    4198\n",
      "Name: originLocation, dtype: int64\n",
      "D8    4471\n",
      "D3    4386\n",
      "D9    4379\n",
      "D2    4335\n",
      "D5    4334\n",
      "D7    4297\n",
      "D1    4284\n",
      "D6    4279\n",
      "D4    4234\n",
      "Name: destinationLocation, dtype: int64\n",
      "B    29813\n",
      "D     3748\n",
      "C     3060\n",
      "A     2378\n",
      "Name: carrier, dtype: int64\n"
     ]
    }
   ],
   "source": [
    "train_obj.value_count()"
   ]
  },
  {
   "cell_type": "markdown",
   "metadata": {},
   "source": [
    "### Encoding Categorical Columns using one hot encoding"
   ]
  },
  {
   "cell_type": "code",
   "execution_count": 18,
   "metadata": {
    "execution": {
     "iopub.execute_input": "2023-08-01T19:23:36.373742Z",
     "iopub.status.busy": "2023-08-01T19:23:36.373029Z",
     "iopub.status.idle": "2023-08-01T19:23:36.445680Z",
     "shell.execute_reply": "2023-08-01T19:23:36.444434Z",
     "shell.execute_reply.started": "2023-08-01T19:23:36.373707Z"
    }
   },
   "outputs": [],
   "source": [
    "#Encode Train set\n",
    "train_obj.encode_df()"
   ]
  },
  {
   "cell_type": "code",
   "execution_count": 19,
   "metadata": {
    "execution": {
     "iopub.execute_input": "2023-08-01T19:23:39.076672Z",
     "iopub.status.busy": "2023-08-01T19:23:39.076213Z",
     "iopub.status.idle": "2023-08-01T19:23:39.093391Z",
     "shell.execute_reply": "2023-08-01T19:23:39.091469Z",
     "shell.execute_reply.started": "2023-08-01T19:23:39.076635Z"
    }
   },
   "outputs": [],
   "source": [
    "#Encode Test Set\n",
    "test_obj.encode_df()"
   ]
  },
  {
   "cell_type": "markdown",
   "metadata": {},
   "source": [
    "### Datetime Conversion"
   ]
  },
  {
   "cell_type": "code",
   "execution_count": 20,
   "metadata": {
    "execution": {
     "iopub.execute_input": "2023-08-01T19:23:41.676933Z",
     "iopub.status.busy": "2023-08-01T19:23:41.676527Z",
     "iopub.status.idle": "2023-08-01T19:23:41.715390Z",
     "shell.execute_reply": "2023-08-01T19:23:41.714443Z",
     "shell.execute_reply.started": "2023-08-01T19:23:41.676900Z"
    }
   },
   "outputs": [],
   "source": [
    "#convert to datetime and extract month from Train set\n",
    "train_obj.date_month()"
   ]
  },
  {
   "cell_type": "code",
   "execution_count": 21,
   "metadata": {
    "execution": {
     "iopub.execute_input": "2023-08-01T19:23:44.753701Z",
     "iopub.status.busy": "2023-08-01T19:23:44.752604Z",
     "iopub.status.idle": "2023-08-01T19:23:44.763114Z",
     "shell.execute_reply": "2023-08-01T19:23:44.762066Z",
     "shell.execute_reply.started": "2023-08-01T19:23:44.753661Z"
    }
   },
   "outputs": [],
   "source": [
    "#convert to datetime and extract month from Test set\n",
    "test_obj.date_month()"
   ]
  },
  {
   "cell_type": "markdown",
   "metadata": {},
   "source": [
    "### Dropping columns "
   ]
  },
  {
   "cell_type": "code",
   "execution_count": 22,
   "metadata": {
    "execution": {
     "iopub.execute_input": "2023-08-01T19:23:47.404189Z",
     "iopub.status.busy": "2023-08-01T19:23:47.403803Z",
     "iopub.status.idle": "2023-08-01T19:23:47.415408Z",
     "shell.execute_reply": "2023-08-01T19:23:47.414241Z",
     "shell.execute_reply.started": "2023-08-01T19:23:47.404158Z"
    }
   },
   "outputs": [
    {
     "name": "stdout",
     "output_type": "stream",
     "text": [
      "Deleted Columns are : ['type', 'packageType', 'exWeatherTag']\n"
     ]
    }
   ],
   "source": [
    "# Drop columns in train set\n",
    "train_obj.drop_columns()"
   ]
  },
  {
   "cell_type": "code",
   "execution_count": 23,
   "metadata": {
    "execution": {
     "iopub.execute_input": "2023-08-01T19:23:50.507552Z",
     "iopub.status.busy": "2023-08-01T19:23:50.506319Z",
     "iopub.status.idle": "2023-08-01T19:23:50.514820Z",
     "shell.execute_reply": "2023-08-01T19:23:50.513550Z",
     "shell.execute_reply.started": "2023-08-01T19:23:50.507513Z"
    }
   },
   "outputs": [
    {
     "name": "stdout",
     "output_type": "stream",
     "text": [
      "Deleted Columns are : ['type', 'packageType', 'exWeatherTag']\n"
     ]
    }
   ],
   "source": [
    "#drop columns in test set\n",
    "test_obj.drop_columns()"
   ]
  },
  {
   "cell_type": "code",
   "execution_count": 24,
   "metadata": {
    "execution": {
     "iopub.status.busy": "2023-08-01T17:16:00.126591Z",
     "iopub.status.idle": "2023-08-01T17:16:00.127001Z",
     "shell.execute_reply": "2023-08-01T17:16:00.126802Z",
     "shell.execute_reply.started": "2023-08-01T17:16:00.126774Z"
    }
   },
   "outputs": [],
   "source": [
    "#train_obj.outliers()\n",
    "#train_obj.df\n",
    "#new_train_df = train_obj.df[(train_obj.df['weight'] > 250) & (train_obj.df['cost'] < 100)]\n",
    "#new_train_df = train_obj.df - new_train_df\n",
    "#new_train_df\n",
    "#train_obj.df"
   ]
  },
  {
   "cell_type": "code",
   "execution_count": 25,
   "metadata": {
    "execution": {
     "iopub.status.busy": "2023-08-01T17:16:00.128082Z",
     "iopub.status.idle": "2023-08-01T17:16:00.128942Z",
     "shell.execute_reply": "2023-08-01T17:16:00.128679Z",
     "shell.execute_reply.started": "2023-08-01T17:16:00.128658Z"
    }
   },
   "outputs": [],
   "source": [
    "#new_test_df = test_obj.df[test_obj.df['weight'] > 250]\n",
    "#new_test_df\n",
    "#test_obj.df"
   ]
  },
  {
   "cell_type": "markdown",
   "metadata": {},
   "source": [
    "## Plotting correlation Heatmap to check correlation between variables"
   ]
  },
  {
   "cell_type": "code",
   "execution_count": 26,
   "metadata": {
    "execution": {
     "iopub.execute_input": "2023-08-01T19:24:13.348383Z",
     "iopub.status.busy": "2023-08-01T19:24:13.347993Z",
     "iopub.status.idle": "2023-08-01T19:24:16.327068Z",
     "shell.execute_reply": "2023-08-01T19:24:16.325945Z",
     "shell.execute_reply.started": "2023-08-01T19:24:13.348352Z"
    }
   },
   "outputs": [
    {
     "data": {
      "image/png": "[encoded data removed]",
      "text/plain": [
       "<Figure size 1008x864 with 2 Axes>"
      ]
     },
     "metadata": {
      "needs_background": "light"
     },
     "output_type": "display_data"
    }
   ],
   "source": [
    "#correlation matrix\n",
    "train_obj.correlation_matrix()"
   ]
  },
  {
   "cell_type": "markdown",
   "metadata": {},
   "source": [
    "#### From the above correlation matrix, We can see that cost has high correlation with weight"
   ]
  },
  {
   "cell_type": "code",
   "execution_count": 27,
   "metadata": {
    "execution": {
     "iopub.execute_input": "2023-08-01T19:24:43.948719Z",
     "iopub.status.busy": "2023-08-01T19:24:43.947708Z",
     "iopub.status.idle": "2023-08-01T19:24:43.957253Z",
     "shell.execute_reply": "2023-08-01T19:24:43.955962Z",
     "shell.execute_reply.started": "2023-08-01T19:24:43.948679Z"
    }
   },
   "outputs": [
    {
     "data": {
      "text/plain": [
       "Index(['trip', 'date', 'distance', 'weight', 'cost', 'dayPart_day',\n",
       "       'dayPart_night', 'carrier_A', 'carrier_B', 'carrier_C', 'carrier_D',\n",
       "       'originLocation_S1', 'originLocation_S2', 'originLocation_S3',\n",
       "       'originLocation_S4', 'originLocation_S5', 'originLocation_S6',\n",
       "       'originLocation_S7', 'originLocation_S8', 'originLocation_S9',\n",
       "       'destinationLocation_D1', 'destinationLocation_D2',\n",
       "       'destinationLocation_D3', 'destinationLocation_D4',\n",
       "       'destinationLocation_D5', 'destinationLocation_D6',\n",
       "       'destinationLocation_D7', 'destinationLocation_D8',\n",
       "       'destinationLocation_D9', 'month', 'year', 'day'],\n",
       "      dtype='object')"
      ]
     },
     "execution_count": 27,
     "metadata": {},
     "output_type": "execute_result"
    }
   ],
   "source": [
    "#Make data ready to train\n",
    "train_obj.load_columns()\n",
    "\n"
   ]
  },
  {
   "cell_type": "code",
   "execution_count": 28,
   "metadata": {
    "execution": {
     "iopub.execute_input": "2023-08-01T19:24:47.277472Z",
     "iopub.status.busy": "2023-08-01T19:24:47.277060Z",
     "iopub.status.idle": "2023-08-01T19:24:47.285455Z",
     "shell.execute_reply": "2023-08-01T19:24:47.284332Z",
     "shell.execute_reply.started": "2023-08-01T19:24:47.277442Z"
    }
   },
   "outputs": [
    {
     "data": {
      "text/plain": [
       "Index(['trip', 'date', 'distance', 'weight', 'dayPart_day', 'dayPart_night',\n",
       "       'carrier_A', 'carrier_B', 'carrier_C', 'carrier_D', 'originLocation_S1',\n",
       "       'originLocation_S2', 'originLocation_S3', 'originLocation_S4',\n",
       "       'originLocation_S5', 'originLocation_S6', 'originLocation_S7',\n",
       "       'originLocation_S8', 'originLocation_S9', 'destinationLocation_D1',\n",
       "       'destinationLocation_D2', 'destinationLocation_D3',\n",
       "       'destinationLocation_D4', 'destinationLocation_D5',\n",
       "       'destinationLocation_D6', 'destinationLocation_D7',\n",
       "       'destinationLocation_D8', 'destinationLocation_D9', 'month', 'year',\n",
       "       'day'],\n",
       "      dtype='object')"
      ]
     },
     "execution_count": 28,
     "metadata": {},
     "output_type": "execute_result"
    }
   ],
   "source": [
    "test_obj.load_columns()"
   ]
  },
  {
   "cell_type": "markdown",
   "metadata": {},
   "source": [
    "## Final Features for Train set\n"
   ]
  },
  {
   "cell_type": "code",
   "execution_count": 29,
   "metadata": {
    "execution": {
     "iopub.execute_input": "2023-08-01T19:24:51.514099Z",
     "iopub.status.busy": "2023-08-01T19:24:51.513623Z",
     "iopub.status.idle": "2023-08-01T19:24:51.549517Z",
     "shell.execute_reply": "2023-08-01T19:24:51.548596Z",
     "shell.execute_reply.started": "2023-08-01T19:24:51.514064Z"
    }
   },
   "outputs": [
    {
     "data": {
      "text/html": [
       "<div>\n",
       "<style scoped>\n",
       "    .dataframe tbody tr th:only-of-type {\n",
       "        vertical-align: middle;\n",
       "    }\n",
       "\n",
       "    .dataframe tbody tr th {\n",
       "        vertical-align: top;\n",
       "    }\n",
       "\n",
       "    .dataframe thead th {\n",
       "        text-align: right;\n",
       "    }\n",
       "</style>\n",
       "<table border=\"1\" class=\"dataframe\">\n",
       "  <thead>\n",
       "    <tr style=\"text-align: right;\">\n",
       "      <th></th>\n",
       "      <th>distance</th>\n",
       "      <th>weight</th>\n",
       "      <th>dayPart_day</th>\n",
       "      <th>dayPart_night</th>\n",
       "      <th>carrier_A</th>\n",
       "      <th>carrier_B</th>\n",
       "      <th>carrier_C</th>\n",
       "      <th>carrier_D</th>\n",
       "      <th>originLocation_S1</th>\n",
       "      <th>originLocation_S2</th>\n",
       "      <th>...</th>\n",
       "      <th>destinationLocation_D3</th>\n",
       "      <th>destinationLocation_D4</th>\n",
       "      <th>destinationLocation_D5</th>\n",
       "      <th>destinationLocation_D6</th>\n",
       "      <th>destinationLocation_D7</th>\n",
       "      <th>destinationLocation_D8</th>\n",
       "      <th>destinationLocation_D9</th>\n",
       "      <th>month</th>\n",
       "      <th>year</th>\n",
       "      <th>day</th>\n",
       "    </tr>\n",
       "  </thead>\n",
       "  <tbody>\n",
       "    <tr>\n",
       "      <th>0</th>\n",
       "      <td>2200</td>\n",
       "      <td>50</td>\n",
       "      <td>0</td>\n",
       "      <td>1</td>\n",
       "      <td>0</td>\n",
       "      <td>0</td>\n",
       "      <td>0</td>\n",
       "      <td>1</td>\n",
       "      <td>0</td>\n",
       "      <td>0</td>\n",
       "      <td>...</td>\n",
       "      <td>0</td>\n",
       "      <td>0</td>\n",
       "      <td>0</td>\n",
       "      <td>0</td>\n",
       "      <td>1</td>\n",
       "      <td>0</td>\n",
       "      <td>0</td>\n",
       "      <td>9</td>\n",
       "      <td>2017</td>\n",
       "      <td>6</td>\n",
       "    </tr>\n",
       "    <tr>\n",
       "      <th>1</th>\n",
       "      <td>1800</td>\n",
       "      <td>12</td>\n",
       "      <td>0</td>\n",
       "      <td>1</td>\n",
       "      <td>0</td>\n",
       "      <td>1</td>\n",
       "      <td>0</td>\n",
       "      <td>0</td>\n",
       "      <td>0</td>\n",
       "      <td>0</td>\n",
       "      <td>...</td>\n",
       "      <td>0</td>\n",
       "      <td>0</td>\n",
       "      <td>0</td>\n",
       "      <td>0</td>\n",
       "      <td>0</td>\n",
       "      <td>0</td>\n",
       "      <td>0</td>\n",
       "      <td>10</td>\n",
       "      <td>2017</td>\n",
       "      <td>21</td>\n",
       "    </tr>\n",
       "    <tr>\n",
       "      <th>2</th>\n",
       "      <td>2800</td>\n",
       "      <td>1</td>\n",
       "      <td>0</td>\n",
       "      <td>1</td>\n",
       "      <td>0</td>\n",
       "      <td>1</td>\n",
       "      <td>0</td>\n",
       "      <td>0</td>\n",
       "      <td>0</td>\n",
       "      <td>0</td>\n",
       "      <td>...</td>\n",
       "      <td>0</td>\n",
       "      <td>0</td>\n",
       "      <td>1</td>\n",
       "      <td>0</td>\n",
       "      <td>0</td>\n",
       "      <td>0</td>\n",
       "      <td>0</td>\n",
       "      <td>7</td>\n",
       "      <td>2017</td>\n",
       "      <td>15</td>\n",
       "    </tr>\n",
       "    <tr>\n",
       "      <th>3</th>\n",
       "      <td>3200</td>\n",
       "      <td>50</td>\n",
       "      <td>1</td>\n",
       "      <td>0</td>\n",
       "      <td>0</td>\n",
       "      <td>0</td>\n",
       "      <td>1</td>\n",
       "      <td>0</td>\n",
       "      <td>0</td>\n",
       "      <td>0</td>\n",
       "      <td>...</td>\n",
       "      <td>0</td>\n",
       "      <td>0</td>\n",
       "      <td>0</td>\n",
       "      <td>0</td>\n",
       "      <td>1</td>\n",
       "      <td>0</td>\n",
       "      <td>0</td>\n",
       "      <td>10</td>\n",
       "      <td>2017</td>\n",
       "      <td>22</td>\n",
       "    </tr>\n",
       "    <tr>\n",
       "      <th>4</th>\n",
       "      <td>2000</td>\n",
       "      <td>43</td>\n",
       "      <td>1</td>\n",
       "      <td>0</td>\n",
       "      <td>0</td>\n",
       "      <td>1</td>\n",
       "      <td>0</td>\n",
       "      <td>0</td>\n",
       "      <td>0</td>\n",
       "      <td>0</td>\n",
       "      <td>...</td>\n",
       "      <td>0</td>\n",
       "      <td>0</td>\n",
       "      <td>0</td>\n",
       "      <td>0</td>\n",
       "      <td>0</td>\n",
       "      <td>0</td>\n",
       "      <td>0</td>\n",
       "      <td>12</td>\n",
       "      <td>2019</td>\n",
       "      <td>11</td>\n",
       "    </tr>\n",
       "    <tr>\n",
       "      <th>...</th>\n",
       "      <td>...</td>\n",
       "      <td>...</td>\n",
       "      <td>...</td>\n",
       "      <td>...</td>\n",
       "      <td>...</td>\n",
       "      <td>...</td>\n",
       "      <td>...</td>\n",
       "      <td>...</td>\n",
       "      <td>...</td>\n",
       "      <td>...</td>\n",
       "      <td>...</td>\n",
       "      <td>...</td>\n",
       "      <td>...</td>\n",
       "      <td>...</td>\n",
       "      <td>...</td>\n",
       "      <td>...</td>\n",
       "      <td>...</td>\n",
       "      <td>...</td>\n",
       "      <td>...</td>\n",
       "      <td>...</td>\n",
       "      <td>...</td>\n",
       "    </tr>\n",
       "    <tr>\n",
       "      <th>38994</th>\n",
       "      <td>1200</td>\n",
       "      <td>3</td>\n",
       "      <td>0</td>\n",
       "      <td>1</td>\n",
       "      <td>0</td>\n",
       "      <td>1</td>\n",
       "      <td>0</td>\n",
       "      <td>0</td>\n",
       "      <td>0</td>\n",
       "      <td>0</td>\n",
       "      <td>...</td>\n",
       "      <td>1</td>\n",
       "      <td>0</td>\n",
       "      <td>0</td>\n",
       "      <td>0</td>\n",
       "      <td>0</td>\n",
       "      <td>0</td>\n",
       "      <td>0</td>\n",
       "      <td>10</td>\n",
       "      <td>2019</td>\n",
       "      <td>17</td>\n",
       "    </tr>\n",
       "    <tr>\n",
       "      <th>38995</th>\n",
       "      <td>2000</td>\n",
       "      <td>6</td>\n",
       "      <td>0</td>\n",
       "      <td>1</td>\n",
       "      <td>0</td>\n",
       "      <td>1</td>\n",
       "      <td>0</td>\n",
       "      <td>0</td>\n",
       "      <td>0</td>\n",
       "      <td>0</td>\n",
       "      <td>...</td>\n",
       "      <td>0</td>\n",
       "      <td>0</td>\n",
       "      <td>0</td>\n",
       "      <td>1</td>\n",
       "      <td>0</td>\n",
       "      <td>0</td>\n",
       "      <td>0</td>\n",
       "      <td>1</td>\n",
       "      <td>2019</td>\n",
       "      <td>23</td>\n",
       "    </tr>\n",
       "    <tr>\n",
       "      <th>38996</th>\n",
       "      <td>3000</td>\n",
       "      <td>24</td>\n",
       "      <td>0</td>\n",
       "      <td>1</td>\n",
       "      <td>0</td>\n",
       "      <td>1</td>\n",
       "      <td>0</td>\n",
       "      <td>0</td>\n",
       "      <td>0</td>\n",
       "      <td>0</td>\n",
       "      <td>...</td>\n",
       "      <td>0</td>\n",
       "      <td>0</td>\n",
       "      <td>0</td>\n",
       "      <td>0</td>\n",
       "      <td>1</td>\n",
       "      <td>0</td>\n",
       "      <td>0</td>\n",
       "      <td>10</td>\n",
       "      <td>2018</td>\n",
       "      <td>3</td>\n",
       "    </tr>\n",
       "    <tr>\n",
       "      <th>38997</th>\n",
       "      <td>2600</td>\n",
       "      <td>31</td>\n",
       "      <td>0</td>\n",
       "      <td>1</td>\n",
       "      <td>0</td>\n",
       "      <td>1</td>\n",
       "      <td>0</td>\n",
       "      <td>0</td>\n",
       "      <td>0</td>\n",
       "      <td>0</td>\n",
       "      <td>...</td>\n",
       "      <td>0</td>\n",
       "      <td>0</td>\n",
       "      <td>1</td>\n",
       "      <td>0</td>\n",
       "      <td>0</td>\n",
       "      <td>0</td>\n",
       "      <td>0</td>\n",
       "      <td>2</td>\n",
       "      <td>2018</td>\n",
       "      <td>26</td>\n",
       "    </tr>\n",
       "    <tr>\n",
       "      <th>38998</th>\n",
       "      <td>3200</td>\n",
       "      <td>36</td>\n",
       "      <td>0</td>\n",
       "      <td>1</td>\n",
       "      <td>0</td>\n",
       "      <td>1</td>\n",
       "      <td>0</td>\n",
       "      <td>0</td>\n",
       "      <td>0</td>\n",
       "      <td>0</td>\n",
       "      <td>...</td>\n",
       "      <td>0</td>\n",
       "      <td>0</td>\n",
       "      <td>0</td>\n",
       "      <td>0</td>\n",
       "      <td>0</td>\n",
       "      <td>1</td>\n",
       "      <td>0</td>\n",
       "      <td>7</td>\n",
       "      <td>2017</td>\n",
       "      <td>30</td>\n",
       "    </tr>\n",
       "  </tbody>\n",
       "</table>\n",
       "<p>38999 rows × 29 columns</p>\n",
       "</div>"
      ],
      "text/plain": [
       "       distance  weight  dayPart_day  dayPart_night  carrier_A  carrier_B  \\\n",
       "0          2200      50            0              1          0          0   \n",
       "1          1800      12            0              1          0          1   \n",
       "2          2800       1            0              1          0          1   \n",
       "3          3200      50            1              0          0          0   \n",
       "4          2000      43            1              0          0          1   \n",
       "...         ...     ...          ...            ...        ...        ...   \n",
       "38994      1200       3            0              1          0          1   \n",
       "38995      2000       6            0              1          0          1   \n",
       "38996      3000      24            0              1          0          1   \n",
       "38997      2600      31            0              1          0          1   \n",
       "38998      3200      36            0              1          0          1   \n",
       "\n",
       "       carrier_C  carrier_D  originLocation_S1  originLocation_S2  ...  \\\n",
       "0              0          1                  0                  0  ...   \n",
       "1              0          0                  0                  0  ...   \n",
       "2              0          0                  0                  0  ...   \n",
       "3              1          0                  0                  0  ...   \n",
       "4              0          0                  0                  0  ...   \n",
       "...          ...        ...                ...                ...  ...   \n",
       "38994          0          0                  0                  0  ...   \n",
       "38995          0          0                  0                  0  ...   \n",
       "38996          0          0                  0                  0  ...   \n",
       "38997          0          0                  0                  0  ...   \n",
       "38998          0          0                  0                  0  ...   \n",
       "\n",
       "       destinationLocation_D3  destinationLocation_D4  destinationLocation_D5  \\\n",
       "0                           0                       0                       0   \n",
       "1                           0                       0                       0   \n",
       "2                           0                       0                       1   \n",
       "3                           0                       0                       0   \n",
       "4                           0                       0                       0   \n",
       "...                       ...                     ...                     ...   \n",
       "38994                       1                       0                       0   \n",
       "38995                       0                       0                       0   \n",
       "38996                       0                       0                       0   \n",
       "38997                       0                       0                       1   \n",
       "38998                       0                       0                       0   \n",
       "\n",
       "       destinationLocation_D6  destinationLocation_D7  destinationLocation_D8  \\\n",
       "0                           0                       1                       0   \n",
       "1                           0                       0                       0   \n",
       "2                           0                       0                       0   \n",
       "3                           0                       1                       0   \n",
       "4                           0                       0                       0   \n",
       "...                       ...                     ...                     ...   \n",
       "38994                       0                       0                       0   \n",
       "38995                       1                       0                       0   \n",
       "38996                       0                       1                       0   \n",
       "38997                       0                       0                       0   \n",
       "38998                       0                       0                       1   \n",
       "\n",
       "       destinationLocation_D9  month  year  day  \n",
       "0                           0      9  2017    6  \n",
       "1                           0     10  2017   21  \n",
       "2                           0      7  2017   15  \n",
       "3                           0     10  2017   22  \n",
       "4                           0     12  2019   11  \n",
       "...                       ...    ...   ...  ...  \n",
       "38994                       0     10  2019   17  \n",
       "38995                       0      1  2019   23  \n",
       "38996                       0     10  2018    3  \n",
       "38997                       0      2  2018   26  \n",
       "38998                       0      7  2017   30  \n",
       "\n",
       "[38999 rows x 29 columns]"
      ]
     },
     "execution_count": 29,
     "metadata": {},
     "output_type": "execute_result"
    }
   ],
   "source": [
    "train_obj.prepare_data()\n",
    "train_obj.X_train\n",
    "#train_obj.y_train\n",
    "\n"
   ]
  },
  {
   "cell_type": "code",
   "execution_count": 30,
   "metadata": {
    "execution": {
     "iopub.status.busy": "2023-08-01T17:16:00.144475Z",
     "iopub.status.idle": "2023-08-01T17:16:00.144896Z",
     "shell.execute_reply": "2023-08-01T17:16:00.144706Z",
     "shell.execute_reply.started": "2023-08-01T17:16:00.144687Z"
    }
   },
   "outputs": [],
   "source": [
    "#train_obj.X_train.describe()"
   ]
  },
  {
   "cell_type": "markdown",
   "metadata": {},
   "source": [
    "## Final Label for train set"
   ]
  },
  {
   "cell_type": "code",
   "execution_count": 31,
   "metadata": {
    "execution": {
     "iopub.execute_input": "2023-08-01T19:24:58.296685Z",
     "iopub.status.busy": "2023-08-01T19:24:58.295188Z",
     "iopub.status.idle": "2023-08-01T19:24:58.305807Z",
     "shell.execute_reply": "2023-08-01T19:24:58.304546Z",
     "shell.execute_reply.started": "2023-08-01T19:24:58.296639Z"
    }
   },
   "outputs": [
    {
     "data": {
      "text/plain": [
       "0        68.413152\n",
       "1        36.450649\n",
       "2         9.057939\n",
       "3        57.320087\n",
       "4        77.263777\n",
       "           ...    \n",
       "38994    14.987239\n",
       "38995    33.214738\n",
       "38996    45.172159\n",
       "38997    47.541427\n",
       "38998    68.054098\n",
       "Name: cost, Length: 38999, dtype: float64"
      ]
     },
     "execution_count": 31,
     "metadata": {},
     "output_type": "execute_result"
    }
   ],
   "source": [
    "train_obj.y_train"
   ]
  },
  {
   "cell_type": "code",
   "execution_count": 32,
   "metadata": {
    "execution": {
     "iopub.status.busy": "2023-08-01T17:16:00.148720Z",
     "iopub.status.idle": "2023-08-01T17:16:00.149156Z",
     "shell.execute_reply": "2023-08-01T17:16:00.148975Z",
     "shell.execute_reply.started": "2023-08-01T17:16:00.148952Z"
    }
   },
   "outputs": [],
   "source": [
    "#train_obj.y_train.describe()"
   ]
  },
  {
   "cell_type": "markdown",
   "metadata": {},
   "source": [
    "## Splitting the train set and trying different regression models\n",
    "> We are using 80% of data for training and 20% of data for testing.\n"
   ]
  },
  {
   "cell_type": "code",
   "execution_count": 33,
   "metadata": {
    "execution": {
     "iopub.execute_input": "2023-08-01T19:25:02.714794Z",
     "iopub.status.busy": "2023-08-01T19:25:02.712067Z",
     "iopub.status.idle": "2023-08-01T19:25:02.945348Z",
     "shell.execute_reply": "2023-08-01T19:25:02.943564Z",
     "shell.execute_reply.started": "2023-08-01T19:25:02.714746Z"
    }
   },
   "outputs": [],
   "source": [
    "from sklearn.model_selection import train_test_split\n",
    "train_try_X, test_try_X, train_try_y, test_try_y = train_test_split(train_obj.X_train,train_obj.y_train,test_size=0.2,random_state = 42)\n"
   ]
  },
  {
   "cell_type": "markdown",
   "metadata": {},
   "source": [
    "### We will try following Regression models and select the best fit model for actual test set\n",
    "#### 1. Linear Regression Model\n",
    "#### 2. Decision Tree \n",
    "#### 3. Random Forest\n",
    "#### 4. XGboost \n",
    "#### 5. Gradient Boosting Regressor\n",
    "#### 6. Lasso\n",
    "#### 7. Artificial Neural Network"
   ]
  },
  {
   "cell_type": "markdown",
   "metadata": {},
   "source": [
    "### Implementing above mentioned models and evaluation metrics"
   ]
  },
  {
   "cell_type": "code",
   "execution_count": 34,
   "metadata": {
    "execution": {
     "iopub.execute_input": "2023-08-01T19:29:50.864372Z",
     "iopub.status.busy": "2023-08-01T19:29:50.863069Z",
     "iopub.status.idle": "2023-08-01T19:29:50.885958Z",
     "shell.execute_reply": "2023-08-01T19:29:50.884764Z",
     "shell.execute_reply.started": "2023-08-01T19:29:50.864332Z"
    }
   },
   "outputs": [],
   "source": [
    "#Import all required libraries\n",
    "from sklearn.model_selection import train_test_split\n",
    "from sklearn.linear_model import LinearRegression\n",
    "from sklearn.linear_model import Lasso\n",
    "import xgboost as xgb\n",
    "#import lightgbm as lgb\n",
    "from sklearn.tree import DecisionTreeRegressor\n",
    "from sklearn.ensemble import RandomForestRegressor, GradientBoostingRegressor\n",
    "from sklearn.metrics import mean_squared_error,mean_absolute_error, r2_score\n",
    "\n",
    "# Function for Linear Regression Model\n",
    "def train_linear_regression(train_try_X, train_try_y):\n",
    "    model = LinearRegression()\n",
    "    model.fit(train_try_X, train_try_y)\n",
    "    y_pred = model.predict(test_try_X)\n",
    "    mse = mean_squared_error(test_try_y, y_pred)\n",
    "    rmse = np.sqrt(mse)\n",
    "    mae = mean_absolute_error(test_try_y, y_pred)\n",
    "    r2 = r2_score(test_try_y, y_pred)\n",
    "    print(f\"For Linear Regression : \\n Mean Squared Error : {mse} \\n RMSE : {rmse} \\n Mean Absolute Error : {mae} \\n R2 Score : {r2} \")\n",
    "    \n",
    "\n",
    "# Function for Decision Tree Model\n",
    "def train_decision_tree(train_try_X, train_try_y):\n",
    "    model = DecisionTreeRegressor(random_state=42)\n",
    "    model.fit(train_try_X, train_try_y)\n",
    "    y_pred = model.predict(test_try_X)\n",
    "    mse = mean_squared_error(test_try_y, y_pred)\n",
    "    rmse = np.sqrt(mse)\n",
    "    mae = mean_absolute_error(test_try_y, y_pred)\n",
    "    r2 = r2_score(test_try_y, y_pred)\n",
    "    print(f\"For Decision Tree Regression : \\n Mean Squared Error : {mse} \\n RMSE : {rmse} \\n Mean Absolute Error : {mae} \\n R2 Score : {r2} \")\n",
    "\n",
    "# Function for Random Forest Model\n",
    "def train_random_forest(train_try_X, train_try_y):\n",
    "    model = RandomForestRegressor(n_estimators=100, random_state=42)\n",
    "    model.fit(train_try_X, train_try_y)\n",
    "    y_pred = model.predict(test_try_X)\n",
    "    mse = mean_squared_error(test_try_y, y_pred)\n",
    "    rmse = np.sqrt(mse)\n",
    "    mae = mean_absolute_error(test_try_y, y_pred)\n",
    "    r2 = r2_score(test_try_y, y_pred)\n",
    "    print(f\"For Random Tree Regression : \\n Mean Squared Error : {mse} \\n RMSE : {rmse} \\n Mean Absolute Error : {mae} \\n R2 Score : {r2} \")\n",
    "\n",
    "# Function for XGBoost Model\n",
    "def train_xgboost(train_try_X, train_try_y):\n",
    "    model = xgb.XGBRegressor()\n",
    "    model.fit(train_try_X, train_try_y)\n",
    "    y_pred = model.predict(test_try_X)\n",
    "    mse = mean_squared_error(test_try_y, y_pred)\n",
    "    rmse = np.sqrt(mse)\n",
    "    mae = mean_absolute_error(test_try_y, y_pred)\n",
    "    r2 = r2_score(test_try_y, y_pred)\n",
    "    print(f\"For XGBoost Regression : \\n Mean Squared Error : {mse} \\n RMSE : {rmse} \\n Mean Absolute Error : {mae} \\n R2 Score : {r2}  \")\n",
    "\n",
    "# Function for Gradient Boosting Regressor Model\n",
    "def train_gradient_boosting(train_try_X, train_try_y):\n",
    "    model = GradientBoostingRegressor(n_estimators=100, learning_rate=0.1, max_depth=3, random_state=42)\n",
    "    model.fit(train_try_X, train_try_y)\n",
    "    y_pred = model.predict(test_try_X)\n",
    "    mse = mean_squared_error(test_try_y, y_pred)\n",
    "    rmse = np.sqrt(mse)\n",
    "    mae = mean_absolute_error(test_try_y, y_pred)\n",
    "    r2 = r2_score(test_try_y, y_pred)\n",
    "    print(f\"For Gradient Regression : \\n Mean Squared Error : {mse} \\n RMSE : {rmse} \\n Mean Absolute Error : {mae} \\n R2 Score : {r2} \")\n",
    "\n",
    "# Function for LGBM Regressor Model\n",
    "def train_lgbm(train_try_X, train_try_y):\n",
    "    model = lgb.LGBMRegressor()\n",
    "    model.fit(train_try_X, train_try_y)\n",
    "    y_pred = model.predict(test_try_X)\n",
    "    mse = mean_squared_error(test_try_y, y_pred)\n",
    "    rmse = np.sqrt(mse)\n",
    "    mae = mean_absolute_error(test_try_y, y_pred)\n",
    "    r2 = r2_score(test_try_y, y_pred)\n",
    "    print(f\"For Light GBM : \\n Mean Squared Error : {mse} \\n RMSE : {rmse} \\n Mean Absolute Error : {mae} \\n R2 Score : {r2}  \")\n",
    "    \n",
    "# Function for Lasso Regression Model\n",
    "def train_Lasso(train_try_X, train_try_y, alpha=1.0):\n",
    "    model = Lasso(alpha=alpha, random_state=42)\n",
    "    model.fit(train_try_X, train_try_y)\n",
    "    y_pred = model.predict(test_try_X)\n",
    "    mse = mean_squared_error(test_try_y, y_pred)\n",
    "    rmse = np.sqrt(mse)\n",
    "    mae = mean_absolute_error(test_try_y, y_pred)\n",
    "    r2 = r2_score(test_try_y, y_pred)\n",
    "    print(f\"For Lasso Regression : \\n Mean Squared Error : {mse} \\n RMSE : {rmse} \\n Mean Absolute Error : {mae} \\n R2 Score : {r2} \")\n",
    "    \n",
    "    "
   ]
  },
  {
   "cell_type": "code",
   "execution_count": 35,
   "metadata": {
    "execution": {
     "iopub.execute_input": "2023-08-01T19:29:56.560699Z",
     "iopub.status.busy": "2023-08-01T19:29:56.560274Z",
     "iopub.status.idle": "2023-08-01T19:29:56.637628Z",
     "shell.execute_reply": "2023-08-01T19:29:56.635675Z",
     "shell.execute_reply.started": "2023-08-01T19:29:56.560666Z"
    }
   },
   "outputs": [
    {
     "name": "stdout",
     "output_type": "stream",
     "text": [
      "For Linear Regression : \n",
      " Mean Squared Error : 8847.488836562374 \n",
      " RMSE : 94.06109098114041 \n",
      " Mean Absolute Error : 34.89187397885009 \n",
      " R2 Score : 0.7555797081715658 \n"
     ]
    }
   ],
   "source": [
    "train_linear_regression(train_try_X, train_try_y)"
   ]
  },
  {
   "cell_type": "code",
   "execution_count": 36,
   "metadata": {
    "execution": {
     "iopub.execute_input": "2023-08-01T19:30:04.752685Z",
     "iopub.status.busy": "2023-08-01T19:30:04.752254Z",
     "iopub.status.idle": "2023-08-01T19:30:04.971823Z",
     "shell.execute_reply": "2023-08-01T19:30:04.970574Z",
     "shell.execute_reply.started": "2023-08-01T19:30:04.752650Z"
    }
   },
   "outputs": [
    {
     "name": "stdout",
     "output_type": "stream",
     "text": [
      "For Decision Tree Regression : \n",
      " Mean Squared Error : 3.3797108369859807 \n",
      " RMSE : 1.8383989874306341 \n",
      " Mean Absolute Error : 0.221930621461671 \n",
      " R2 Score : 0.9999066322744983 \n"
     ]
    }
   ],
   "source": [
    "train_decision_tree(train_try_X, train_try_y)"
   ]
  },
  {
   "cell_type": "code",
   "execution_count": 37,
   "metadata": {
    "execution": {
     "iopub.execute_input": "2023-08-01T19:30:11.147310Z",
     "iopub.status.busy": "2023-08-01T19:30:11.146536Z",
     "iopub.status.idle": "2023-08-01T19:30:22.862877Z",
     "shell.execute_reply": "2023-08-01T19:30:22.861688Z",
     "shell.execute_reply.started": "2023-08-01T19:30:11.147263Z"
    }
   },
   "outputs": [
    {
     "name": "stdout",
     "output_type": "stream",
     "text": [
      "For Random Tree Regression : \n",
      " Mean Squared Error : 2.527682937636435 \n",
      " RMSE : 1.5898688429038526 \n",
      " Mean Absolute Error : 0.22269243095591718 \n",
      " R2 Score : 0.9999301703553766 \n"
     ]
    }
   ],
   "source": [
    "train_random_forest(train_try_X, train_try_y)"
   ]
  },
  {
   "cell_type": "code",
   "execution_count": 38,
   "metadata": {
    "execution": {
     "iopub.execute_input": "2023-08-01T19:30:33.142846Z",
     "iopub.status.busy": "2023-08-01T19:30:33.141999Z",
     "iopub.status.idle": "2023-08-01T19:30:35.609311Z",
     "shell.execute_reply": "2023-08-01T19:30:35.608407Z",
     "shell.execute_reply.started": "2023-08-01T19:30:33.142776Z"
    }
   },
   "outputs": [
    {
     "name": "stdout",
     "output_type": "stream",
     "text": [
      "For XGBoost Regression : \n",
      " Mean Squared Error : 2.1245396535921586 \n",
      " RMSE : 1.4575800676436812 \n",
      " Mean Absolute Error : 0.31847591454730756 \n",
      " R2 Score : 0.9999413075719309  \n"
     ]
    }
   ],
   "source": [
    "train_xgboost(train_try_X, train_try_y)"
   ]
  },
  {
   "cell_type": "code",
   "execution_count": 39,
   "metadata": {
    "execution": {
     "iopub.execute_input": "2023-08-01T19:30:49.403029Z",
     "iopub.status.busy": "2023-08-01T19:30:49.402604Z",
     "iopub.status.idle": "2023-08-01T19:30:52.704240Z",
     "shell.execute_reply": "2023-08-01T19:30:52.702987Z",
     "shell.execute_reply.started": "2023-08-01T19:30:49.402993Z"
    }
   },
   "outputs": [
    {
     "name": "stdout",
     "output_type": "stream",
     "text": [
      "For Gradient Regression : \n",
      " Mean Squared Error : 19.609465950805323 \n",
      " RMSE : 4.428257665358388 \n",
      " Mean Absolute Error : 1.4261593671810353 \n",
      " R2 Score : 0.9994582698572629 \n"
     ]
    }
   ],
   "source": [
    "train_gradient_boosting(train_try_X, train_try_y)"
   ]
  },
  {
   "cell_type": "code",
   "execution_count": 40,
   "metadata": {
    "execution": {
     "iopub.execute_input": "2023-08-01T19:31:02.815246Z",
     "iopub.status.busy": "2023-08-01T19:31:02.814688Z",
     "iopub.status.idle": "2023-08-01T19:31:03.784117Z",
     "shell.execute_reply": "2023-08-01T19:31:03.782906Z",
     "shell.execute_reply.started": "2023-08-01T19:31:02.815206Z"
    }
   },
   "outputs": [],
   "source": [
    "#train_lgbm(train_try_X, train_try_y)"
   ]
  },
  {
   "cell_type": "code",
   "execution_count": 41,
   "metadata": {
    "execution": {
     "iopub.execute_input": "2023-08-01T19:31:08.399031Z",
     "iopub.status.busy": "2023-08-01T19:31:08.398633Z",
     "iopub.status.idle": "2023-08-01T19:31:08.455072Z",
     "shell.execute_reply": "2023-08-01T19:31:08.453510Z",
     "shell.execute_reply.started": "2023-08-01T19:31:08.399000Z"
    }
   },
   "outputs": [
    {
     "name": "stdout",
     "output_type": "stream",
     "text": [
      "For Lasso Regression : \n",
      " Mean Squared Error : 8913.4024022257 \n",
      " RMSE : 94.41081718863417 \n",
      " Mean Absolute Error : 33.72623810245021 \n",
      " R2 Score : 0.7537587832455794 \n"
     ]
    }
   ],
   "source": [
    "train_Lasso(train_try_X, train_try_y, alpha=1.0)"
   ]
  },
  {
   "cell_type": "markdown",
   "metadata": {},
   "source": [
    "#### We tried different models and performance metrics and came to know that XGboost model gives the best performance on given datasets i.e. RMSE = 1.457. We have used MSE, RMSE, MAE, R2 Score to evaluate predictions"
   ]
  },
  {
   "cell_type": "markdown",
   "metadata": {},
   "source": [
    "### Now, We will Build the ANN Models using TensorFlow, for the same dataset that was used in Assignment 1. "
   ]
  },
  {
   "cell_type": "code",
   "execution_count": null,
   "metadata": {},
   "outputs": [],
   "source": [
    "!pip uninstall tensorflow"
   ]
  },
  {
   "cell_type": "code",
   "execution_count": 67,
   "metadata": {},
   "outputs": [
    {
     "name": "stdout",
     "output_type": "stream",
     "text": [
      "Requirement already satisfied: tensorflow in /Users/sandippoudel/tensoflow-test/env/lib/python3.10/site-packages (2.13.0)\n",
      "Requirement already satisfied: tensorflow-macos==2.13.0 in /Users/sandippoudel/tensoflow-test/env/lib/python3.10/site-packages (from tensorflow) (2.13.0)\n",
      "Requirement already satisfied: google-pasta>=0.1.1 in /Users/sandippoudel/tensoflow-test/env/lib/python3.10/site-packages (from tensorflow-macos==2.13.0->tensorflow) (0.2.0)\n",
      "Requirement already satisfied: absl-py>=1.0.0 in /Users/sandippoudel/tensoflow-test/env/lib/python3.10/site-packages (from tensorflow-macos==2.13.0->tensorflow) (1.1.0)\n",
      "Requirement already satisfied: astunparse>=1.6.0 in /Users/sandippoudel/tensoflow-test/env/lib/python3.10/site-packages (from tensorflow-macos==2.13.0->tensorflow) (1.6.3)\n",
      "Requirement already satisfied: grpcio<2.0,>=1.24.3 in /Users/sandippoudel/tensoflow-test/env/lib/python3.10/site-packages (from tensorflow-macos==2.13.0->tensorflow) (1.49.1)\n",
      "Requirement already satisfied: keras<2.14,>=2.13.1 in /Users/sandippoudel/tensoflow-test/env/lib/python3.10/site-packages (from tensorflow-macos==2.13.0->tensorflow) (2.13.1)\n",
      "Requirement already satisfied: libclang>=13.0.0 in /Users/sandippoudel/tensoflow-test/env/lib/python3.10/site-packages (from tensorflow-macos==2.13.0->tensorflow) (14.0.1)\n",
      "Requirement already satisfied: gast<=0.4.0,>=0.2.1 in /Users/sandippoudel/tensoflow-test/env/lib/python3.10/site-packages (from tensorflow-macos==2.13.0->tensorflow) (0.4.0)\n",
      "Requirement already satisfied: numpy<=1.24.3,>=1.22 in /Users/sandippoudel/tensoflow-test/env/lib/python3.10/site-packages (from tensorflow-macos==2.13.0->tensorflow) (1.22.4)\n",
      "Requirement already satisfied: h5py>=2.9.0 in /Users/sandippoudel/tensoflow-test/env/lib/python3.10/site-packages (from tensorflow-macos==2.13.0->tensorflow) (3.6.0)\n",
      "Requirement already satisfied: six>=1.12.0 in /Users/sandippoudel/tensoflow-test/env/lib/python3.10/site-packages (from tensorflow-macos==2.13.0->tensorflow) (1.15.0)\n",
      "Requirement already satisfied: setuptools in /Users/sandippoudel/tensoflow-test/env/lib/python3.10/site-packages (from tensorflow-macos==2.13.0->tensorflow) (62.6.0)\n",
      "Requirement already satisfied: protobuf!=4.21.0,!=4.21.1,!=4.21.2,!=4.21.3,!=4.21.4,!=4.21.5,<5.0.0dev,>=3.20.3 in /Users/sandippoudel/tensoflow-test/env/lib/python3.10/site-packages (from tensorflow-macos==2.13.0->tensorflow) (4.23.4)\n",
      "Requirement already satisfied: opt-einsum>=2.3.2 in /Users/sandippoudel/tensoflow-test/env/lib/python3.10/site-packages (from tensorflow-macos==2.13.0->tensorflow) (3.3.0)\n",
      "Requirement already satisfied: packaging in /Users/sandippoudel/tensoflow-test/env/lib/python3.10/site-packages (from tensorflow-macos==2.13.0->tensorflow) (21.3)\n",
      "Requirement already satisfied: tensorflow-estimator<2.14,>=2.13.0 in /Users/sandippoudel/tensoflow-test/env/lib/python3.10/site-packages (from tensorflow-macos==2.13.0->tensorflow) (2.13.0)\n",
      "Requirement already satisfied: typing-extensions<4.6.0,>=3.6.6 in /Users/sandippoudel/tensoflow-test/env/lib/python3.10/site-packages (from tensorflow-macos==2.13.0->tensorflow) (4.2.0)\n",
      "Requirement already satisfied: wrapt>=1.11.0 in /Users/sandippoudel/tensoflow-test/env/lib/python3.10/site-packages (from tensorflow-macos==2.13.0->tensorflow) (1.14.1)\n",
      "Requirement already satisfied: flatbuffers>=23.1.21 in /Users/sandippoudel/tensoflow-test/env/lib/python3.10/site-packages (from tensorflow-macos==2.13.0->tensorflow) (23.5.26)\n",
      "Requirement already satisfied: tensorboard<2.14,>=2.13 in /Users/sandippoudel/tensoflow-test/env/lib/python3.10/site-packages (from tensorflow-macos==2.13.0->tensorflow) (2.13.0)\n",
      "Requirement already satisfied: termcolor>=1.1.0 in /Users/sandippoudel/tensoflow-test/env/lib/python3.10/site-packages (from tensorflow-macos==2.13.0->tensorflow) (1.1.0)\n",
      "Requirement already satisfied: wheel<1.0,>=0.23.0 in /Users/sandippoudel/tensoflow-test/env/lib/python3.10/site-packages (from astunparse>=1.6.0->tensorflow-macos==2.13.0->tensorflow) (0.37.1)\n",
      "Requirement already satisfied: tensorboard-data-server<0.8.0,>=0.7.0 in /Users/sandippoudel/tensoflow-test/env/lib/python3.10/site-packages (from tensorboard<2.14,>=2.13->tensorflow-macos==2.13.0->tensorflow) (0.7.1)\n",
      "Requirement already satisfied: markdown>=2.6.8 in /Users/sandippoudel/tensoflow-test/env/lib/python3.10/site-packages (from tensorboard<2.14,>=2.13->tensorflow-macos==2.13.0->tensorflow) (3.3.7)\n",
      "Requirement already satisfied: google-auth<3,>=1.6.3 in /Users/sandippoudel/tensoflow-test/env/lib/python3.10/site-packages (from tensorboard<2.14,>=2.13->tensorflow-macos==2.13.0->tensorflow) (2.22.0)\n",
      "Requirement already satisfied: requests<3,>=2.21.0 in /Users/sandippoudel/tensoflow-test/env/lib/python3.10/site-packages (from tensorboard<2.14,>=2.13->tensorflow-macos==2.13.0->tensorflow) (2.28.0)\n",
      "Requirement already satisfied: google-auth-oauthlib<1.1,>=0.5 in /Users/sandippoudel/tensoflow-test/env/lib/python3.10/site-packages (from tensorboard<2.14,>=2.13->tensorflow-macos==2.13.0->tensorflow) (1.0.0)\n",
      "Requirement already satisfied: werkzeug>=1.0.1 in /Users/sandippoudel/tensoflow-test/env/lib/python3.10/site-packages (from tensorboard<2.14,>=2.13->tensorflow-macos==2.13.0->tensorflow) (2.1.2)\n",
      "Requirement already satisfied: pyparsing!=3.0.5,>=2.0.2 in /Users/sandippoudel/tensoflow-test/env/lib/python3.10/site-packages (from packaging->tensorflow-macos==2.13.0->tensorflow) (3.0.9)\n",
      "Requirement already satisfied: cachetools<6.0,>=2.0.0 in /Users/sandippoudel/tensoflow-test/env/lib/python3.10/site-packages (from google-auth<3,>=1.6.3->tensorboard<2.14,>=2.13->tensorflow-macos==2.13.0->tensorflow) (5.2.0)\n",
      "Requirement already satisfied: pyasn1-modules>=0.2.1 in /Users/sandippoudel/tensoflow-test/env/lib/python3.10/site-packages (from google-auth<3,>=1.6.3->tensorboard<2.14,>=2.13->tensorflow-macos==2.13.0->tensorflow) (0.2.8)\n",
      "Requirement already satisfied: urllib3<2.0 in /Users/sandippoudel/tensoflow-test/env/lib/python3.10/site-packages (from google-auth<3,>=1.6.3->tensorboard<2.14,>=2.13->tensorflow-macos==2.13.0->tensorflow) (1.26.9)\n",
      "Requirement already satisfied: rsa<5,>=3.1.4 in /Users/sandippoudel/tensoflow-test/env/lib/python3.10/site-packages (from google-auth<3,>=1.6.3->tensorboard<2.14,>=2.13->tensorflow-macos==2.13.0->tensorflow) (4.8)\n",
      "Requirement already satisfied: requests-oauthlib>=0.7.0 in /Users/sandippoudel/tensoflow-test/env/lib/python3.10/site-packages (from google-auth-oauthlib<1.1,>=0.5->tensorboard<2.14,>=2.13->tensorflow-macos==2.13.0->tensorflow) (1.3.1)\n",
      "Requirement already satisfied: charset-normalizer~=2.0.0 in /Users/sandippoudel/tensoflow-test/env/lib/python3.10/site-packages (from requests<3,>=2.21.0->tensorboard<2.14,>=2.13->tensorflow-macos==2.13.0->tensorflow) (2.0.12)\n",
      "Requirement already satisfied: idna<4,>=2.5 in /Users/sandippoudel/tensoflow-test/env/lib/python3.10/site-packages (from requests<3,>=2.21.0->tensorboard<2.14,>=2.13->tensorflow-macos==2.13.0->tensorflow) (3.3)\n",
      "Requirement already satisfied: certifi>=2017.4.17 in /Users/sandippoudel/tensoflow-test/env/lib/python3.10/site-packages (from requests<3,>=2.21.0->tensorboard<2.14,>=2.13->tensorflow-macos==2.13.0->tensorflow) (2022.6.15)\n",
      "Requirement already satisfied: pyasn1<0.5.0,>=0.4.6 in /Users/sandippoudel/tensoflow-test/env/lib/python3.10/site-packages (from pyasn1-modules>=0.2.1->google-auth<3,>=1.6.3->tensorboard<2.14,>=2.13->tensorflow-macos==2.13.0->tensorflow) (0.4.8)\n",
      "Requirement already satisfied: oauthlib>=3.0.0 in /Users/sandippoudel/tensoflow-test/env/lib/python3.10/site-packages (from requests-oauthlib>=0.7.0->google-auth-oauthlib<1.1,>=0.5->tensorboard<2.14,>=2.13->tensorflow-macos==2.13.0->tensorflow) (3.2.0)\n"
     ]
    }
   ],
   "source": [
    "# Importing tensorflow and keras\n",
    "#!pip install tensorflow-2.9.0\n",
    "!python3 -m pip install tensorflow\n",
    "import tensorflow as tf\n",
    "from tensorflow import keras\n",
    "from tensorflow.keras import Sequential\n",
    "from tensorflow.keras.layers import Flatten, Dense, Softmax, Dropout\n",
    "from tensorflow.keras import optimizers"
   ]
  },
  {
   "cell_type": "code",
   "execution_count": 62,
   "metadata": {},
   "outputs": [
    {
     "name": "stdout",
     "output_type": "stream",
     "text": [
      "Name: tensorflow\n",
      "Version: 2.13.0\n",
      "Summary: TensorFlow is an open source machine learning framework for everyone.\n",
      "Home-page: https://www.tensorflow.org/\n",
      "Author: Google Inc.\n",
      "Author-email: packages@tensorflow.org\n",
      "License: Apache 2.0\n",
      "Location: /Users/sandippoudel/tensoflow-test/env/lib/python3.10/site-packages\n",
      "Requires: tensorflow-macos\n",
      "Required-by: \n",
      "Note: you may need to restart the kernel to use updated packages.\n"
     ]
    }
   ],
   "source": [
    "pip show tensorflow"
   ]
  },
  {
   "cell_type": "code",
   "execution_count": 44,
   "metadata": {},
   "outputs": [],
   "source": [
    "#pip install tensorflow==2.9.2"
   ]
  },
  {
   "cell_type": "code",
   "execution_count": 63,
   "metadata": {},
   "outputs": [
    {
     "name": "stdout",
     "output_type": "stream",
     "text": [
      "2.13.0\n"
     ]
    }
   ],
   "source": [
    "# Checking the tensorflow libraries\n",
    "import tensorflow as tf\n",
    "print(tf.__version__)"
   ]
  },
  {
   "cell_type": "code",
   "execution_count": 66,
   "metadata": {},
   "outputs": [
    {
     "name": "stdout",
     "output_type": "stream",
     "text": [
      "Python 3.10.5\r\n"
     ]
    }
   ],
   "source": [
    "!python --version"
   ]
  },
  {
   "cell_type": "code",
   "execution_count": 53,
   "metadata": {},
   "outputs": [
    {
     "data": {
      "text/plain": [
       "29"
      ]
     },
     "execution_count": 53,
     "metadata": {},
     "output_type": "execute_result"
    }
   ],
   "source": [
    "train_try_X.shape[1]"
   ]
  },
  {
   "cell_type": "code",
   "execution_count": 54,
   "metadata": {},
   "outputs": [],
   "source": [
    "Create_model = Sequential()\n",
    "\n",
    "#Input Layer\n",
    "Create_model.add(Dense(train_try_X.shape[1], activation='relu', input_dim = train_try_X.shape[1]))\n",
    "\n",
    "#Hidden Layer\n",
    "Create_model.add(Dense(512,kernel_initializer='normal', activation='relu'))\n",
    "Create_model.add(Dense(512,kernel_initializer='normal', activation='relu'))\n",
    "Create_model.add(Dense(256,kernel_initializer='normal', activation='relu'))\n",
    "Create_model.add(Dense(128,kernel_initializer='normal', activation='relu'))\n",
    "Create_model.add(Dense(64,kernel_initializer='normal', activation='relu'))\n",
    "Create_model.add(Dense(32,kernel_initializer='normal', activation='relu'))\n",
    "#Output Layer\n",
    "Create_model.add(Dense(1,kernel_initializer='normal', activation = 'relu'))\n"
   ]
  },
  {
   "cell_type": "code",
   "execution_count": 48,
   "metadata": {},
   "outputs": [
    {
     "name": "stdout",
     "output_type": "stream",
     "text": [
      "Model: \"sequential\"\n",
      "_________________________________________________________________\n",
      " Layer (type)                Output Shape              Param #   \n",
      "=================================================================\n",
      " dense (Dense)               (None, 29)                870       \n",
      "                                                                 \n",
      " dense_1 (Dense)             (None, 512)               15360     \n",
      "                                                                 \n",
      " dense_2 (Dense)             (None, 512)               262656    \n",
      "                                                                 \n",
      " dense_3 (Dense)             (None, 256)               131328    \n",
      "                                                                 \n",
      " dense_4 (Dense)             (None, 128)               32896     \n",
      "                                                                 \n",
      " dense_5 (Dense)             (None, 64)                8256      \n",
      "                                                                 \n",
      " dense_6 (Dense)             (None, 32)                2080      \n",
      "                                                                 \n",
      " dense_7 (Dense)             (None, 1)                 33        \n",
      "                                                                 \n",
      "=================================================================\n",
      "Total params: 453479 (1.73 MB)\n",
      "Trainable params: 453479 (1.73 MB)\n",
      "Non-trainable params: 0 (0.00 Byte)\n",
      "_________________________________________________________________\n"
     ]
    }
   ],
   "source": [
    "#Compile the network\n",
    "\n",
    "Create_model.compile(loss = 'MeanSquaredError', optimizer='adam', metrics=['mse','mae'])\n",
    "Create_model.summary()"
   ]
  },
  {
   "cell_type": "markdown",
   "metadata": {},
   "source": [
    "#### Create Image of your model"
   ]
  },
  {
   "cell_type": "code",
   "execution_count": 55,
   "metadata": {},
   "outputs": [
    {
     "name": "stdout",
     "output_type": "stream",
     "text": [
      "Requirement already satisfied: pydot in /Users/sandippoudel/tensoflow-test/env/lib/python3.10/site-packages (1.4.2)\n",
      "Requirement already satisfied: pyparsing>=2.1.4 in /Users/sandippoudel/tensoflow-test/env/lib/python3.10/site-packages (from pydot) (3.0.9)\n",
      "Requirement already satisfied: pydotplus in /Users/sandippoudel/tensoflow-test/env/lib/python3.10/site-packages (2.0.2)\n",
      "Requirement already satisfied: pyparsing>=2.0.1 in /Users/sandippoudel/tensoflow-test/env/lib/python3.10/site-packages (from pydotplus) (3.0.9)\n",
      "Requirement already satisfied: graphviz in /Users/sandippoudel/tensoflow-test/env/lib/python3.10/site-packages (0.20.1)\n",
      "You must install pydot (`pip install pydot`) and install graphviz (see instructions at https://graphviz.gitlab.io/download/) for plot_model to work.\n"
     ]
    }
   ],
   "source": [
    "!pip install pydot\n",
    "!pip install pydotplus\n",
    "!pip install graphviz\n",
    "tf.keras.utils.plot_model(Create_model, show_shapes=True)"
   ]
  },
  {
   "cell_type": "code",
   "execution_count": 56,
   "metadata": {},
   "outputs": [
    {
     "name": "stdout",
     "output_type": "stream",
     "text": [
      "Requirement already satisfied: scikeras in /Users/sandippoudel/tensoflow-test/env/lib/python3.10/site-packages (0.11.0)\r\n",
      "Requirement already satisfied: scikit-learn>=1.0.0 in /Users/sandippoudel/tensoflow-test/env/lib/python3.10/site-packages (from scikeras) (1.1.1)\r\n",
      "Requirement already satisfied: packaging>=0.21 in /Users/sandippoudel/tensoflow-test/env/lib/python3.10/site-packages (from scikeras) (21.3)\r\n",
      "Requirement already satisfied: grpcio<1.50.0 in /Users/sandippoudel/tensoflow-test/env/lib/python3.10/site-packages (from scikeras) (1.49.1)\r\n",
      "Requirement already satisfied: six>=1.5.2 in /Users/sandippoudel/tensoflow-test/env/lib/python3.10/site-packages (from grpcio<1.50.0->scikeras) (1.15.0)\r\n",
      "Requirement already satisfied: pyparsing!=3.0.5,>=2.0.2 in /Users/sandippoudel/tensoflow-test/env/lib/python3.10/site-packages (from packaging>=0.21->scikeras) (3.0.9)\r\n",
      "Requirement already satisfied: numpy>=1.17.3 in /Users/sandippoudel/tensoflow-test/env/lib/python3.10/site-packages (from scikit-learn>=1.0.0->scikeras) (1.22.4)\r\n",
      "Requirement already satisfied: threadpoolctl>=2.0.0 in /Users/sandippoudel/tensoflow-test/env/lib/python3.10/site-packages (from scikit-learn>=1.0.0->scikeras) (3.1.0)\r\n",
      "Requirement already satisfied: scipy>=1.3.2 in /Users/sandippoudel/tensoflow-test/env/lib/python3.10/site-packages (from scikit-learn>=1.0.0->scikeras) (1.8.1)\r\n",
      "Requirement already satisfied: joblib>=1.0.0 in /Users/sandippoudel/tensoflow-test/env/lib/python3.10/site-packages (from scikit-learn>=1.0.0->scikeras) (1.3.1)\r\n"
     ]
    }
   ],
   "source": [
    "#library to use KerasClassifier\n",
    "!pip install scikeras"
   ]
  },
  {
   "cell_type": "code",
   "execution_count": 51,
   "metadata": {},
   "outputs": [],
   "source": [
    "from sklearn.model_selection import GridSearchCV\n",
    "from scikeras.wrappers import KerasRegressor\n",
    "\n",
    "batch_size = [50,75]\n",
    "epochs = [3,5]\n",
    "\n",
    "Hyp_Model_1 = KerasRegressor(model=Create_model)\n",
    "\n",
    "param_grid = dict(batch_size=batch_size, epochs = epochs)\n",
    "randSearch_1 = GridSearchCV(Hyp_Model_1, param_grid, cv=5, scoring='neg_mean_squared_error', error_score=\"raise\", n_jobs=-1, verbose=0)"
   ]
  },
  {
   "cell_type": "code",
   "execution_count": 52,
   "metadata": {},
   "outputs": [
    {
     "name": "stdout",
     "output_type": "stream",
     "text": [
      "Python 3.10.5\r\n"
     ]
    }
   ],
   "source": [
    "!python --version"
   ]
  },
  {
   "cell_type": "code",
   "execution_count": 57,
   "metadata": {},
   "outputs": [],
   "source": [
    "#!pip install tensorflow==2.11.0\n",
    "import tensorflow as tf"
   ]
  },
  {
   "cell_type": "code",
   "execution_count": 58,
   "metadata": {},
   "outputs": [
    {
     "name": "stdout",
     "output_type": "stream",
     "text": [
      "INFO:tensorflow:Assets written to: ram://81cd75276d4847e097bad21c2adb7910/assets\n"
     ]
    },
    {
     "name": "stderr",
     "output_type": "stream",
     "text": [
      "INFO:tensorflow:Assets written to: ram://81cd75276d4847e097bad21c2adb7910/assets\n"
     ]
    },
    {
     "ename": "AttributeError",
     "evalue": "'Adam' object has no attribute 'build'",
     "output_type": "error",
     "traceback": [
      "\u001b[0;31m---------------------------------------------------------------------------\u001b[0m",
      "\u001b[0;31mAttributeError\u001b[0m                            Traceback (most recent call last)",
      "Input \u001b[0;32mIn [58]\u001b[0m, in \u001b[0;36m<cell line: 3>\u001b[0;34m()\u001b[0m\n\u001b[1;32m      1\u001b[0m \u001b[38;5;28;01mimport\u001b[39;00m \u001b[38;5;21;01mos\u001b[39;00m\n\u001b[1;32m      2\u001b[0m os\u001b[38;5;241m.\u001b[39menviron[\u001b[38;5;124m\"\u001b[39m\u001b[38;5;124mTF_CPP_MIN_LOG_LEVEL\u001b[39m\u001b[38;5;124m\"\u001b[39m]\u001b[38;5;241m=\u001b[39m\u001b[38;5;124m\"\u001b[39m\u001b[38;5;124m5\u001b[39m\u001b[38;5;124m\"\u001b[39m\n\u001b[0;32m----> 3\u001b[0m history \u001b[38;5;241m=\u001b[39m \u001b[43mrandSearch_1\u001b[49m\u001b[38;5;241;43m.\u001b[39;49m\u001b[43mfit\u001b[49m\u001b[43m(\u001b[49m\u001b[43mtrain_try_X\u001b[49m\u001b[43m,\u001b[49m\u001b[43m \u001b[49m\u001b[43mtrain_try_y\u001b[49m\u001b[43m,\u001b[49m\u001b[43mverbose\u001b[49m\u001b[38;5;241;43m=\u001b[39;49m\u001b[38;5;241;43m0\u001b[39;49m\u001b[43m)\u001b[49m\n",
      "File \u001b[0;32m~/tensoflow-test/env/lib/python3.10/site-packages/sklearn/model_selection/_search.py:789\u001b[0m, in \u001b[0;36mBaseSearchCV.fit\u001b[0;34m(self, X, y, groups, **fit_params)\u001b[0m\n\u001b[1;32m    786\u001b[0m cv_orig \u001b[38;5;241m=\u001b[39m check_cv(\u001b[38;5;28mself\u001b[39m\u001b[38;5;241m.\u001b[39mcv, y, classifier\u001b[38;5;241m=\u001b[39mis_classifier(estimator))\n\u001b[1;32m    787\u001b[0m n_splits \u001b[38;5;241m=\u001b[39m cv_orig\u001b[38;5;241m.\u001b[39mget_n_splits(X, y, groups)\n\u001b[0;32m--> 789\u001b[0m base_estimator \u001b[38;5;241m=\u001b[39m \u001b[43mclone\u001b[49m\u001b[43m(\u001b[49m\u001b[38;5;28;43mself\u001b[39;49m\u001b[38;5;241;43m.\u001b[39;49m\u001b[43mestimator\u001b[49m\u001b[43m)\u001b[49m\n\u001b[1;32m    791\u001b[0m parallel \u001b[38;5;241m=\u001b[39m Parallel(n_jobs\u001b[38;5;241m=\u001b[39m\u001b[38;5;28mself\u001b[39m\u001b[38;5;241m.\u001b[39mn_jobs, pre_dispatch\u001b[38;5;241m=\u001b[39m\u001b[38;5;28mself\u001b[39m\u001b[38;5;241m.\u001b[39mpre_dispatch)\n\u001b[1;32m    793\u001b[0m fit_and_score_kwargs \u001b[38;5;241m=\u001b[39m \u001b[38;5;28mdict\u001b[39m(\n\u001b[1;32m    794\u001b[0m     scorer\u001b[38;5;241m=\u001b[39mscorers,\n\u001b[1;32m    795\u001b[0m     fit_params\u001b[38;5;241m=\u001b[39mfit_params,\n\u001b[0;32m   (...)\u001b[0m\n\u001b[1;32m    801\u001b[0m     verbose\u001b[38;5;241m=\u001b[39m\u001b[38;5;28mself\u001b[39m\u001b[38;5;241m.\u001b[39mverbose,\n\u001b[1;32m    802\u001b[0m )\n",
      "File \u001b[0;32m~/tensoflow-test/env/lib/python3.10/site-packages/sklearn/base.py:87\u001b[0m, in \u001b[0;36mclone\u001b[0;34m(estimator, safe)\u001b[0m\n\u001b[1;32m     85\u001b[0m new_object_params \u001b[38;5;241m=\u001b[39m estimator\u001b[38;5;241m.\u001b[39mget_params(deep\u001b[38;5;241m=\u001b[39m\u001b[38;5;28;01mFalse\u001b[39;00m)\n\u001b[1;32m     86\u001b[0m \u001b[38;5;28;01mfor\u001b[39;00m name, param \u001b[38;5;129;01min\u001b[39;00m new_object_params\u001b[38;5;241m.\u001b[39mitems():\n\u001b[0;32m---> 87\u001b[0m     new_object_params[name] \u001b[38;5;241m=\u001b[39m \u001b[43mclone\u001b[49m\u001b[43m(\u001b[49m\u001b[43mparam\u001b[49m\u001b[43m,\u001b[49m\u001b[43m \u001b[49m\u001b[43msafe\u001b[49m\u001b[38;5;241;43m=\u001b[39;49m\u001b[38;5;28;43;01mFalse\u001b[39;49;00m\u001b[43m)\u001b[49m\n\u001b[1;32m     88\u001b[0m new_object \u001b[38;5;241m=\u001b[39m klass(\u001b[38;5;241m*\u001b[39m\u001b[38;5;241m*\u001b[39mnew_object_params)\n\u001b[1;32m     89\u001b[0m params_set \u001b[38;5;241m=\u001b[39m new_object\u001b[38;5;241m.\u001b[39mget_params(deep\u001b[38;5;241m=\u001b[39m\u001b[38;5;28;01mFalse\u001b[39;00m)\n",
      "File \u001b[0;32m~/tensoflow-test/env/lib/python3.10/site-packages/sklearn/base.py:68\u001b[0m, in \u001b[0;36mclone\u001b[0;34m(estimator, safe)\u001b[0m\n\u001b[1;32m     66\u001b[0m \u001b[38;5;28;01melif\u001b[39;00m \u001b[38;5;129;01mnot\u001b[39;00m \u001b[38;5;28mhasattr\u001b[39m(estimator, \u001b[38;5;124m\"\u001b[39m\u001b[38;5;124mget_params\u001b[39m\u001b[38;5;124m\"\u001b[39m) \u001b[38;5;129;01mor\u001b[39;00m \u001b[38;5;28misinstance\u001b[39m(estimator, \u001b[38;5;28mtype\u001b[39m):\n\u001b[1;32m     67\u001b[0m     \u001b[38;5;28;01mif\u001b[39;00m \u001b[38;5;129;01mnot\u001b[39;00m safe:\n\u001b[0;32m---> 68\u001b[0m         \u001b[38;5;28;01mreturn\u001b[39;00m \u001b[43mcopy\u001b[49m\u001b[38;5;241;43m.\u001b[39;49m\u001b[43mdeepcopy\u001b[49m\u001b[43m(\u001b[49m\u001b[43mestimator\u001b[49m\u001b[43m)\u001b[49m\n\u001b[1;32m     69\u001b[0m     \u001b[38;5;28;01melse\u001b[39;00m:\n\u001b[1;32m     70\u001b[0m         \u001b[38;5;28;01mif\u001b[39;00m \u001b[38;5;28misinstance\u001b[39m(estimator, \u001b[38;5;28mtype\u001b[39m):\n",
      "File \u001b[0;32m~/tensoflow-test/env/lib/python3.10/copy.py:153\u001b[0m, in \u001b[0;36mdeepcopy\u001b[0;34m(x, memo, _nil)\u001b[0m\n\u001b[1;32m    151\u001b[0m copier \u001b[38;5;241m=\u001b[39m \u001b[38;5;28mgetattr\u001b[39m(x, \u001b[38;5;124m\"\u001b[39m\u001b[38;5;124m__deepcopy__\u001b[39m\u001b[38;5;124m\"\u001b[39m, \u001b[38;5;28;01mNone\u001b[39;00m)\n\u001b[1;32m    152\u001b[0m \u001b[38;5;28;01mif\u001b[39;00m copier \u001b[38;5;129;01mis\u001b[39;00m \u001b[38;5;129;01mnot\u001b[39;00m \u001b[38;5;28;01mNone\u001b[39;00m:\n\u001b[0;32m--> 153\u001b[0m     y \u001b[38;5;241m=\u001b[39m \u001b[43mcopier\u001b[49m\u001b[43m(\u001b[49m\u001b[43mmemo\u001b[49m\u001b[43m)\u001b[49m\n\u001b[1;32m    154\u001b[0m \u001b[38;5;28;01melse\u001b[39;00m:\n\u001b[1;32m    155\u001b[0m     reductor \u001b[38;5;241m=\u001b[39m dispatch_table\u001b[38;5;241m.\u001b[39mget(\u001b[38;5;28mcls\u001b[39m)\n",
      "File \u001b[0;32m~/tensoflow-test/env/lib/python3.10/site-packages/scikeras/_saving_utils.py:81\u001b[0m, in \u001b[0;36mdeepcopy_model\u001b[0;34m(model, memo)\u001b[0m\n\u001b[1;32m     79\u001b[0m \u001b[38;5;28;01mdef\u001b[39;00m \u001b[38;5;21mdeepcopy_model\u001b[39m(model: keras\u001b[38;5;241m.\u001b[39mModel, memo: Dict[Hashable, Any]) \u001b[38;5;241m-\u001b[39m\u001b[38;5;241m>\u001b[39m keras\u001b[38;5;241m.\u001b[39mModel:\n\u001b[1;32m     80\u001b[0m     _, (model_bytes,) \u001b[38;5;241m=\u001b[39m pack_keras_model(model)\n\u001b[0;32m---> 81\u001b[0m     new_model \u001b[38;5;241m=\u001b[39m \u001b[43munpack_keras_model\u001b[49m\u001b[43m(\u001b[49m\u001b[43mmodel_bytes\u001b[49m\u001b[43m)\u001b[49m\n\u001b[1;32m     82\u001b[0m     memo[model] \u001b[38;5;241m=\u001b[39m new_model\n\u001b[1;32m     83\u001b[0m     \u001b[38;5;28;01mreturn\u001b[39;00m new_model\n",
      "File \u001b[0;32m~/tensoflow-test/env/lib/python3.10/site-packages/scikeras/_saving_utils.py:51\u001b[0m, in \u001b[0;36munpack_keras_model\u001b[0;34m(packed_keras_model)\u001b[0m\n\u001b[1;32m     49\u001b[0m model: keras\u001b[38;5;241m.\u001b[39mModel \u001b[38;5;241m=\u001b[39m load_model(temp_dir)\n\u001b[1;32m     50\u001b[0m model\u001b[38;5;241m.\u001b[39mload_weights(temp_dir)\n\u001b[0;32m---> 51\u001b[0m \u001b[43mmodel\u001b[49m\u001b[38;5;241;43m.\u001b[39;49m\u001b[43moptimizer\u001b[49m\u001b[38;5;241;43m.\u001b[39;49m\u001b[43mbuild\u001b[49m(model\u001b[38;5;241m.\u001b[39mtrainable_variables)\n\u001b[1;32m     52\u001b[0m \u001b[38;5;28;01mreturn\u001b[39;00m model\n",
      "File \u001b[0;32m~/tensoflow-test/env/lib/python3.10/site-packages/keras/src/optimizers/legacy/optimizer_v2.py:997\u001b[0m, in \u001b[0;36mOptimizerV2.__getattribute__\u001b[0;34m(self, name)\u001b[0m\n\u001b[1;32m    995\u001b[0m \u001b[38;5;28;01mif\u001b[39;00m name \u001b[38;5;129;01min\u001b[39;00m \u001b[38;5;28mself\u001b[39m\u001b[38;5;241m.\u001b[39m_hyper:\n\u001b[1;32m    996\u001b[0m     \u001b[38;5;28;01mreturn\u001b[39;00m \u001b[38;5;28mself\u001b[39m\u001b[38;5;241m.\u001b[39m_get_hyper(name)\n\u001b[0;32m--> 997\u001b[0m \u001b[38;5;28;01mraise\u001b[39;00m e\n",
      "File \u001b[0;32m~/tensoflow-test/env/lib/python3.10/site-packages/keras/src/optimizers/legacy/optimizer_v2.py:987\u001b[0m, in \u001b[0;36mOptimizerV2.__getattribute__\u001b[0;34m(self, name)\u001b[0m\n\u001b[1;32m    985\u001b[0m \u001b[38;5;124;03m\"\"\"Overridden to support hyperparameter access.\"\"\"\u001b[39;00m\n\u001b[1;32m    986\u001b[0m \u001b[38;5;28;01mtry\u001b[39;00m:\n\u001b[0;32m--> 987\u001b[0m     \u001b[38;5;28;01mreturn\u001b[39;00m \u001b[38;5;28;43msuper\u001b[39;49m\u001b[43m(\u001b[49m\u001b[43m)\u001b[49m\u001b[38;5;241;43m.\u001b[39;49m\u001b[38;5;21;43m__getattribute__\u001b[39;49m\u001b[43m(\u001b[49m\u001b[43mname\u001b[49m\u001b[43m)\u001b[49m\n\u001b[1;32m    988\u001b[0m \u001b[38;5;28;01mexcept\u001b[39;00m \u001b[38;5;167;01mAttributeError\u001b[39;00m \u001b[38;5;28;01mas\u001b[39;00m e:\n\u001b[1;32m    989\u001b[0m     \u001b[38;5;66;03m# Needed to avoid infinite recursion with __setattr__.\u001b[39;00m\n\u001b[1;32m    990\u001b[0m     \u001b[38;5;28;01mif\u001b[39;00m name \u001b[38;5;241m==\u001b[39m \u001b[38;5;124m\"\u001b[39m\u001b[38;5;124m_hyper\u001b[39m\u001b[38;5;124m\"\u001b[39m:\n",
      "\u001b[0;31mAttributeError\u001b[0m: 'Adam' object has no attribute 'build'"
     ]
    }
   ],
   "source": [
    "import os\n",
    "os.environ[\"TF_CPP_MIN_LOG_LEVEL\"]=\"5\"\n",
    "history = randSearch_1.fit(train_try_X, train_try_y,verbose=0)"
   ]
  },
  {
   "cell_type": "code",
   "execution_count": 59,
   "metadata": {},
   "outputs": [
    {
     "ename": "AttributeError",
     "evalue": "'GridSearchCV' object has no attribute 'best_params_'",
     "output_type": "error",
     "traceback": [
      "\u001b[0;31m---------------------------------------------------------------------------\u001b[0m",
      "\u001b[0;31mAttributeError\u001b[0m                            Traceback (most recent call last)",
      "Input \u001b[0;32mIn [59]\u001b[0m, in \u001b[0;36m<cell line: 1>\u001b[0;34m()\u001b[0m\n\u001b[0;32m----> 1\u001b[0m best_params \u001b[38;5;241m=\u001b[39m \u001b[43mrandSearch_1\u001b[49m\u001b[38;5;241;43m.\u001b[39;49m\u001b[43mbest_params_\u001b[49m\n\u001b[1;32m      2\u001b[0m best_estimators \u001b[38;5;241m=\u001b[39m randSearch_1\u001b[38;5;241m.\u001b[39mbest_estimator_\n\u001b[1;32m      4\u001b[0m \u001b[38;5;28mprint\u001b[39m(best_params)\n",
      "\u001b[0;31mAttributeError\u001b[0m: 'GridSearchCV' object has no attribute 'best_params_'"
     ]
    }
   ],
   "source": [
    "best_params = randSearch_1.best_params_\n",
    "best_estimators = randSearch_1.best_estimator_\n",
    "\n",
    "print(best_params)\n",
    "print(best_estimators)"
   ]
  },
  {
   "cell_type": "markdown",
   "metadata": {},
   "source": [
    "### Now, We will use XGBoost Regression model to predict Cost from the actual Test datasets"
   ]
  },
  {
   "cell_type": "code",
   "execution_count": null,
   "metadata": {
    "execution": {
     "iopub.execute_input": "2023-08-01T19:44:17.487320Z",
     "iopub.status.busy": "2023-08-01T19:44:17.486626Z",
     "iopub.status.idle": "2023-08-01T19:44:17.515727Z",
     "shell.execute_reply": "2023-08-01T19:44:17.514546Z",
     "shell.execute_reply.started": "2023-08-01T19:44:17.487285Z"
    }
   },
   "outputs": [],
   "source": [
    "test_obj.final_test()\n"
   ]
  },
  {
   "cell_type": "markdown",
   "metadata": {},
   "source": [
    "### Training the model using Xgboost and Hypertuning model parameters using grid search"
   ]
  },
  {
   "cell_type": "code",
   "execution_count": null,
   "metadata": {
    "execution": {
     "iopub.execute_input": "2023-08-01T19:44:21.775141Z",
     "iopub.status.busy": "2023-08-01T19:44:21.774732Z",
     "iopub.status.idle": "2023-08-01T19:57:26.796835Z",
     "shell.execute_reply": "2023-08-01T19:57:26.795428Z",
     "shell.execute_reply.started": "2023-08-01T19:44:21.775110Z"
    }
   },
   "outputs": [],
   "source": [
    "\n",
    "from sklearn.model_selection import GridSearchCV, RandomizedSearchCV\n",
    "\n",
    "model = xgb.XGBRegressor() \n",
    "# Define the hyperparameter grid\n",
    "param_grid = {\n",
    "    'n_estimators': [50, 100, 200],\n",
    "    'learning_rate': [0.01, 0.1, 0.2],\n",
    "    'max_depth': [3, 5, 7]\n",
    "}\n",
    "\n",
    "# Perform Grid Search\n",
    "grid_search = GridSearchCV(estimator= model, param_grid=param_grid, cv=5, scoring='neg_mean_squared_error')\n",
    "grid_search.fit(train_obj.X_train, train_obj.y_train)\n",
    "\n",
    "# Get the best hyperparameters and model\n",
    "best_params = grid_search.best_params_\n",
    "best_model = grid_search.best_estimator_\n",
    "\n",
    "model.fit(train_obj.X_train, train_obj.y_train)\n",
    "xgb.plot_importance(model)\n",
    "plt.show()"
   ]
  },
  {
   "cell_type": "markdown",
   "metadata": {},
   "source": [
    "## Predicting labels from given actual test set"
   ]
  },
  {
   "cell_type": "code",
   "execution_count": null,
   "metadata": {
    "execution": {
     "iopub.execute_input": "2023-08-01T20:04:22.006376Z",
     "iopub.status.busy": "2023-08-01T20:04:22.005974Z",
     "iopub.status.idle": "2023-08-01T20:04:22.036280Z",
     "shell.execute_reply": "2023-08-01T20:04:22.035069Z",
     "shell.execute_reply.started": "2023-08-01T20:04:22.006344Z"
    }
   },
   "outputs": [],
   "source": [
    "y_pred = best_model.predict(test_obj.X_test)\n",
    "y_pred"
   ]
  },
  {
   "cell_type": "markdown",
   "metadata": {},
   "source": [
    "## Merging predicted cost in test set"
   ]
  },
  {
   "cell_type": "code",
   "execution_count": null,
   "metadata": {
    "execution": {
     "iopub.execute_input": "2023-08-01T20:04:28.563473Z",
     "iopub.status.busy": "2023-08-01T20:04:28.563007Z",
     "iopub.status.idle": "2023-08-01T20:04:28.572826Z",
     "shell.execute_reply": "2023-08-01T20:04:28.571903Z",
     "shell.execute_reply.started": "2023-08-01T20:04:28.563429Z"
    }
   },
   "outputs": [],
   "source": [
    "test['cost'] = y_pred\n",
    "test['cost']"
   ]
  },
  {
   "cell_type": "code",
   "execution_count": null,
   "metadata": {
    "execution": {
     "iopub.execute_input": "2023-08-01T20:04:42.920277Z",
     "iopub.status.busy": "2023-08-01T20:04:42.919872Z",
     "iopub.status.idle": "2023-08-01T20:04:42.934313Z",
     "shell.execute_reply": "2023-08-01T20:04:42.933042Z",
     "shell.execute_reply.started": "2023-08-01T20:04:42.920247Z"
    }
   },
   "outputs": [],
   "source": [
    "submit = test[['trip','cost']]\n",
    "submit"
   ]
  },
  {
   "cell_type": "markdown",
   "metadata": {},
   "source": [
    "## Generating a submission file "
   ]
  },
  {
   "cell_type": "code",
   "execution_count": null,
   "metadata": {
    "execution": {
     "iopub.execute_input": "2023-08-01T20:04:47.417968Z",
     "iopub.status.busy": "2023-08-01T20:04:47.417531Z",
     "iopub.status.idle": "2023-08-01T20:04:47.428279Z",
     "shell.execute_reply": "2023-08-01T20:04:47.427127Z",
     "shell.execute_reply.started": "2023-08-01T20:04:47.417934Z"
    }
   },
   "outputs": [],
   "source": [
    "csv_filename = 'submission.csv'\n",
    "submit.to_csv(csv_filename, index = False)"
   ]
  },
  {
   "cell_type": "markdown",
   "metadata": {},
   "source": [
    "### We Submitted the following file in Kaggle and got RMSE Score of 0.79356"
   ]
  }
 ],
 "metadata": {
  "kernelspec": {
   "display_name": "Python 3 (ipykernel)",
   "language": "python",
   "name": "python3"
  },
  "language_info": {
   "codemirror_mode": {
    "name": "ipython",
    "version": 3
   },
   "file_extension": ".py",
   "mimetype": "text/x-python",
   "name": "python",
   "nbconvert_exporter": "python",
   "pygments_lexer": "ipython3",
   "version": "3.10.5"
  }
 },
 "nbformat": 4,
 "nbformat_minor": 4
}
